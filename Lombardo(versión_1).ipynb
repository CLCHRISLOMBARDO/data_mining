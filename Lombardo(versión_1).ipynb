{
  "nbformat": 4,
  "nbformat_minor": 0,
  "metadata": {
    "colab": {
      "provenance": [],
      "include_colab_link": true
    },
    "kernelspec": {
      "name": "python3",
      "display_name": "Python 3"
    },
    "language_info": {
      "name": "python"
    }
  },
  "cells": [
    {
      "cell_type": "markdown",
      "metadata": {
        "id": "view-in-github",
        "colab_type": "text"
      },
      "source": [
        "<a href=\"https://colab.research.google.com/github/CLCHRISLOMBARDO/data_mining/blob/main/Lombardo(versi%C3%B3n_1).ipynb\" target=\"_parent\"><img src=\"https://colab.research.google.com/assets/colab-badge.svg\" alt=\"Open In Colab\"/></a>"
      ]
    },
    {
      "cell_type": "markdown",
      "source": [
        "# Colab Base para el Trabajo Práctico (versión 1)\n",
        "Programa de creación de entregas. Versión 1"
      ],
      "metadata": {
        "id": "8G-x0E8OceZp"
      }
    },
    {
      "cell_type": "code",
      "execution_count": 1,
      "metadata": {
        "id": "jw8ogMDOpvKP"
      },
      "outputs": [],
      "source": [
        "import pandas as pd\n",
        "\n",
        "import sklearn as sk\n",
        "from sklearn import model_selection\n",
        "from sklearn import ensemble\n",
        "from sklearn import metrics\n",
        "import seaborn as sns\n",
        "import matplotlib.pyplot as plt"
      ]
    },
    {
      "cell_type": "code",
      "source": [
        "from google.colab import drive\n",
        "drive.mount(\"/content/drive\")"
      ],
      "metadata": {
        "id": "hx3ci9Uyax1h",
        "colab": {
          "base_uri": "https://localhost:8080/"
        },
        "outputId": "e0d5778c-8558-4fbd-b65c-2cfa24cb2258"
      },
      "execution_count": 2,
      "outputs": [
        {
          "output_type": "stream",
          "name": "stdout",
          "text": [
            "Mounted at /content/drive\n"
          ]
        }
      ]
    },
    {
      "cell_type": "markdown",
      "source": [
        "## 0. Lectura de datos"
      ],
      "metadata": {
        "id": "20D-m6GPyefp"
      }
    },
    {
      "cell_type": "code",
      "source": [
        "# TODO: Cambiar para que apunte al directorio correcto\n",
        "DIR = \"/content/drive/MyDrive/Data Science/Ms Data mining UBA/1er_cuatrimestre/data_mining\""
      ],
      "metadata": {
        "id": "OErqWVr1awew"
      },
      "execution_count": 3,
      "outputs": []
    },
    {
      "cell_type": "code",
      "source": [
        "df_train = pd.read_csv(f\"{DIR}/entrenamiento.zip\", index_col=\"id\")\n",
        "df_train.head()"
      ],
      "metadata": {
        "id": "CtV0wOGsqJLC",
        "colab": {
          "base_uri": "https://localhost:8080/",
          "height": 616
        },
        "outputId": "a877025b-35ec-4955-c62b-c2a4ce2de1cc"
      },
      "execution_count": 4,
      "outputs": [
        {
          "output_type": "execute_result",
          "data": {
            "text/plain": [
              "          ad_type  start_date    end_date  created_on        lat        lon  \\\n",
              "id                                                                            \n",
              "556713  Propiedad  2019-11-29  9999-12-31  2019-11-29 -58.442399 -34.573623   \n",
              "257134  Propiedad  2019-08-17  9999-12-31  2019-08-17 -58.420737 -34.631770   \n",
              "521738  Propiedad  2019-08-05  2019-08-31  2019-08-05 -58.429983 -34.607225   \n",
              "383947  Propiedad  2019-10-23  2019-11-08  2019-10-23 -58.420780 -34.608640   \n",
              "986212  Propiedad  2019-08-01  2019-08-14  2019-08-01 -58.371394 -34.621835   \n",
              "\n",
              "               l1               l2          l3   l4  ... bathrooms  \\\n",
              "id                                                   ...             \n",
              "556713  Argentina  Capital Federal  Colegiales  NaN  ...       2.0   \n",
              "257134  Argentina  Capital Federal       Boedo  NaN  ...       1.0   \n",
              "521738  Argentina  Capital Federal     Almagro  NaN  ...       1.0   \n",
              "383947  Argentina  Capital Federal     Almagro  NaN  ...       1.0   \n",
              "986212  Argentina  Capital Federal   San Telmo  NaN  ...       1.0   \n",
              "\n",
              "        surface_total  surface_covered  currency  price_period  \\\n",
              "id                                                               \n",
              "556713            NaN              NaN       USD           NaN   \n",
              "257134           74.0             47.0       USD           NaN   \n",
              "521738           66.0             64.0       USD           NaN   \n",
              "383947           55.0             55.0       USD           NaN   \n",
              "986212           42.0             42.0       USD           NaN   \n",
              "\n",
              "                                                    title  \\\n",
              "id                                                          \n",
              "556713  Departamento en Venta en Belgrano, Capital fed...   \n",
              "257134                         PH Venta Boedo 2 amb Patio   \n",
              "521738  Venta 3 Ambientes - Almagro - Balcón - Ameniti...   \n",
              "383947  Depto.tipo casa de 3 ambientes en Venta en Alm...   \n",
              "986212  Ph en edificio de estilo Frances . 2 dormitori...   \n",
              "\n",
              "                                              description property_type  \\\n",
              "id                                                                        \n",
              "556713  Sup total por escritura: 96,47 m2 (cubiertos: ...  Departamento   \n",
              "257134  Corredor Responsable: MARCELO TRUJILLO -  CPI ...            PH   \n",
              "521738  Corredor Responsable: Marcelo Trujillo - CUCIC...  Departamento   \n",
              "383947  Muy Lindo ph al contrafrente con 2 patios!, 80...            PH   \n",
              "986212  PH en Edificio Frances en Estado original!!!al...            PH   \n",
              "\n",
              "       operation_type     price  \n",
              "id                               \n",
              "556713          Venta  259000.0  \n",
              "257134          Venta  140000.0  \n",
              "521738          Venta  173000.0  \n",
              "383947          Venta  155000.0  \n",
              "986212          Venta   74000.0  \n",
              "\n",
              "[5 rows x 24 columns]"
            ],
            "text/html": [
              "\n",
              "  <div id=\"df-0fa06755-696f-4f5a-9419-a615fd323678\" class=\"colab-df-container\">\n",
              "    <div>\n",
              "<style scoped>\n",
              "    .dataframe tbody tr th:only-of-type {\n",
              "        vertical-align: middle;\n",
              "    }\n",
              "\n",
              "    .dataframe tbody tr th {\n",
              "        vertical-align: top;\n",
              "    }\n",
              "\n",
              "    .dataframe thead th {\n",
              "        text-align: right;\n",
              "    }\n",
              "</style>\n",
              "<table border=\"1\" class=\"dataframe\">\n",
              "  <thead>\n",
              "    <tr style=\"text-align: right;\">\n",
              "      <th></th>\n",
              "      <th>ad_type</th>\n",
              "      <th>start_date</th>\n",
              "      <th>end_date</th>\n",
              "      <th>created_on</th>\n",
              "      <th>lat</th>\n",
              "      <th>lon</th>\n",
              "      <th>l1</th>\n",
              "      <th>l2</th>\n",
              "      <th>l3</th>\n",
              "      <th>l4</th>\n",
              "      <th>...</th>\n",
              "      <th>bathrooms</th>\n",
              "      <th>surface_total</th>\n",
              "      <th>surface_covered</th>\n",
              "      <th>currency</th>\n",
              "      <th>price_period</th>\n",
              "      <th>title</th>\n",
              "      <th>description</th>\n",
              "      <th>property_type</th>\n",
              "      <th>operation_type</th>\n",
              "      <th>price</th>\n",
              "    </tr>\n",
              "    <tr>\n",
              "      <th>id</th>\n",
              "      <th></th>\n",
              "      <th></th>\n",
              "      <th></th>\n",
              "      <th></th>\n",
              "      <th></th>\n",
              "      <th></th>\n",
              "      <th></th>\n",
              "      <th></th>\n",
              "      <th></th>\n",
              "      <th></th>\n",
              "      <th></th>\n",
              "      <th></th>\n",
              "      <th></th>\n",
              "      <th></th>\n",
              "      <th></th>\n",
              "      <th></th>\n",
              "      <th></th>\n",
              "      <th></th>\n",
              "      <th></th>\n",
              "      <th></th>\n",
              "      <th></th>\n",
              "    </tr>\n",
              "  </thead>\n",
              "  <tbody>\n",
              "    <tr>\n",
              "      <th>556713</th>\n",
              "      <td>Propiedad</td>\n",
              "      <td>2019-11-29</td>\n",
              "      <td>9999-12-31</td>\n",
              "      <td>2019-11-29</td>\n",
              "      <td>-58.442399</td>\n",
              "      <td>-34.573623</td>\n",
              "      <td>Argentina</td>\n",
              "      <td>Capital Federal</td>\n",
              "      <td>Colegiales</td>\n",
              "      <td>NaN</td>\n",
              "      <td>...</td>\n",
              "      <td>2.0</td>\n",
              "      <td>NaN</td>\n",
              "      <td>NaN</td>\n",
              "      <td>USD</td>\n",
              "      <td>NaN</td>\n",
              "      <td>Departamento en Venta en Belgrano, Capital fed...</td>\n",
              "      <td>Sup total por escritura: 96,47 m2 (cubiertos: ...</td>\n",
              "      <td>Departamento</td>\n",
              "      <td>Venta</td>\n",
              "      <td>259000.0</td>\n",
              "    </tr>\n",
              "    <tr>\n",
              "      <th>257134</th>\n",
              "      <td>Propiedad</td>\n",
              "      <td>2019-08-17</td>\n",
              "      <td>9999-12-31</td>\n",
              "      <td>2019-08-17</td>\n",
              "      <td>-58.420737</td>\n",
              "      <td>-34.631770</td>\n",
              "      <td>Argentina</td>\n",
              "      <td>Capital Federal</td>\n",
              "      <td>Boedo</td>\n",
              "      <td>NaN</td>\n",
              "      <td>...</td>\n",
              "      <td>1.0</td>\n",
              "      <td>74.0</td>\n",
              "      <td>47.0</td>\n",
              "      <td>USD</td>\n",
              "      <td>NaN</td>\n",
              "      <td>PH Venta Boedo 2 amb Patio</td>\n",
              "      <td>Corredor Responsable: MARCELO TRUJILLO -  CPI ...</td>\n",
              "      <td>PH</td>\n",
              "      <td>Venta</td>\n",
              "      <td>140000.0</td>\n",
              "    </tr>\n",
              "    <tr>\n",
              "      <th>521738</th>\n",
              "      <td>Propiedad</td>\n",
              "      <td>2019-08-05</td>\n",
              "      <td>2019-08-31</td>\n",
              "      <td>2019-08-05</td>\n",
              "      <td>-58.429983</td>\n",
              "      <td>-34.607225</td>\n",
              "      <td>Argentina</td>\n",
              "      <td>Capital Federal</td>\n",
              "      <td>Almagro</td>\n",
              "      <td>NaN</td>\n",
              "      <td>...</td>\n",
              "      <td>1.0</td>\n",
              "      <td>66.0</td>\n",
              "      <td>64.0</td>\n",
              "      <td>USD</td>\n",
              "      <td>NaN</td>\n",
              "      <td>Venta 3 Ambientes - Almagro - Balcón - Ameniti...</td>\n",
              "      <td>Corredor Responsable: Marcelo Trujillo - CUCIC...</td>\n",
              "      <td>Departamento</td>\n",
              "      <td>Venta</td>\n",
              "      <td>173000.0</td>\n",
              "    </tr>\n",
              "    <tr>\n",
              "      <th>383947</th>\n",
              "      <td>Propiedad</td>\n",
              "      <td>2019-10-23</td>\n",
              "      <td>2019-11-08</td>\n",
              "      <td>2019-10-23</td>\n",
              "      <td>-58.420780</td>\n",
              "      <td>-34.608640</td>\n",
              "      <td>Argentina</td>\n",
              "      <td>Capital Federal</td>\n",
              "      <td>Almagro</td>\n",
              "      <td>NaN</td>\n",
              "      <td>...</td>\n",
              "      <td>1.0</td>\n",
              "      <td>55.0</td>\n",
              "      <td>55.0</td>\n",
              "      <td>USD</td>\n",
              "      <td>NaN</td>\n",
              "      <td>Depto.tipo casa de 3 ambientes en Venta en Alm...</td>\n",
              "      <td>Muy Lindo ph al contrafrente con 2 patios!, 80...</td>\n",
              "      <td>PH</td>\n",
              "      <td>Venta</td>\n",
              "      <td>155000.0</td>\n",
              "    </tr>\n",
              "    <tr>\n",
              "      <th>986212</th>\n",
              "      <td>Propiedad</td>\n",
              "      <td>2019-08-01</td>\n",
              "      <td>2019-08-14</td>\n",
              "      <td>2019-08-01</td>\n",
              "      <td>-58.371394</td>\n",
              "      <td>-34.621835</td>\n",
              "      <td>Argentina</td>\n",
              "      <td>Capital Federal</td>\n",
              "      <td>San Telmo</td>\n",
              "      <td>NaN</td>\n",
              "      <td>...</td>\n",
              "      <td>1.0</td>\n",
              "      <td>42.0</td>\n",
              "      <td>42.0</td>\n",
              "      <td>USD</td>\n",
              "      <td>NaN</td>\n",
              "      <td>Ph en edificio de estilo Frances . 2 dormitori...</td>\n",
              "      <td>PH en Edificio Frances en Estado original!!!al...</td>\n",
              "      <td>PH</td>\n",
              "      <td>Venta</td>\n",
              "      <td>74000.0</td>\n",
              "    </tr>\n",
              "  </tbody>\n",
              "</table>\n",
              "<p>5 rows × 24 columns</p>\n",
              "</div>\n",
              "    <div class=\"colab-df-buttons\">\n",
              "\n",
              "  <div class=\"colab-df-container\">\n",
              "    <button class=\"colab-df-convert\" onclick=\"convertToInteractive('df-0fa06755-696f-4f5a-9419-a615fd323678')\"\n",
              "            title=\"Convert this dataframe to an interactive table.\"\n",
              "            style=\"display:none;\">\n",
              "\n",
              "  <svg xmlns=\"http://www.w3.org/2000/svg\" height=\"24px\" viewBox=\"0 -960 960 960\">\n",
              "    <path d=\"M120-120v-720h720v720H120Zm60-500h600v-160H180v160Zm220 220h160v-160H400v160Zm0 220h160v-160H400v160ZM180-400h160v-160H180v160Zm440 0h160v-160H620v160ZM180-180h160v-160H180v160Zm440 0h160v-160H620v160Z\"/>\n",
              "  </svg>\n",
              "    </button>\n",
              "\n",
              "  <style>\n",
              "    .colab-df-container {\n",
              "      display:flex;\n",
              "      gap: 12px;\n",
              "    }\n",
              "\n",
              "    .colab-df-convert {\n",
              "      background-color: #E8F0FE;\n",
              "      border: none;\n",
              "      border-radius: 50%;\n",
              "      cursor: pointer;\n",
              "      display: none;\n",
              "      fill: #1967D2;\n",
              "      height: 32px;\n",
              "      padding: 0 0 0 0;\n",
              "      width: 32px;\n",
              "    }\n",
              "\n",
              "    .colab-df-convert:hover {\n",
              "      background-color: #E2EBFA;\n",
              "      box-shadow: 0px 1px 2px rgba(60, 64, 67, 0.3), 0px 1px 3px 1px rgba(60, 64, 67, 0.15);\n",
              "      fill: #174EA6;\n",
              "    }\n",
              "\n",
              "    .colab-df-buttons div {\n",
              "      margin-bottom: 4px;\n",
              "    }\n",
              "\n",
              "    [theme=dark] .colab-df-convert {\n",
              "      background-color: #3B4455;\n",
              "      fill: #D2E3FC;\n",
              "    }\n",
              "\n",
              "    [theme=dark] .colab-df-convert:hover {\n",
              "      background-color: #434B5C;\n",
              "      box-shadow: 0px 1px 3px 1px rgba(0, 0, 0, 0.15);\n",
              "      filter: drop-shadow(0px 1px 2px rgba(0, 0, 0, 0.3));\n",
              "      fill: #FFFFFF;\n",
              "    }\n",
              "  </style>\n",
              "\n",
              "    <script>\n",
              "      const buttonEl =\n",
              "        document.querySelector('#df-0fa06755-696f-4f5a-9419-a615fd323678 button.colab-df-convert');\n",
              "      buttonEl.style.display =\n",
              "        google.colab.kernel.accessAllowed ? 'block' : 'none';\n",
              "\n",
              "      async function convertToInteractive(key) {\n",
              "        const element = document.querySelector('#df-0fa06755-696f-4f5a-9419-a615fd323678');\n",
              "        const dataTable =\n",
              "          await google.colab.kernel.invokeFunction('convertToInteractive',\n",
              "                                                    [key], {});\n",
              "        if (!dataTable) return;\n",
              "\n",
              "        const docLinkHtml = 'Like what you see? Visit the ' +\n",
              "          '<a target=\"_blank\" href=https://colab.research.google.com/notebooks/data_table.ipynb>data table notebook</a>'\n",
              "          + ' to learn more about interactive tables.';\n",
              "        element.innerHTML = '';\n",
              "        dataTable['output_type'] = 'display_data';\n",
              "        await google.colab.output.renderOutput(dataTable, element);\n",
              "        const docLink = document.createElement('div');\n",
              "        docLink.innerHTML = docLinkHtml;\n",
              "        element.appendChild(docLink);\n",
              "      }\n",
              "    </script>\n",
              "  </div>\n",
              "\n",
              "\n",
              "<div id=\"df-5cdcc257-00b8-4ec5-8e9d-dac5b1ca98d6\">\n",
              "  <button class=\"colab-df-quickchart\" onclick=\"quickchart('df-5cdcc257-00b8-4ec5-8e9d-dac5b1ca98d6')\"\n",
              "            title=\"Suggest charts\"\n",
              "            style=\"display:none;\">\n",
              "\n",
              "<svg xmlns=\"http://www.w3.org/2000/svg\" height=\"24px\"viewBox=\"0 0 24 24\"\n",
              "     width=\"24px\">\n",
              "    <g>\n",
              "        <path d=\"M19 3H5c-1.1 0-2 .9-2 2v14c0 1.1.9 2 2 2h14c1.1 0 2-.9 2-2V5c0-1.1-.9-2-2-2zM9 17H7v-7h2v7zm4 0h-2V7h2v10zm4 0h-2v-4h2v4z\"/>\n",
              "    </g>\n",
              "</svg>\n",
              "  </button>\n",
              "\n",
              "<style>\n",
              "  .colab-df-quickchart {\n",
              "      --bg-color: #E8F0FE;\n",
              "      --fill-color: #1967D2;\n",
              "      --hover-bg-color: #E2EBFA;\n",
              "      --hover-fill-color: #174EA6;\n",
              "      --disabled-fill-color: #AAA;\n",
              "      --disabled-bg-color: #DDD;\n",
              "  }\n",
              "\n",
              "  [theme=dark] .colab-df-quickchart {\n",
              "      --bg-color: #3B4455;\n",
              "      --fill-color: #D2E3FC;\n",
              "      --hover-bg-color: #434B5C;\n",
              "      --hover-fill-color: #FFFFFF;\n",
              "      --disabled-bg-color: #3B4455;\n",
              "      --disabled-fill-color: #666;\n",
              "  }\n",
              "\n",
              "  .colab-df-quickchart {\n",
              "    background-color: var(--bg-color);\n",
              "    border: none;\n",
              "    border-radius: 50%;\n",
              "    cursor: pointer;\n",
              "    display: none;\n",
              "    fill: var(--fill-color);\n",
              "    height: 32px;\n",
              "    padding: 0;\n",
              "    width: 32px;\n",
              "  }\n",
              "\n",
              "  .colab-df-quickchart:hover {\n",
              "    background-color: var(--hover-bg-color);\n",
              "    box-shadow: 0 1px 2px rgba(60, 64, 67, 0.3), 0 1px 3px 1px rgba(60, 64, 67, 0.15);\n",
              "    fill: var(--button-hover-fill-color);\n",
              "  }\n",
              "\n",
              "  .colab-df-quickchart-complete:disabled,\n",
              "  .colab-df-quickchart-complete:disabled:hover {\n",
              "    background-color: var(--disabled-bg-color);\n",
              "    fill: var(--disabled-fill-color);\n",
              "    box-shadow: none;\n",
              "  }\n",
              "\n",
              "  .colab-df-spinner {\n",
              "    border: 2px solid var(--fill-color);\n",
              "    border-color: transparent;\n",
              "    border-bottom-color: var(--fill-color);\n",
              "    animation:\n",
              "      spin 1s steps(1) infinite;\n",
              "  }\n",
              "\n",
              "  @keyframes spin {\n",
              "    0% {\n",
              "      border-color: transparent;\n",
              "      border-bottom-color: var(--fill-color);\n",
              "      border-left-color: var(--fill-color);\n",
              "    }\n",
              "    20% {\n",
              "      border-color: transparent;\n",
              "      border-left-color: var(--fill-color);\n",
              "      border-top-color: var(--fill-color);\n",
              "    }\n",
              "    30% {\n",
              "      border-color: transparent;\n",
              "      border-left-color: var(--fill-color);\n",
              "      border-top-color: var(--fill-color);\n",
              "      border-right-color: var(--fill-color);\n",
              "    }\n",
              "    40% {\n",
              "      border-color: transparent;\n",
              "      border-right-color: var(--fill-color);\n",
              "      border-top-color: var(--fill-color);\n",
              "    }\n",
              "    60% {\n",
              "      border-color: transparent;\n",
              "      border-right-color: var(--fill-color);\n",
              "    }\n",
              "    80% {\n",
              "      border-color: transparent;\n",
              "      border-right-color: var(--fill-color);\n",
              "      border-bottom-color: var(--fill-color);\n",
              "    }\n",
              "    90% {\n",
              "      border-color: transparent;\n",
              "      border-bottom-color: var(--fill-color);\n",
              "    }\n",
              "  }\n",
              "</style>\n",
              "\n",
              "  <script>\n",
              "    async function quickchart(key) {\n",
              "      const quickchartButtonEl =\n",
              "        document.querySelector('#' + key + ' button');\n",
              "      quickchartButtonEl.disabled = true;  // To prevent multiple clicks.\n",
              "      quickchartButtonEl.classList.add('colab-df-spinner');\n",
              "      try {\n",
              "        const charts = await google.colab.kernel.invokeFunction(\n",
              "            'suggestCharts', [key], {});\n",
              "      } catch (error) {\n",
              "        console.error('Error during call to suggestCharts:', error);\n",
              "      }\n",
              "      quickchartButtonEl.classList.remove('colab-df-spinner');\n",
              "      quickchartButtonEl.classList.add('colab-df-quickchart-complete');\n",
              "    }\n",
              "    (() => {\n",
              "      let quickchartButtonEl =\n",
              "        document.querySelector('#df-5cdcc257-00b8-4ec5-8e9d-dac5b1ca98d6 button');\n",
              "      quickchartButtonEl.style.display =\n",
              "        google.colab.kernel.accessAllowed ? 'block' : 'none';\n",
              "    })();\n",
              "  </script>\n",
              "</div>\n",
              "\n",
              "    </div>\n",
              "  </div>\n"
            ],
            "application/vnd.google.colaboratory.intrinsic+json": {
              "type": "dataframe",
              "variable_name": "df_train"
            }
          },
          "metadata": {},
          "execution_count": 4
        }
      ]
    },
    {
      "cell_type": "code",
      "source": [
        "df_test = pd.read_csv(f\"{DIR}/a_predecir.zip\", index_col=\"id\")\n",
        "df_test.head()"
      ],
      "metadata": {
        "id": "c178_SBbaFy4",
        "colab": {
          "base_uri": "https://localhost:8080/",
          "height": 651
        },
        "outputId": "9f68e2cf-be61-4675-f0fe-013323a4aa59"
      },
      "execution_count": 5,
      "outputs": [
        {
          "output_type": "execute_result",
          "data": {
            "text/plain": [
              "        ad_type  start_date    end_date  created_on        lat        lon  \\\n",
              "id                                                                          \n",
              "1068  Propiedad  2020-06-21  2020-06-27  2020-06-21        NaN        NaN   \n",
              "1069  Propiedad  2020-06-21  2020-06-27  2020-06-21 -58.426576 -34.590987   \n",
              "1073  Propiedad  2020-06-21  2020-06-24  2020-06-21 -58.479808 -34.631266   \n",
              "1082  Propiedad  2020-06-21  2020-06-27  2020-06-21 -58.437889 -34.603291   \n",
              "1091  Propiedad  2020-06-21  2020-06-27  2020-06-21 -58.476461 -34.602494   \n",
              "\n",
              "             l1               l2                l3             l4  ...  \\\n",
              "id                                                                 ...   \n",
              "1068  Argentina  Capital Federal           Palermo  Palermo Viejo  ...   \n",
              "1069  Argentina  Capital Federal           Palermo            NaN  ...   \n",
              "1073  Argentina  Capital Federal          Floresta            NaN  ...   \n",
              "1082  Argentina  Capital Federal      Villa Crespo            NaN  ...   \n",
              "1091  Argentina  Capital Federal  Villa del Parque            NaN  ...   \n",
              "\n",
              "      bathrooms  surface_total  surface_covered  currency  price_period  \\\n",
              "id                                                                        \n",
              "1068        1.0          286.0            160.0       USD           NaN   \n",
              "1069        5.0          444.0            270.0       USD           NaN   \n",
              "1073        2.0          166.0            120.0       USD           NaN   \n",
              "1082        3.0          352.0            185.0       USD           NaN   \n",
              "1091        2.0          168.0            106.0       USD           NaN   \n",
              "\n",
              "                                                  title  \\\n",
              "id                                                        \n",
              "1068      Casa de 4 ambientes en Venta en Palermo viejo   \n",
              "1069            Casa de 8 ambientes en Venta en Palermo   \n",
              "1073                    Venta de casa en PH en Floresta   \n",
              "1082       Casa de 5 ambientes en Venta en Villa crespo   \n",
              "1091  Venta de casa de tres ambientes en Villa del P...   \n",
              "\n",
              "                                            description property_type  \\\n",
              "id                                                                      \n",
              "1068  TRIPLEX  EN MEDIO TERRENO DE 4 AMB MUY AMPLIOS...          Casa   \n",
              "1069  OPORTUNIDAD!! Edificio en Block desarrollado e...          Casa   \n",
              "1073  Casa con muy buena distribución y de amplios a...          Casa   \n",
              "1082  SON 185 METROS CUBIERNTOS CON COCHERA MAS PATI...          Casa   \n",
              "1091  Hermosa casa ubicada en zona residencial, sobr...          Casa   \n",
              "\n",
              "      operation_type price  \n",
              "id                          \n",
              "1068           Venta   NaN  \n",
              "1069           Venta   NaN  \n",
              "1073           Venta   NaN  \n",
              "1082           Venta   NaN  \n",
              "1091           Venta   NaN  \n",
              "\n",
              "[5 rows x 24 columns]"
            ],
            "text/html": [
              "\n",
              "  <div id=\"df-ed161e81-9ede-41e7-9c69-7e61bbf932ce\" class=\"colab-df-container\">\n",
              "    <div>\n",
              "<style scoped>\n",
              "    .dataframe tbody tr th:only-of-type {\n",
              "        vertical-align: middle;\n",
              "    }\n",
              "\n",
              "    .dataframe tbody tr th {\n",
              "        vertical-align: top;\n",
              "    }\n",
              "\n",
              "    .dataframe thead th {\n",
              "        text-align: right;\n",
              "    }\n",
              "</style>\n",
              "<table border=\"1\" class=\"dataframe\">\n",
              "  <thead>\n",
              "    <tr style=\"text-align: right;\">\n",
              "      <th></th>\n",
              "      <th>ad_type</th>\n",
              "      <th>start_date</th>\n",
              "      <th>end_date</th>\n",
              "      <th>created_on</th>\n",
              "      <th>lat</th>\n",
              "      <th>lon</th>\n",
              "      <th>l1</th>\n",
              "      <th>l2</th>\n",
              "      <th>l3</th>\n",
              "      <th>l4</th>\n",
              "      <th>...</th>\n",
              "      <th>bathrooms</th>\n",
              "      <th>surface_total</th>\n",
              "      <th>surface_covered</th>\n",
              "      <th>currency</th>\n",
              "      <th>price_period</th>\n",
              "      <th>title</th>\n",
              "      <th>description</th>\n",
              "      <th>property_type</th>\n",
              "      <th>operation_type</th>\n",
              "      <th>price</th>\n",
              "    </tr>\n",
              "    <tr>\n",
              "      <th>id</th>\n",
              "      <th></th>\n",
              "      <th></th>\n",
              "      <th></th>\n",
              "      <th></th>\n",
              "      <th></th>\n",
              "      <th></th>\n",
              "      <th></th>\n",
              "      <th></th>\n",
              "      <th></th>\n",
              "      <th></th>\n",
              "      <th></th>\n",
              "      <th></th>\n",
              "      <th></th>\n",
              "      <th></th>\n",
              "      <th></th>\n",
              "      <th></th>\n",
              "      <th></th>\n",
              "      <th></th>\n",
              "      <th></th>\n",
              "      <th></th>\n",
              "      <th></th>\n",
              "    </tr>\n",
              "  </thead>\n",
              "  <tbody>\n",
              "    <tr>\n",
              "      <th>1068</th>\n",
              "      <td>Propiedad</td>\n",
              "      <td>2020-06-21</td>\n",
              "      <td>2020-06-27</td>\n",
              "      <td>2020-06-21</td>\n",
              "      <td>NaN</td>\n",
              "      <td>NaN</td>\n",
              "      <td>Argentina</td>\n",
              "      <td>Capital Federal</td>\n",
              "      <td>Palermo</td>\n",
              "      <td>Palermo Viejo</td>\n",
              "      <td>...</td>\n",
              "      <td>1.0</td>\n",
              "      <td>286.0</td>\n",
              "      <td>160.0</td>\n",
              "      <td>USD</td>\n",
              "      <td>NaN</td>\n",
              "      <td>Casa de 4 ambientes en Venta en Palermo viejo</td>\n",
              "      <td>TRIPLEX  EN MEDIO TERRENO DE 4 AMB MUY AMPLIOS...</td>\n",
              "      <td>Casa</td>\n",
              "      <td>Venta</td>\n",
              "      <td>NaN</td>\n",
              "    </tr>\n",
              "    <tr>\n",
              "      <th>1069</th>\n",
              "      <td>Propiedad</td>\n",
              "      <td>2020-06-21</td>\n",
              "      <td>2020-06-27</td>\n",
              "      <td>2020-06-21</td>\n",
              "      <td>-58.426576</td>\n",
              "      <td>-34.590987</td>\n",
              "      <td>Argentina</td>\n",
              "      <td>Capital Federal</td>\n",
              "      <td>Palermo</td>\n",
              "      <td>NaN</td>\n",
              "      <td>...</td>\n",
              "      <td>5.0</td>\n",
              "      <td>444.0</td>\n",
              "      <td>270.0</td>\n",
              "      <td>USD</td>\n",
              "      <td>NaN</td>\n",
              "      <td>Casa de 8 ambientes en Venta en Palermo</td>\n",
              "      <td>OPORTUNIDAD!! Edificio en Block desarrollado e...</td>\n",
              "      <td>Casa</td>\n",
              "      <td>Venta</td>\n",
              "      <td>NaN</td>\n",
              "    </tr>\n",
              "    <tr>\n",
              "      <th>1073</th>\n",
              "      <td>Propiedad</td>\n",
              "      <td>2020-06-21</td>\n",
              "      <td>2020-06-24</td>\n",
              "      <td>2020-06-21</td>\n",
              "      <td>-58.479808</td>\n",
              "      <td>-34.631266</td>\n",
              "      <td>Argentina</td>\n",
              "      <td>Capital Federal</td>\n",
              "      <td>Floresta</td>\n",
              "      <td>NaN</td>\n",
              "      <td>...</td>\n",
              "      <td>2.0</td>\n",
              "      <td>166.0</td>\n",
              "      <td>120.0</td>\n",
              "      <td>USD</td>\n",
              "      <td>NaN</td>\n",
              "      <td>Venta de casa en PH en Floresta</td>\n",
              "      <td>Casa con muy buena distribución y de amplios a...</td>\n",
              "      <td>Casa</td>\n",
              "      <td>Venta</td>\n",
              "      <td>NaN</td>\n",
              "    </tr>\n",
              "    <tr>\n",
              "      <th>1082</th>\n",
              "      <td>Propiedad</td>\n",
              "      <td>2020-06-21</td>\n",
              "      <td>2020-06-27</td>\n",
              "      <td>2020-06-21</td>\n",
              "      <td>-58.437889</td>\n",
              "      <td>-34.603291</td>\n",
              "      <td>Argentina</td>\n",
              "      <td>Capital Federal</td>\n",
              "      <td>Villa Crespo</td>\n",
              "      <td>NaN</td>\n",
              "      <td>...</td>\n",
              "      <td>3.0</td>\n",
              "      <td>352.0</td>\n",
              "      <td>185.0</td>\n",
              "      <td>USD</td>\n",
              "      <td>NaN</td>\n",
              "      <td>Casa de 5 ambientes en Venta en Villa crespo</td>\n",
              "      <td>SON 185 METROS CUBIERNTOS CON COCHERA MAS PATI...</td>\n",
              "      <td>Casa</td>\n",
              "      <td>Venta</td>\n",
              "      <td>NaN</td>\n",
              "    </tr>\n",
              "    <tr>\n",
              "      <th>1091</th>\n",
              "      <td>Propiedad</td>\n",
              "      <td>2020-06-21</td>\n",
              "      <td>2020-06-27</td>\n",
              "      <td>2020-06-21</td>\n",
              "      <td>-58.476461</td>\n",
              "      <td>-34.602494</td>\n",
              "      <td>Argentina</td>\n",
              "      <td>Capital Federal</td>\n",
              "      <td>Villa del Parque</td>\n",
              "      <td>NaN</td>\n",
              "      <td>...</td>\n",
              "      <td>2.0</td>\n",
              "      <td>168.0</td>\n",
              "      <td>106.0</td>\n",
              "      <td>USD</td>\n",
              "      <td>NaN</td>\n",
              "      <td>Venta de casa de tres ambientes en Villa del P...</td>\n",
              "      <td>Hermosa casa ubicada en zona residencial, sobr...</td>\n",
              "      <td>Casa</td>\n",
              "      <td>Venta</td>\n",
              "      <td>NaN</td>\n",
              "    </tr>\n",
              "  </tbody>\n",
              "</table>\n",
              "<p>5 rows × 24 columns</p>\n",
              "</div>\n",
              "    <div class=\"colab-df-buttons\">\n",
              "\n",
              "  <div class=\"colab-df-container\">\n",
              "    <button class=\"colab-df-convert\" onclick=\"convertToInteractive('df-ed161e81-9ede-41e7-9c69-7e61bbf932ce')\"\n",
              "            title=\"Convert this dataframe to an interactive table.\"\n",
              "            style=\"display:none;\">\n",
              "\n",
              "  <svg xmlns=\"http://www.w3.org/2000/svg\" height=\"24px\" viewBox=\"0 -960 960 960\">\n",
              "    <path d=\"M120-120v-720h720v720H120Zm60-500h600v-160H180v160Zm220 220h160v-160H400v160Zm0 220h160v-160H400v160ZM180-400h160v-160H180v160Zm440 0h160v-160H620v160ZM180-180h160v-160H180v160Zm440 0h160v-160H620v160Z\"/>\n",
              "  </svg>\n",
              "    </button>\n",
              "\n",
              "  <style>\n",
              "    .colab-df-container {\n",
              "      display:flex;\n",
              "      gap: 12px;\n",
              "    }\n",
              "\n",
              "    .colab-df-convert {\n",
              "      background-color: #E8F0FE;\n",
              "      border: none;\n",
              "      border-radius: 50%;\n",
              "      cursor: pointer;\n",
              "      display: none;\n",
              "      fill: #1967D2;\n",
              "      height: 32px;\n",
              "      padding: 0 0 0 0;\n",
              "      width: 32px;\n",
              "    }\n",
              "\n",
              "    .colab-df-convert:hover {\n",
              "      background-color: #E2EBFA;\n",
              "      box-shadow: 0px 1px 2px rgba(60, 64, 67, 0.3), 0px 1px 3px 1px rgba(60, 64, 67, 0.15);\n",
              "      fill: #174EA6;\n",
              "    }\n",
              "\n",
              "    .colab-df-buttons div {\n",
              "      margin-bottom: 4px;\n",
              "    }\n",
              "\n",
              "    [theme=dark] .colab-df-convert {\n",
              "      background-color: #3B4455;\n",
              "      fill: #D2E3FC;\n",
              "    }\n",
              "\n",
              "    [theme=dark] .colab-df-convert:hover {\n",
              "      background-color: #434B5C;\n",
              "      box-shadow: 0px 1px 3px 1px rgba(0, 0, 0, 0.15);\n",
              "      filter: drop-shadow(0px 1px 2px rgba(0, 0, 0, 0.3));\n",
              "      fill: #FFFFFF;\n",
              "    }\n",
              "  </style>\n",
              "\n",
              "    <script>\n",
              "      const buttonEl =\n",
              "        document.querySelector('#df-ed161e81-9ede-41e7-9c69-7e61bbf932ce button.colab-df-convert');\n",
              "      buttonEl.style.display =\n",
              "        google.colab.kernel.accessAllowed ? 'block' : 'none';\n",
              "\n",
              "      async function convertToInteractive(key) {\n",
              "        const element = document.querySelector('#df-ed161e81-9ede-41e7-9c69-7e61bbf932ce');\n",
              "        const dataTable =\n",
              "          await google.colab.kernel.invokeFunction('convertToInteractive',\n",
              "                                                    [key], {});\n",
              "        if (!dataTable) return;\n",
              "\n",
              "        const docLinkHtml = 'Like what you see? Visit the ' +\n",
              "          '<a target=\"_blank\" href=https://colab.research.google.com/notebooks/data_table.ipynb>data table notebook</a>'\n",
              "          + ' to learn more about interactive tables.';\n",
              "        element.innerHTML = '';\n",
              "        dataTable['output_type'] = 'display_data';\n",
              "        await google.colab.output.renderOutput(dataTable, element);\n",
              "        const docLink = document.createElement('div');\n",
              "        docLink.innerHTML = docLinkHtml;\n",
              "        element.appendChild(docLink);\n",
              "      }\n",
              "    </script>\n",
              "  </div>\n",
              "\n",
              "\n",
              "<div id=\"df-686757e8-1838-4ba5-9498-46900b8adb89\">\n",
              "  <button class=\"colab-df-quickchart\" onclick=\"quickchart('df-686757e8-1838-4ba5-9498-46900b8adb89')\"\n",
              "            title=\"Suggest charts\"\n",
              "            style=\"display:none;\">\n",
              "\n",
              "<svg xmlns=\"http://www.w3.org/2000/svg\" height=\"24px\"viewBox=\"0 0 24 24\"\n",
              "     width=\"24px\">\n",
              "    <g>\n",
              "        <path d=\"M19 3H5c-1.1 0-2 .9-2 2v14c0 1.1.9 2 2 2h14c1.1 0 2-.9 2-2V5c0-1.1-.9-2-2-2zM9 17H7v-7h2v7zm4 0h-2V7h2v10zm4 0h-2v-4h2v4z\"/>\n",
              "    </g>\n",
              "</svg>\n",
              "  </button>\n",
              "\n",
              "<style>\n",
              "  .colab-df-quickchart {\n",
              "      --bg-color: #E8F0FE;\n",
              "      --fill-color: #1967D2;\n",
              "      --hover-bg-color: #E2EBFA;\n",
              "      --hover-fill-color: #174EA6;\n",
              "      --disabled-fill-color: #AAA;\n",
              "      --disabled-bg-color: #DDD;\n",
              "  }\n",
              "\n",
              "  [theme=dark] .colab-df-quickchart {\n",
              "      --bg-color: #3B4455;\n",
              "      --fill-color: #D2E3FC;\n",
              "      --hover-bg-color: #434B5C;\n",
              "      --hover-fill-color: #FFFFFF;\n",
              "      --disabled-bg-color: #3B4455;\n",
              "      --disabled-fill-color: #666;\n",
              "  }\n",
              "\n",
              "  .colab-df-quickchart {\n",
              "    background-color: var(--bg-color);\n",
              "    border: none;\n",
              "    border-radius: 50%;\n",
              "    cursor: pointer;\n",
              "    display: none;\n",
              "    fill: var(--fill-color);\n",
              "    height: 32px;\n",
              "    padding: 0;\n",
              "    width: 32px;\n",
              "  }\n",
              "\n",
              "  .colab-df-quickchart:hover {\n",
              "    background-color: var(--hover-bg-color);\n",
              "    box-shadow: 0 1px 2px rgba(60, 64, 67, 0.3), 0 1px 3px 1px rgba(60, 64, 67, 0.15);\n",
              "    fill: var(--button-hover-fill-color);\n",
              "  }\n",
              "\n",
              "  .colab-df-quickchart-complete:disabled,\n",
              "  .colab-df-quickchart-complete:disabled:hover {\n",
              "    background-color: var(--disabled-bg-color);\n",
              "    fill: var(--disabled-fill-color);\n",
              "    box-shadow: none;\n",
              "  }\n",
              "\n",
              "  .colab-df-spinner {\n",
              "    border: 2px solid var(--fill-color);\n",
              "    border-color: transparent;\n",
              "    border-bottom-color: var(--fill-color);\n",
              "    animation:\n",
              "      spin 1s steps(1) infinite;\n",
              "  }\n",
              "\n",
              "  @keyframes spin {\n",
              "    0% {\n",
              "      border-color: transparent;\n",
              "      border-bottom-color: var(--fill-color);\n",
              "      border-left-color: var(--fill-color);\n",
              "    }\n",
              "    20% {\n",
              "      border-color: transparent;\n",
              "      border-left-color: var(--fill-color);\n",
              "      border-top-color: var(--fill-color);\n",
              "    }\n",
              "    30% {\n",
              "      border-color: transparent;\n",
              "      border-left-color: var(--fill-color);\n",
              "      border-top-color: var(--fill-color);\n",
              "      border-right-color: var(--fill-color);\n",
              "    }\n",
              "    40% {\n",
              "      border-color: transparent;\n",
              "      border-right-color: var(--fill-color);\n",
              "      border-top-color: var(--fill-color);\n",
              "    }\n",
              "    60% {\n",
              "      border-color: transparent;\n",
              "      border-right-color: var(--fill-color);\n",
              "    }\n",
              "    80% {\n",
              "      border-color: transparent;\n",
              "      border-right-color: var(--fill-color);\n",
              "      border-bottom-color: var(--fill-color);\n",
              "    }\n",
              "    90% {\n",
              "      border-color: transparent;\n",
              "      border-bottom-color: var(--fill-color);\n",
              "    }\n",
              "  }\n",
              "</style>\n",
              "\n",
              "  <script>\n",
              "    async function quickchart(key) {\n",
              "      const quickchartButtonEl =\n",
              "        document.querySelector('#' + key + ' button');\n",
              "      quickchartButtonEl.disabled = true;  // To prevent multiple clicks.\n",
              "      quickchartButtonEl.classList.add('colab-df-spinner');\n",
              "      try {\n",
              "        const charts = await google.colab.kernel.invokeFunction(\n",
              "            'suggestCharts', [key], {});\n",
              "      } catch (error) {\n",
              "        console.error('Error during call to suggestCharts:', error);\n",
              "      }\n",
              "      quickchartButtonEl.classList.remove('colab-df-spinner');\n",
              "      quickchartButtonEl.classList.add('colab-df-quickchart-complete');\n",
              "    }\n",
              "    (() => {\n",
              "      let quickchartButtonEl =\n",
              "        document.querySelector('#df-686757e8-1838-4ba5-9498-46900b8adb89 button');\n",
              "      quickchartButtonEl.style.display =\n",
              "        google.colab.kernel.accessAllowed ? 'block' : 'none';\n",
              "    })();\n",
              "  </script>\n",
              "</div>\n",
              "\n",
              "    </div>\n",
              "  </div>\n"
            ],
            "application/vnd.google.colaboratory.intrinsic+json": {
              "type": "dataframe",
              "variable_name": "df_test"
            }
          },
          "metadata": {},
          "execution_count": 5
        }
      ]
    },
    {
      "cell_type": "markdown",
      "source": [
        "-------------------\n",
        "**0.0. TAMAÑO DE LAS MUESTRAS**"
      ],
      "metadata": {
        "id": "9cR7IziZu2YI"
      }
    },
    {
      "cell_type": "code",
      "source": [
        "print(f\"el tamaño del entrenamiento es : {df_train.shape}\")\n",
        "print(f\"el tamaño del test es : {df_test.shape}\")"
      ],
      "metadata": {
        "colab": {
          "base_uri": "https://localhost:8080/"
        },
        "id": "SfYZMC6g6eIW",
        "outputId": "fdb80f0e-b5f4-4763-8b26-707680a7f408"
      },
      "execution_count": null,
      "outputs": [
        {
          "output_type": "stream",
          "name": "stdout",
          "text": [
            "el tamaño del entrenamiento es : (985180, 24)\n",
            "el tamaño del test es : (7012, 24)\n"
          ]
        }
      ]
    },
    {
      "cell_type": "markdown",
      "source": [
        "-----------\n",
        "**0.1. INFORMACION DE CADA ATRIBUTO**"
      ],
      "metadata": {
        "id": "ovUi2vEzvLr5"
      }
    },
    {
      "cell_type": "markdown",
      "source": [
        "*0.1.0. INFORMACION GENERAL DE LOS ATRIBUTOS*\n",
        "\n",
        "---------\n"
      ],
      "metadata": {
        "id": "RhwN5DUkvwWE"
      }
    },
    {
      "cell_type": "code",
      "source": [
        "columns = df_train.columns\n",
        "for column in columns:\n",
        "  tipo=df_train[column].dtype\n",
        "  print(f\"La columna : {column} es de tipo : {tipo}\")"
      ],
      "metadata": {
        "colab": {
          "base_uri": "https://localhost:8080/"
        },
        "id": "-ioK96ycu0Qq",
        "outputId": "c781f361-b991-449b-9a8d-87168cd638e2"
      },
      "execution_count": null,
      "outputs": [
        {
          "output_type": "stream",
          "name": "stdout",
          "text": [
            "La columna : ad_type es de tipo : object\n",
            "La columna : start_date es de tipo : object\n",
            "La columna : end_date es de tipo : object\n",
            "La columna : created_on es de tipo : object\n",
            "La columna : lat es de tipo : float64\n",
            "La columna : lon es de tipo : float64\n",
            "La columna : l1 es de tipo : object\n",
            "La columna : l2 es de tipo : object\n",
            "La columna : l3 es de tipo : object\n",
            "La columna : l4 es de tipo : object\n",
            "La columna : l5 es de tipo : object\n",
            "La columna : l6 es de tipo : float64\n",
            "La columna : rooms es de tipo : float64\n",
            "La columna : bedrooms es de tipo : float64\n",
            "La columna : bathrooms es de tipo : float64\n",
            "La columna : surface_total es de tipo : float64\n",
            "La columna : surface_covered es de tipo : float64\n",
            "La columna : currency es de tipo : object\n",
            "La columna : price_period es de tipo : object\n",
            "La columna : title es de tipo : object\n",
            "La columna : description es de tipo : object\n",
            "La columna : property_type es de tipo : object\n",
            "La columna : operation_type es de tipo : object\n",
            "La columna : price es de tipo : float64\n"
          ]
        }
      ]
    },
    {
      "cell_type": "code",
      "source": [
        "df_test.info()"
      ],
      "metadata": {
        "colab": {
          "base_uri": "https://localhost:8080/"
        },
        "id": "O7E_VHv8CY7K",
        "outputId": "c7fdf5d2-66c2-42dd-ccf9-74a80e81d6fe"
      },
      "execution_count": null,
      "outputs": [
        {
          "output_type": "stream",
          "name": "stdout",
          "text": [
            "<class 'pandas.core.frame.DataFrame'>\n",
            "Index: 7012 entries, 1068 to 960229\n",
            "Data columns (total 24 columns):\n",
            " #   Column           Non-Null Count  Dtype  \n",
            "---  ------           --------------  -----  \n",
            " 0   ad_type          7012 non-null   object \n",
            " 1   start_date       7012 non-null   object \n",
            " 2   end_date         7012 non-null   object \n",
            " 3   created_on       7012 non-null   object \n",
            " 4   lat              6541 non-null   float64\n",
            " 5   lon              6541 non-null   float64\n",
            " 6   l1               7012 non-null   object \n",
            " 7   l2               7012 non-null   object \n",
            " 8   l3               7004 non-null   object \n",
            " 9   l4               389 non-null    object \n",
            " 10  l5               0 non-null      float64\n",
            " 11  l6               0 non-null      float64\n",
            " 12  rooms            6518 non-null   float64\n",
            " 13  bedrooms         4678 non-null   float64\n",
            " 14  bathrooms        6803 non-null   float64\n",
            " 15  surface_total    6980 non-null   float64\n",
            " 16  surface_covered  6938 non-null   float64\n",
            " 17  currency         7012 non-null   object \n",
            " 18  price_period     0 non-null      float64\n",
            " 19  title            7012 non-null   object \n",
            " 20  description      7012 non-null   object \n",
            " 21  property_type    7012 non-null   object \n",
            " 22  operation_type   7012 non-null   object \n",
            " 23  price            0 non-null      float64\n",
            "dtypes: float64(11), object(13)\n",
            "memory usage: 1.3+ MB\n"
          ]
        }
      ]
    },
    {
      "cell_type": "code",
      "source": [
        "df_train.info()"
      ],
      "metadata": {
        "colab": {
          "base_uri": "https://localhost:8080/"
        },
        "id": "KNZ-TmT0zZTb",
        "outputId": "37dee6ec-45f5-450c-c377-da8dc111bebc"
      },
      "execution_count": null,
      "outputs": [
        {
          "output_type": "stream",
          "name": "stdout",
          "text": [
            "<class 'pandas.core.frame.DataFrame'>\n",
            "Index: 985180 entries, 556713 to 1000000\n",
            "Data columns (total 24 columns):\n",
            " #   Column           Non-Null Count   Dtype  \n",
            "---  ------           --------------   -----  \n",
            " 0   ad_type          985180 non-null  object \n",
            " 1   start_date       985180 non-null  object \n",
            " 2   end_date         985180 non-null  object \n",
            " 3   created_on       985180 non-null  object \n",
            " 4   lat              832453 non-null  float64\n",
            " 5   lon              833388 non-null  float64\n",
            " 6   l1               985180 non-null  object \n",
            " 7   l2               985180 non-null  object \n",
            " 8   l3               927733 non-null  object \n",
            " 9   l4               225006 non-null  object \n",
            " 10  l5               4711 non-null    object \n",
            " 11  l6               0 non-null       float64\n",
            " 12  rooms            496527 non-null  float64\n",
            " 13  bedrooms         386021 non-null  float64\n",
            " 14  bathrooms        766218 non-null  float64\n",
            " 15  surface_total    441184 non-null  float64\n",
            " 16  surface_covered  430023 non-null  float64\n",
            " 17  currency         937929 non-null  object \n",
            " 18  price_period     369939 non-null  object \n",
            " 19  title            985152 non-null  object \n",
            " 20  description      985157 non-null  object \n",
            " 21  property_type    985180 non-null  object \n",
            " 22  operation_type   985180 non-null  object \n",
            " 23  price            940799 non-null  float64\n",
            "dtypes: float64(9), object(15)\n",
            "memory usage: 187.9+ MB\n"
          ]
        }
      ]
    },
    {
      "cell_type": "code",
      "source": [
        "df_train.describe()"
      ],
      "metadata": {
        "colab": {
          "base_uri": "https://localhost:8080/",
          "height": 300
        },
        "id": "Xmhl47nZG6VI",
        "outputId": "b972a4aa-8900-4f85-9f06-045237480be4"
      },
      "execution_count": null,
      "outputs": [
        {
          "output_type": "execute_result",
          "data": {
            "text/plain": [
              "                 lat            lon   l6          rooms       bedrooms  \\\n",
              "count  832453.000000  833388.000000  0.0  496527.000000  386021.000000   \n",
              "mean      -59.273078     -34.795283  NaN       2.865331       2.088822   \n",
              "std         2.716961       3.078145  NaN       1.687075       2.719330   \n",
              "min      -180.000000     -54.842464  NaN       1.000000     -13.000000   \n",
              "25%       -58.762921     -34.923353  NaN       2.000000       1.000000   \n",
              "50%       -58.444935     -34.611182  NaN       3.000000       2.000000   \n",
              "75%       -58.047423     -34.454720  NaN       4.000000       3.000000   \n",
              "max       -35.045025      85.051129  NaN      40.000000     900.000000   \n",
              "\n",
              "           bathrooms  surface_total  surface_covered         price  \n",
              "count  766218.000000  441184.000000     4.300230e+05  9.407990e+05  \n",
              "mean        1.700136     500.110607     5.851866e+02  2.888822e+05  \n",
              "std         1.074748    4133.349588     7.443324e+04  5.581522e+06  \n",
              "min         1.000000    -200.000000    -1.700000e+02  0.000000e+00  \n",
              "25%         1.000000      50.000000     4.500000e+01  3.900000e+04  \n",
              "50%         1.000000      96.000000     7.500000e+01  9.725400e+04  \n",
              "75%         2.000000     275.000000     1.580000e+02  2.100000e+05  \n",
              "max        20.000000  200000.000000     2.700000e+07  3.100000e+09  "
            ],
            "text/html": [
              "\n",
              "  <div id=\"df-fa2f95fc-1a04-45d4-95dc-3683bcf027d3\" class=\"colab-df-container\">\n",
              "    <div>\n",
              "<style scoped>\n",
              "    .dataframe tbody tr th:only-of-type {\n",
              "        vertical-align: middle;\n",
              "    }\n",
              "\n",
              "    .dataframe tbody tr th {\n",
              "        vertical-align: top;\n",
              "    }\n",
              "\n",
              "    .dataframe thead th {\n",
              "        text-align: right;\n",
              "    }\n",
              "</style>\n",
              "<table border=\"1\" class=\"dataframe\">\n",
              "  <thead>\n",
              "    <tr style=\"text-align: right;\">\n",
              "      <th></th>\n",
              "      <th>lat</th>\n",
              "      <th>lon</th>\n",
              "      <th>l6</th>\n",
              "      <th>rooms</th>\n",
              "      <th>bedrooms</th>\n",
              "      <th>bathrooms</th>\n",
              "      <th>surface_total</th>\n",
              "      <th>surface_covered</th>\n",
              "      <th>price</th>\n",
              "    </tr>\n",
              "  </thead>\n",
              "  <tbody>\n",
              "    <tr>\n",
              "      <th>count</th>\n",
              "      <td>832453.000000</td>\n",
              "      <td>833388.000000</td>\n",
              "      <td>0.0</td>\n",
              "      <td>496527.000000</td>\n",
              "      <td>386021.000000</td>\n",
              "      <td>766218.000000</td>\n",
              "      <td>441184.000000</td>\n",
              "      <td>4.300230e+05</td>\n",
              "      <td>9.407990e+05</td>\n",
              "    </tr>\n",
              "    <tr>\n",
              "      <th>mean</th>\n",
              "      <td>-59.273078</td>\n",
              "      <td>-34.795283</td>\n",
              "      <td>NaN</td>\n",
              "      <td>2.865331</td>\n",
              "      <td>2.088822</td>\n",
              "      <td>1.700136</td>\n",
              "      <td>500.110607</td>\n",
              "      <td>5.851866e+02</td>\n",
              "      <td>2.888822e+05</td>\n",
              "    </tr>\n",
              "    <tr>\n",
              "      <th>std</th>\n",
              "      <td>2.716961</td>\n",
              "      <td>3.078145</td>\n",
              "      <td>NaN</td>\n",
              "      <td>1.687075</td>\n",
              "      <td>2.719330</td>\n",
              "      <td>1.074748</td>\n",
              "      <td>4133.349588</td>\n",
              "      <td>7.443324e+04</td>\n",
              "      <td>5.581522e+06</td>\n",
              "    </tr>\n",
              "    <tr>\n",
              "      <th>min</th>\n",
              "      <td>-180.000000</td>\n",
              "      <td>-54.842464</td>\n",
              "      <td>NaN</td>\n",
              "      <td>1.000000</td>\n",
              "      <td>-13.000000</td>\n",
              "      <td>1.000000</td>\n",
              "      <td>-200.000000</td>\n",
              "      <td>-1.700000e+02</td>\n",
              "      <td>0.000000e+00</td>\n",
              "    </tr>\n",
              "    <tr>\n",
              "      <th>25%</th>\n",
              "      <td>-58.762921</td>\n",
              "      <td>-34.923353</td>\n",
              "      <td>NaN</td>\n",
              "      <td>2.000000</td>\n",
              "      <td>1.000000</td>\n",
              "      <td>1.000000</td>\n",
              "      <td>50.000000</td>\n",
              "      <td>4.500000e+01</td>\n",
              "      <td>3.900000e+04</td>\n",
              "    </tr>\n",
              "    <tr>\n",
              "      <th>50%</th>\n",
              "      <td>-58.444935</td>\n",
              "      <td>-34.611182</td>\n",
              "      <td>NaN</td>\n",
              "      <td>3.000000</td>\n",
              "      <td>2.000000</td>\n",
              "      <td>1.000000</td>\n",
              "      <td>96.000000</td>\n",
              "      <td>7.500000e+01</td>\n",
              "      <td>9.725400e+04</td>\n",
              "    </tr>\n",
              "    <tr>\n",
              "      <th>75%</th>\n",
              "      <td>-58.047423</td>\n",
              "      <td>-34.454720</td>\n",
              "      <td>NaN</td>\n",
              "      <td>4.000000</td>\n",
              "      <td>3.000000</td>\n",
              "      <td>2.000000</td>\n",
              "      <td>275.000000</td>\n",
              "      <td>1.580000e+02</td>\n",
              "      <td>2.100000e+05</td>\n",
              "    </tr>\n",
              "    <tr>\n",
              "      <th>max</th>\n",
              "      <td>-35.045025</td>\n",
              "      <td>85.051129</td>\n",
              "      <td>NaN</td>\n",
              "      <td>40.000000</td>\n",
              "      <td>900.000000</td>\n",
              "      <td>20.000000</td>\n",
              "      <td>200000.000000</td>\n",
              "      <td>2.700000e+07</td>\n",
              "      <td>3.100000e+09</td>\n",
              "    </tr>\n",
              "  </tbody>\n",
              "</table>\n",
              "</div>\n",
              "    <div class=\"colab-df-buttons\">\n",
              "\n",
              "  <div class=\"colab-df-container\">\n",
              "    <button class=\"colab-df-convert\" onclick=\"convertToInteractive('df-fa2f95fc-1a04-45d4-95dc-3683bcf027d3')\"\n",
              "            title=\"Convert this dataframe to an interactive table.\"\n",
              "            style=\"display:none;\">\n",
              "\n",
              "  <svg xmlns=\"http://www.w3.org/2000/svg\" height=\"24px\" viewBox=\"0 -960 960 960\">\n",
              "    <path d=\"M120-120v-720h720v720H120Zm60-500h600v-160H180v160Zm220 220h160v-160H400v160Zm0 220h160v-160H400v160ZM180-400h160v-160H180v160Zm440 0h160v-160H620v160ZM180-180h160v-160H180v160Zm440 0h160v-160H620v160Z\"/>\n",
              "  </svg>\n",
              "    </button>\n",
              "\n",
              "  <style>\n",
              "    .colab-df-container {\n",
              "      display:flex;\n",
              "      gap: 12px;\n",
              "    }\n",
              "\n",
              "    .colab-df-convert {\n",
              "      background-color: #E8F0FE;\n",
              "      border: none;\n",
              "      border-radius: 50%;\n",
              "      cursor: pointer;\n",
              "      display: none;\n",
              "      fill: #1967D2;\n",
              "      height: 32px;\n",
              "      padding: 0 0 0 0;\n",
              "      width: 32px;\n",
              "    }\n",
              "\n",
              "    .colab-df-convert:hover {\n",
              "      background-color: #E2EBFA;\n",
              "      box-shadow: 0px 1px 2px rgba(60, 64, 67, 0.3), 0px 1px 3px 1px rgba(60, 64, 67, 0.15);\n",
              "      fill: #174EA6;\n",
              "    }\n",
              "\n",
              "    .colab-df-buttons div {\n",
              "      margin-bottom: 4px;\n",
              "    }\n",
              "\n",
              "    [theme=dark] .colab-df-convert {\n",
              "      background-color: #3B4455;\n",
              "      fill: #D2E3FC;\n",
              "    }\n",
              "\n",
              "    [theme=dark] .colab-df-convert:hover {\n",
              "      background-color: #434B5C;\n",
              "      box-shadow: 0px 1px 3px 1px rgba(0, 0, 0, 0.15);\n",
              "      filter: drop-shadow(0px 1px 2px rgba(0, 0, 0, 0.3));\n",
              "      fill: #FFFFFF;\n",
              "    }\n",
              "  </style>\n",
              "\n",
              "    <script>\n",
              "      const buttonEl =\n",
              "        document.querySelector('#df-fa2f95fc-1a04-45d4-95dc-3683bcf027d3 button.colab-df-convert');\n",
              "      buttonEl.style.display =\n",
              "        google.colab.kernel.accessAllowed ? 'block' : 'none';\n",
              "\n",
              "      async function convertToInteractive(key) {\n",
              "        const element = document.querySelector('#df-fa2f95fc-1a04-45d4-95dc-3683bcf027d3');\n",
              "        const dataTable =\n",
              "          await google.colab.kernel.invokeFunction('convertToInteractive',\n",
              "                                                    [key], {});\n",
              "        if (!dataTable) return;\n",
              "\n",
              "        const docLinkHtml = 'Like what you see? Visit the ' +\n",
              "          '<a target=\"_blank\" href=https://colab.research.google.com/notebooks/data_table.ipynb>data table notebook</a>'\n",
              "          + ' to learn more about interactive tables.';\n",
              "        element.innerHTML = '';\n",
              "        dataTable['output_type'] = 'display_data';\n",
              "        await google.colab.output.renderOutput(dataTable, element);\n",
              "        const docLink = document.createElement('div');\n",
              "        docLink.innerHTML = docLinkHtml;\n",
              "        element.appendChild(docLink);\n",
              "      }\n",
              "    </script>\n",
              "  </div>\n",
              "\n",
              "\n",
              "<div id=\"df-4cacaef3-e4e7-48d6-9cfd-9e32d367dc47\">\n",
              "  <button class=\"colab-df-quickchart\" onclick=\"quickchart('df-4cacaef3-e4e7-48d6-9cfd-9e32d367dc47')\"\n",
              "            title=\"Suggest charts\"\n",
              "            style=\"display:none;\">\n",
              "\n",
              "<svg xmlns=\"http://www.w3.org/2000/svg\" height=\"24px\"viewBox=\"0 0 24 24\"\n",
              "     width=\"24px\">\n",
              "    <g>\n",
              "        <path d=\"M19 3H5c-1.1 0-2 .9-2 2v14c0 1.1.9 2 2 2h14c1.1 0 2-.9 2-2V5c0-1.1-.9-2-2-2zM9 17H7v-7h2v7zm4 0h-2V7h2v10zm4 0h-2v-4h2v4z\"/>\n",
              "    </g>\n",
              "</svg>\n",
              "  </button>\n",
              "\n",
              "<style>\n",
              "  .colab-df-quickchart {\n",
              "      --bg-color: #E8F0FE;\n",
              "      --fill-color: #1967D2;\n",
              "      --hover-bg-color: #E2EBFA;\n",
              "      --hover-fill-color: #174EA6;\n",
              "      --disabled-fill-color: #AAA;\n",
              "      --disabled-bg-color: #DDD;\n",
              "  }\n",
              "\n",
              "  [theme=dark] .colab-df-quickchart {\n",
              "      --bg-color: #3B4455;\n",
              "      --fill-color: #D2E3FC;\n",
              "      --hover-bg-color: #434B5C;\n",
              "      --hover-fill-color: #FFFFFF;\n",
              "      --disabled-bg-color: #3B4455;\n",
              "      --disabled-fill-color: #666;\n",
              "  }\n",
              "\n",
              "  .colab-df-quickchart {\n",
              "    background-color: var(--bg-color);\n",
              "    border: none;\n",
              "    border-radius: 50%;\n",
              "    cursor: pointer;\n",
              "    display: none;\n",
              "    fill: var(--fill-color);\n",
              "    height: 32px;\n",
              "    padding: 0;\n",
              "    width: 32px;\n",
              "  }\n",
              "\n",
              "  .colab-df-quickchart:hover {\n",
              "    background-color: var(--hover-bg-color);\n",
              "    box-shadow: 0 1px 2px rgba(60, 64, 67, 0.3), 0 1px 3px 1px rgba(60, 64, 67, 0.15);\n",
              "    fill: var(--button-hover-fill-color);\n",
              "  }\n",
              "\n",
              "  .colab-df-quickchart-complete:disabled,\n",
              "  .colab-df-quickchart-complete:disabled:hover {\n",
              "    background-color: var(--disabled-bg-color);\n",
              "    fill: var(--disabled-fill-color);\n",
              "    box-shadow: none;\n",
              "  }\n",
              "\n",
              "  .colab-df-spinner {\n",
              "    border: 2px solid var(--fill-color);\n",
              "    border-color: transparent;\n",
              "    border-bottom-color: var(--fill-color);\n",
              "    animation:\n",
              "      spin 1s steps(1) infinite;\n",
              "  }\n",
              "\n",
              "  @keyframes spin {\n",
              "    0% {\n",
              "      border-color: transparent;\n",
              "      border-bottom-color: var(--fill-color);\n",
              "      border-left-color: var(--fill-color);\n",
              "    }\n",
              "    20% {\n",
              "      border-color: transparent;\n",
              "      border-left-color: var(--fill-color);\n",
              "      border-top-color: var(--fill-color);\n",
              "    }\n",
              "    30% {\n",
              "      border-color: transparent;\n",
              "      border-left-color: var(--fill-color);\n",
              "      border-top-color: var(--fill-color);\n",
              "      border-right-color: var(--fill-color);\n",
              "    }\n",
              "    40% {\n",
              "      border-color: transparent;\n",
              "      border-right-color: var(--fill-color);\n",
              "      border-top-color: var(--fill-color);\n",
              "    }\n",
              "    60% {\n",
              "      border-color: transparent;\n",
              "      border-right-color: var(--fill-color);\n",
              "    }\n",
              "    80% {\n",
              "      border-color: transparent;\n",
              "      border-right-color: var(--fill-color);\n",
              "      border-bottom-color: var(--fill-color);\n",
              "    }\n",
              "    90% {\n",
              "      border-color: transparent;\n",
              "      border-bottom-color: var(--fill-color);\n",
              "    }\n",
              "  }\n",
              "</style>\n",
              "\n",
              "  <script>\n",
              "    async function quickchart(key) {\n",
              "      const quickchartButtonEl =\n",
              "        document.querySelector('#' + key + ' button');\n",
              "      quickchartButtonEl.disabled = true;  // To prevent multiple clicks.\n",
              "      quickchartButtonEl.classList.add('colab-df-spinner');\n",
              "      try {\n",
              "        const charts = await google.colab.kernel.invokeFunction(\n",
              "            'suggestCharts', [key], {});\n",
              "      } catch (error) {\n",
              "        console.error('Error during call to suggestCharts:', error);\n",
              "      }\n",
              "      quickchartButtonEl.classList.remove('colab-df-spinner');\n",
              "      quickchartButtonEl.classList.add('colab-df-quickchart-complete');\n",
              "    }\n",
              "    (() => {\n",
              "      let quickchartButtonEl =\n",
              "        document.querySelector('#df-4cacaef3-e4e7-48d6-9cfd-9e32d367dc47 button');\n",
              "      quickchartButtonEl.style.display =\n",
              "        google.colab.kernel.accessAllowed ? 'block' : 'none';\n",
              "    })();\n",
              "  </script>\n",
              "</div>\n",
              "\n",
              "    </div>\n",
              "  </div>\n"
            ],
            "application/vnd.google.colaboratory.intrinsic+json": {
              "type": "dataframe",
              "summary": "{\n  \"name\": \"df_train\",\n  \"rows\": 8,\n  \"fields\": [\n    {\n      \"column\": \"lat\",\n      \"properties\": {\n        \"dtype\": \"number\",\n        \"std\": 294339.1548942474,\n        \"min\": -180.0,\n        \"max\": 832453.0,\n        \"num_unique_values\": 8,\n        \"samples\": [\n          -59.27307788894649,\n          -58.4449345,\n          832453.0\n        ],\n        \"semantic_type\": \"\",\n        \"description\": \"\"\n      }\n    },\n    {\n      \"column\": \"lon\",\n      \"properties\": {\n        \"dtype\": \"number\",\n        \"std\": 294652.4847866071,\n        \"min\": -54.8424641,\n        \"max\": 833388.0,\n        \"num_unique_values\": 8,\n        \"samples\": [\n          -34.79528262283198,\n          -34.61118225,\n          833388.0\n        ],\n        \"semantic_type\": \"\",\n        \"description\": \"\"\n      }\n    },\n    {\n      \"column\": \"l6\",\n      \"properties\": {\n        \"dtype\": \"number\",\n        \"std\": null,\n        \"min\": 0.0,\n        \"max\": 0.0,\n        \"num_unique_values\": 1,\n        \"samples\": [\n          0.0\n        ],\n        \"semantic_type\": \"\",\n        \"description\": \"\"\n      }\n    },\n    {\n      \"column\": \"rooms\",\n      \"properties\": {\n        \"dtype\": \"number\",\n        \"std\": 175546.04955326585,\n        \"min\": 1.0,\n        \"max\": 496527.0,\n        \"num_unique_values\": 8,\n        \"samples\": [\n          2.865330586252107\n        ],\n        \"semantic_type\": \"\",\n        \"description\": \"\"\n      }\n    },\n    {\n      \"column\": \"bedrooms\",\n      \"properties\": {\n        \"dtype\": \"number\",\n        \"std\": 136434.05111370364,\n        \"min\": -13.0,\n        \"max\": 386021.0,\n        \"num_unique_values\": 8,\n        \"samples\": [\n          2.088821592607656\n        ],\n        \"semantic_type\": \"\",\n        \"description\": \"\"\n      }\n    },\n    {\n      \"column\": \"bathrooms\",\n      \"properties\": {\n        \"dtype\": \"number\",\n        \"std\": 270897.5690694334,\n        \"min\": 1.0,\n        \"max\": 766218.0,\n        \"num_unique_values\": 6,\n        \"samples\": [\n          766218.0\n        ],\n        \"semantic_type\": \"\",\n        \"description\": \"\"\n      }\n    },\n    {\n      \"column\": \"surface_total\",\n      \"properties\": {\n        \"dtype\": \"number\",\n        \"std\": 161462.10186913263,\n        \"min\": -200.0,\n        \"max\": 441184.0,\n        \"num_unique_values\": 8,\n        \"samples\": [\n          500.1106069123087\n        ],\n        \"semantic_type\": \"\",\n        \"description\": \"\"\n      }\n    },\n    {\n      \"column\": \"surface_covered\",\n      \"properties\": {\n        \"dtype\": \"number\",\n        \"std\": 9521583.038293429,\n        \"min\": -170.0,\n        \"max\": 27000000.0,\n        \"num_unique_values\": 8,\n        \"samples\": [\n          585.1865993214317\n        ],\n        \"semantic_type\": \"\",\n        \"description\": \"\"\n      }\n    },\n    {\n      \"column\": \"price\",\n      \"properties\": {\n        \"dtype\": \"number\",\n        \"std\": 1095655625.2668672,\n        \"min\": 0.0,\n        \"max\": 3100000000.0,\n        \"num_unique_values\": 8,\n        \"samples\": [\n          288882.2123843669\n        ],\n        \"semantic_type\": \"\",\n        \"description\": \"\"\n      }\n    }\n  ]\n}"
            }
          },
          "metadata": {},
          "execution_count": 50
        }
      ]
    },
    {
      "cell_type": "code",
      "source": [
        "df_test.describe()"
      ],
      "metadata": {
        "colab": {
          "base_uri": "https://localhost:8080/",
          "height": 300
        },
        "id": "oiMLGhUCG8Bz",
        "outputId": "3ebb93d1-d8aa-436b-bebd-d4f5e68f9dd7"
      },
      "execution_count": null,
      "outputs": [
        {
          "output_type": "execute_result",
          "data": {
            "text/plain": [
              "               lat          lon   l5   l6        rooms     bedrooms  \\\n",
              "count  6541.000000  6541.000000  0.0  0.0  6518.000000  4678.000000   \n",
              "mean    -58.440334   -34.597839  NaN  NaN     2.344124     1.861052   \n",
              "std       0.171672     0.238984  NaN  NaN     1.173275     1.003062   \n",
              "min     -68.468140   -53.788249  NaN  NaN     1.000000     1.000000   \n",
              "25%     -58.454079   -34.606504  NaN  NaN     1.000000     1.000000   \n",
              "50%     -58.436266   -34.597477  NaN  NaN     2.000000     2.000000   \n",
              "75%     -58.418310   -34.582409  NaN  NaN     3.000000     2.000000   \n",
              "max     -58.358678   -33.081030  NaN  NaN    16.000000    12.000000   \n",
              "\n",
              "         bathrooms  surface_total  surface_covered  price_period  price  \n",
              "count  6803.000000    6980.000000      6938.000000           0.0    0.0  \n",
              "mean      1.416140      76.393553        66.649178           NaN    NaN  \n",
              "std       0.762132      75.227804        61.792004           NaN    NaN  \n",
              "min       1.000000      10.000000         1.000000           NaN    NaN  \n",
              "25%       1.000000      40.000000        37.000000           NaN    NaN  \n",
              "50%       1.000000      56.000000        50.000000           NaN    NaN  \n",
              "75%       2.000000      84.000000        75.000000           NaN    NaN  \n",
              "max       8.000000    1515.000000      2422.000000           NaN    NaN  "
            ],
            "text/html": [
              "\n",
              "  <div id=\"df-09dcea6f-1322-4e84-8177-dcba4203cd61\" class=\"colab-df-container\">\n",
              "    <div>\n",
              "<style scoped>\n",
              "    .dataframe tbody tr th:only-of-type {\n",
              "        vertical-align: middle;\n",
              "    }\n",
              "\n",
              "    .dataframe tbody tr th {\n",
              "        vertical-align: top;\n",
              "    }\n",
              "\n",
              "    .dataframe thead th {\n",
              "        text-align: right;\n",
              "    }\n",
              "</style>\n",
              "<table border=\"1\" class=\"dataframe\">\n",
              "  <thead>\n",
              "    <tr style=\"text-align: right;\">\n",
              "      <th></th>\n",
              "      <th>lat</th>\n",
              "      <th>lon</th>\n",
              "      <th>l5</th>\n",
              "      <th>l6</th>\n",
              "      <th>rooms</th>\n",
              "      <th>bedrooms</th>\n",
              "      <th>bathrooms</th>\n",
              "      <th>surface_total</th>\n",
              "      <th>surface_covered</th>\n",
              "      <th>price_period</th>\n",
              "      <th>price</th>\n",
              "    </tr>\n",
              "  </thead>\n",
              "  <tbody>\n",
              "    <tr>\n",
              "      <th>count</th>\n",
              "      <td>6541.000000</td>\n",
              "      <td>6541.000000</td>\n",
              "      <td>0.0</td>\n",
              "      <td>0.0</td>\n",
              "      <td>6518.000000</td>\n",
              "      <td>4678.000000</td>\n",
              "      <td>6803.000000</td>\n",
              "      <td>6980.000000</td>\n",
              "      <td>6938.000000</td>\n",
              "      <td>0.0</td>\n",
              "      <td>0.0</td>\n",
              "    </tr>\n",
              "    <tr>\n",
              "      <th>mean</th>\n",
              "      <td>-58.440334</td>\n",
              "      <td>-34.597839</td>\n",
              "      <td>NaN</td>\n",
              "      <td>NaN</td>\n",
              "      <td>2.344124</td>\n",
              "      <td>1.861052</td>\n",
              "      <td>1.416140</td>\n",
              "      <td>76.393553</td>\n",
              "      <td>66.649178</td>\n",
              "      <td>NaN</td>\n",
              "      <td>NaN</td>\n",
              "    </tr>\n",
              "    <tr>\n",
              "      <th>std</th>\n",
              "      <td>0.171672</td>\n",
              "      <td>0.238984</td>\n",
              "      <td>NaN</td>\n",
              "      <td>NaN</td>\n",
              "      <td>1.173275</td>\n",
              "      <td>1.003062</td>\n",
              "      <td>0.762132</td>\n",
              "      <td>75.227804</td>\n",
              "      <td>61.792004</td>\n",
              "      <td>NaN</td>\n",
              "      <td>NaN</td>\n",
              "    </tr>\n",
              "    <tr>\n",
              "      <th>min</th>\n",
              "      <td>-68.468140</td>\n",
              "      <td>-53.788249</td>\n",
              "      <td>NaN</td>\n",
              "      <td>NaN</td>\n",
              "      <td>1.000000</td>\n",
              "      <td>1.000000</td>\n",
              "      <td>1.000000</td>\n",
              "      <td>10.000000</td>\n",
              "      <td>1.000000</td>\n",
              "      <td>NaN</td>\n",
              "      <td>NaN</td>\n",
              "    </tr>\n",
              "    <tr>\n",
              "      <th>25%</th>\n",
              "      <td>-58.454079</td>\n",
              "      <td>-34.606504</td>\n",
              "      <td>NaN</td>\n",
              "      <td>NaN</td>\n",
              "      <td>1.000000</td>\n",
              "      <td>1.000000</td>\n",
              "      <td>1.000000</td>\n",
              "      <td>40.000000</td>\n",
              "      <td>37.000000</td>\n",
              "      <td>NaN</td>\n",
              "      <td>NaN</td>\n",
              "    </tr>\n",
              "    <tr>\n",
              "      <th>50%</th>\n",
              "      <td>-58.436266</td>\n",
              "      <td>-34.597477</td>\n",
              "      <td>NaN</td>\n",
              "      <td>NaN</td>\n",
              "      <td>2.000000</td>\n",
              "      <td>2.000000</td>\n",
              "      <td>1.000000</td>\n",
              "      <td>56.000000</td>\n",
              "      <td>50.000000</td>\n",
              "      <td>NaN</td>\n",
              "      <td>NaN</td>\n",
              "    </tr>\n",
              "    <tr>\n",
              "      <th>75%</th>\n",
              "      <td>-58.418310</td>\n",
              "      <td>-34.582409</td>\n",
              "      <td>NaN</td>\n",
              "      <td>NaN</td>\n",
              "      <td>3.000000</td>\n",
              "      <td>2.000000</td>\n",
              "      <td>2.000000</td>\n",
              "      <td>84.000000</td>\n",
              "      <td>75.000000</td>\n",
              "      <td>NaN</td>\n",
              "      <td>NaN</td>\n",
              "    </tr>\n",
              "    <tr>\n",
              "      <th>max</th>\n",
              "      <td>-58.358678</td>\n",
              "      <td>-33.081030</td>\n",
              "      <td>NaN</td>\n",
              "      <td>NaN</td>\n",
              "      <td>16.000000</td>\n",
              "      <td>12.000000</td>\n",
              "      <td>8.000000</td>\n",
              "      <td>1515.000000</td>\n",
              "      <td>2422.000000</td>\n",
              "      <td>NaN</td>\n",
              "      <td>NaN</td>\n",
              "    </tr>\n",
              "  </tbody>\n",
              "</table>\n",
              "</div>\n",
              "    <div class=\"colab-df-buttons\">\n",
              "\n",
              "  <div class=\"colab-df-container\">\n",
              "    <button class=\"colab-df-convert\" onclick=\"convertToInteractive('df-09dcea6f-1322-4e84-8177-dcba4203cd61')\"\n",
              "            title=\"Convert this dataframe to an interactive table.\"\n",
              "            style=\"display:none;\">\n",
              "\n",
              "  <svg xmlns=\"http://www.w3.org/2000/svg\" height=\"24px\" viewBox=\"0 -960 960 960\">\n",
              "    <path d=\"M120-120v-720h720v720H120Zm60-500h600v-160H180v160Zm220 220h160v-160H400v160Zm0 220h160v-160H400v160ZM180-400h160v-160H180v160Zm440 0h160v-160H620v160ZM180-180h160v-160H180v160Zm440 0h160v-160H620v160Z\"/>\n",
              "  </svg>\n",
              "    </button>\n",
              "\n",
              "  <style>\n",
              "    .colab-df-container {\n",
              "      display:flex;\n",
              "      gap: 12px;\n",
              "    }\n",
              "\n",
              "    .colab-df-convert {\n",
              "      background-color: #E8F0FE;\n",
              "      border: none;\n",
              "      border-radius: 50%;\n",
              "      cursor: pointer;\n",
              "      display: none;\n",
              "      fill: #1967D2;\n",
              "      height: 32px;\n",
              "      padding: 0 0 0 0;\n",
              "      width: 32px;\n",
              "    }\n",
              "\n",
              "    .colab-df-convert:hover {\n",
              "      background-color: #E2EBFA;\n",
              "      box-shadow: 0px 1px 2px rgba(60, 64, 67, 0.3), 0px 1px 3px 1px rgba(60, 64, 67, 0.15);\n",
              "      fill: #174EA6;\n",
              "    }\n",
              "\n",
              "    .colab-df-buttons div {\n",
              "      margin-bottom: 4px;\n",
              "    }\n",
              "\n",
              "    [theme=dark] .colab-df-convert {\n",
              "      background-color: #3B4455;\n",
              "      fill: #D2E3FC;\n",
              "    }\n",
              "\n",
              "    [theme=dark] .colab-df-convert:hover {\n",
              "      background-color: #434B5C;\n",
              "      box-shadow: 0px 1px 3px 1px rgba(0, 0, 0, 0.15);\n",
              "      filter: drop-shadow(0px 1px 2px rgba(0, 0, 0, 0.3));\n",
              "      fill: #FFFFFF;\n",
              "    }\n",
              "  </style>\n",
              "\n",
              "    <script>\n",
              "      const buttonEl =\n",
              "        document.querySelector('#df-09dcea6f-1322-4e84-8177-dcba4203cd61 button.colab-df-convert');\n",
              "      buttonEl.style.display =\n",
              "        google.colab.kernel.accessAllowed ? 'block' : 'none';\n",
              "\n",
              "      async function convertToInteractive(key) {\n",
              "        const element = document.querySelector('#df-09dcea6f-1322-4e84-8177-dcba4203cd61');\n",
              "        const dataTable =\n",
              "          await google.colab.kernel.invokeFunction('convertToInteractive',\n",
              "                                                    [key], {});\n",
              "        if (!dataTable) return;\n",
              "\n",
              "        const docLinkHtml = 'Like what you see? Visit the ' +\n",
              "          '<a target=\"_blank\" href=https://colab.research.google.com/notebooks/data_table.ipynb>data table notebook</a>'\n",
              "          + ' to learn more about interactive tables.';\n",
              "        element.innerHTML = '';\n",
              "        dataTable['output_type'] = 'display_data';\n",
              "        await google.colab.output.renderOutput(dataTable, element);\n",
              "        const docLink = document.createElement('div');\n",
              "        docLink.innerHTML = docLinkHtml;\n",
              "        element.appendChild(docLink);\n",
              "      }\n",
              "    </script>\n",
              "  </div>\n",
              "\n",
              "\n",
              "<div id=\"df-235ed348-6166-4bb4-a2da-ea692838db51\">\n",
              "  <button class=\"colab-df-quickchart\" onclick=\"quickchart('df-235ed348-6166-4bb4-a2da-ea692838db51')\"\n",
              "            title=\"Suggest charts\"\n",
              "            style=\"display:none;\">\n",
              "\n",
              "<svg xmlns=\"http://www.w3.org/2000/svg\" height=\"24px\"viewBox=\"0 0 24 24\"\n",
              "     width=\"24px\">\n",
              "    <g>\n",
              "        <path d=\"M19 3H5c-1.1 0-2 .9-2 2v14c0 1.1.9 2 2 2h14c1.1 0 2-.9 2-2V5c0-1.1-.9-2-2-2zM9 17H7v-7h2v7zm4 0h-2V7h2v10zm4 0h-2v-4h2v4z\"/>\n",
              "    </g>\n",
              "</svg>\n",
              "  </button>\n",
              "\n",
              "<style>\n",
              "  .colab-df-quickchart {\n",
              "      --bg-color: #E8F0FE;\n",
              "      --fill-color: #1967D2;\n",
              "      --hover-bg-color: #E2EBFA;\n",
              "      --hover-fill-color: #174EA6;\n",
              "      --disabled-fill-color: #AAA;\n",
              "      --disabled-bg-color: #DDD;\n",
              "  }\n",
              "\n",
              "  [theme=dark] .colab-df-quickchart {\n",
              "      --bg-color: #3B4455;\n",
              "      --fill-color: #D2E3FC;\n",
              "      --hover-bg-color: #434B5C;\n",
              "      --hover-fill-color: #FFFFFF;\n",
              "      --disabled-bg-color: #3B4455;\n",
              "      --disabled-fill-color: #666;\n",
              "  }\n",
              "\n",
              "  .colab-df-quickchart {\n",
              "    background-color: var(--bg-color);\n",
              "    border: none;\n",
              "    border-radius: 50%;\n",
              "    cursor: pointer;\n",
              "    display: none;\n",
              "    fill: var(--fill-color);\n",
              "    height: 32px;\n",
              "    padding: 0;\n",
              "    width: 32px;\n",
              "  }\n",
              "\n",
              "  .colab-df-quickchart:hover {\n",
              "    background-color: var(--hover-bg-color);\n",
              "    box-shadow: 0 1px 2px rgba(60, 64, 67, 0.3), 0 1px 3px 1px rgba(60, 64, 67, 0.15);\n",
              "    fill: var(--button-hover-fill-color);\n",
              "  }\n",
              "\n",
              "  .colab-df-quickchart-complete:disabled,\n",
              "  .colab-df-quickchart-complete:disabled:hover {\n",
              "    background-color: var(--disabled-bg-color);\n",
              "    fill: var(--disabled-fill-color);\n",
              "    box-shadow: none;\n",
              "  }\n",
              "\n",
              "  .colab-df-spinner {\n",
              "    border: 2px solid var(--fill-color);\n",
              "    border-color: transparent;\n",
              "    border-bottom-color: var(--fill-color);\n",
              "    animation:\n",
              "      spin 1s steps(1) infinite;\n",
              "  }\n",
              "\n",
              "  @keyframes spin {\n",
              "    0% {\n",
              "      border-color: transparent;\n",
              "      border-bottom-color: var(--fill-color);\n",
              "      border-left-color: var(--fill-color);\n",
              "    }\n",
              "    20% {\n",
              "      border-color: transparent;\n",
              "      border-left-color: var(--fill-color);\n",
              "      border-top-color: var(--fill-color);\n",
              "    }\n",
              "    30% {\n",
              "      border-color: transparent;\n",
              "      border-left-color: var(--fill-color);\n",
              "      border-top-color: var(--fill-color);\n",
              "      border-right-color: var(--fill-color);\n",
              "    }\n",
              "    40% {\n",
              "      border-color: transparent;\n",
              "      border-right-color: var(--fill-color);\n",
              "      border-top-color: var(--fill-color);\n",
              "    }\n",
              "    60% {\n",
              "      border-color: transparent;\n",
              "      border-right-color: var(--fill-color);\n",
              "    }\n",
              "    80% {\n",
              "      border-color: transparent;\n",
              "      border-right-color: var(--fill-color);\n",
              "      border-bottom-color: var(--fill-color);\n",
              "    }\n",
              "    90% {\n",
              "      border-color: transparent;\n",
              "      border-bottom-color: var(--fill-color);\n",
              "    }\n",
              "  }\n",
              "</style>\n",
              "\n",
              "  <script>\n",
              "    async function quickchart(key) {\n",
              "      const quickchartButtonEl =\n",
              "        document.querySelector('#' + key + ' button');\n",
              "      quickchartButtonEl.disabled = true;  // To prevent multiple clicks.\n",
              "      quickchartButtonEl.classList.add('colab-df-spinner');\n",
              "      try {\n",
              "        const charts = await google.colab.kernel.invokeFunction(\n",
              "            'suggestCharts', [key], {});\n",
              "      } catch (error) {\n",
              "        console.error('Error during call to suggestCharts:', error);\n",
              "      }\n",
              "      quickchartButtonEl.classList.remove('colab-df-spinner');\n",
              "      quickchartButtonEl.classList.add('colab-df-quickchart-complete');\n",
              "    }\n",
              "    (() => {\n",
              "      let quickchartButtonEl =\n",
              "        document.querySelector('#df-235ed348-6166-4bb4-a2da-ea692838db51 button');\n",
              "      quickchartButtonEl.style.display =\n",
              "        google.colab.kernel.accessAllowed ? 'block' : 'none';\n",
              "    })();\n",
              "  </script>\n",
              "</div>\n",
              "\n",
              "    </div>\n",
              "  </div>\n"
            ],
            "application/vnd.google.colaboratory.intrinsic+json": {
              "type": "dataframe",
              "summary": "{\n  \"name\": \"df_test\",\n  \"rows\": 8,\n  \"fields\": [\n    {\n      \"column\": \"lat\",\n      \"properties\": {\n        \"dtype\": \"number\",\n        \"std\": 2330.893870294903,\n        \"min\": -68.46814,\n        \"max\": 6541.0,\n        \"num_unique_values\": 8,\n        \"samples\": [\n          -58.44033420410187,\n          -58.4362659305,\n          6541.0\n        ],\n        \"semantic_type\": \"\",\n        \"description\": \"\"\n      }\n    },\n    {\n      \"column\": \"lon\",\n      \"properties\": {\n        \"dtype\": \"number\",\n        \"std\": 2324.00507344758,\n        \"min\": -53.788249,\n        \"max\": 6541.0,\n        \"num_unique_values\": 8,\n        \"samples\": [\n          -34.59783943667147,\n          -34.5974770221,\n          6541.0\n        ],\n        \"semantic_type\": \"\",\n        \"description\": \"\"\n      }\n    },\n    {\n      \"column\": \"l5\",\n      \"properties\": {\n        \"dtype\": \"number\",\n        \"std\": null,\n        \"min\": 0.0,\n        \"max\": 0.0,\n        \"num_unique_values\": 1,\n        \"samples\": [\n          0.0\n        ],\n        \"semantic_type\": \"\",\n        \"description\": \"\"\n      }\n    },\n    {\n      \"column\": \"l6\",\n      \"properties\": {\n        \"dtype\": \"number\",\n        \"std\": null,\n        \"min\": 0.0,\n        \"max\": 0.0,\n        \"num_unique_values\": 1,\n        \"samples\": [\n          0.0\n        ],\n        \"semantic_type\": \"\",\n        \"description\": \"\"\n      }\n    },\n    {\n      \"column\": \"rooms\",\n      \"properties\": {\n        \"dtype\": \"number\",\n        \"std\": 2303.1271714091017,\n        \"min\": 1.0,\n        \"max\": 6518.0,\n        \"num_unique_values\": 7,\n        \"samples\": [\n          6518.0\n        ],\n        \"semantic_type\": \"\",\n        \"description\": \"\"\n      }\n    },\n    {\n      \"column\": \"bedrooms\",\n      \"properties\": {\n        \"dtype\": \"number\",\n        \"std\": 1652.873125154427,\n        \"min\": 1.0,\n        \"max\": 4678.0,\n        \"num_unique_values\": 6,\n        \"samples\": [\n          4678.0\n        ],\n        \"semantic_type\": \"\",\n        \"description\": \"\"\n      }\n    },\n    {\n      \"column\": \"bathrooms\",\n      \"properties\": {\n        \"dtype\": \"number\",\n        \"std\": 2404.4583060280074,\n        \"min\": 0.7621318923156883,\n        \"max\": 6803.0,\n        \"num_unique_values\": 6,\n        \"samples\": [\n          6803.0\n        ],\n        \"semantic_type\": \"\",\n        \"description\": \"\"\n      }\n    },\n    {\n      \"column\": \"surface_total\",\n      \"properties\": {\n        \"dtype\": \"number\",\n        \"std\": 2428.352691826552,\n        \"min\": 10.0,\n        \"max\": 6980.0,\n        \"num_unique_values\": 8,\n        \"samples\": [\n          76.39355300859599\n        ],\n        \"semantic_type\": \"\",\n        \"description\": \"\"\n      }\n    },\n    {\n      \"column\": \"surface_covered\",\n      \"properties\": {\n        \"dtype\": \"number\",\n        \"std\": 2460.4266109012037,\n        \"min\": 1.0,\n        \"max\": 6938.0,\n        \"num_unique_values\": 8,\n        \"samples\": [\n          66.64917843759008\n        ],\n        \"semantic_type\": \"\",\n        \"description\": \"\"\n      }\n    },\n    {\n      \"column\": \"price_period\",\n      \"properties\": {\n        \"dtype\": \"number\",\n        \"std\": null,\n        \"min\": 0.0,\n        \"max\": 0.0,\n        \"num_unique_values\": 1,\n        \"samples\": [\n          0.0\n        ],\n        \"semantic_type\": \"\",\n        \"description\": \"\"\n      }\n    },\n    {\n      \"column\": \"price\",\n      \"properties\": {\n        \"dtype\": \"number\",\n        \"std\": null,\n        \"min\": 0.0,\n        \"max\": 0.0,\n        \"num_unique_values\": 1,\n        \"samples\": [\n          0.0\n        ],\n        \"semantic_type\": \"\",\n        \"description\": \"\"\n      }\n    }\n  ]\n}"
            }
          },
          "metadata": {},
          "execution_count": 51
        }
      ]
    },
    {
      "cell_type": "markdown",
      "source": [
        "*0.1.1. Atributo \"start_date\" y \"end_date\"*\n",
        "\n",
        "----"
      ],
      "metadata": {
        "id": "jOX8Put9wDvK"
      }
    },
    {
      "cell_type": "code",
      "source": [
        "# Creamos una funcion para extraer los primeros cuatro numeros, es decir, el año. Esto es porque estamos sospechando que lo que esta mal en las fechas es el año\n",
        "years_df_train_start = df_train[\"start_date\"].apply(lambda row : row[:4])\n",
        "print(years_df_train_start.head(2))\n",
        "print('')\n",
        "print(f\"Los años contenidos en start_date en df_train son : {years_df_train_start.unique()} --> Entonces estan bien\")\n",
        "\n",
        "years_df_test_start= df_test[\"start_date\"].apply(lambda row : row[:4] )\n",
        "print(f\"Los años contenidos en start_date en df_test son : {years_df_test_start.unique()} --> Entonces estan bien\")\n",
        "print('')\n",
        "\n",
        "years_df_train_end = df_train[\"end_date\"].apply(lambda row : row[:4])\n",
        "print(f\"Los años contenidos en end_date en df_train son : {years_df_train_end.unique()} --> Entonces hay que corregirlos\")\n",
        "\n",
        "years_df_test_end = df_test[\"end_date\"].apply(lambda row : row[:4])\n",
        "print(f\"Los años contenidos en end_date en df_test son : {years_df_test_end.unique()} --> Entonces hay que corregirlos\")\n",
        "\n",
        "\n",
        "\n"
      ],
      "metadata": {
        "colab": {
          "base_uri": "https://localhost:8080/"
        },
        "id": "pHia7Sv9eYem",
        "outputId": "89073560-38a2-479e-d570-61adc5c280b0"
      },
      "execution_count": null,
      "outputs": [
        {
          "output_type": "stream",
          "name": "stdout",
          "text": [
            "id\n",
            "556713    2019\n",
            "257134    2019\n",
            "Name: start_date, dtype: object\n",
            "\n",
            "Los años contenidos en start_date en df_train son : ['2019' '2020'] --> Entonces estan bien\n",
            "Los años contenidos en start_date en df_test son : ['2020'] --> Entonces estan bien\n",
            "\n",
            "Los años contenidos en end_date en df_train son : ['9999' '2019' '2020'] --> Entonces hay que corregirlos\n",
            "Los años contenidos en end_date en df_test son : ['2020' '9999'] --> Entonces hay que corregirlos\n"
          ]
        }
      ]
    },
    {
      "cell_type": "code",
      "source": [
        "# Vamos a analizar entonces cuantos valores '9999' hay en los datos.\n",
        "fechas_mal_df_train = years_df_train_end[years_df_train_end == \"9999\"].count()\n",
        "fechas_mal_df_test = years_df_test_end[years_df_test_end == \"9999\"].count()\n",
        "\n",
        "porcentaje_fechas_mal_df_train = fechas_mal_df_train / df_train[\"end_date\"].shape[0] *100\n",
        "porcentaje_fechas_mal_df_test = fechas_mal_df_test / df_test[\"end_date\"].shape[0] * 100\n",
        "\n",
        "\n",
        "\n",
        "print(f'La cantidad de fechas mal notadas en \"end_date\" de df_train son : {fechas_mal_df_train} de {df_train[\"end_date\"].shape[0]} -> {porcentaje_fechas_mal_df_train:0.2f} %')\n",
        "print(f'La cantidad de fechas mal notadas en \"end_date\" de df_test son {fechas_mal_df_test} de {len(df_test[\"end_date\"])}  -> {porcentaje_fechas_mal_df_test:0.2f} %')"
      ],
      "metadata": {
        "colab": {
          "base_uri": "https://localhost:8080/"
        },
        "id": "BdT10ffxmUMS",
        "outputId": "d751ddcd-6638-42b5-db0a-bc21af55a341"
      },
      "execution_count": null,
      "outputs": [
        {
          "output_type": "stream",
          "name": "stdout",
          "text": [
            "La cantidad de fechas mal notadas en \"end_date\" de df_train son : 190182 de 985180 -> 19.30 %\n",
            "La cantidad de fechas mal notadas en \"end_date\" de df_test son 965 de 7012  -> 13.76 %\n"
          ]
        }
      ]
    },
    {
      "cell_type": "markdown",
      "source": [
        "Ahora sabemos que hay que modificar esas fechas. Entonces la cuestion es saber si el end_date es igual que el start_date o no.\n",
        "\n",
        "Para eso vamos a ver cuantas star_date == end_date, y dependiendo el numero vamos a decidir"
      ],
      "metadata": {
        "id": "7pGpO0LA3u8R"
      }
    },
    {
      "cell_type": "code",
      "source": [
        "# aca estoy viendo cuanto de los que los años de start y end sean iguales\n",
        "print(f'De los {len(df_train[\"end_date\"])} datos no nulos, hay {(years_df_train_start == years_df_train_end).sum()} en donde end_date = start_date')"
      ],
      "metadata": {
        "colab": {
          "base_uri": "https://localhost:8080/"
        },
        "id": "GvmGNiNVt72T",
        "outputId": "4a9f806f-915f-4699-a622-95dbbd236900"
      },
      "execution_count": null,
      "outputs": [
        {
          "output_type": "stream",
          "name": "stdout",
          "text": [
            "De los 985180 datos no nulos, hay 694556 en donde end_date = start_date\n"
          ]
        }
      ]
    },
    {
      "cell_type": "markdown",
      "source": [
        "Entonces, vamos a ver si los que faltan es por el error del 9999"
      ],
      "metadata": {
        "id": "OqQ1Psfb7jwe"
      }
    },
    {
      "cell_type": "code",
      "source": [
        "print(f\"Hay {years_df_train_end[(years_df_train_end == '2019')|(years_df_train_end == '2020')].count()} datos correctos\")\n",
        "print(f\"\"\"Entonces hay {years_df_train_end[(years_df_train_end == '2019')|(years_df_train_end == '2020')].count() - (years_df_train_start == years_df_train_end).sum()} datos correctos donde start_date != end_date\"\"\")"
      ],
      "metadata": {
        "colab": {
          "base_uri": "https://localhost:8080/"
        },
        "id": "D1c5Sh2Ht7ua",
        "outputId": "e1993192-d5f2-433b-ba5d-be7181f90fce"
      },
      "execution_count": null,
      "outputs": [
        {
          "output_type": "stream",
          "name": "stdout",
          "text": [
            "Hay 794998 datos correctos\n",
            "Entonces hay 100442 datos correctos donde start_date != end_date\n"
          ]
        }
      ]
    },
    {
      "cell_type": "markdown",
      "source": [
        "Una idea es que esos 1004402 datos en donde **start_date != end_date** se deba a que el *start_date* es en los ultimos meses del año y el *end_date* en el principio del siguiente"
      ],
      "metadata": {
        "id": "ijgvzGYD8SEv"
      }
    },
    {
      "cell_type": "code",
      "source": [
        "years_start_end_train= pd.concat([years_df_train_start,years_df_train_end],axis=1)\n",
        "years_start_end_train.head()"
      ],
      "metadata": {
        "id": "1YwPd-WBwj93",
        "colab": {
          "base_uri": "https://localhost:8080/",
          "height": 237
        },
        "outputId": "dbdea876-110a-43b7-eb74-c8a77d419b00"
      },
      "execution_count": null,
      "outputs": [
        {
          "output_type": "execute_result",
          "data": {
            "text/plain": [
              "       start_date end_date\n",
              "id                        \n",
              "556713       2019     9999\n",
              "257134       2019     9999\n",
              "521738       2019     2019\n",
              "383947       2019     2019\n",
              "986212       2019     2019"
            ],
            "text/html": [
              "\n",
              "  <div id=\"df-17a3bf22-731c-4f30-81e9-fc307e52bb0f\" class=\"colab-df-container\">\n",
              "    <div>\n",
              "<style scoped>\n",
              "    .dataframe tbody tr th:only-of-type {\n",
              "        vertical-align: middle;\n",
              "    }\n",
              "\n",
              "    .dataframe tbody tr th {\n",
              "        vertical-align: top;\n",
              "    }\n",
              "\n",
              "    .dataframe thead th {\n",
              "        text-align: right;\n",
              "    }\n",
              "</style>\n",
              "<table border=\"1\" class=\"dataframe\">\n",
              "  <thead>\n",
              "    <tr style=\"text-align: right;\">\n",
              "      <th></th>\n",
              "      <th>start_date</th>\n",
              "      <th>end_date</th>\n",
              "    </tr>\n",
              "    <tr>\n",
              "      <th>id</th>\n",
              "      <th></th>\n",
              "      <th></th>\n",
              "    </tr>\n",
              "  </thead>\n",
              "  <tbody>\n",
              "    <tr>\n",
              "      <th>556713</th>\n",
              "      <td>2019</td>\n",
              "      <td>9999</td>\n",
              "    </tr>\n",
              "    <tr>\n",
              "      <th>257134</th>\n",
              "      <td>2019</td>\n",
              "      <td>9999</td>\n",
              "    </tr>\n",
              "    <tr>\n",
              "      <th>521738</th>\n",
              "      <td>2019</td>\n",
              "      <td>2019</td>\n",
              "    </tr>\n",
              "    <tr>\n",
              "      <th>383947</th>\n",
              "      <td>2019</td>\n",
              "      <td>2019</td>\n",
              "    </tr>\n",
              "    <tr>\n",
              "      <th>986212</th>\n",
              "      <td>2019</td>\n",
              "      <td>2019</td>\n",
              "    </tr>\n",
              "  </tbody>\n",
              "</table>\n",
              "</div>\n",
              "    <div class=\"colab-df-buttons\">\n",
              "\n",
              "  <div class=\"colab-df-container\">\n",
              "    <button class=\"colab-df-convert\" onclick=\"convertToInteractive('df-17a3bf22-731c-4f30-81e9-fc307e52bb0f')\"\n",
              "            title=\"Convert this dataframe to an interactive table.\"\n",
              "            style=\"display:none;\">\n",
              "\n",
              "  <svg xmlns=\"http://www.w3.org/2000/svg\" height=\"24px\" viewBox=\"0 -960 960 960\">\n",
              "    <path d=\"M120-120v-720h720v720H120Zm60-500h600v-160H180v160Zm220 220h160v-160H400v160Zm0 220h160v-160H400v160ZM180-400h160v-160H180v160Zm440 0h160v-160H620v160ZM180-180h160v-160H180v160Zm440 0h160v-160H620v160Z\"/>\n",
              "  </svg>\n",
              "    </button>\n",
              "\n",
              "  <style>\n",
              "    .colab-df-container {\n",
              "      display:flex;\n",
              "      gap: 12px;\n",
              "    }\n",
              "\n",
              "    .colab-df-convert {\n",
              "      background-color: #E8F0FE;\n",
              "      border: none;\n",
              "      border-radius: 50%;\n",
              "      cursor: pointer;\n",
              "      display: none;\n",
              "      fill: #1967D2;\n",
              "      height: 32px;\n",
              "      padding: 0 0 0 0;\n",
              "      width: 32px;\n",
              "    }\n",
              "\n",
              "    .colab-df-convert:hover {\n",
              "      background-color: #E2EBFA;\n",
              "      box-shadow: 0px 1px 2px rgba(60, 64, 67, 0.3), 0px 1px 3px 1px rgba(60, 64, 67, 0.15);\n",
              "      fill: #174EA6;\n",
              "    }\n",
              "\n",
              "    .colab-df-buttons div {\n",
              "      margin-bottom: 4px;\n",
              "    }\n",
              "\n",
              "    [theme=dark] .colab-df-convert {\n",
              "      background-color: #3B4455;\n",
              "      fill: #D2E3FC;\n",
              "    }\n",
              "\n",
              "    [theme=dark] .colab-df-convert:hover {\n",
              "      background-color: #434B5C;\n",
              "      box-shadow: 0px 1px 3px 1px rgba(0, 0, 0, 0.15);\n",
              "      filter: drop-shadow(0px 1px 2px rgba(0, 0, 0, 0.3));\n",
              "      fill: #FFFFFF;\n",
              "    }\n",
              "  </style>\n",
              "\n",
              "    <script>\n",
              "      const buttonEl =\n",
              "        document.querySelector('#df-17a3bf22-731c-4f30-81e9-fc307e52bb0f button.colab-df-convert');\n",
              "      buttonEl.style.display =\n",
              "        google.colab.kernel.accessAllowed ? 'block' : 'none';\n",
              "\n",
              "      async function convertToInteractive(key) {\n",
              "        const element = document.querySelector('#df-17a3bf22-731c-4f30-81e9-fc307e52bb0f');\n",
              "        const dataTable =\n",
              "          await google.colab.kernel.invokeFunction('convertToInteractive',\n",
              "                                                    [key], {});\n",
              "        if (!dataTable) return;\n",
              "\n",
              "        const docLinkHtml = 'Like what you see? Visit the ' +\n",
              "          '<a target=\"_blank\" href=https://colab.research.google.com/notebooks/data_table.ipynb>data table notebook</a>'\n",
              "          + ' to learn more about interactive tables.';\n",
              "        element.innerHTML = '';\n",
              "        dataTable['output_type'] = 'display_data';\n",
              "        await google.colab.output.renderOutput(dataTable, element);\n",
              "        const docLink = document.createElement('div');\n",
              "        docLink.innerHTML = docLinkHtml;\n",
              "        element.appendChild(docLink);\n",
              "      }\n",
              "    </script>\n",
              "  </div>\n",
              "\n",
              "\n",
              "<div id=\"df-c3ed2454-eb77-434a-8f46-dcf90d3161b5\">\n",
              "  <button class=\"colab-df-quickchart\" onclick=\"quickchart('df-c3ed2454-eb77-434a-8f46-dcf90d3161b5')\"\n",
              "            title=\"Suggest charts\"\n",
              "            style=\"display:none;\">\n",
              "\n",
              "<svg xmlns=\"http://www.w3.org/2000/svg\" height=\"24px\"viewBox=\"0 0 24 24\"\n",
              "     width=\"24px\">\n",
              "    <g>\n",
              "        <path d=\"M19 3H5c-1.1 0-2 .9-2 2v14c0 1.1.9 2 2 2h14c1.1 0 2-.9 2-2V5c0-1.1-.9-2-2-2zM9 17H7v-7h2v7zm4 0h-2V7h2v10zm4 0h-2v-4h2v4z\"/>\n",
              "    </g>\n",
              "</svg>\n",
              "  </button>\n",
              "\n",
              "<style>\n",
              "  .colab-df-quickchart {\n",
              "      --bg-color: #E8F0FE;\n",
              "      --fill-color: #1967D2;\n",
              "      --hover-bg-color: #E2EBFA;\n",
              "      --hover-fill-color: #174EA6;\n",
              "      --disabled-fill-color: #AAA;\n",
              "      --disabled-bg-color: #DDD;\n",
              "  }\n",
              "\n",
              "  [theme=dark] .colab-df-quickchart {\n",
              "      --bg-color: #3B4455;\n",
              "      --fill-color: #D2E3FC;\n",
              "      --hover-bg-color: #434B5C;\n",
              "      --hover-fill-color: #FFFFFF;\n",
              "      --disabled-bg-color: #3B4455;\n",
              "      --disabled-fill-color: #666;\n",
              "  }\n",
              "\n",
              "  .colab-df-quickchart {\n",
              "    background-color: var(--bg-color);\n",
              "    border: none;\n",
              "    border-radius: 50%;\n",
              "    cursor: pointer;\n",
              "    display: none;\n",
              "    fill: var(--fill-color);\n",
              "    height: 32px;\n",
              "    padding: 0;\n",
              "    width: 32px;\n",
              "  }\n",
              "\n",
              "  .colab-df-quickchart:hover {\n",
              "    background-color: var(--hover-bg-color);\n",
              "    box-shadow: 0 1px 2px rgba(60, 64, 67, 0.3), 0 1px 3px 1px rgba(60, 64, 67, 0.15);\n",
              "    fill: var(--button-hover-fill-color);\n",
              "  }\n",
              "\n",
              "  .colab-df-quickchart-complete:disabled,\n",
              "  .colab-df-quickchart-complete:disabled:hover {\n",
              "    background-color: var(--disabled-bg-color);\n",
              "    fill: var(--disabled-fill-color);\n",
              "    box-shadow: none;\n",
              "  }\n",
              "\n",
              "  .colab-df-spinner {\n",
              "    border: 2px solid var(--fill-color);\n",
              "    border-color: transparent;\n",
              "    border-bottom-color: var(--fill-color);\n",
              "    animation:\n",
              "      spin 1s steps(1) infinite;\n",
              "  }\n",
              "\n",
              "  @keyframes spin {\n",
              "    0% {\n",
              "      border-color: transparent;\n",
              "      border-bottom-color: var(--fill-color);\n",
              "      border-left-color: var(--fill-color);\n",
              "    }\n",
              "    20% {\n",
              "      border-color: transparent;\n",
              "      border-left-color: var(--fill-color);\n",
              "      border-top-color: var(--fill-color);\n",
              "    }\n",
              "    30% {\n",
              "      border-color: transparent;\n",
              "      border-left-color: var(--fill-color);\n",
              "      border-top-color: var(--fill-color);\n",
              "      border-right-color: var(--fill-color);\n",
              "    }\n",
              "    40% {\n",
              "      border-color: transparent;\n",
              "      border-right-color: var(--fill-color);\n",
              "      border-top-color: var(--fill-color);\n",
              "    }\n",
              "    60% {\n",
              "      border-color: transparent;\n",
              "      border-right-color: var(--fill-color);\n",
              "    }\n",
              "    80% {\n",
              "      border-color: transparent;\n",
              "      border-right-color: var(--fill-color);\n",
              "      border-bottom-color: var(--fill-color);\n",
              "    }\n",
              "    90% {\n",
              "      border-color: transparent;\n",
              "      border-bottom-color: var(--fill-color);\n",
              "    }\n",
              "  }\n",
              "</style>\n",
              "\n",
              "  <script>\n",
              "    async function quickchart(key) {\n",
              "      const quickchartButtonEl =\n",
              "        document.querySelector('#' + key + ' button');\n",
              "      quickchartButtonEl.disabled = true;  // To prevent multiple clicks.\n",
              "      quickchartButtonEl.classList.add('colab-df-spinner');\n",
              "      try {\n",
              "        const charts = await google.colab.kernel.invokeFunction(\n",
              "            'suggestCharts', [key], {});\n",
              "      } catch (error) {\n",
              "        console.error('Error during call to suggestCharts:', error);\n",
              "      }\n",
              "      quickchartButtonEl.classList.remove('colab-df-spinner');\n",
              "      quickchartButtonEl.classList.add('colab-df-quickchart-complete');\n",
              "    }\n",
              "    (() => {\n",
              "      let quickchartButtonEl =\n",
              "        document.querySelector('#df-c3ed2454-eb77-434a-8f46-dcf90d3161b5 button');\n",
              "      quickchartButtonEl.style.display =\n",
              "        google.colab.kernel.accessAllowed ? 'block' : 'none';\n",
              "    })();\n",
              "  </script>\n",
              "</div>\n",
              "\n",
              "    </div>\n",
              "  </div>\n"
            ],
            "application/vnd.google.colaboratory.intrinsic+json": {
              "type": "dataframe",
              "variable_name": "years_start_end_train"
            }
          },
          "metadata": {},
          "execution_count": 40
        }
      ]
    },
    {
      "cell_type": "code",
      "source": [
        "years_start_end_train[(years_start_end_train[\"start_date\"] == \"2019\")& (years_start_end_train[\"end_date\"] == \"2020\")]"
      ],
      "metadata": {
        "colab": {
          "base_uri": "https://localhost:8080/",
          "height": 455
        },
        "id": "gzeuaNLF0iu8",
        "outputId": "cf201e02-3592-4018-a180-27f5da1faadf"
      },
      "execution_count": null,
      "outputs": [
        {
          "output_type": "execute_result",
          "data": {
            "text/plain": [
              "       start_date end_date\n",
              "id                        \n",
              "438415       2019     2020\n",
              "556695       2019     2020\n",
              "410552       2019     2020\n",
              "166069       2019     2020\n",
              "339691       2019     2020\n",
              "...           ...      ...\n",
              "988409       2019     2020\n",
              "988416       2019     2020\n",
              "988485       2019     2020\n",
              "988504       2019     2020\n",
              "989644       2019     2020\n",
              "\n",
              "[100442 rows x 2 columns]"
            ],
            "text/html": [
              "\n",
              "  <div id=\"df-c03996de-d520-4725-b33c-a96391984fe1\" class=\"colab-df-container\">\n",
              "    <div>\n",
              "<style scoped>\n",
              "    .dataframe tbody tr th:only-of-type {\n",
              "        vertical-align: middle;\n",
              "    }\n",
              "\n",
              "    .dataframe tbody tr th {\n",
              "        vertical-align: top;\n",
              "    }\n",
              "\n",
              "    .dataframe thead th {\n",
              "        text-align: right;\n",
              "    }\n",
              "</style>\n",
              "<table border=\"1\" class=\"dataframe\">\n",
              "  <thead>\n",
              "    <tr style=\"text-align: right;\">\n",
              "      <th></th>\n",
              "      <th>start_date</th>\n",
              "      <th>end_date</th>\n",
              "    </tr>\n",
              "    <tr>\n",
              "      <th>id</th>\n",
              "      <th></th>\n",
              "      <th></th>\n",
              "    </tr>\n",
              "  </thead>\n",
              "  <tbody>\n",
              "    <tr>\n",
              "      <th>438415</th>\n",
              "      <td>2019</td>\n",
              "      <td>2020</td>\n",
              "    </tr>\n",
              "    <tr>\n",
              "      <th>556695</th>\n",
              "      <td>2019</td>\n",
              "      <td>2020</td>\n",
              "    </tr>\n",
              "    <tr>\n",
              "      <th>410552</th>\n",
              "      <td>2019</td>\n",
              "      <td>2020</td>\n",
              "    </tr>\n",
              "    <tr>\n",
              "      <th>166069</th>\n",
              "      <td>2019</td>\n",
              "      <td>2020</td>\n",
              "    </tr>\n",
              "    <tr>\n",
              "      <th>339691</th>\n",
              "      <td>2019</td>\n",
              "      <td>2020</td>\n",
              "    </tr>\n",
              "    <tr>\n",
              "      <th>...</th>\n",
              "      <td>...</td>\n",
              "      <td>...</td>\n",
              "    </tr>\n",
              "    <tr>\n",
              "      <th>988409</th>\n",
              "      <td>2019</td>\n",
              "      <td>2020</td>\n",
              "    </tr>\n",
              "    <tr>\n",
              "      <th>988416</th>\n",
              "      <td>2019</td>\n",
              "      <td>2020</td>\n",
              "    </tr>\n",
              "    <tr>\n",
              "      <th>988485</th>\n",
              "      <td>2019</td>\n",
              "      <td>2020</td>\n",
              "    </tr>\n",
              "    <tr>\n",
              "      <th>988504</th>\n",
              "      <td>2019</td>\n",
              "      <td>2020</td>\n",
              "    </tr>\n",
              "    <tr>\n",
              "      <th>989644</th>\n",
              "      <td>2019</td>\n",
              "      <td>2020</td>\n",
              "    </tr>\n",
              "  </tbody>\n",
              "</table>\n",
              "<p>100442 rows × 2 columns</p>\n",
              "</div>\n",
              "    <div class=\"colab-df-buttons\">\n",
              "\n",
              "  <div class=\"colab-df-container\">\n",
              "    <button class=\"colab-df-convert\" onclick=\"convertToInteractive('df-c03996de-d520-4725-b33c-a96391984fe1')\"\n",
              "            title=\"Convert this dataframe to an interactive table.\"\n",
              "            style=\"display:none;\">\n",
              "\n",
              "  <svg xmlns=\"http://www.w3.org/2000/svg\" height=\"24px\" viewBox=\"0 -960 960 960\">\n",
              "    <path d=\"M120-120v-720h720v720H120Zm60-500h600v-160H180v160Zm220 220h160v-160H400v160Zm0 220h160v-160H400v160ZM180-400h160v-160H180v160Zm440 0h160v-160H620v160ZM180-180h160v-160H180v160Zm440 0h160v-160H620v160Z\"/>\n",
              "  </svg>\n",
              "    </button>\n",
              "\n",
              "  <style>\n",
              "    .colab-df-container {\n",
              "      display:flex;\n",
              "      gap: 12px;\n",
              "    }\n",
              "\n",
              "    .colab-df-convert {\n",
              "      background-color: #E8F0FE;\n",
              "      border: none;\n",
              "      border-radius: 50%;\n",
              "      cursor: pointer;\n",
              "      display: none;\n",
              "      fill: #1967D2;\n",
              "      height: 32px;\n",
              "      padding: 0 0 0 0;\n",
              "      width: 32px;\n",
              "    }\n",
              "\n",
              "    .colab-df-convert:hover {\n",
              "      background-color: #E2EBFA;\n",
              "      box-shadow: 0px 1px 2px rgba(60, 64, 67, 0.3), 0px 1px 3px 1px rgba(60, 64, 67, 0.15);\n",
              "      fill: #174EA6;\n",
              "    }\n",
              "\n",
              "    .colab-df-buttons div {\n",
              "      margin-bottom: 4px;\n",
              "    }\n",
              "\n",
              "    [theme=dark] .colab-df-convert {\n",
              "      background-color: #3B4455;\n",
              "      fill: #D2E3FC;\n",
              "    }\n",
              "\n",
              "    [theme=dark] .colab-df-convert:hover {\n",
              "      background-color: #434B5C;\n",
              "      box-shadow: 0px 1px 3px 1px rgba(0, 0, 0, 0.15);\n",
              "      filter: drop-shadow(0px 1px 2px rgba(0, 0, 0, 0.3));\n",
              "      fill: #FFFFFF;\n",
              "    }\n",
              "  </style>\n",
              "\n",
              "    <script>\n",
              "      const buttonEl =\n",
              "        document.querySelector('#df-c03996de-d520-4725-b33c-a96391984fe1 button.colab-df-convert');\n",
              "      buttonEl.style.display =\n",
              "        google.colab.kernel.accessAllowed ? 'block' : 'none';\n",
              "\n",
              "      async function convertToInteractive(key) {\n",
              "        const element = document.querySelector('#df-c03996de-d520-4725-b33c-a96391984fe1');\n",
              "        const dataTable =\n",
              "          await google.colab.kernel.invokeFunction('convertToInteractive',\n",
              "                                                    [key], {});\n",
              "        if (!dataTable) return;\n",
              "\n",
              "        const docLinkHtml = 'Like what you see? Visit the ' +\n",
              "          '<a target=\"_blank\" href=https://colab.research.google.com/notebooks/data_table.ipynb>data table notebook</a>'\n",
              "          + ' to learn more about interactive tables.';\n",
              "        element.innerHTML = '';\n",
              "        dataTable['output_type'] = 'display_data';\n",
              "        await google.colab.output.renderOutput(dataTable, element);\n",
              "        const docLink = document.createElement('div');\n",
              "        docLink.innerHTML = docLinkHtml;\n",
              "        element.appendChild(docLink);\n",
              "      }\n",
              "    </script>\n",
              "  </div>\n",
              "\n",
              "\n",
              "<div id=\"df-cbe6dd9a-54f7-4545-b007-8ebcee1e3240\">\n",
              "  <button class=\"colab-df-quickchart\" onclick=\"quickchart('df-cbe6dd9a-54f7-4545-b007-8ebcee1e3240')\"\n",
              "            title=\"Suggest charts\"\n",
              "            style=\"display:none;\">\n",
              "\n",
              "<svg xmlns=\"http://www.w3.org/2000/svg\" height=\"24px\"viewBox=\"0 0 24 24\"\n",
              "     width=\"24px\">\n",
              "    <g>\n",
              "        <path d=\"M19 3H5c-1.1 0-2 .9-2 2v14c0 1.1.9 2 2 2h14c1.1 0 2-.9 2-2V5c0-1.1-.9-2-2-2zM9 17H7v-7h2v7zm4 0h-2V7h2v10zm4 0h-2v-4h2v4z\"/>\n",
              "    </g>\n",
              "</svg>\n",
              "  </button>\n",
              "\n",
              "<style>\n",
              "  .colab-df-quickchart {\n",
              "      --bg-color: #E8F0FE;\n",
              "      --fill-color: #1967D2;\n",
              "      --hover-bg-color: #E2EBFA;\n",
              "      --hover-fill-color: #174EA6;\n",
              "      --disabled-fill-color: #AAA;\n",
              "      --disabled-bg-color: #DDD;\n",
              "  }\n",
              "\n",
              "  [theme=dark] .colab-df-quickchart {\n",
              "      --bg-color: #3B4455;\n",
              "      --fill-color: #D2E3FC;\n",
              "      --hover-bg-color: #434B5C;\n",
              "      --hover-fill-color: #FFFFFF;\n",
              "      --disabled-bg-color: #3B4455;\n",
              "      --disabled-fill-color: #666;\n",
              "  }\n",
              "\n",
              "  .colab-df-quickchart {\n",
              "    background-color: var(--bg-color);\n",
              "    border: none;\n",
              "    border-radius: 50%;\n",
              "    cursor: pointer;\n",
              "    display: none;\n",
              "    fill: var(--fill-color);\n",
              "    height: 32px;\n",
              "    padding: 0;\n",
              "    width: 32px;\n",
              "  }\n",
              "\n",
              "  .colab-df-quickchart:hover {\n",
              "    background-color: var(--hover-bg-color);\n",
              "    box-shadow: 0 1px 2px rgba(60, 64, 67, 0.3), 0 1px 3px 1px rgba(60, 64, 67, 0.15);\n",
              "    fill: var(--button-hover-fill-color);\n",
              "  }\n",
              "\n",
              "  .colab-df-quickchart-complete:disabled,\n",
              "  .colab-df-quickchart-complete:disabled:hover {\n",
              "    background-color: var(--disabled-bg-color);\n",
              "    fill: var(--disabled-fill-color);\n",
              "    box-shadow: none;\n",
              "  }\n",
              "\n",
              "  .colab-df-spinner {\n",
              "    border: 2px solid var(--fill-color);\n",
              "    border-color: transparent;\n",
              "    border-bottom-color: var(--fill-color);\n",
              "    animation:\n",
              "      spin 1s steps(1) infinite;\n",
              "  }\n",
              "\n",
              "  @keyframes spin {\n",
              "    0% {\n",
              "      border-color: transparent;\n",
              "      border-bottom-color: var(--fill-color);\n",
              "      border-left-color: var(--fill-color);\n",
              "    }\n",
              "    20% {\n",
              "      border-color: transparent;\n",
              "      border-left-color: var(--fill-color);\n",
              "      border-top-color: var(--fill-color);\n",
              "    }\n",
              "    30% {\n",
              "      border-color: transparent;\n",
              "      border-left-color: var(--fill-color);\n",
              "      border-top-color: var(--fill-color);\n",
              "      border-right-color: var(--fill-color);\n",
              "    }\n",
              "    40% {\n",
              "      border-color: transparent;\n",
              "      border-right-color: var(--fill-color);\n",
              "      border-top-color: var(--fill-color);\n",
              "    }\n",
              "    60% {\n",
              "      border-color: transparent;\n",
              "      border-right-color: var(--fill-color);\n",
              "    }\n",
              "    80% {\n",
              "      border-color: transparent;\n",
              "      border-right-color: var(--fill-color);\n",
              "      border-bottom-color: var(--fill-color);\n",
              "    }\n",
              "    90% {\n",
              "      border-color: transparent;\n",
              "      border-bottom-color: var(--fill-color);\n",
              "    }\n",
              "  }\n",
              "</style>\n",
              "\n",
              "  <script>\n",
              "    async function quickchart(key) {\n",
              "      const quickchartButtonEl =\n",
              "        document.querySelector('#' + key + ' button');\n",
              "      quickchartButtonEl.disabled = true;  // To prevent multiple clicks.\n",
              "      quickchartButtonEl.classList.add('colab-df-spinner');\n",
              "      try {\n",
              "        const charts = await google.colab.kernel.invokeFunction(\n",
              "            'suggestCharts', [key], {});\n",
              "      } catch (error) {\n",
              "        console.error('Error during call to suggestCharts:', error);\n",
              "      }\n",
              "      quickchartButtonEl.classList.remove('colab-df-spinner');\n",
              "      quickchartButtonEl.classList.add('colab-df-quickchart-complete');\n",
              "    }\n",
              "    (() => {\n",
              "      let quickchartButtonEl =\n",
              "        document.querySelector('#df-cbe6dd9a-54f7-4545-b007-8ebcee1e3240 button');\n",
              "      quickchartButtonEl.style.display =\n",
              "        google.colab.kernel.accessAllowed ? 'block' : 'none';\n",
              "    })();\n",
              "  </script>\n",
              "</div>\n",
              "\n",
              "    </div>\n",
              "  </div>\n"
            ],
            "application/vnd.google.colaboratory.intrinsic+json": {
              "type": "dataframe"
            }
          },
          "metadata": {},
          "execution_count": 41
        }
      ]
    },
    {
      "cell_type": "code",
      "source": [
        "list_index=list(years_start_end_train[(years_start_end_train[\"start_date\"] == \"2019\")& (years_start_end_train[\"end_date\"] == \"2020\")].index)\n",
        "df_train.loc[list_index , \"start_date\" : \"end_date\"]"
      ],
      "metadata": {
        "colab": {
          "base_uri": "https://localhost:8080/",
          "height": 455
        },
        "id": "Fdj5UuQY-wHK",
        "outputId": "acc12a68-44a5-4751-9b60-8a41b1e538e7"
      },
      "execution_count": null,
      "outputs": [
        {
          "output_type": "execute_result",
          "data": {
            "text/plain": [
              "        start_date    end_date\n",
              "id                            \n",
              "438415  2019-11-16  2020-02-09\n",
              "556695  2019-11-29  2020-01-21\n",
              "410552  2019-10-13  2020-01-21\n",
              "166069  2019-07-26  2020-02-04\n",
              "339691  2019-11-20  2020-06-19\n",
              "...            ...         ...\n",
              "988409  2019-08-01  2020-01-09\n",
              "988416  2019-08-01  2020-08-14\n",
              "988485  2019-08-01  2020-07-23\n",
              "988504  2019-08-01  2020-09-22\n",
              "989644  2019-08-01  2020-02-12\n",
              "\n",
              "[100442 rows x 2 columns]"
            ],
            "text/html": [
              "\n",
              "  <div id=\"df-55f49b3e-ff33-4832-a225-20a8075d1289\" class=\"colab-df-container\">\n",
              "    <div>\n",
              "<style scoped>\n",
              "    .dataframe tbody tr th:only-of-type {\n",
              "        vertical-align: middle;\n",
              "    }\n",
              "\n",
              "    .dataframe tbody tr th {\n",
              "        vertical-align: top;\n",
              "    }\n",
              "\n",
              "    .dataframe thead th {\n",
              "        text-align: right;\n",
              "    }\n",
              "</style>\n",
              "<table border=\"1\" class=\"dataframe\">\n",
              "  <thead>\n",
              "    <tr style=\"text-align: right;\">\n",
              "      <th></th>\n",
              "      <th>start_date</th>\n",
              "      <th>end_date</th>\n",
              "    </tr>\n",
              "    <tr>\n",
              "      <th>id</th>\n",
              "      <th></th>\n",
              "      <th></th>\n",
              "    </tr>\n",
              "  </thead>\n",
              "  <tbody>\n",
              "    <tr>\n",
              "      <th>438415</th>\n",
              "      <td>2019-11-16</td>\n",
              "      <td>2020-02-09</td>\n",
              "    </tr>\n",
              "    <tr>\n",
              "      <th>556695</th>\n",
              "      <td>2019-11-29</td>\n",
              "      <td>2020-01-21</td>\n",
              "    </tr>\n",
              "    <tr>\n",
              "      <th>410552</th>\n",
              "      <td>2019-10-13</td>\n",
              "      <td>2020-01-21</td>\n",
              "    </tr>\n",
              "    <tr>\n",
              "      <th>166069</th>\n",
              "      <td>2019-07-26</td>\n",
              "      <td>2020-02-04</td>\n",
              "    </tr>\n",
              "    <tr>\n",
              "      <th>339691</th>\n",
              "      <td>2019-11-20</td>\n",
              "      <td>2020-06-19</td>\n",
              "    </tr>\n",
              "    <tr>\n",
              "      <th>...</th>\n",
              "      <td>...</td>\n",
              "      <td>...</td>\n",
              "    </tr>\n",
              "    <tr>\n",
              "      <th>988409</th>\n",
              "      <td>2019-08-01</td>\n",
              "      <td>2020-01-09</td>\n",
              "    </tr>\n",
              "    <tr>\n",
              "      <th>988416</th>\n",
              "      <td>2019-08-01</td>\n",
              "      <td>2020-08-14</td>\n",
              "    </tr>\n",
              "    <tr>\n",
              "      <th>988485</th>\n",
              "      <td>2019-08-01</td>\n",
              "      <td>2020-07-23</td>\n",
              "    </tr>\n",
              "    <tr>\n",
              "      <th>988504</th>\n",
              "      <td>2019-08-01</td>\n",
              "      <td>2020-09-22</td>\n",
              "    </tr>\n",
              "    <tr>\n",
              "      <th>989644</th>\n",
              "      <td>2019-08-01</td>\n",
              "      <td>2020-02-12</td>\n",
              "    </tr>\n",
              "  </tbody>\n",
              "</table>\n",
              "<p>100442 rows × 2 columns</p>\n",
              "</div>\n",
              "    <div class=\"colab-df-buttons\">\n",
              "\n",
              "  <div class=\"colab-df-container\">\n",
              "    <button class=\"colab-df-convert\" onclick=\"convertToInteractive('df-55f49b3e-ff33-4832-a225-20a8075d1289')\"\n",
              "            title=\"Convert this dataframe to an interactive table.\"\n",
              "            style=\"display:none;\">\n",
              "\n",
              "  <svg xmlns=\"http://www.w3.org/2000/svg\" height=\"24px\" viewBox=\"0 -960 960 960\">\n",
              "    <path d=\"M120-120v-720h720v720H120Zm60-500h600v-160H180v160Zm220 220h160v-160H400v160Zm0 220h160v-160H400v160ZM180-400h160v-160H180v160Zm440 0h160v-160H620v160ZM180-180h160v-160H180v160Zm440 0h160v-160H620v160Z\"/>\n",
              "  </svg>\n",
              "    </button>\n",
              "\n",
              "  <style>\n",
              "    .colab-df-container {\n",
              "      display:flex;\n",
              "      gap: 12px;\n",
              "    }\n",
              "\n",
              "    .colab-df-convert {\n",
              "      background-color: #E8F0FE;\n",
              "      border: none;\n",
              "      border-radius: 50%;\n",
              "      cursor: pointer;\n",
              "      display: none;\n",
              "      fill: #1967D2;\n",
              "      height: 32px;\n",
              "      padding: 0 0 0 0;\n",
              "      width: 32px;\n",
              "    }\n",
              "\n",
              "    .colab-df-convert:hover {\n",
              "      background-color: #E2EBFA;\n",
              "      box-shadow: 0px 1px 2px rgba(60, 64, 67, 0.3), 0px 1px 3px 1px rgba(60, 64, 67, 0.15);\n",
              "      fill: #174EA6;\n",
              "    }\n",
              "\n",
              "    .colab-df-buttons div {\n",
              "      margin-bottom: 4px;\n",
              "    }\n",
              "\n",
              "    [theme=dark] .colab-df-convert {\n",
              "      background-color: #3B4455;\n",
              "      fill: #D2E3FC;\n",
              "    }\n",
              "\n",
              "    [theme=dark] .colab-df-convert:hover {\n",
              "      background-color: #434B5C;\n",
              "      box-shadow: 0px 1px 3px 1px rgba(0, 0, 0, 0.15);\n",
              "      filter: drop-shadow(0px 1px 2px rgba(0, 0, 0, 0.3));\n",
              "      fill: #FFFFFF;\n",
              "    }\n",
              "  </style>\n",
              "\n",
              "    <script>\n",
              "      const buttonEl =\n",
              "        document.querySelector('#df-55f49b3e-ff33-4832-a225-20a8075d1289 button.colab-df-convert');\n",
              "      buttonEl.style.display =\n",
              "        google.colab.kernel.accessAllowed ? 'block' : 'none';\n",
              "\n",
              "      async function convertToInteractive(key) {\n",
              "        const element = document.querySelector('#df-55f49b3e-ff33-4832-a225-20a8075d1289');\n",
              "        const dataTable =\n",
              "          await google.colab.kernel.invokeFunction('convertToInteractive',\n",
              "                                                    [key], {});\n",
              "        if (!dataTable) return;\n",
              "\n",
              "        const docLinkHtml = 'Like what you see? Visit the ' +\n",
              "          '<a target=\"_blank\" href=https://colab.research.google.com/notebooks/data_table.ipynb>data table notebook</a>'\n",
              "          + ' to learn more about interactive tables.';\n",
              "        element.innerHTML = '';\n",
              "        dataTable['output_type'] = 'display_data';\n",
              "        await google.colab.output.renderOutput(dataTable, element);\n",
              "        const docLink = document.createElement('div');\n",
              "        docLink.innerHTML = docLinkHtml;\n",
              "        element.appendChild(docLink);\n",
              "      }\n",
              "    </script>\n",
              "  </div>\n",
              "\n",
              "\n",
              "<div id=\"df-a49a1a89-4416-4753-a7d2-73054e4ac446\">\n",
              "  <button class=\"colab-df-quickchart\" onclick=\"quickchart('df-a49a1a89-4416-4753-a7d2-73054e4ac446')\"\n",
              "            title=\"Suggest charts\"\n",
              "            style=\"display:none;\">\n",
              "\n",
              "<svg xmlns=\"http://www.w3.org/2000/svg\" height=\"24px\"viewBox=\"0 0 24 24\"\n",
              "     width=\"24px\">\n",
              "    <g>\n",
              "        <path d=\"M19 3H5c-1.1 0-2 .9-2 2v14c0 1.1.9 2 2 2h14c1.1 0 2-.9 2-2V5c0-1.1-.9-2-2-2zM9 17H7v-7h2v7zm4 0h-2V7h2v10zm4 0h-2v-4h2v4z\"/>\n",
              "    </g>\n",
              "</svg>\n",
              "  </button>\n",
              "\n",
              "<style>\n",
              "  .colab-df-quickchart {\n",
              "      --bg-color: #E8F0FE;\n",
              "      --fill-color: #1967D2;\n",
              "      --hover-bg-color: #E2EBFA;\n",
              "      --hover-fill-color: #174EA6;\n",
              "      --disabled-fill-color: #AAA;\n",
              "      --disabled-bg-color: #DDD;\n",
              "  }\n",
              "\n",
              "  [theme=dark] .colab-df-quickchart {\n",
              "      --bg-color: #3B4455;\n",
              "      --fill-color: #D2E3FC;\n",
              "      --hover-bg-color: #434B5C;\n",
              "      --hover-fill-color: #FFFFFF;\n",
              "      --disabled-bg-color: #3B4455;\n",
              "      --disabled-fill-color: #666;\n",
              "  }\n",
              "\n",
              "  .colab-df-quickchart {\n",
              "    background-color: var(--bg-color);\n",
              "    border: none;\n",
              "    border-radius: 50%;\n",
              "    cursor: pointer;\n",
              "    display: none;\n",
              "    fill: var(--fill-color);\n",
              "    height: 32px;\n",
              "    padding: 0;\n",
              "    width: 32px;\n",
              "  }\n",
              "\n",
              "  .colab-df-quickchart:hover {\n",
              "    background-color: var(--hover-bg-color);\n",
              "    box-shadow: 0 1px 2px rgba(60, 64, 67, 0.3), 0 1px 3px 1px rgba(60, 64, 67, 0.15);\n",
              "    fill: var(--button-hover-fill-color);\n",
              "  }\n",
              "\n",
              "  .colab-df-quickchart-complete:disabled,\n",
              "  .colab-df-quickchart-complete:disabled:hover {\n",
              "    background-color: var(--disabled-bg-color);\n",
              "    fill: var(--disabled-fill-color);\n",
              "    box-shadow: none;\n",
              "  }\n",
              "\n",
              "  .colab-df-spinner {\n",
              "    border: 2px solid var(--fill-color);\n",
              "    border-color: transparent;\n",
              "    border-bottom-color: var(--fill-color);\n",
              "    animation:\n",
              "      spin 1s steps(1) infinite;\n",
              "  }\n",
              "\n",
              "  @keyframes spin {\n",
              "    0% {\n",
              "      border-color: transparent;\n",
              "      border-bottom-color: var(--fill-color);\n",
              "      border-left-color: var(--fill-color);\n",
              "    }\n",
              "    20% {\n",
              "      border-color: transparent;\n",
              "      border-left-color: var(--fill-color);\n",
              "      border-top-color: var(--fill-color);\n",
              "    }\n",
              "    30% {\n",
              "      border-color: transparent;\n",
              "      border-left-color: var(--fill-color);\n",
              "      border-top-color: var(--fill-color);\n",
              "      border-right-color: var(--fill-color);\n",
              "    }\n",
              "    40% {\n",
              "      border-color: transparent;\n",
              "      border-right-color: var(--fill-color);\n",
              "      border-top-color: var(--fill-color);\n",
              "    }\n",
              "    60% {\n",
              "      border-color: transparent;\n",
              "      border-right-color: var(--fill-color);\n",
              "    }\n",
              "    80% {\n",
              "      border-color: transparent;\n",
              "      border-right-color: var(--fill-color);\n",
              "      border-bottom-color: var(--fill-color);\n",
              "    }\n",
              "    90% {\n",
              "      border-color: transparent;\n",
              "      border-bottom-color: var(--fill-color);\n",
              "    }\n",
              "  }\n",
              "</style>\n",
              "\n",
              "  <script>\n",
              "    async function quickchart(key) {\n",
              "      const quickchartButtonEl =\n",
              "        document.querySelector('#' + key + ' button');\n",
              "      quickchartButtonEl.disabled = true;  // To prevent multiple clicks.\n",
              "      quickchartButtonEl.classList.add('colab-df-spinner');\n",
              "      try {\n",
              "        const charts = await google.colab.kernel.invokeFunction(\n",
              "            'suggestCharts', [key], {});\n",
              "      } catch (error) {\n",
              "        console.error('Error during call to suggestCharts:', error);\n",
              "      }\n",
              "      quickchartButtonEl.classList.remove('colab-df-spinner');\n",
              "      quickchartButtonEl.classList.add('colab-df-quickchart-complete');\n",
              "    }\n",
              "    (() => {\n",
              "      let quickchartButtonEl =\n",
              "        document.querySelector('#df-a49a1a89-4416-4753-a7d2-73054e4ac446 button');\n",
              "      quickchartButtonEl.style.display =\n",
              "        google.colab.kernel.accessAllowed ? 'block' : 'none';\n",
              "    })();\n",
              "  </script>\n",
              "</div>\n",
              "\n",
              "    </div>\n",
              "  </div>\n"
            ],
            "application/vnd.google.colaboratory.intrinsic+json": {
              "type": "dataframe"
            }
          },
          "metadata": {},
          "execution_count": 49
        }
      ]
    },
    {
      "cell_type": "markdown",
      "source": [
        "Podriamos ver las diferencias absolutas entre los meses. Luego hacer un histograma y ver la frecuencia entre la diferencia de 0,1,...,11. Lo vamos a dejar para después.\n",
        "\n",
        "Por el momento vamos a hacer que los start_date = end_dates"
      ],
      "metadata": {
        "id": "ebVMT0R5ELq0"
      }
    },
    {
      "cell_type": "markdown",
      "source": [
        "*0.1.2. Atributo \"created_date\"*\n",
        "\n",
        "----"
      ],
      "metadata": {
        "id": "GtpTIgI-I1mz"
      }
    },
    {
      "cell_type": "code",
      "source": [
        "year_created_df_train = df_train[\"created_on\"].apply(lambda row : row[:4])\n",
        "print(f\"Los años de created en df_train : {year_created_df_train.unique()}\")\n",
        "\n",
        "year_created_df_test = df_test[\"created_on\"].apply(lambda row : row[:4])\n",
        "print(f\"Los años de created en df_test : {year_created_df_test.unique()}\")"
      ],
      "metadata": {
        "colab": {
          "base_uri": "https://localhost:8080/"
        },
        "id": "GYaX1tcxKTST",
        "outputId": "1883f2e8-1d12-4a2d-a901-1c7a2555cc63"
      },
      "execution_count": null,
      "outputs": [
        {
          "output_type": "stream",
          "name": "stdout",
          "text": [
            "Los años de created en df_train : ['2019' '2020']\n",
            "Los años de created en df_test : ['2020']\n"
          ]
        }
      ]
    },
    {
      "cell_type": "markdown",
      "source": [
        "Entonces esta todo bien."
      ],
      "metadata": {
        "id": "3pceyz90LDbW"
      }
    },
    {
      "cell_type": "code",
      "source": [
        "df_train[[\"created_on\" , \"start_date\" , \"end_date\"]]"
      ],
      "metadata": {
        "colab": {
          "base_uri": "https://localhost:8080/",
          "height": 455
        },
        "id": "e1T4KHZJLVSW",
        "outputId": "0d8a90ad-ec8b-4def-986a-aef0d5189b9d"
      },
      "execution_count": null,
      "outputs": [
        {
          "output_type": "execute_result",
          "data": {
            "text/plain": [
              "         created_on  start_date    end_date\n",
              "id                                         \n",
              "556713   2019-11-29  2019-11-29  9999-12-31\n",
              "257134   2019-08-17  2019-08-17  9999-12-31\n",
              "521738   2019-08-05  2019-08-05  2019-08-31\n",
              "383947   2019-10-23  2019-10-23  2019-11-08\n",
              "986212   2019-08-01  2019-08-01  2019-08-14\n",
              "...             ...         ...         ...\n",
              "999996   2020-01-09  2020-01-09  2020-04-27\n",
              "999997   2020-01-09  2020-01-09  2020-04-27\n",
              "999998   2020-01-09  2020-01-09  2020-04-27\n",
              "999999   2020-01-09  2020-01-09  2020-04-28\n",
              "1000000  2020-01-09  2020-01-09  2020-04-28\n",
              "\n",
              "[985180 rows x 3 columns]"
            ],
            "text/html": [
              "\n",
              "  <div id=\"df-03b7f468-51ed-4056-baea-f60eee889b77\" class=\"colab-df-container\">\n",
              "    <div>\n",
              "<style scoped>\n",
              "    .dataframe tbody tr th:only-of-type {\n",
              "        vertical-align: middle;\n",
              "    }\n",
              "\n",
              "    .dataframe tbody tr th {\n",
              "        vertical-align: top;\n",
              "    }\n",
              "\n",
              "    .dataframe thead th {\n",
              "        text-align: right;\n",
              "    }\n",
              "</style>\n",
              "<table border=\"1\" class=\"dataframe\">\n",
              "  <thead>\n",
              "    <tr style=\"text-align: right;\">\n",
              "      <th></th>\n",
              "      <th>created_on</th>\n",
              "      <th>start_date</th>\n",
              "      <th>end_date</th>\n",
              "    </tr>\n",
              "    <tr>\n",
              "      <th>id</th>\n",
              "      <th></th>\n",
              "      <th></th>\n",
              "      <th></th>\n",
              "    </tr>\n",
              "  </thead>\n",
              "  <tbody>\n",
              "    <tr>\n",
              "      <th>556713</th>\n",
              "      <td>2019-11-29</td>\n",
              "      <td>2019-11-29</td>\n",
              "      <td>9999-12-31</td>\n",
              "    </tr>\n",
              "    <tr>\n",
              "      <th>257134</th>\n",
              "      <td>2019-08-17</td>\n",
              "      <td>2019-08-17</td>\n",
              "      <td>9999-12-31</td>\n",
              "    </tr>\n",
              "    <tr>\n",
              "      <th>521738</th>\n",
              "      <td>2019-08-05</td>\n",
              "      <td>2019-08-05</td>\n",
              "      <td>2019-08-31</td>\n",
              "    </tr>\n",
              "    <tr>\n",
              "      <th>383947</th>\n",
              "      <td>2019-10-23</td>\n",
              "      <td>2019-10-23</td>\n",
              "      <td>2019-11-08</td>\n",
              "    </tr>\n",
              "    <tr>\n",
              "      <th>986212</th>\n",
              "      <td>2019-08-01</td>\n",
              "      <td>2019-08-01</td>\n",
              "      <td>2019-08-14</td>\n",
              "    </tr>\n",
              "    <tr>\n",
              "      <th>...</th>\n",
              "      <td>...</td>\n",
              "      <td>...</td>\n",
              "      <td>...</td>\n",
              "    </tr>\n",
              "    <tr>\n",
              "      <th>999996</th>\n",
              "      <td>2020-01-09</td>\n",
              "      <td>2020-01-09</td>\n",
              "      <td>2020-04-27</td>\n",
              "    </tr>\n",
              "    <tr>\n",
              "      <th>999997</th>\n",
              "      <td>2020-01-09</td>\n",
              "      <td>2020-01-09</td>\n",
              "      <td>2020-04-27</td>\n",
              "    </tr>\n",
              "    <tr>\n",
              "      <th>999998</th>\n",
              "      <td>2020-01-09</td>\n",
              "      <td>2020-01-09</td>\n",
              "      <td>2020-04-27</td>\n",
              "    </tr>\n",
              "    <tr>\n",
              "      <th>999999</th>\n",
              "      <td>2020-01-09</td>\n",
              "      <td>2020-01-09</td>\n",
              "      <td>2020-04-28</td>\n",
              "    </tr>\n",
              "    <tr>\n",
              "      <th>1000000</th>\n",
              "      <td>2020-01-09</td>\n",
              "      <td>2020-01-09</td>\n",
              "      <td>2020-04-28</td>\n",
              "    </tr>\n",
              "  </tbody>\n",
              "</table>\n",
              "<p>985180 rows × 3 columns</p>\n",
              "</div>\n",
              "    <div class=\"colab-df-buttons\">\n",
              "\n",
              "  <div class=\"colab-df-container\">\n",
              "    <button class=\"colab-df-convert\" onclick=\"convertToInteractive('df-03b7f468-51ed-4056-baea-f60eee889b77')\"\n",
              "            title=\"Convert this dataframe to an interactive table.\"\n",
              "            style=\"display:none;\">\n",
              "\n",
              "  <svg xmlns=\"http://www.w3.org/2000/svg\" height=\"24px\" viewBox=\"0 -960 960 960\">\n",
              "    <path d=\"M120-120v-720h720v720H120Zm60-500h600v-160H180v160Zm220 220h160v-160H400v160Zm0 220h160v-160H400v160ZM180-400h160v-160H180v160Zm440 0h160v-160H620v160ZM180-180h160v-160H180v160Zm440 0h160v-160H620v160Z\"/>\n",
              "  </svg>\n",
              "    </button>\n",
              "\n",
              "  <style>\n",
              "    .colab-df-container {\n",
              "      display:flex;\n",
              "      gap: 12px;\n",
              "    }\n",
              "\n",
              "    .colab-df-convert {\n",
              "      background-color: #E8F0FE;\n",
              "      border: none;\n",
              "      border-radius: 50%;\n",
              "      cursor: pointer;\n",
              "      display: none;\n",
              "      fill: #1967D2;\n",
              "      height: 32px;\n",
              "      padding: 0 0 0 0;\n",
              "      width: 32px;\n",
              "    }\n",
              "\n",
              "    .colab-df-convert:hover {\n",
              "      background-color: #E2EBFA;\n",
              "      box-shadow: 0px 1px 2px rgba(60, 64, 67, 0.3), 0px 1px 3px 1px rgba(60, 64, 67, 0.15);\n",
              "      fill: #174EA6;\n",
              "    }\n",
              "\n",
              "    .colab-df-buttons div {\n",
              "      margin-bottom: 4px;\n",
              "    }\n",
              "\n",
              "    [theme=dark] .colab-df-convert {\n",
              "      background-color: #3B4455;\n",
              "      fill: #D2E3FC;\n",
              "    }\n",
              "\n",
              "    [theme=dark] .colab-df-convert:hover {\n",
              "      background-color: #434B5C;\n",
              "      box-shadow: 0px 1px 3px 1px rgba(0, 0, 0, 0.15);\n",
              "      filter: drop-shadow(0px 1px 2px rgba(0, 0, 0, 0.3));\n",
              "      fill: #FFFFFF;\n",
              "    }\n",
              "  </style>\n",
              "\n",
              "    <script>\n",
              "      const buttonEl =\n",
              "        document.querySelector('#df-03b7f468-51ed-4056-baea-f60eee889b77 button.colab-df-convert');\n",
              "      buttonEl.style.display =\n",
              "        google.colab.kernel.accessAllowed ? 'block' : 'none';\n",
              "\n",
              "      async function convertToInteractive(key) {\n",
              "        const element = document.querySelector('#df-03b7f468-51ed-4056-baea-f60eee889b77');\n",
              "        const dataTable =\n",
              "          await google.colab.kernel.invokeFunction('convertToInteractive',\n",
              "                                                    [key], {});\n",
              "        if (!dataTable) return;\n",
              "\n",
              "        const docLinkHtml = 'Like what you see? Visit the ' +\n",
              "          '<a target=\"_blank\" href=https://colab.research.google.com/notebooks/data_table.ipynb>data table notebook</a>'\n",
              "          + ' to learn more about interactive tables.';\n",
              "        element.innerHTML = '';\n",
              "        dataTable['output_type'] = 'display_data';\n",
              "        await google.colab.output.renderOutput(dataTable, element);\n",
              "        const docLink = document.createElement('div');\n",
              "        docLink.innerHTML = docLinkHtml;\n",
              "        element.appendChild(docLink);\n",
              "      }\n",
              "    </script>\n",
              "  </div>\n",
              "\n",
              "\n",
              "<div id=\"df-7a93207f-ba8e-4717-976f-b27507087f48\">\n",
              "  <button class=\"colab-df-quickchart\" onclick=\"quickchart('df-7a93207f-ba8e-4717-976f-b27507087f48')\"\n",
              "            title=\"Suggest charts\"\n",
              "            style=\"display:none;\">\n",
              "\n",
              "<svg xmlns=\"http://www.w3.org/2000/svg\" height=\"24px\"viewBox=\"0 0 24 24\"\n",
              "     width=\"24px\">\n",
              "    <g>\n",
              "        <path d=\"M19 3H5c-1.1 0-2 .9-2 2v14c0 1.1.9 2 2 2h14c1.1 0 2-.9 2-2V5c0-1.1-.9-2-2-2zM9 17H7v-7h2v7zm4 0h-2V7h2v10zm4 0h-2v-4h2v4z\"/>\n",
              "    </g>\n",
              "</svg>\n",
              "  </button>\n",
              "\n",
              "<style>\n",
              "  .colab-df-quickchart {\n",
              "      --bg-color: #E8F0FE;\n",
              "      --fill-color: #1967D2;\n",
              "      --hover-bg-color: #E2EBFA;\n",
              "      --hover-fill-color: #174EA6;\n",
              "      --disabled-fill-color: #AAA;\n",
              "      --disabled-bg-color: #DDD;\n",
              "  }\n",
              "\n",
              "  [theme=dark] .colab-df-quickchart {\n",
              "      --bg-color: #3B4455;\n",
              "      --fill-color: #D2E3FC;\n",
              "      --hover-bg-color: #434B5C;\n",
              "      --hover-fill-color: #FFFFFF;\n",
              "      --disabled-bg-color: #3B4455;\n",
              "      --disabled-fill-color: #666;\n",
              "  }\n",
              "\n",
              "  .colab-df-quickchart {\n",
              "    background-color: var(--bg-color);\n",
              "    border: none;\n",
              "    border-radius: 50%;\n",
              "    cursor: pointer;\n",
              "    display: none;\n",
              "    fill: var(--fill-color);\n",
              "    height: 32px;\n",
              "    padding: 0;\n",
              "    width: 32px;\n",
              "  }\n",
              "\n",
              "  .colab-df-quickchart:hover {\n",
              "    background-color: var(--hover-bg-color);\n",
              "    box-shadow: 0 1px 2px rgba(60, 64, 67, 0.3), 0 1px 3px 1px rgba(60, 64, 67, 0.15);\n",
              "    fill: var(--button-hover-fill-color);\n",
              "  }\n",
              "\n",
              "  .colab-df-quickchart-complete:disabled,\n",
              "  .colab-df-quickchart-complete:disabled:hover {\n",
              "    background-color: var(--disabled-bg-color);\n",
              "    fill: var(--disabled-fill-color);\n",
              "    box-shadow: none;\n",
              "  }\n",
              "\n",
              "  .colab-df-spinner {\n",
              "    border: 2px solid var(--fill-color);\n",
              "    border-color: transparent;\n",
              "    border-bottom-color: var(--fill-color);\n",
              "    animation:\n",
              "      spin 1s steps(1) infinite;\n",
              "  }\n",
              "\n",
              "  @keyframes spin {\n",
              "    0% {\n",
              "      border-color: transparent;\n",
              "      border-bottom-color: var(--fill-color);\n",
              "      border-left-color: var(--fill-color);\n",
              "    }\n",
              "    20% {\n",
              "      border-color: transparent;\n",
              "      border-left-color: var(--fill-color);\n",
              "      border-top-color: var(--fill-color);\n",
              "    }\n",
              "    30% {\n",
              "      border-color: transparent;\n",
              "      border-left-color: var(--fill-color);\n",
              "      border-top-color: var(--fill-color);\n",
              "      border-right-color: var(--fill-color);\n",
              "    }\n",
              "    40% {\n",
              "      border-color: transparent;\n",
              "      border-right-color: var(--fill-color);\n",
              "      border-top-color: var(--fill-color);\n",
              "    }\n",
              "    60% {\n",
              "      border-color: transparent;\n",
              "      border-right-color: var(--fill-color);\n",
              "    }\n",
              "    80% {\n",
              "      border-color: transparent;\n",
              "      border-right-color: var(--fill-color);\n",
              "      border-bottom-color: var(--fill-color);\n",
              "    }\n",
              "    90% {\n",
              "      border-color: transparent;\n",
              "      border-bottom-color: var(--fill-color);\n",
              "    }\n",
              "  }\n",
              "</style>\n",
              "\n",
              "  <script>\n",
              "    async function quickchart(key) {\n",
              "      const quickchartButtonEl =\n",
              "        document.querySelector('#' + key + ' button');\n",
              "      quickchartButtonEl.disabled = true;  // To prevent multiple clicks.\n",
              "      quickchartButtonEl.classList.add('colab-df-spinner');\n",
              "      try {\n",
              "        const charts = await google.colab.kernel.invokeFunction(\n",
              "            'suggestCharts', [key], {});\n",
              "      } catch (error) {\n",
              "        console.error('Error during call to suggestCharts:', error);\n",
              "      }\n",
              "      quickchartButtonEl.classList.remove('colab-df-spinner');\n",
              "      quickchartButtonEl.classList.add('colab-df-quickchart-complete');\n",
              "    }\n",
              "    (() => {\n",
              "      let quickchartButtonEl =\n",
              "        document.querySelector('#df-7a93207f-ba8e-4717-976f-b27507087f48 button');\n",
              "      quickchartButtonEl.style.display =\n",
              "        google.colab.kernel.accessAllowed ? 'block' : 'none';\n",
              "    })();\n",
              "  </script>\n",
              "</div>\n",
              "\n",
              "    </div>\n",
              "  </div>\n"
            ],
            "application/vnd.google.colaboratory.intrinsic+json": {
              "type": "dataframe"
            }
          },
          "metadata": {},
          "execution_count": 59
        }
      ]
    },
    {
      "cell_type": "markdown",
      "source": [
        "Por lo que veo, created_date == start_date. Vamos a comprobarlo"
      ],
      "metadata": {
        "id": "FYs7apK0Lib-"
      }
    },
    {
      "cell_type": "code",
      "source": [
        "boolean_dates_train = df_train[\"created_on\"] == df_train[\"start_date\"]\n",
        "print(boolean_dates_train.unique())\n",
        "\n",
        "boolean_dates_test = df_test[\"created_on\"] == df_test[\"start_date\"]\n",
        "print(boolean_dates_test.unique())"
      ],
      "metadata": {
        "colab": {
          "base_uri": "https://localhost:8080/"
        },
        "id": "92xBBAT8Ln8B",
        "outputId": "17a7cb56-9b6f-4137-a1ce-cb5b0a002302"
      },
      "execution_count": null,
      "outputs": [
        {
          "output_type": "stream",
          "name": "stdout",
          "text": [
            "[ True]\n",
            "[ True]\n"
          ]
        }
      ]
    },
    {
      "cell_type": "markdown",
      "source": [
        "*0.1.3. Atributo \"l1\", \"l2\", \"l3\", \"l4\", \"l5\", \"l6\"*\n",
        "\n",
        "----"
      ],
      "metadata": {
        "id": "wqOTo_fJJEEo"
      }
    },
    {
      "cell_type": "markdown",
      "source": [
        "Vamos a comenzar a entender que son esos atributos, porque el nombre no nos dice mucho.\n",
        "\n",
        "Para eso vamos a ver los valores que tienen cadaatributo"
      ],
      "metadata": {
        "id": "Pc27bmEjRORJ"
      }
    },
    {
      "cell_type": "code",
      "source": [
        "for i in range(1,5):\n",
        "  print(\"--------------------------------------------------------------\")\n",
        "  print(f\"estamos en l{i}\")\n",
        "  print(df_test[f'l{i}'].unique())"
      ],
      "metadata": {
        "colab": {
          "base_uri": "https://localhost:8080/"
        },
        "id": "RlNIFuMcRNrd",
        "outputId": "4c571c3b-31f0-4433-d305-b7446b61252f"
      },
      "execution_count": null,
      "outputs": [
        {
          "output_type": "stream",
          "name": "stdout",
          "text": [
            "--------------------------------------------------------------\n",
            "estamos en l1\n",
            "['Argentina']\n",
            "--------------------------------------------------------------\n",
            "estamos en l2\n",
            "['Capital Federal']\n",
            "--------------------------------------------------------------\n",
            "estamos en l3\n",
            "['Palermo' 'Floresta' 'Villa Crespo' 'Villa del Parque' 'Liniers'\n",
            " 'Paternal' 'Almagro' 'Saavedra' 'Parque Chacabuco' 'Recoleta'\n",
            " 'Monte Castro' 'Mataderos' 'Villa Pueyrredón' 'Boedo' 'Barrio Norte'\n",
            " 'Caballito' 'Agronomía' 'Flores' 'Parque Avellaneda' 'Pompeya'\n",
            " 'Parque Chas' 'Villa General Mitre' 'Congreso' 'San Cristobal'\n",
            " 'Villa Urquiza' 'Coghlan' 'Belgrano' 'Villa Real' 'Villa Lugano'\n",
            " 'Villa Devoto' 'Balvanera' nan 'Barracas' 'Villa Santa Rita' 'San Telmo'\n",
            " 'San Nicolás' 'Nuñez' 'Chacarita' 'Versalles' 'Villa Luro'\n",
            " 'Parque Centenario' 'Parque Patricios' 'Constitución' 'Once'\n",
            " 'Velez Sarsfield' 'Monserrat' 'Colegiales' 'Tribunales' 'Villa Ortuzar'\n",
            " 'Centro / Microcentro' 'Puerto Madero' 'Las Cañitas' 'Abasto' 'Retiro'\n",
            " 'Boca']\n",
            "--------------------------------------------------------------\n",
            "estamos en l4\n",
            "['Palermo Viejo' nan 'Palermo Soho' 'Palermo Hollywood' 'Palermo Chico']\n"
          ]
        }
      ]
    },
    {
      "cell_type": "code",
      "source": [
        "for i in range(1,5):\n",
        "  print(\"--------------------------------------------------------------\")\n",
        "  print(f\"estamos en l{i}\")\n",
        "  print(df_train[f'l{i}'].unique())"
      ],
      "metadata": {
        "colab": {
          "base_uri": "https://localhost:8080/"
        },
        "id": "tZ0MtAIaRHqi",
        "outputId": "dc52bd8e-0d8c-4a49-815e-c661594949d4"
      },
      "execution_count": null,
      "outputs": [
        {
          "output_type": "stream",
          "name": "stdout",
          "text": [
            "--------------------------------------------------------------\n",
            "estamos en l1\n",
            "['Argentina' 'Uruguay' 'Estados Unidos' 'Brasil']\n",
            "--------------------------------------------------------------\n",
            "estamos en l2\n",
            "['Capital Federal' 'Bs.As. G.B.A. Zona Sur' 'Buenos Aires Interior'\n",
            " 'Córdoba' 'Bs.As. G.B.A. Zona Norte' 'Santa Fe' 'Tucumán'\n",
            " 'Buenos Aires Costa Atlántica' 'Maldonado' 'San Luis' 'Neuquén'\n",
            " 'Bs.As. G.B.A. Zona Oeste' 'Entre Ríos' 'Montevideo' 'Mendoza' 'Misiones'\n",
            " 'Río Negro' 'Tierra Del Fuego' 'Pennsylvania' 'Chubut' 'Corrientes'\n",
            " 'Salta' 'La Rioja' 'La Pampa' 'Chaco' 'San Juan' 'Rocha' 'Jujuy'\n",
            " 'Maryland' 'Canelones' 'Santa Catarina' 'Colonia' 'Florida' 'Santa Cruz'\n",
            " 'Michigan' 'Miami' 'Santiago Del Estero' 'Rio de Janeiro' 'Formosa'\n",
            " 'Catamarca' 'Rio Grande do Norte' 'São Paulo']\n",
            "--------------------------------------------------------------\n",
            "estamos en l3\n",
            "['Colegiales' 'Boedo' 'Almagro' ... 'Santa Clara de Buena Vista'\n",
            " 'Bella Italia' 'Saladero Mariano Cabal']\n",
            "--------------------------------------------------------------\n",
            "estamos en l4\n",
            "[nan 'Palermo Viejo' 'Villa Elisa' 'La Plata' 'Palermo Hollywood'\n",
            " 'Palermo Soho' 'Haras del Sur I' 'Manuel B Gonnet' 'Palermo Chico'\n",
            " 'City Bell' 'Tolosa' 'Villa Elvira' 'San Carlos' 'José Hernández'\n",
            " 'Urquiza' 'Villa Ballester' 'Estancias del Pilar' 'Dique Luján'\n",
            " 'Manuel Alberti' 'Solares del Talar' 'General Pacheco' 'Nordelta'\n",
            " 'Santa Barbara Barrio Cerrado' 'Club de Campo Manuel Belgrano'\n",
            " 'Barrio San Matías' 'Haras Santa Maria' 'San Isidro' 'Macrocentro'\n",
            " 'Country Saint Thomas' 'Lanús Oeste' 'Morón' 'Alta Córdoba' 'Puerto'\n",
            " 'San Andres' 'Monte Grande' 'Ramos Mejía' 'Junín' 'Berazategui'\n",
            " 'Plaza Colón' 'Canning' 'Moreno' 'San Miguel' 'Lanús Este' 'Bernal'\n",
            " 'Villa Udaondo' 'Ciudad Jardín Lomas del Palomar' 'Villa España'\n",
            " 'Haras María Victoria' 'Pablo Podestá' 'Loma Hermosa' 'Playa Grande'\n",
            " 'Balcarce' 'Villa Celina' 'Centro' 'Lomas de Zamora' 'Caseros'\n",
            " 'Villa Vatteone' 'Ciudadela' 'San Carlos de Bariloche' 'Nueva Córdoba'\n",
            " 'Villa Dominico' 'Villa Madero' 'Beccar' 'Olivos' 'Florida' 'San Martín'\n",
            " 'Lomas del Mirador' 'Avellaneda' 'Hermitage' 'Plaza Mitre' 'Torreón'\n",
            " 'Los Polvorines' 'San Fernando' 'Sáenz Peña' 'Bella Vista'\n",
            " 'Ricardo Rojas' 'San Justo' 'José C Paz' 'Munro' 'Carapachay' 'Pilar'\n",
            " 'Condominio \"Las Mercedes\"' 'La Lucila' 'Ituzaingó' 'Haedo'\n",
            " 'Coronel Suárez' 'Martín Coronado' 'Berazategui Oeste' 'Villa Rosa'\n",
            " 'Barrio Cerrado \"Las Margaritas\"' 'Barrio Cerrado \"La Cañada de Pilar\"'\n",
            " 'Barrio Santa Teresa' 'Barrio San Isidro Labrador'\n",
            " 'Barrio Cerrado San Andres' 'La Comarca' 'Barrio San Gabriel' 'Luján'\n",
            " 'Belén de Escobar' 'GreenVille Polo & Resort' 'Tigre' 'Martínez'\n",
            " 'Villa Luzuriaga' 'Villa Sarmiento' 'Chascomús' 'Fincas de Hudson'\n",
            " 'Barrio Cerrado \"Ayres Plaza\"' 'El Encuentro' 'Stella Maris'\n",
            " 'Vicente López' 'Benavidez' 'Muñiz' 'San Vicente' 'El Jagüel'\n",
            " 'Valentín Alsina' 'Merlo' 'Banfield' 'Villa Bosch' 'Villa Martelli'\n",
            " 'Francisco Alvarez' 'Remedios de Escalada' 'General Paz'\n",
            " 'Barrio Cerrado El Lauquén' 'El Zorzal'\n",
            " 'Barrio Santa Guadalupe - Pilar del Este' 'Pilar del Lago'\n",
            " 'Barrio Los Jazmines - Pilar del Este' 'Barrio San Agustin' 'Castelar'\n",
            " 'Maschwitz' 'Bonnement' 'San Antonio De Padua' 'Tandil' 'San Pedro'\n",
            " 'Sarandi' 'Alberdi' 'Temperley' 'Sierra de los Padres' 'Villa Adelina'\n",
            " 'Área 5 \"Nuestra Señora de Itatí\"' 'Bahía del Sol' 'Playa Brava'\n",
            " 'Terravista Barrio Privado' 'La Lomada de Pilar'\n",
            " 'Barrio Cerrado Don Joaquín' 'Pichincha' 'Berisso' 'Mercedes' 'Ensenada'\n",
            " 'Carlos Keen' 'Comodoro Py' 'Santa Elena' 'Solar del Bosque' 'Turdera'\n",
            " 'Burzaco' 'Abasto' 'Longchamps' 'Grand Bell' 'Echeverría del Lago'\n",
            " 'Miralagos' 'Melchor Romero' 'Wilde' 'El Canton Barrio Puerto'\n",
            " 'Rincón de Milberg' 'Virreyes' 'Barrio San Alfonso - Pilar del Este'\n",
            " 'Highland Park Country Club' 'Barrio Privado \"Ayres de Pilar\"' 'Acassuso'\n",
            " 'Boulogne Sur Mer' 'Tortuguitas' 'Villa de Mayo' 'Grand Bourg' 'Garín'\n",
            " 'Haras María Elena' 'Paso del Rey' 'Campos de Álvarez' 'Aldo Bonzi'\n",
            " 'Santos Lugares' 'Gregorio de Laferrere' 'Lanús' 'Zelaya'\n",
            " 'General Rodríguez' 'Los Cardales' 'General Arenales'\n",
            " 'San Antonio de Areco' 'Barrio Cerrado \"Altos de Pacheco\"'\n",
            " 'Club de Campo La Martona' 'Barrio Cerrado \"La Merced\"' 'Victoria'\n",
            " 'Playa Chica' 'Güemes' 'Bermudas Country Club' 'El Talar' 'Don Torcuato'\n",
            " 'Terralagos' 'Campo Chico Country Club' 'Jose Leon Suarez' 'San Juan'\n",
            " 'Matheu' 'El Naudir' 'Villa Ventana' 'El Pato' 'Barrio Cerrado'\n",
            " 'La Caleta' 'Gloria de la Peregrina' 'Ranchos' 'Quilmes' 'Cuartel V'\n",
            " 'Plaza Rocha' 'Villa Tesei' 'La Reja' 'Del Viso' 'Open Door' 'Loma Verde'\n",
            " 'Olivera' 'El Canton Barrio Islas' 'Ciudad Evita' 'Barrio El Moro'\n",
            " 'Martindale Country Club' 'Barrio Cerrado Las Casuarinas'\n",
            " 'Barrio Cerrado \"El Portillo\"' 'Pipinas' 'Alejandro Korn'\n",
            " 'General Belgrano' 'Coronel Brandsen' 'Ezpeleta' 'Fincas de San Vicente'\n",
            " 'Complejo de Barrios Privados La Magdalena' 'Jose Marmol' 'Adrogué'\n",
            " 'Barrio Cerrado Los Troncos' 'Rafael Calzada'\n",
            " 'Barrio  Pirvado Los Naranjos' 'Barrio Privado El Rodal'\n",
            " 'Vicente Casares' 'Billinghurst' 'Troncos del Talar'\n",
            " 'Mayling Club de Campo' 'Barrio Cerrado \"Los Potrillos\"'\n",
            " 'El Canton Barrio Golf' 'San Francisco Club de Campo'\n",
            " 'Haras del Pilar - Las Praderas 1 y 2' 'Área de Promoción El Triángulo'\n",
            " 'Miraflores Country Club' 'Altamira' 'Barrio San Rafael'\n",
            " 'Los Lagartos Country Club' 'Carmel Country Club' 'El Palomar'\n",
            " 'Parque Leloir' 'González Catán' 'Isidro Casanova' 'La Tablada' 'Chauvín'\n",
            " 'Country El Ombú' 'Glew' 'Santa Isabel' 'Country Banco Provincia'\n",
            " 'Barrio Santa Irene - Comarcas de Luján' 'Luis Guillón' 'Ezeiza'\n",
            " 'Ingeniero Pablo Nogués' 'Septiembre' 'Santa María de los Olivos'\n",
            " 'Maria del Parque Barrio Privado' 'San Diego Country Club' 'Hurlingham'\n",
            " 'Tapiales' 'Barrio Cerrado \"Buen Retiro\"' 'Boca Ratón'\n",
            " 'San Francisco Solano' 'Pehuajó' 'Ranelagh' 'Llavallol'\n",
            " 'Carlos Spegazzini' 'La horqueta de Echeverría' 'Malvinas Argentinas'\n",
            " 'Villa Lynch' 'Pilar Village' 'Lomas de Benavidez'\n",
            " 'La Escondida de Manzanares' 'Santa-Catalina' 'Abril Club de Campo'\n",
            " 'La Capilla' 'Punta Chica Village' 'Barrio Santa Clara' 'Gerli'\n",
            " 'San Isidro Chico' 'Country San Jorge Village' 'Lobos' 'La Unión'\n",
            " 'Capilla del Señor' 'Empalme Lobos' 'Platanos'\n",
            " 'Barrio Cerrado \"El Atardecer\"' 'Barrancas de Santa María' 'Las Flores'\n",
            " 'Cuba Country Club' 'Windbells' 'Saint Matthews' 'Villa Ariza' 'Guernica'\n",
            " 'Cofico' 'Villa Maipu' 'Fincas del Lago' 'Domselaar' 'Fátima' 'Obligado'\n",
            " 'Barrio Parque General San Martin' 'Country Nuevo Quilmes' 'Don Orione'\n",
            " 'Los Acantilados' 'Haras del Pilar - El Establo' 'El Canton Barrio Norte'\n",
            " 'Los Hornos' 'Barrio Cerrado \"La Rinconada\"' 'Constitución' 'El Cazador'\n",
            " 'Marcos Paz' 'Benavidez Greens' 'Hacoaj Barrio Cerrado'\n",
            " 'Boat Center Barrio Cerrado' 'Mariano Acosta' 'Laguna del Sol'\n",
            " 'Ingeniero Juan Allan' 'Las Tahonas' 'Once de Septiembre' 'Pergamino'\n",
            " 'Trenque Lauquen' 'Barrio Cerrado \"Tigre Joven\"'\n",
            " 'Barrio Cerrado Fincas de Maschwitz' 'Country Club Santa Silvina'\n",
            " 'Haras del Pilar - La Caballeriza' 'Barrio Ceibos' 'Rumenco'\n",
            " 'Barbarita, Barrio Cerrado' 'San Nicolás de los Arroyos' 'Atalaya'\n",
            " 'Cañuelas' 'Pompeya' 'Manzanares' 'Barrio San Francisco'\n",
            " 'Virrey del Pino' 'Rafael Castillo' 'Barrio La Casualidad'\n",
            " 'Barrio Cerrado \"Los Fresnos\"' '9 de Abril' 'Villa Lía'\n",
            " 'Florencio Varela' 'Ministro Rivadavia' 'St. Patrick Country'\n",
            " 'Barrio cerrado Santa Ana' 'Barrio Weston'\n",
            " 'Barrio Cerrado \"El Casco de Moreno\"' 'Prados del Oeste'\n",
            " 'Palmers Cottage' 'Don Bosco' 'Haras del Sol - Barrio Privado'\n",
            " 'Terrazas de Ayres' 'Alvarez del Bosque' 'Chacras de La Trinidad'\n",
            " 'Aeropuerto Internacional Ezeiza' 'Las Golondrinas' 'Abbott'\n",
            " 'Marinas Golf Barrio Cerrado' 'Bosques' 'Santa Juana' 'El Rocío'\n",
            " ' Country Maschwitz Club' 'Greenlands S.A.' 'Baradero'\n",
            " 'Barrio Cerrado \"Tres Horquetas\"' 'Trujui' 'Las Avenidas' 'Caisamar'\n",
            " 'La Perla' 'Tribunales' 'Barrio San Juan' 'Indio Cuá Country Club'\n",
            " 'Bosque Peralta Ramos' 'Playa Varese' 'Santa Catalina' 'Los Troncos'\n",
            " 'Talar del Lago 1' 'El Talar de Pacheco' 'Villa Primera'\n",
            " 'Barrio Privado San Lucas' 'La Cesarina' 'Monte Chingolo' 'El Gaucho'\n",
            " 'Materno' 'Terminal Vieja' 'Parque Mar Chiquita' 'Mundialista'\n",
            " 'Campos de Roca II' 'Campana' 'La Candelaria de Maschwitz'\n",
            " 'Barrio Lopez de Gomara' 'Colina de Peralta Ramos'\n",
            " 'Barrio Cerrado \"Pilar Privado\"' 'Cacharí' 'Albanueva Barrio Cerrado'\n",
            " 'Los Pilares - Barrio Privado' 'Barrio Santa Elena - Pilar del Este'\n",
            " 'Barrio Cerrado El Lucero' 'Hindu Club' 'La Martinica'\n",
            " 'El Pato Country Club' 'Tristán Suárez' 'Punta del Indio' 'Primera Junta'\n",
            " 'Libertad' 'Haras del Sur II' 'Arturo Seguí' 'Torres' 'Zárate'\n",
            " 'El Nacional Club de Campo' 'Los Pinos' 'Barrio Parque San Martin'\n",
            " \"Golfer's Country Club\" 'Virasoro Village' 'Fincas de Iraola II' 'Delta'\n",
            " 'La Ranita' 'Pueblo Doyle' 'Barrio Cerrado El Rebenque'\n",
            " 'Barrio Privado Los Olivares' 'Fincas del Alba' 'The Boating Club'\n",
            " 'Ingeniero Adolfo Sourdeaux' 'Barrancas de San Jose' 'Villa Centenario'\n",
            " 'Country Maschwitz Privado' 'Guillermo Hudson'\n",
            " 'Barrio Cerrado \"La Damasia\"' 'Barrio Privado Lagos de Canning'\n",
            " 'Barrio Cerrado \"Sausalito\"' 'La Colina Golf & Polo' 'Barrio Acacias'\n",
            " 'Uribelarrea' 'Barrio San Eduardo - Pilar del Este' 'La Pilarica'\n",
            " 'Barrio Vistas' 'Pacheco Golf Club' 'San Lucas Village' 'La Pastora'\n",
            " 'Arrecifes' 'Capitán Sarmiento' 'Haras del Sur IV' 'Sierra de la Ventana'\n",
            " 'Verónica' 'El Centauro' 'Barrio Marinas' 'San Alberto' 'El Molino'\n",
            " 'Barrio La Cuesta' 'Country Farm Club' 'Ocampo' 'Pontevedra'\n",
            " 'Villa Libertad' 'Punta Mogotes' 'Barrio Cerrado \"La Cautiva del Pilar\"'\n",
            " 'La Agustina' 'Barrio Santa Emilia - Pilar del Este' 'Santa Maria'\n",
            " 'Lomas de City Bell' 'Ex La Ponderosa' 'General Hornos'\n",
            " 'Área 7 \"Nuestra Señora de Luján\"' 'Pinzón' 'Dock Sud'\n",
            " 'Altos de Hudson II' 'Laguna Azul' 'Villa Raffo' 'Haras San Pablo'\n",
            " 'La Peregrina' 'Barrio Privado Santa Rita' 'Los Tres Coniles'\n",
            " 'San Andrés de Giles' 'Barrio Cerrado \"Isla del Sol\"'\n",
            " 'La Celina Barrio Privado' 'San Carlos Country Club - Entrada'\n",
            " 'Acacias Blancas' 'Barrio Cerrado \"Roble Joven\"' 'Derqui'\n",
            " 'General Las Heras' 'Gobernador Julio A Costa' 'Villanueva'\n",
            " 'Alejandro Petión' 'Salvador María' 'Álvarez Jonte' 'Villa Bonich'\n",
            " \"Marina Del Sol (Sun's Marine)\" 'Florida Oeste' 'Zeballos'\n",
            " 'Haras del Sur III' 'Campos de Roca' 'La Taquara' 'La Alameda'\n",
            " 'Barrio Zacagnini' 'Alto Los Cardales' 'José Ingenieros' 'Mi Refugio'\n",
            " 'San Eliseo Country, Golf, Hotel & Spa' 'Valle Claro' 'Talar del lago 2'\n",
            " 'Bahía San Blas' 'Villa Astolfi' 'Barrio Cerrado Lagos del Norte'\n",
            " 'Club Newman' 'Barrio Privado Villa Olivos' 'Coronel Vidal'\n",
            " 'Rincón de Maschwitz' 'Barrio El Martillo' 'Barrio Cerrado \"La Laguna\"'\n",
            " 'Villa La Florida' 'Barrio Cerrado \"Jacarandá\"'\n",
            " 'Barrio Privado Cruz del Sur' 'Barrio Cerrado \"Los Alcanfores\"'\n",
            " 'Barrio Privado Horizontes al Sur' 'Barrio Santa Isabel'\n",
            " 'Pilar Golf Country Club' 'Los Sauces Country Club' 'Lincoln'\n",
            " 'Barrio Cerrado \"Las Palmas\"' 'Barrio Cerrado La Colina' 'La Angelita'\n",
            " 'coordenadas 34.255511' 'Altos de Manzanares 1 y 2' 'Zapiola'\n",
            " 'Carmen de Areco' 'Santos Tesei' 'Barrio Cerrado \"Los Senderos\"'\n",
            " 'Country Club Aranjuez' 'Barrio San Jerónimo - Pilar del Este'\n",
            " 'Campo Grande Country Club' 'Villa General Necochea' 'Barrio Araucarias'\n",
            " 'Ramallo' 'Los Pingüinos Country Club'\n",
            " 'El Paraíso de Guernica Country Club' 'Altos del Golf'\n",
            " 'Barrio Cerrado \"La Delfina\"' 'Azcuénaga' 'Rincón de la Costa'\n",
            " 'Barrio Cerrado \"Soles de Pilar\"' 'Fincas de Iraola' 'Oriente'\n",
            " 'Copacabana' 'Estancia Alvear' 'La Lonja' 'Tortugas Country Club'\n",
            " 'Country La Tradición' 'Club El Carmen - Sector casas'\n",
            " 'Villa Mar Chiquita' 'Villa Chacabuco' 'Barrio Cerrado \"Los Laureles\"'\n",
            " 'Duggan' 'Barrio Cerrado \"La Emilia\"' 'General Pinto' 'Mechongué'\n",
            " 'Villa Argüello' 'Punta Lara' 'Barrio Cerrado \"Bosque Chico\"'\n",
            " 'Ing Ardigó' 'Barrio Cerrado \"El Trébol\"' 'Brickland' 'Parada Robles'\n",
            " 'Saladillo' 'Roque Pérez' 'Los Talas' 'El Venado II' 'Rauch'\n",
            " 'La Madrugada' 'El Libertador' 'Cortines' 'Club de Campo Pueyrredón'\n",
            " 'Máximo Paz' 'Los Horneros CC' 'La Esperanza Club de Campo'\n",
            " 'Barrio Cerrado \"La Candela\"' 'Los Angeles Village' 'Lisandro Olmos'\n",
            " 'Villa Pacheco' 'Dique 1' 'Pila' 'São Conrado' 'Medal Country Club'\n",
            " 'Olivos Golf Club' 'La Herradura' 'Mapuche Country Club' 'San José'\n",
            " 'El Casco de Leloir' 'Juramento' 'Gardey'\n",
            " 'Barrio Privado \"Lomas de Fátima\"' 'Elvira' 'Pardo' 'La Porteña'\n",
            " 'El Trigo' 'Pedernales' 'Terminal Nueva' 'Parque Luro'\n",
            " 'Barrio Santa Rita' 'Alférez San Martin' 'Punta Iglesia' 'Barrio Camet'\n",
            " 'Barrio San Jose' 'Colina Alegre' 'Naposta' ' los alamos'\n",
            " 'Barrio La Perla Norte' 'Barrio Santa Mónica' 'Batán' 'Claypole'\n",
            " 'San Miguel Oeste' 'Club de Campo Santa Maria' 'El Peligro'\n",
            " 'Barrio Cerrado La Masia' 'Barrio Cerrado \"El Estribo\"'\n",
            " 'Pilar Green Park' 'Barrio Cerrado \"Los Senderos II\"' 'Rincon Del Arca'\n",
            " 'Altos del Pilar' 'Del Valle' 'Los Pinares' 'Bernardino Rivadavia'\n",
            " 'Barrio Cerrado \"Las Marías\"' 'San Francisco de Bellocq'\n",
            " 'Club de Campo Aranzazu' 'San Miguel de Ghiso'\n",
            " 'Village Golf & Tennis Country Club' 'Bellocq' 'Country Club Las lajas'\n",
            " 'Barrio cerrado La Cascada' 'Barrio El Candil' 'Ingeniero White'\n",
            " 'Darregueira' 'Umbrales de la Merced' 'Barrio Alamo Alto'\n",
            " 'Club de Campo \"Los Ceibos\"' 'San Jose' 'Barrio Privado Altos del Sol'\n",
            " 'Tres Arroyos' 'La Angélica' 'El Ensueño' 'Colón'\n",
            " 'Barrio Cerrado \"El Aromo\"' 'Barrio Cerrado \"La Retama\"' 'Campo Daromy'\n",
            " 'Villa General Tomas Guido' 'La Providencia Resort & Country Club'\n",
            " 'Magdalena' 'Maquinista Savio' 'Gutierrez' 'Chivilcoy' 'Los Toldos'\n",
            " 'Villa Numancia' 'Norte' 'Bragado' 'Bosque Alegre' 'General Pirán'\n",
            " 'Gobernador Obligado' 'Club de Campo Los Puentes' 'Fincas de Duggan'\n",
            " 'Etcheverry' 'Área 9 \"Nuestra Señora de la Paz\"' 'Gorchs' 'Lima'\n",
            " 'Camet Norte' 'El Portal' 'Barrio Privado El Recodo  S.A.'\n",
            " 'Barrio Cerrado \"La Tranquera\"' 'Cabildo'\n",
            " 'Barrio Cerrado \"Altos de la Horqueta\"' 'Barrio San Benito'\n",
            " 'Carmen de Patagones' 'Barrio Cerrado \"San Manuel\"'\n",
            " 'Buenos Aires Golf Club' 'Guadalupe' 'Barrio Cerrado \"Boulevares\"'\n",
            " 'Barrio Cerrado \"Los Faroles\"' 'Villa Bertha' 'Barrio 9 de Julio' 'Alem'\n",
            " 'Faro Norte' 'Barrio La Florida' 'Carhué' 'Barrio Cerrado \"La Escondida\"'\n",
            " 'Barrio Cerrado San Joaquín' 'Golf Club Argentino' 'Coronel Dorrego'\n",
            " 'Country Village' 'Islas' 'Villars' 'Navarro' 'Barrio Privado La Campiña'\n",
            " 'Barrio Cerrado \"Champagnat\"' 'Vivorata' 'Barrio El Progreso' 'Ayacucho'\n",
            " 'Pinos de Anchorena' 'Barrio Fortunato de La Plaza' 'Barrio Libertad'\n",
            " 'Chapadmalal' 'Barrio El Sosiego' 'Barrio Belisario Roldán'\n",
            " 'Comandante Nicanor Otamendi' 'General Mansilla' 'Altos de Hudson I'\n",
            " 'William Morris' 'Barrio Cerrado \"Los Ombúes de Hudson\"' 'Villa Ruiz'\n",
            " 'Altos de Matheu' 'Gorina' 'Área 8 \"Nuestra Señora de Torreciudad\"'\n",
            " 'Colinas Verdes' 'Marina Canestrari' 'Daireaux'\n",
            " 'Vila Vela Terrazas al Lago' 'M Benitez' 'Club de Campo Las Perdices'\n",
            " 'Barrio cerrado Camino Real' 'Tapalqué' 'Villa San Luis' 'Dolores'\n",
            " 'Área 10 \"Nuestra Señora De Fátima\"' 'San Miguel del Monte'\n",
            " 'Cruce Castelar' 'La Hojas Club de Campo' 'Bermúdez'\n",
            " 'Área 1 \"Nuestra Señora del Pilar\"' 'El Metejon' 'Los Berros' 'Piñeiro'\n",
            " 'Barrio Cerrado \"Barrancas de Iraola\"'\n",
            " 'Área 6 \"Nuestra Señora de Loreto\"' 'Crucecita' 'Country Golf El Sosiego'\n",
            " 'Frente Mar' 'Santa Lucía' 'Country Sociedad Hebraica Argentina'\n",
            " 'Barrio Cerrado \"Los Ceibos\"' 'Vieytes' 'Gobernador Castro'\n",
            " 'Barrio Cerrado \"Las Victorias\"' 'Barrio Cerrado \"Los Condes\"' 'Pereyra'\n",
            " 'Barrio Cerrado \"La Montura\"' 'Norumbega' 'Puerto Paraná'\n",
            " 'Shopping Los Gallegos' 'Plomer' 'Ringuelet'\n",
            " 'Barrio Parque Almirante Irízar' 'Alfar' 'Río Tala'\n",
            " 'Laguna de los Padres' 'Los Robles de Maschwitz'\n",
            " 'Barrio Cerrado \"La Chacra\"' 'Barrio Privado El Resuello' 'Campo de Mayo'\n",
            " 'Galapagos Country Club' 'Santa Trinidad' 'Saforcada'\n",
            " 'Armenia Country Club' 'Barrio San Miguel' 'La Candida - Club de Campo'\n",
            " 'Barrio Cerrado \"Los Tacos\"' 'Área 12 \"Nuestra Señora de la Asunción\"'\n",
            " 'Azul' 'Veinte de Junio' 'Pirovano' 'Chacabuco' 'Parque Peña'\n",
            " 'Barrio El Jardín' 'Barrio La Deseada' 'Carlos Beguerie'\n",
            " 'Barrio Aeroparque' 'Larena Country Club' 'El Boquerón' 'Monasterio'\n",
            " 'Sourigues' 'Villa Coronel Zapiola' 'Club de Campo Las Cañuelas'\n",
            " 'Gómez de la Vega' 'Playa Serena' 'Salto'\n",
            " 'Barrio Santa Matilde - Comarcas de Luján' 'La Honorata'\n",
            " 'Barrio Cerrado \"Nuevo Pilar\"' 'San Sebastián' 'Chacras del Alba'\n",
            " 'Roosevelt' 'Labardén' 'Rocha' 'Zona Rural' 'Médanos' 'Mayor Buratovich'\n",
            " 'Barrio Privado María Eugenia' 'Pigüé' 'Los Naranjos' 'Barrio Obrero'\n",
            " 'Pilar Plaza' 'San Francisco' 'Barrio Cerrado \"El Mirasol\"'\n",
            " 'La Buena Moza' 'Ingeniero Moneta' 'Country Centauros' 'Viña' 'Olavarría'\n",
            " 'Villa Ramallo' 'Barrio Cerrado River Oaks' 'Santa Coloma' 'Las Armas'\n",
            " 'Barrio Cerrrado \"Milberg Town\"' 'Francisco Madero' 'La Campana'\n",
            " 'Barrio Privado Santo Domingo' 'Chacras de Gral Lavalle' 'El Remanso'\n",
            " 'Country El Venado' 'Gral San Martin' 'Sur' 'Aero Country Club'\n",
            " 'Barrio Cerrado \"Tigre Chico\"' 'Pellegrini' 'General Alvear' 'Churruca'\n",
            " 'José María Jáuregui' 'Paraje Vagues' 'Barrio Cerrado \"El Portal\"'\n",
            " 'Barrio Cerrado \"La Posta\"' 'Jeppener' 'Princess'\n",
            " 'Barrio Cerrado \"Palmares de Pilar\"' 'Barrio Cerrado \"Las Araucarias\"'\n",
            " 'Roberts' 'Pavón' 'Ferré' 'Country Lago Manzanares' 'Barrio Melazzi'\n",
            " 'Barrio Cerrado \"Santa Clara\"' 'Barrio Sarmiento'\n",
            " 'Barrio Cerrado \"Ayres Chico\"' 'Carlos Tejedor'\n",
            " 'Barrio Fincas de Alvarez' 'Cardales Country Club' 'Nueva Roma'\n",
            " 'Villa Granaderos De San Martin' 'Marinas H' 'Coronel Pringles'\n",
            " 'Castelli' 'Nueve de Julio' 'Solís' 'Gobernador Udaondo'\n",
            " 'Barrio Cerrado \"La Legua\"' 'Villa Fiorito'\n",
            " 'Área 11 \"Nuestra Señora de Lourdes\"' 'Estacion Chapadmalal' 'La Parada'\n",
            " 'Rincon' 'Barrio Cerrado Cooperativa Gran Buenos Aires (COBE)'\n",
            " 'General Rojo' 'Alberti' 'Barrio Privado Ciudad Jardin'\n",
            " 'Posada de Los Lagos - Club de Campo' 'AREA 60 - La Victoria'\n",
            " 'Complejo de Barrios Privados Tiempos de Canning'\n",
            " 'Barrio Cerrado \"La Otilia\"' 'Cañada Seca' 'Barrio Cerrado Los Abedules'\n",
            " 'General Lavalle' 'Empalme' 'Barrio Privado Puerto Trinidad'\n",
            " 'Barrio Cerrado \"California Village\"' 'Barrio Cerrado \"La Candelaria\"'\n",
            " 'El Perdido' 'La Balandra' 'Santa Inés' 'Saavedra' 'Blancagrande'\n",
            " 'Sierra Chica' 'Villa General Arias' 'Palo Blanco' 'Barrio Las Lilas'\n",
            " 'Santa Rosa' 'Villa Ayacucho' 'Barrio San Julian' 'Campeche'\n",
            " 'La Arboleda de Maschwitz' 'Centro Guerrero' 'Barrio Los Tilos'\n",
            " 'Inés Indart' 'Pedro Luro' 'Villa Pueyrredon' 'Puan' 'Grosellar'\n",
            " 'Barrio Las Margaritas' 'Colonia San Martín' 'General Rivas'\n",
            " 'Villa Brown' 'Barrio Parque Matheu' 'Canasvieiras' 'Olascoaga' 'Ordoqui'\n",
            " 'El Pilar' 'Barrio Alto Camet' 'Barrio San Marco'\n",
            " 'Juan Nepomuceno Fernández' 'Samborombón' 'La Faustina' 'La Luisa'\n",
            " 'El Paraíso' 'Las Acacias de Bella Vista' 'Barrio Cerrado La Embajada'\n",
            " 'Villa Bordeau' 'Santa Luisa' 'Ciudad Del Libertador'\n",
            " 'Barrio Lomas de Santa Cecila' 'Barrio Jorge Newbery' 'Manzone'\n",
            " \"General Eduardo O'Brien\" 'Juan Cousté' 'Veinticinco de Mayo'\n",
            " 'Álvarez de Toledo' 'Comandante Giribone' 'Juan Bautista Alberdi'\n",
            " 'Los Cachorros' 'Colonia Vélaz' 'Matheu Grande'\n",
            " 'Barrio Cerrado \"Bella Vista Chico\"' 'Benito Juárez' 'Bajo Hondo'\n",
            " 'Country Los Rosales' 'Barrio Cerrado Malibú' 'Barrio Cerrado Campo Azul'\n",
            " 'Cucullú' 'Los Troncos Country Club' 'La Trinidad' 'Lozano'\n",
            " 'General Juan Madariaga' 'Orense:' 'Tierras Altas' 'Ramos Otero'\n",
            " 'Asturias' 'Hilario Ascasubi' 'Pasman' 'Huanguelén' 'Villa Iris'\n",
            " 'Tres Sargentos' 'Bosque Real Country Club' 'San Manuel' 'Las Chacras'\n",
            " 'Campo Grande' 'La Invencible' 'Balneario Laguna de Gómez'\n",
            " 'Barrio Parque Las Acacias' 'El Triunfo' 'Ignacio Correas'\n",
            " 'AREA 60 - La Reserva Escondida' 'Juan José Paso' 'Beruti' 'Plá'\n",
            " 'Casalins' 'Agustín Mosconi' 'Tornquist' 'Villa Monteagudo'\n",
            " 'Lagos San Eliseo' 'Villa Santa Rosa' 'Conesa' 'Hale' 'Tres Algarrobos'\n",
            " 'Barrio 2 de Abril' 'Triunvirato' 'Barrio San Eduardo'\n",
            " 'Barrio Cerrado \"Pilar House\"']\n"
          ]
        }
      ]
    },
    {
      "cell_type": "markdown",
      "source": [
        "Vemos que df_test tiene solo Argentina, en cambio, df_train, tiene varios paises mas.\n",
        "\n",
        "Para esto creo que seria conveniente eliminar los demas paises.\n",
        "\n",
        "df_test tiene solo capital federal en las ciudades. Vamos a ver entonces que ciudades argentinas tiene df_train"
      ],
      "metadata": {
        "id": "Ujmy4tTeT5iW"
      }
    },
    {
      "cell_type": "code",
      "source": [
        "for i in range(1,5):\n",
        "  print(\"--------------------------------------------------------------\")\n",
        "  print(f\"estamos en l{i}\")\n",
        "  print(df_train[df_train['l1'] == 'Argentina'][f'l{i}'].unique())"
      ],
      "metadata": {
        "colab": {
          "base_uri": "https://localhost:8080/"
        },
        "id": "j2rvgkeJQ_Rt",
        "outputId": "67f38b17-45e3-4cc5-e47f-b2a628b07685"
      },
      "execution_count": null,
      "outputs": [
        {
          "output_type": "stream",
          "name": "stdout",
          "text": [
            "--------------------------------------------------------------\n",
            "estamos en l1\n",
            "['Argentina']\n",
            "--------------------------------------------------------------\n",
            "estamos en l2\n",
            "['Capital Federal' 'Bs.As. G.B.A. Zona Sur' 'Buenos Aires Interior'\n",
            " 'Córdoba' 'Bs.As. G.B.A. Zona Norte' 'Santa Fe' 'Tucumán'\n",
            " 'Buenos Aires Costa Atlántica' 'San Luis' 'Neuquén'\n",
            " 'Bs.As. G.B.A. Zona Oeste' 'Entre Ríos' 'Mendoza' 'Misiones' 'Río Negro'\n",
            " 'Tierra Del Fuego' 'Chubut' 'Corrientes' 'Salta' 'La Rioja' 'La Pampa'\n",
            " 'Chaco' 'San Juan' 'Jujuy' 'Santa Cruz' 'Santiago Del Estero' 'Formosa'\n",
            " 'Catamarca']\n",
            "--------------------------------------------------------------\n",
            "estamos en l3\n",
            "['Colegiales' 'Boedo' 'Almagro' ... 'Santa Clara de Buena Vista'\n",
            " 'Bella Italia' 'Saladero Mariano Cabal']\n",
            "--------------------------------------------------------------\n",
            "estamos en l4\n",
            "[nan 'Palermo Viejo' 'Villa Elisa' 'La Plata' 'Palermo Hollywood'\n",
            " 'Palermo Soho' 'Haras del Sur I' 'Manuel B Gonnet' 'Palermo Chico'\n",
            " 'City Bell' 'Tolosa' 'Villa Elvira' 'San Carlos' 'José Hernández'\n",
            " 'Urquiza' 'Villa Ballester' 'Estancias del Pilar' 'Dique Luján'\n",
            " 'Manuel Alberti' 'Solares del Talar' 'General Pacheco' 'Nordelta'\n",
            " 'Santa Barbara Barrio Cerrado' 'Club de Campo Manuel Belgrano'\n",
            " 'Barrio San Matías' 'Haras Santa Maria' 'San Isidro' 'Macrocentro'\n",
            " 'Country Saint Thomas' 'Lanús Oeste' 'Morón' 'Alta Córdoba' 'Puerto'\n",
            " 'San Andres' 'Monte Grande' 'Ramos Mejía' 'Junín' 'Berazategui'\n",
            " 'Plaza Colón' 'Canning' 'Moreno' 'San Miguel' 'Lanús Este' 'Bernal'\n",
            " 'Villa Udaondo' 'Ciudad Jardín Lomas del Palomar' 'Villa España'\n",
            " 'Haras María Victoria' 'Pablo Podestá' 'Loma Hermosa' 'Playa Grande'\n",
            " 'Balcarce' 'Villa Celina' 'Centro' 'Lomas de Zamora' 'Caseros'\n",
            " 'Villa Vatteone' 'Ciudadela' 'San Carlos de Bariloche' 'Nueva Córdoba'\n",
            " 'Villa Dominico' 'Villa Madero' 'Beccar' 'Olivos' 'Florida' 'San Martín'\n",
            " 'Lomas del Mirador' 'Avellaneda' 'Hermitage' 'Plaza Mitre' 'Torreón'\n",
            " 'Los Polvorines' 'San Fernando' 'Sáenz Peña' 'Bella Vista'\n",
            " 'Ricardo Rojas' 'San Justo' 'José C Paz' 'Munro' 'Carapachay' 'Pilar'\n",
            " 'Condominio \"Las Mercedes\"' 'La Lucila' 'Ituzaingó' 'Haedo'\n",
            " 'Coronel Suárez' 'Martín Coronado' 'Berazategui Oeste' 'Villa Rosa'\n",
            " 'Barrio Cerrado \"Las Margaritas\"' 'Barrio Cerrado \"La Cañada de Pilar\"'\n",
            " 'Barrio Santa Teresa' 'Barrio San Isidro Labrador'\n",
            " 'Barrio Cerrado San Andres' 'La Comarca' 'Barrio San Gabriel' 'Luján'\n",
            " 'Belén de Escobar' 'GreenVille Polo & Resort' 'Tigre' 'Martínez'\n",
            " 'Villa Luzuriaga' 'Villa Sarmiento' 'Chascomús' 'Fincas de Hudson'\n",
            " 'Barrio Cerrado \"Ayres Plaza\"' 'El Encuentro' 'Stella Maris'\n",
            " 'Vicente López' 'Benavidez' 'Muñiz' 'San Vicente' 'El Jagüel'\n",
            " 'Valentín Alsina' 'Merlo' 'Banfield' 'Villa Bosch' 'Villa Martelli'\n",
            " 'Francisco Alvarez' 'Remedios de Escalada' 'General Paz'\n",
            " 'Barrio Cerrado El Lauquén' 'El Zorzal'\n",
            " 'Barrio Santa Guadalupe - Pilar del Este' 'Pilar del Lago'\n",
            " 'Barrio Los Jazmines - Pilar del Este' 'Barrio San Agustin' 'Castelar'\n",
            " 'Maschwitz' 'Bonnement' 'San Antonio De Padua' 'Tandil' 'San Pedro'\n",
            " 'Sarandi' 'Alberdi' 'Temperley' 'Sierra de los Padres' 'Villa Adelina'\n",
            " 'Área 5 \"Nuestra Señora de Itatí\"' 'Bahía del Sol'\n",
            " 'Terravista Barrio Privado' 'La Lomada de Pilar'\n",
            " 'Barrio Cerrado Don Joaquín' 'Pichincha' 'Berisso' 'Mercedes' 'Ensenada'\n",
            " 'Carlos Keen' 'Comodoro Py' 'Santa Elena' 'Solar del Bosque' 'Turdera'\n",
            " 'Burzaco' 'Abasto' 'Longchamps' 'Grand Bell' 'Echeverría del Lago'\n",
            " 'Miralagos' 'Melchor Romero' 'Wilde' 'El Canton Barrio Puerto'\n",
            " 'Rincón de Milberg' 'Virreyes' 'Barrio San Alfonso - Pilar del Este'\n",
            " 'Highland Park Country Club' 'Barrio Privado \"Ayres de Pilar\"' 'Acassuso'\n",
            " 'Boulogne Sur Mer' 'Tortuguitas' 'Villa de Mayo' 'Grand Bourg' 'Garín'\n",
            " 'Haras María Elena' 'Paso del Rey' 'Campos de Álvarez' 'Aldo Bonzi'\n",
            " 'Santos Lugares' 'Gregorio de Laferrere' 'Lanús' 'Zelaya'\n",
            " 'General Rodríguez' 'Los Cardales' 'General Arenales'\n",
            " 'San Antonio de Areco' 'Barrio Cerrado \"Altos de Pacheco\"'\n",
            " 'Club de Campo La Martona' 'Barrio Cerrado \"La Merced\"' 'Victoria'\n",
            " 'Playa Chica' 'Güemes' 'Bermudas Country Club' 'El Talar' 'Don Torcuato'\n",
            " 'Terralagos' 'Campo Chico Country Club' 'Jose Leon Suarez' 'San Juan'\n",
            " 'Matheu' 'El Naudir' 'Villa Ventana' 'El Pato' 'Barrio Cerrado'\n",
            " 'La Caleta' 'Gloria de la Peregrina' 'Ranchos' 'Quilmes' 'Cuartel V'\n",
            " 'Plaza Rocha' 'Villa Tesei' 'La Reja' 'Del Viso' 'Open Door' 'Loma Verde'\n",
            " 'Olivera' 'El Canton Barrio Islas' 'Ciudad Evita' 'Barrio El Moro'\n",
            " 'Martindale Country Club' 'Barrio Cerrado Las Casuarinas'\n",
            " 'Barrio Cerrado \"El Portillo\"' 'Pipinas' 'Alejandro Korn'\n",
            " 'General Belgrano' 'Coronel Brandsen' 'Ezpeleta' 'Fincas de San Vicente'\n",
            " 'Complejo de Barrios Privados La Magdalena' 'Jose Marmol' 'Adrogué'\n",
            " 'Barrio Cerrado Los Troncos' 'Rafael Calzada'\n",
            " 'Barrio  Pirvado Los Naranjos' 'Barrio Privado El Rodal'\n",
            " 'Vicente Casares' 'Billinghurst' 'Troncos del Talar'\n",
            " 'Mayling Club de Campo' 'Barrio Cerrado \"Los Potrillos\"'\n",
            " 'El Canton Barrio Golf' 'San Francisco Club de Campo'\n",
            " 'Haras del Pilar - Las Praderas 1 y 2' 'Área de Promoción El Triángulo'\n",
            " 'Miraflores Country Club' 'Altamira' 'Barrio San Rafael'\n",
            " 'Los Lagartos Country Club' 'Carmel Country Club' 'El Palomar'\n",
            " 'Parque Leloir' 'González Catán' 'Isidro Casanova' 'La Tablada' 'Chauvín'\n",
            " 'Country El Ombú' 'Glew' 'Santa Isabel' 'Country Banco Provincia'\n",
            " 'Barrio Santa Irene - Comarcas de Luján' 'Luis Guillón' 'Ezeiza'\n",
            " 'Ingeniero Pablo Nogués' 'Septiembre' 'Santa María de los Olivos'\n",
            " 'Maria del Parque Barrio Privado' 'San Diego Country Club' 'Hurlingham'\n",
            " 'Tapiales' 'Barrio Cerrado \"Buen Retiro\"' 'Boca Ratón'\n",
            " 'San Francisco Solano' 'Pehuajó' 'Ranelagh' 'Llavallol'\n",
            " 'Carlos Spegazzini' 'La horqueta de Echeverría' 'Malvinas Argentinas'\n",
            " 'Villa Lynch' 'Pilar Village' 'Lomas de Benavidez'\n",
            " 'La Escondida de Manzanares' 'Santa-Catalina' 'Abril Club de Campo'\n",
            " 'La Capilla' 'Punta Chica Village' 'Barrio Santa Clara' 'Gerli'\n",
            " 'San Isidro Chico' 'Country San Jorge Village' 'Lobos' 'La Unión'\n",
            " 'Capilla del Señor' 'Empalme Lobos' 'Platanos'\n",
            " 'Barrio Cerrado \"El Atardecer\"' 'Barrancas de Santa María' 'Las Flores'\n",
            " 'Cuba Country Club' 'Windbells' 'Saint Matthews' 'Villa Ariza' 'Guernica'\n",
            " 'Cofico' 'Villa Maipu' 'Fincas del Lago' 'Domselaar' 'Fátima' 'Obligado'\n",
            " 'Barrio Parque General San Martin' 'Country Nuevo Quilmes' 'Don Orione'\n",
            " 'Los Acantilados' 'Haras del Pilar - El Establo' 'El Canton Barrio Norte'\n",
            " 'Los Hornos' 'Barrio Cerrado \"La Rinconada\"' 'Constitución' 'El Cazador'\n",
            " 'Marcos Paz' 'Benavidez Greens' 'Hacoaj Barrio Cerrado'\n",
            " 'Boat Center Barrio Cerrado' 'Mariano Acosta' 'Laguna del Sol'\n",
            " 'Ingeniero Juan Allan' 'Las Tahonas' 'Once de Septiembre' 'Pergamino'\n",
            " 'Trenque Lauquen' 'Barrio Cerrado \"Tigre Joven\"'\n",
            " 'Barrio Cerrado Fincas de Maschwitz' 'Country Club Santa Silvina'\n",
            " 'Haras del Pilar - La Caballeriza' 'Barrio Ceibos' 'Rumenco'\n",
            " 'Barbarita, Barrio Cerrado' 'San Nicolás de los Arroyos' 'Atalaya'\n",
            " 'Cañuelas' 'Pompeya' 'Manzanares' 'Barrio San Francisco'\n",
            " 'Virrey del Pino' 'Rafael Castillo' 'Barrio La Casualidad'\n",
            " 'Barrio Cerrado \"Los Fresnos\"' '9 de Abril' 'Villa Lía'\n",
            " 'Florencio Varela' 'Ministro Rivadavia' 'St. Patrick Country'\n",
            " 'Barrio cerrado Santa Ana' 'Barrio Weston'\n",
            " 'Barrio Cerrado \"El Casco de Moreno\"' 'Prados del Oeste'\n",
            " 'Palmers Cottage' 'Don Bosco' 'Haras del Sol - Barrio Privado'\n",
            " 'Terrazas de Ayres' 'Alvarez del Bosque' 'Chacras de La Trinidad'\n",
            " 'Aeropuerto Internacional Ezeiza' 'Las Golondrinas' 'Abbott'\n",
            " 'Marinas Golf Barrio Cerrado' 'Bosques' 'Santa Juana' 'El Rocío'\n",
            " ' Country Maschwitz Club' 'Greenlands S.A.' 'Baradero'\n",
            " 'Barrio Cerrado \"Tres Horquetas\"' 'Trujui' 'Las Avenidas' 'Caisamar'\n",
            " 'La Perla' 'Tribunales' 'Barrio San Juan' 'Indio Cuá Country Club'\n",
            " 'Bosque Peralta Ramos' 'Playa Varese' 'Santa Catalina' 'Los Troncos'\n",
            " 'Talar del Lago 1' 'El Talar de Pacheco' 'Villa Primera'\n",
            " 'Barrio Privado San Lucas' 'La Cesarina' 'Monte Chingolo' 'El Gaucho'\n",
            " 'Materno' 'Terminal Vieja' 'Parque Mar Chiquita' 'Mundialista'\n",
            " 'Campos de Roca II' 'Campana' 'La Candelaria de Maschwitz'\n",
            " 'Barrio Lopez de Gomara' 'Colina de Peralta Ramos'\n",
            " 'Barrio Cerrado \"Pilar Privado\"' 'Cacharí' 'Albanueva Barrio Cerrado'\n",
            " 'Los Pilares - Barrio Privado' 'Barrio Santa Elena - Pilar del Este'\n",
            " 'Barrio Cerrado El Lucero' 'Hindu Club' 'La Martinica'\n",
            " 'El Pato Country Club' 'Tristán Suárez' 'Punta del Indio' 'Primera Junta'\n",
            " 'Libertad' 'Haras del Sur II' 'Arturo Seguí' 'Torres' 'Zárate'\n",
            " 'El Nacional Club de Campo' 'Los Pinos' 'Barrio Parque San Martin'\n",
            " \"Golfer's Country Club\" 'Virasoro Village' 'Fincas de Iraola II' 'Delta'\n",
            " 'La Ranita' 'Pueblo Doyle' 'Barrio Cerrado El Rebenque'\n",
            " 'Barrio Privado Los Olivares' 'Fincas del Alba' 'The Boating Club'\n",
            " 'Ingeniero Adolfo Sourdeaux' 'Barrancas de San Jose' 'Villa Centenario'\n",
            " 'Country Maschwitz Privado' 'Guillermo Hudson'\n",
            " 'Barrio Cerrado \"La Damasia\"' 'Barrio Privado Lagos de Canning'\n",
            " 'Barrio Cerrado \"Sausalito\"' 'La Colina Golf & Polo' 'Barrio Acacias'\n",
            " 'Uribelarrea' 'Barrio San Eduardo - Pilar del Este' 'La Pilarica'\n",
            " 'Barrio Vistas' 'Pacheco Golf Club' 'San Lucas Village' 'La Pastora'\n",
            " 'Arrecifes' 'Capitán Sarmiento' 'Haras del Sur IV' 'Sierra de la Ventana'\n",
            " 'Verónica' 'El Centauro' 'Barrio Marinas' 'San Alberto' 'El Molino'\n",
            " 'Barrio La Cuesta' 'Country Farm Club' 'Ocampo' 'Pontevedra'\n",
            " 'Villa Libertad' 'Punta Mogotes' 'Barrio Cerrado \"La Cautiva del Pilar\"'\n",
            " 'La Agustina' 'Barrio Santa Emilia - Pilar del Este' 'Santa Maria'\n",
            " 'Lomas de City Bell' 'Ex La Ponderosa' 'General Hornos'\n",
            " 'Área 7 \"Nuestra Señora de Luján\"' 'Pinzón' 'Dock Sud'\n",
            " 'Altos de Hudson II' 'Laguna Azul' 'Villa Raffo' 'Haras San Pablo'\n",
            " 'La Peregrina' 'Barrio Privado Santa Rita' 'Los Tres Coniles'\n",
            " 'San Andrés de Giles' 'Barrio Cerrado \"Isla del Sol\"'\n",
            " 'La Celina Barrio Privado' 'San Carlos Country Club - Entrada'\n",
            " 'Acacias Blancas' 'Barrio Cerrado \"Roble Joven\"' 'Derqui'\n",
            " 'General Las Heras' 'Gobernador Julio A Costa' 'Villanueva'\n",
            " 'Alejandro Petión' 'Salvador María' 'Álvarez Jonte' 'Villa Bonich'\n",
            " \"Marina Del Sol (Sun's Marine)\" 'Florida Oeste' 'Zeballos'\n",
            " 'Haras del Sur III' 'Campos de Roca' 'La Taquara' 'La Alameda'\n",
            " 'Barrio Zacagnini' 'Alto Los Cardales' 'José Ingenieros' 'Mi Refugio'\n",
            " 'San Eliseo Country, Golf, Hotel & Spa' 'Valle Claro' 'Talar del lago 2'\n",
            " 'Bahía San Blas' 'Villa Astolfi' 'Barrio Cerrado Lagos del Norte'\n",
            " 'Club Newman' 'Barrio Privado Villa Olivos' 'Coronel Vidal'\n",
            " 'Rincón de Maschwitz' 'Barrio El Martillo' 'Barrio Cerrado \"La Laguna\"'\n",
            " 'Villa La Florida' 'Barrio Cerrado \"Jacarandá\"'\n",
            " 'Barrio Privado Cruz del Sur' 'Barrio Cerrado \"Los Alcanfores\"'\n",
            " 'Barrio Privado Horizontes al Sur' 'Barrio Santa Isabel'\n",
            " 'Pilar Golf Country Club' 'Los Sauces Country Club' 'Lincoln'\n",
            " 'Barrio Cerrado \"Las Palmas\"' 'Barrio Cerrado La Colina' 'La Angelita'\n",
            " 'coordenadas 34.255511' 'Altos de Manzanares 1 y 2' 'Zapiola'\n",
            " 'Carmen de Areco' 'Santos Tesei' 'Barrio Cerrado \"Los Senderos\"'\n",
            " 'Country Club Aranjuez' 'Barrio San Jerónimo - Pilar del Este'\n",
            " 'Campo Grande Country Club' 'Villa General Necochea' 'Barrio Araucarias'\n",
            " 'Ramallo' 'Los Pingüinos Country Club'\n",
            " 'El Paraíso de Guernica Country Club' 'Altos del Golf'\n",
            " 'Barrio Cerrado \"La Delfina\"' 'Azcuénaga' 'Rincón de la Costa'\n",
            " 'Barrio Cerrado \"Soles de Pilar\"' 'Fincas de Iraola' 'Oriente'\n",
            " 'Estancia Alvear' 'La Lonja' 'Tortugas Country Club'\n",
            " 'Country La Tradición' 'Club El Carmen - Sector casas'\n",
            " 'Villa Mar Chiquita' 'Villa Chacabuco' 'Barrio Cerrado \"Los Laureles\"'\n",
            " 'Duggan' 'Barrio Cerrado \"La Emilia\"' 'General Pinto' 'Mechongué'\n",
            " 'Villa Argüello' 'Punta Lara' 'Barrio Cerrado \"Bosque Chico\"'\n",
            " 'Ing Ardigó' 'Barrio Cerrado \"El Trébol\"' 'Brickland' 'Parada Robles'\n",
            " 'Saladillo' 'Roque Pérez' 'Los Talas' 'El Venado II' 'Rauch'\n",
            " 'La Madrugada' 'El Libertador' 'Cortines' 'Club de Campo Pueyrredón'\n",
            " 'Máximo Paz' 'Los Horneros CC' 'La Esperanza Club de Campo'\n",
            " 'Barrio Cerrado \"La Candela\"' 'Los Angeles Village' 'Lisandro Olmos'\n",
            " 'Villa Pacheco' 'Dique 1' 'Pila' 'Medal Country Club' 'Olivos Golf Club'\n",
            " 'La Herradura' 'Mapuche Country Club' 'San José' 'El Casco de Leloir'\n",
            " 'Juramento' 'Gardey' 'Barrio Privado \"Lomas de Fátima\"' 'Elvira' 'Pardo'\n",
            " 'La Porteña' 'El Trigo' 'Pedernales' 'Terminal Nueva' 'Parque Luro'\n",
            " 'Barrio Santa Rita' 'Alférez San Martin' 'Punta Iglesia' 'Barrio Camet'\n",
            " 'Barrio San Jose' 'Colina Alegre' 'Naposta' ' los alamos'\n",
            " 'Barrio La Perla Norte' 'Barrio Santa Mónica' 'Batán' 'Claypole'\n",
            " 'San Miguel Oeste' 'Club de Campo Santa Maria' 'El Peligro'\n",
            " 'Barrio Cerrado La Masia' 'Barrio Cerrado \"El Estribo\"'\n",
            " 'Pilar Green Park' 'Barrio Cerrado \"Los Senderos II\"' 'Rincon Del Arca'\n",
            " 'Altos del Pilar' 'Del Valle' 'Los Pinares' 'Bernardino Rivadavia'\n",
            " 'Barrio Cerrado \"Las Marías\"' 'San Francisco de Bellocq'\n",
            " 'Club de Campo Aranzazu' 'San Miguel de Ghiso'\n",
            " 'Village Golf & Tennis Country Club' 'Bellocq' 'Country Club Las lajas'\n",
            " 'Barrio cerrado La Cascada' 'Barrio El Candil' 'Ingeniero White'\n",
            " 'Darregueira' 'Umbrales de la Merced' 'Barrio Alamo Alto'\n",
            " 'Club de Campo \"Los Ceibos\"' 'San Jose' 'Barrio Privado Altos del Sol'\n",
            " 'Tres Arroyos' 'La Angélica' 'El Ensueño' 'Colón'\n",
            " 'Barrio Cerrado \"El Aromo\"' 'Barrio Cerrado \"La Retama\"' 'Campo Daromy'\n",
            " 'Villa General Tomas Guido' 'La Providencia Resort & Country Club'\n",
            " 'Magdalena' 'Maquinista Savio' 'Gutierrez' 'Chivilcoy' 'Los Toldos'\n",
            " 'Villa Numancia' 'Norte' 'Bragado' 'Bosque Alegre' 'General Pirán'\n",
            " 'Gobernador Obligado' 'Club de Campo Los Puentes' 'Fincas de Duggan'\n",
            " 'Etcheverry' 'Área 9 \"Nuestra Señora de la Paz\"' 'Gorchs' 'Lima'\n",
            " 'Camet Norte' 'El Portal' 'Barrio Privado El Recodo  S.A.'\n",
            " 'Barrio Cerrado \"La Tranquera\"' 'Cabildo'\n",
            " 'Barrio Cerrado \"Altos de la Horqueta\"' 'Barrio San Benito'\n",
            " 'Carmen de Patagones' 'Barrio Cerrado \"San Manuel\"'\n",
            " 'Buenos Aires Golf Club' 'Barrio Cerrado \"Boulevares\"'\n",
            " 'Barrio Cerrado \"Los Faroles\"' 'Villa Bertha' 'Barrio 9 de Julio' 'Alem'\n",
            " 'Faro Norte' 'Barrio La Florida' 'Carhué' 'Barrio Cerrado \"La Escondida\"'\n",
            " 'Barrio Cerrado San Joaquín' 'Golf Club Argentino' 'Coronel Dorrego'\n",
            " 'Country Village' 'Islas' 'Villars' 'Navarro' 'Barrio Privado La Campiña'\n",
            " 'Barrio Cerrado \"Champagnat\"' 'Vivorata' 'Barrio El Progreso' 'Ayacucho'\n",
            " 'Pinos de Anchorena' 'Barrio Fortunato de La Plaza' 'Barrio Libertad'\n",
            " 'Chapadmalal' 'Barrio El Sosiego' 'Barrio Belisario Roldán'\n",
            " 'Comandante Nicanor Otamendi' 'General Mansilla' 'Altos de Hudson I'\n",
            " 'William Morris' 'Barrio Cerrado \"Los Ombúes de Hudson\"' 'Villa Ruiz'\n",
            " 'Altos de Matheu' 'Gorina' 'Área 8 \"Nuestra Señora de Torreciudad\"'\n",
            " 'Colinas Verdes' 'Marina Canestrari' 'Daireaux'\n",
            " 'Vila Vela Terrazas al Lago' 'M Benitez' 'Club de Campo Las Perdices'\n",
            " 'Barrio cerrado Camino Real' 'Tapalqué' 'Villa San Luis' 'Dolores'\n",
            " 'Área 10 \"Nuestra Señora De Fátima\"' 'San Miguel del Monte'\n",
            " 'Cruce Castelar' 'La Hojas Club de Campo' 'Bermúdez'\n",
            " 'Área 1 \"Nuestra Señora del Pilar\"' 'El Metejon' 'Los Berros' 'Piñeiro'\n",
            " 'Barrio Cerrado \"Barrancas de Iraola\"'\n",
            " 'Área 6 \"Nuestra Señora de Loreto\"' 'Crucecita' 'Country Golf El Sosiego'\n",
            " 'Frente Mar' 'Santa Lucía' 'Country Sociedad Hebraica Argentina'\n",
            " 'Barrio Cerrado \"Los Ceibos\"' 'Vieytes' 'Gobernador Castro'\n",
            " 'Barrio Cerrado \"Las Victorias\"' 'Barrio Cerrado \"Los Condes\"' 'Pereyra'\n",
            " 'Barrio Cerrado \"La Montura\"' 'Norumbega' 'Puerto Paraná'\n",
            " 'Shopping Los Gallegos' 'Plomer' 'Ringuelet'\n",
            " 'Barrio Parque Almirante Irízar' 'Alfar' 'Río Tala'\n",
            " 'Laguna de los Padres' 'Los Robles de Maschwitz'\n",
            " 'Barrio Cerrado \"La Chacra\"' 'Barrio Privado El Resuello' 'Campo de Mayo'\n",
            " 'Galapagos Country Club' 'Santa Trinidad' 'Saforcada'\n",
            " 'Armenia Country Club' 'Barrio San Miguel' 'La Candida - Club de Campo'\n",
            " 'Barrio Cerrado \"Los Tacos\"' 'Área 12 \"Nuestra Señora de la Asunción\"'\n",
            " 'Azul' 'Veinte de Junio' 'Pirovano' 'Chacabuco' 'Parque Peña'\n",
            " 'Barrio El Jardín' 'Barrio La Deseada' 'Carlos Beguerie'\n",
            " 'Barrio Aeroparque' 'Larena Country Club' 'El Boquerón' 'Monasterio'\n",
            " 'Sourigues' 'Villa Coronel Zapiola' 'Club de Campo Las Cañuelas'\n",
            " 'Gómez de la Vega' 'Playa Serena' 'Salto'\n",
            " 'Barrio Santa Matilde - Comarcas de Luján' 'La Honorata'\n",
            " 'Barrio Cerrado \"Nuevo Pilar\"' 'San Sebastián' 'Chacras del Alba'\n",
            " 'Roosevelt' 'Labardén' 'Rocha' 'Zona Rural' 'Médanos' 'Mayor Buratovich'\n",
            " 'Barrio Privado María Eugenia' 'Pigüé' 'Los Naranjos' 'Barrio Obrero'\n",
            " 'Pilar Plaza' 'San Francisco' 'Barrio Cerrado \"El Mirasol\"'\n",
            " 'La Buena Moza' 'Ingeniero Moneta' 'Country Centauros' 'Viña' 'Olavarría'\n",
            " 'Villa Ramallo' 'Barrio Cerrado River Oaks' 'Santa Coloma' 'Las Armas'\n",
            " 'Barrio Cerrrado \"Milberg Town\"' 'Francisco Madero' 'La Campana'\n",
            " 'Barrio Privado Santo Domingo' 'Chacras de Gral Lavalle' 'El Remanso'\n",
            " 'Country El Venado' 'Gral San Martin' 'Sur' 'Aero Country Club'\n",
            " 'Barrio Cerrado \"Tigre Chico\"' 'Pellegrini' 'General Alvear' 'Churruca'\n",
            " 'José María Jáuregui' 'Paraje Vagues' 'Barrio Cerrado \"El Portal\"'\n",
            " 'Barrio Cerrado \"La Posta\"' 'Jeppener' 'Princess'\n",
            " 'Barrio Cerrado \"Palmares de Pilar\"' 'Barrio Cerrado \"Las Araucarias\"'\n",
            " 'Roberts' 'Pavón' 'Ferré' 'Country Lago Manzanares' 'Barrio Melazzi'\n",
            " 'Barrio Cerrado \"Santa Clara\"' 'Barrio Sarmiento'\n",
            " 'Barrio Cerrado \"Ayres Chico\"' 'Carlos Tejedor'\n",
            " 'Barrio Fincas de Alvarez' 'Cardales Country Club' 'Nueva Roma'\n",
            " 'Villa Granaderos De San Martin' 'Marinas H' 'Coronel Pringles'\n",
            " 'Castelli' 'Nueve de Julio' 'Solís' 'Gobernador Udaondo'\n",
            " 'Barrio Cerrado \"La Legua\"' 'Villa Fiorito'\n",
            " 'Área 11 \"Nuestra Señora de Lourdes\"' 'Estacion Chapadmalal' 'La Parada'\n",
            " 'Rincon' 'Barrio Cerrado Cooperativa Gran Buenos Aires (COBE)'\n",
            " 'General Rojo' 'Alberti' 'Barrio Privado Ciudad Jardin'\n",
            " 'Posada de Los Lagos - Club de Campo' 'AREA 60 - La Victoria'\n",
            " 'Complejo de Barrios Privados Tiempos de Canning'\n",
            " 'Barrio Cerrado \"La Otilia\"' 'Cañada Seca' 'Barrio Cerrado Los Abedules'\n",
            " 'General Lavalle' 'Empalme' 'Barrio Privado Puerto Trinidad'\n",
            " 'Barrio Cerrado \"California Village\"' 'Barrio Cerrado \"La Candelaria\"'\n",
            " 'El Perdido' 'La Balandra' 'Santa Inés' 'Saavedra' 'Blancagrande'\n",
            " 'Sierra Chica' 'Villa General Arias' 'Palo Blanco' 'Barrio Las Lilas'\n",
            " 'Santa Rosa' 'Villa Ayacucho' 'Barrio San Julian'\n",
            " 'La Arboleda de Maschwitz' 'Centro Guerrero' 'Barrio Los Tilos'\n",
            " 'Inés Indart' 'Pedro Luro' 'Villa Pueyrredon' 'Puan' 'Grosellar'\n",
            " 'Barrio Las Margaritas' 'Colonia San Martín' 'General Rivas'\n",
            " 'Villa Brown' 'Barrio Parque Matheu' 'Olascoaga' 'Ordoqui' 'El Pilar'\n",
            " 'Barrio Alto Camet' 'Barrio San Marco' 'Juan Nepomuceno Fernández'\n",
            " 'Samborombón' 'La Faustina' 'La Luisa' 'El Paraíso'\n",
            " 'Las Acacias de Bella Vista' 'Barrio Cerrado La Embajada' 'Villa Bordeau'\n",
            " 'Santa Luisa' 'Ciudad Del Libertador' 'Barrio Lomas de Santa Cecila'\n",
            " 'Barrio Jorge Newbery' 'Manzone' \"General Eduardo O'Brien\" 'Juan Cousté'\n",
            " 'Veinticinco de Mayo' 'Álvarez de Toledo' 'Comandante Giribone'\n",
            " 'Juan Bautista Alberdi' 'Los Cachorros' 'Colonia Vélaz' 'Matheu Grande'\n",
            " 'Barrio Cerrado \"Bella Vista Chico\"' 'Benito Juárez' 'Bajo Hondo'\n",
            " 'Country Los Rosales' 'Barrio Cerrado Malibú' 'Barrio Cerrado Campo Azul'\n",
            " 'Cucullú' 'Los Troncos Country Club' 'La Trinidad' 'Lozano'\n",
            " 'General Juan Madariaga' 'Orense:' 'Tierras Altas' 'Ramos Otero'\n",
            " 'Asturias' 'Hilario Ascasubi' 'Pasman' 'Huanguelén' 'Villa Iris'\n",
            " 'Tres Sargentos' 'Bosque Real Country Club' 'San Manuel' 'Las Chacras'\n",
            " 'La Invencible' 'Balneario Laguna de Gómez' 'Barrio Parque Las Acacias'\n",
            " 'El Triunfo' 'Ignacio Correas' 'AREA 60 - La Reserva Escondida'\n",
            " 'Juan José Paso' 'Beruti' 'Plá' 'Casalins' 'Agustín Mosconi' 'Tornquist'\n",
            " 'Villa Monteagudo' 'Lagos San Eliseo' 'Villa Santa Rosa' 'Conesa' 'Hale'\n",
            " 'Tres Algarrobos' 'Barrio 2 de Abril' 'Triunvirato' 'Barrio San Eduardo'\n",
            " 'Barrio Cerrado \"Pilar House\"']\n"
          ]
        }
      ]
    },
    {
      "cell_type": "markdown",
      "source": [
        "Podemos observar que df_train tiene mas que Capital Federal.\n",
        "\n",
        "Entonces tendremos que decidir si vamos a trabajar con todas las ciudades, o abarcar mas que nada Capital Federal.\n",
        "\n",
        "Vamos a ver ahora cuantos datos tendriamos si eliminamos a los demas paises en \"l1\""
      ],
      "metadata": {
        "id": "p7c5IWNIqdrr"
      }
    },
    {
      "cell_type": "code",
      "source": [
        "n_casas_arg=df_train[df_train[\"l1\"]==\"Argentina\"][\"l1\"].count()\n",
        "proporcion_casas_arg = n_casas_arg / len(df_train[\"l1\"])\n",
        "print(f\"Tendriamos {n_casas_arg} casas en Argentina, es decir, {proporcion_casas_arg * 100:0.2f} % del total\")\n",
        "\n",
        "\n",
        "n_casas_arg=df_train[df_train[\"l1\"]!=\"Argentina\"][\"l1\"].count()\n",
        "proporcion_casas_arg = n_casas_arg / len(df_train[\"l1\"])\n",
        "print(f\"Tendriamos {n_casas_arg} casas fuera de Argentina, es decir, {proporcion_casas_arg * 100:0.2f} % del total\")"
      ],
      "metadata": {
        "colab": {
          "base_uri": "https://localhost:8080/"
        },
        "id": "iP__HVtiaEN4",
        "outputId": "dbac8c58-500d-4a50-af34-df7a1d744619"
      },
      "execution_count": null,
      "outputs": [
        {
          "output_type": "stream",
          "name": "stdout",
          "text": [
            "Tendriamos 966410 casas en Argentina, es decir, 98.09 % del total\n",
            "Tendriamos 18770 casas fuera de Argentina, es decir, 1.91 % del total\n"
          ]
        }
      ]
    },
    {
      "cell_type": "markdown",
      "source": [
        "Vamos a ver cuantos datos tendriamos si solo consideramos en \"l2\" a capital federal como esta en df_test"
      ],
      "metadata": {
        "id": "JOmUuO88t_G_"
      }
    },
    {
      "cell_type": "code",
      "source": [
        "n_casas_cf=df_train[df_train[\"l2\"]=='Capital Federal']['l2'].count()\n",
        "proporcion_casas_cf = n_casas_cf / len(df_train[\"l1\"])\n",
        "\n",
        "print(f\"Tendriamos {n_casas_cf} casas en Argentina, es decir, {proporcion_casas_cf * 100:0.2f} % del total\")\n"
      ],
      "metadata": {
        "colab": {
          "base_uri": "https://localhost:8080/"
        },
        "id": "F0fHYGD6RlZu",
        "outputId": "42b9e661-c7ed-40c4-d339-dd8859c29ba5"
      },
      "execution_count": null,
      "outputs": [
        {
          "output_type": "stream",
          "name": "stdout",
          "text": [
            "Tendriamos 242726 casas en Argentina, es decir, 24.64 % del total\n"
          ]
        }
      ]
    },
    {
      "cell_type": "markdown",
      "source": [
        "Los datos se reducirian bastante. Por el momento vamos solo a considerar todas las ciudades de Argentina"
      ],
      "metadata": {
        "id": "9yfnud3wybLt"
      }
    },
    {
      "cell_type": "markdown",
      "source": [
        "Con respecto a lso atributos \"l5\" y \"l6\", podemos observar que son todos nulos, salvo en df_train para \"l5\" que son muy pocos los no nulos.\n",
        "\n",
        "Por lo que vamos a desprecias estos atributos"
      ],
      "metadata": {
        "id": "oau9qK2qfTkz"
      }
    },
    {
      "cell_type": "code",
      "source": [
        "df_train[~df_train['l5'].isna()]['l5'].unique()"
      ],
      "metadata": {
        "colab": {
          "base_uri": "https://localhost:8080/"
        },
        "id": "aVhu8P3WIFpx",
        "outputId": "51750912-cd6a-41cf-8131-4a108396ced7"
      },
      "execution_count": null,
      "outputs": [
        {
          "output_type": "execute_result",
          "data": {
            "text/plain": [
              "array(['Islas del Canal', 'Barrio El Golf', 'Barrio Los Lagos',\n",
              "       'Barrio Los Sauces', 'Barrio El Yacht', 'BarrioPortezuelo',\n",
              "       'Barrio Los Tilos', 'Barrio Lagos del Golf 2',\n",
              "       'Barrio Cabos del Lago', 'Barrio Las Glorietas',\n",
              "       'Barrio Los Alisos', 'Barrio Las Caletas',\n",
              "       'Barrio Barrancas del Lago', 'Barrio Los Castores',\n",
              "       'Barrio Residencial Pacheco 2', 'Enyoi', 'Barrio Lagos del Golf 1',\n",
              "       'Barrio La Isla', 'Barrio La Alameda', 'QBay Yacht',\n",
              "       'Barrio Residencial Pacheco 1'], dtype=object)"
            ]
          },
          "metadata": {},
          "execution_count": 41
        }
      ]
    },
    {
      "cell_type": "code",
      "source": [
        "df_train.info()"
      ],
      "metadata": {
        "colab": {
          "base_uri": "https://localhost:8080/"
        },
        "id": "9UD72hvl3RDe",
        "outputId": "392eb790-d9c4-48de-f034-97d1312654a6"
      },
      "execution_count": null,
      "outputs": [
        {
          "output_type": "stream",
          "name": "stdout",
          "text": [
            "<class 'pandas.core.frame.DataFrame'>\n",
            "Index: 985180 entries, 556713 to 1000000\n",
            "Data columns (total 24 columns):\n",
            " #   Column           Non-Null Count   Dtype  \n",
            "---  ------           --------------   -----  \n",
            " 0   ad_type          985180 non-null  object \n",
            " 1   start_date       985180 non-null  object \n",
            " 2   end_date         985180 non-null  object \n",
            " 3   created_on       985180 non-null  object \n",
            " 4   lat              832453 non-null  float64\n",
            " 5   lon              833388 non-null  float64\n",
            " 6   l1               985180 non-null  object \n",
            " 7   l2               985180 non-null  object \n",
            " 8   l3               927733 non-null  object \n",
            " 9   l4               225006 non-null  object \n",
            " 10  l5               4711 non-null    object \n",
            " 11  l6               0 non-null       float64\n",
            " 12  rooms            496527 non-null  float64\n",
            " 13  bedrooms         386021 non-null  float64\n",
            " 14  bathrooms        766218 non-null  float64\n",
            " 15  surface_total    441184 non-null  float64\n",
            " 16  surface_covered  430023 non-null  float64\n",
            " 17  currency         937929 non-null  object \n",
            " 18  price_period     369939 non-null  object \n",
            " 19  title            985152 non-null  object \n",
            " 20  description      985157 non-null  object \n",
            " 21  property_type    985180 non-null  object \n",
            " 22  operation_type   985180 non-null  object \n",
            " 23  price            940799 non-null  float64\n",
            "dtypes: float64(9), object(15)\n",
            "memory usage: 187.9+ MB\n"
          ]
        }
      ]
    },
    {
      "cell_type": "code",
      "source": [
        "df_train.describe()"
      ],
      "metadata": {
        "colab": {
          "base_uri": "https://localhost:8080/",
          "height": 300
        },
        "id": "8jW-i6dpztCv",
        "outputId": "80eacff0-ab7e-47df-c573-10180d98a7da"
      },
      "execution_count": null,
      "outputs": [
        {
          "output_type": "execute_result",
          "data": {
            "text/plain": [
              "                 lat            lon   l6          rooms       bedrooms  \\\n",
              "count  832453.000000  833388.000000  0.0  496527.000000  386021.000000   \n",
              "mean      -59.273078     -34.795283  NaN       2.865331       2.088822   \n",
              "std         2.716961       3.078145  NaN       1.687075       2.719330   \n",
              "min      -180.000000     -54.842464  NaN       1.000000     -13.000000   \n",
              "25%       -58.762921     -34.923353  NaN       2.000000       1.000000   \n",
              "50%       -58.444935     -34.611182  NaN       3.000000       2.000000   \n",
              "75%       -58.047423     -34.454720  NaN       4.000000       3.000000   \n",
              "max       -35.045025      85.051129  NaN      40.000000     900.000000   \n",
              "\n",
              "           bathrooms  surface_total  surface_covered         price  \n",
              "count  766218.000000  441184.000000     4.300230e+05  9.407990e+05  \n",
              "mean        1.700136     500.110607     5.851866e+02  2.888822e+05  \n",
              "std         1.074748    4133.349588     7.443324e+04  5.581522e+06  \n",
              "min         1.000000    -200.000000    -1.700000e+02  0.000000e+00  \n",
              "25%         1.000000      50.000000     4.500000e+01  3.900000e+04  \n",
              "50%         1.000000      96.000000     7.500000e+01  9.725400e+04  \n",
              "75%         2.000000     275.000000     1.580000e+02  2.100000e+05  \n",
              "max        20.000000  200000.000000     2.700000e+07  3.100000e+09  "
            ],
            "text/html": [
              "\n",
              "  <div id=\"df-c888a87a-b53a-436d-8ab4-f6f66ce041a9\" class=\"colab-df-container\">\n",
              "    <div>\n",
              "<style scoped>\n",
              "    .dataframe tbody tr th:only-of-type {\n",
              "        vertical-align: middle;\n",
              "    }\n",
              "\n",
              "    .dataframe tbody tr th {\n",
              "        vertical-align: top;\n",
              "    }\n",
              "\n",
              "    .dataframe thead th {\n",
              "        text-align: right;\n",
              "    }\n",
              "</style>\n",
              "<table border=\"1\" class=\"dataframe\">\n",
              "  <thead>\n",
              "    <tr style=\"text-align: right;\">\n",
              "      <th></th>\n",
              "      <th>lat</th>\n",
              "      <th>lon</th>\n",
              "      <th>l6</th>\n",
              "      <th>rooms</th>\n",
              "      <th>bedrooms</th>\n",
              "      <th>bathrooms</th>\n",
              "      <th>surface_total</th>\n",
              "      <th>surface_covered</th>\n",
              "      <th>price</th>\n",
              "    </tr>\n",
              "  </thead>\n",
              "  <tbody>\n",
              "    <tr>\n",
              "      <th>count</th>\n",
              "      <td>832453.000000</td>\n",
              "      <td>833388.000000</td>\n",
              "      <td>0.0</td>\n",
              "      <td>496527.000000</td>\n",
              "      <td>386021.000000</td>\n",
              "      <td>766218.000000</td>\n",
              "      <td>441184.000000</td>\n",
              "      <td>4.300230e+05</td>\n",
              "      <td>9.407990e+05</td>\n",
              "    </tr>\n",
              "    <tr>\n",
              "      <th>mean</th>\n",
              "      <td>-59.273078</td>\n",
              "      <td>-34.795283</td>\n",
              "      <td>NaN</td>\n",
              "      <td>2.865331</td>\n",
              "      <td>2.088822</td>\n",
              "      <td>1.700136</td>\n",
              "      <td>500.110607</td>\n",
              "      <td>5.851866e+02</td>\n",
              "      <td>2.888822e+05</td>\n",
              "    </tr>\n",
              "    <tr>\n",
              "      <th>std</th>\n",
              "      <td>2.716961</td>\n",
              "      <td>3.078145</td>\n",
              "      <td>NaN</td>\n",
              "      <td>1.687075</td>\n",
              "      <td>2.719330</td>\n",
              "      <td>1.074748</td>\n",
              "      <td>4133.349588</td>\n",
              "      <td>7.443324e+04</td>\n",
              "      <td>5.581522e+06</td>\n",
              "    </tr>\n",
              "    <tr>\n",
              "      <th>min</th>\n",
              "      <td>-180.000000</td>\n",
              "      <td>-54.842464</td>\n",
              "      <td>NaN</td>\n",
              "      <td>1.000000</td>\n",
              "      <td>-13.000000</td>\n",
              "      <td>1.000000</td>\n",
              "      <td>-200.000000</td>\n",
              "      <td>-1.700000e+02</td>\n",
              "      <td>0.000000e+00</td>\n",
              "    </tr>\n",
              "    <tr>\n",
              "      <th>25%</th>\n",
              "      <td>-58.762921</td>\n",
              "      <td>-34.923353</td>\n",
              "      <td>NaN</td>\n",
              "      <td>2.000000</td>\n",
              "      <td>1.000000</td>\n",
              "      <td>1.000000</td>\n",
              "      <td>50.000000</td>\n",
              "      <td>4.500000e+01</td>\n",
              "      <td>3.900000e+04</td>\n",
              "    </tr>\n",
              "    <tr>\n",
              "      <th>50%</th>\n",
              "      <td>-58.444935</td>\n",
              "      <td>-34.611182</td>\n",
              "      <td>NaN</td>\n",
              "      <td>3.000000</td>\n",
              "      <td>2.000000</td>\n",
              "      <td>1.000000</td>\n",
              "      <td>96.000000</td>\n",
              "      <td>7.500000e+01</td>\n",
              "      <td>9.725400e+04</td>\n",
              "    </tr>\n",
              "    <tr>\n",
              "      <th>75%</th>\n",
              "      <td>-58.047423</td>\n",
              "      <td>-34.454720</td>\n",
              "      <td>NaN</td>\n",
              "      <td>4.000000</td>\n",
              "      <td>3.000000</td>\n",
              "      <td>2.000000</td>\n",
              "      <td>275.000000</td>\n",
              "      <td>1.580000e+02</td>\n",
              "      <td>2.100000e+05</td>\n",
              "    </tr>\n",
              "    <tr>\n",
              "      <th>max</th>\n",
              "      <td>-35.045025</td>\n",
              "      <td>85.051129</td>\n",
              "      <td>NaN</td>\n",
              "      <td>40.000000</td>\n",
              "      <td>900.000000</td>\n",
              "      <td>20.000000</td>\n",
              "      <td>200000.000000</td>\n",
              "      <td>2.700000e+07</td>\n",
              "      <td>3.100000e+09</td>\n",
              "    </tr>\n",
              "  </tbody>\n",
              "</table>\n",
              "</div>\n",
              "    <div class=\"colab-df-buttons\">\n",
              "\n",
              "  <div class=\"colab-df-container\">\n",
              "    <button class=\"colab-df-convert\" onclick=\"convertToInteractive('df-c888a87a-b53a-436d-8ab4-f6f66ce041a9')\"\n",
              "            title=\"Convert this dataframe to an interactive table.\"\n",
              "            style=\"display:none;\">\n",
              "\n",
              "  <svg xmlns=\"http://www.w3.org/2000/svg\" height=\"24px\" viewBox=\"0 -960 960 960\">\n",
              "    <path d=\"M120-120v-720h720v720H120Zm60-500h600v-160H180v160Zm220 220h160v-160H400v160Zm0 220h160v-160H400v160ZM180-400h160v-160H180v160Zm440 0h160v-160H620v160ZM180-180h160v-160H180v160Zm440 0h160v-160H620v160Z\"/>\n",
              "  </svg>\n",
              "    </button>\n",
              "\n",
              "  <style>\n",
              "    .colab-df-container {\n",
              "      display:flex;\n",
              "      gap: 12px;\n",
              "    }\n",
              "\n",
              "    .colab-df-convert {\n",
              "      background-color: #E8F0FE;\n",
              "      border: none;\n",
              "      border-radius: 50%;\n",
              "      cursor: pointer;\n",
              "      display: none;\n",
              "      fill: #1967D2;\n",
              "      height: 32px;\n",
              "      padding: 0 0 0 0;\n",
              "      width: 32px;\n",
              "    }\n",
              "\n",
              "    .colab-df-convert:hover {\n",
              "      background-color: #E2EBFA;\n",
              "      box-shadow: 0px 1px 2px rgba(60, 64, 67, 0.3), 0px 1px 3px 1px rgba(60, 64, 67, 0.15);\n",
              "      fill: #174EA6;\n",
              "    }\n",
              "\n",
              "    .colab-df-buttons div {\n",
              "      margin-bottom: 4px;\n",
              "    }\n",
              "\n",
              "    [theme=dark] .colab-df-convert {\n",
              "      background-color: #3B4455;\n",
              "      fill: #D2E3FC;\n",
              "    }\n",
              "\n",
              "    [theme=dark] .colab-df-convert:hover {\n",
              "      background-color: #434B5C;\n",
              "      box-shadow: 0px 1px 3px 1px rgba(0, 0, 0, 0.15);\n",
              "      filter: drop-shadow(0px 1px 2px rgba(0, 0, 0, 0.3));\n",
              "      fill: #FFFFFF;\n",
              "    }\n",
              "  </style>\n",
              "\n",
              "    <script>\n",
              "      const buttonEl =\n",
              "        document.querySelector('#df-c888a87a-b53a-436d-8ab4-f6f66ce041a9 button.colab-df-convert');\n",
              "      buttonEl.style.display =\n",
              "        google.colab.kernel.accessAllowed ? 'block' : 'none';\n",
              "\n",
              "      async function convertToInteractive(key) {\n",
              "        const element = document.querySelector('#df-c888a87a-b53a-436d-8ab4-f6f66ce041a9');\n",
              "        const dataTable =\n",
              "          await google.colab.kernel.invokeFunction('convertToInteractive',\n",
              "                                                    [key], {});\n",
              "        if (!dataTable) return;\n",
              "\n",
              "        const docLinkHtml = 'Like what you see? Visit the ' +\n",
              "          '<a target=\"_blank\" href=https://colab.research.google.com/notebooks/data_table.ipynb>data table notebook</a>'\n",
              "          + ' to learn more about interactive tables.';\n",
              "        element.innerHTML = '';\n",
              "        dataTable['output_type'] = 'display_data';\n",
              "        await google.colab.output.renderOutput(dataTable, element);\n",
              "        const docLink = document.createElement('div');\n",
              "        docLink.innerHTML = docLinkHtml;\n",
              "        element.appendChild(docLink);\n",
              "      }\n",
              "    </script>\n",
              "  </div>\n",
              "\n",
              "\n",
              "<div id=\"df-27947def-5b6d-457e-97cb-a17595555a83\">\n",
              "  <button class=\"colab-df-quickchart\" onclick=\"quickchart('df-27947def-5b6d-457e-97cb-a17595555a83')\"\n",
              "            title=\"Suggest charts\"\n",
              "            style=\"display:none;\">\n",
              "\n",
              "<svg xmlns=\"http://www.w3.org/2000/svg\" height=\"24px\"viewBox=\"0 0 24 24\"\n",
              "     width=\"24px\">\n",
              "    <g>\n",
              "        <path d=\"M19 3H5c-1.1 0-2 .9-2 2v14c0 1.1.9 2 2 2h14c1.1 0 2-.9 2-2V5c0-1.1-.9-2-2-2zM9 17H7v-7h2v7zm4 0h-2V7h2v10zm4 0h-2v-4h2v4z\"/>\n",
              "    </g>\n",
              "</svg>\n",
              "  </button>\n",
              "\n",
              "<style>\n",
              "  .colab-df-quickchart {\n",
              "      --bg-color: #E8F0FE;\n",
              "      --fill-color: #1967D2;\n",
              "      --hover-bg-color: #E2EBFA;\n",
              "      --hover-fill-color: #174EA6;\n",
              "      --disabled-fill-color: #AAA;\n",
              "      --disabled-bg-color: #DDD;\n",
              "  }\n",
              "\n",
              "  [theme=dark] .colab-df-quickchart {\n",
              "      --bg-color: #3B4455;\n",
              "      --fill-color: #D2E3FC;\n",
              "      --hover-bg-color: #434B5C;\n",
              "      --hover-fill-color: #FFFFFF;\n",
              "      --disabled-bg-color: #3B4455;\n",
              "      --disabled-fill-color: #666;\n",
              "  }\n",
              "\n",
              "  .colab-df-quickchart {\n",
              "    background-color: var(--bg-color);\n",
              "    border: none;\n",
              "    border-radius: 50%;\n",
              "    cursor: pointer;\n",
              "    display: none;\n",
              "    fill: var(--fill-color);\n",
              "    height: 32px;\n",
              "    padding: 0;\n",
              "    width: 32px;\n",
              "  }\n",
              "\n",
              "  .colab-df-quickchart:hover {\n",
              "    background-color: var(--hover-bg-color);\n",
              "    box-shadow: 0 1px 2px rgba(60, 64, 67, 0.3), 0 1px 3px 1px rgba(60, 64, 67, 0.15);\n",
              "    fill: var(--button-hover-fill-color);\n",
              "  }\n",
              "\n",
              "  .colab-df-quickchart-complete:disabled,\n",
              "  .colab-df-quickchart-complete:disabled:hover {\n",
              "    background-color: var(--disabled-bg-color);\n",
              "    fill: var(--disabled-fill-color);\n",
              "    box-shadow: none;\n",
              "  }\n",
              "\n",
              "  .colab-df-spinner {\n",
              "    border: 2px solid var(--fill-color);\n",
              "    border-color: transparent;\n",
              "    border-bottom-color: var(--fill-color);\n",
              "    animation:\n",
              "      spin 1s steps(1) infinite;\n",
              "  }\n",
              "\n",
              "  @keyframes spin {\n",
              "    0% {\n",
              "      border-color: transparent;\n",
              "      border-bottom-color: var(--fill-color);\n",
              "      border-left-color: var(--fill-color);\n",
              "    }\n",
              "    20% {\n",
              "      border-color: transparent;\n",
              "      border-left-color: var(--fill-color);\n",
              "      border-top-color: var(--fill-color);\n",
              "    }\n",
              "    30% {\n",
              "      border-color: transparent;\n",
              "      border-left-color: var(--fill-color);\n",
              "      border-top-color: var(--fill-color);\n",
              "      border-right-color: var(--fill-color);\n",
              "    }\n",
              "    40% {\n",
              "      border-color: transparent;\n",
              "      border-right-color: var(--fill-color);\n",
              "      border-top-color: var(--fill-color);\n",
              "    }\n",
              "    60% {\n",
              "      border-color: transparent;\n",
              "      border-right-color: var(--fill-color);\n",
              "    }\n",
              "    80% {\n",
              "      border-color: transparent;\n",
              "      border-right-color: var(--fill-color);\n",
              "      border-bottom-color: var(--fill-color);\n",
              "    }\n",
              "    90% {\n",
              "      border-color: transparent;\n",
              "      border-bottom-color: var(--fill-color);\n",
              "    }\n",
              "  }\n",
              "</style>\n",
              "\n",
              "  <script>\n",
              "    async function quickchart(key) {\n",
              "      const quickchartButtonEl =\n",
              "        document.querySelector('#' + key + ' button');\n",
              "      quickchartButtonEl.disabled = true;  // To prevent multiple clicks.\n",
              "      quickchartButtonEl.classList.add('colab-df-spinner');\n",
              "      try {\n",
              "        const charts = await google.colab.kernel.invokeFunction(\n",
              "            'suggestCharts', [key], {});\n",
              "      } catch (error) {\n",
              "        console.error('Error during call to suggestCharts:', error);\n",
              "      }\n",
              "      quickchartButtonEl.classList.remove('colab-df-spinner');\n",
              "      quickchartButtonEl.classList.add('colab-df-quickchart-complete');\n",
              "    }\n",
              "    (() => {\n",
              "      let quickchartButtonEl =\n",
              "        document.querySelector('#df-27947def-5b6d-457e-97cb-a17595555a83 button');\n",
              "      quickchartButtonEl.style.display =\n",
              "        google.colab.kernel.accessAllowed ? 'block' : 'none';\n",
              "    })();\n",
              "  </script>\n",
              "</div>\n",
              "\n",
              "    </div>\n",
              "  </div>\n"
            ],
            "application/vnd.google.colaboratory.intrinsic+json": {
              "type": "dataframe",
              "summary": "{\n  \"name\": \"df_train\",\n  \"rows\": 8,\n  \"fields\": [\n    {\n      \"column\": \"lat\",\n      \"properties\": {\n        \"dtype\": \"number\",\n        \"std\": 294339.1548942474,\n        \"min\": -180.0,\n        \"max\": 832453.0,\n        \"num_unique_values\": 8,\n        \"samples\": [\n          -59.27307788894649,\n          -58.4449345,\n          832453.0\n        ],\n        \"semantic_type\": \"\",\n        \"description\": \"\"\n      }\n    },\n    {\n      \"column\": \"lon\",\n      \"properties\": {\n        \"dtype\": \"number\",\n        \"std\": 294652.4847866071,\n        \"min\": -54.8424641,\n        \"max\": 833388.0,\n        \"num_unique_values\": 8,\n        \"samples\": [\n          -34.79528262283198,\n          -34.61118225,\n          833388.0\n        ],\n        \"semantic_type\": \"\",\n        \"description\": \"\"\n      }\n    },\n    {\n      \"column\": \"l6\",\n      \"properties\": {\n        \"dtype\": \"number\",\n        \"std\": null,\n        \"min\": 0.0,\n        \"max\": 0.0,\n        \"num_unique_values\": 1,\n        \"samples\": [\n          0.0\n        ],\n        \"semantic_type\": \"\",\n        \"description\": \"\"\n      }\n    },\n    {\n      \"column\": \"rooms\",\n      \"properties\": {\n        \"dtype\": \"number\",\n        \"std\": 175546.04955326585,\n        \"min\": 1.0,\n        \"max\": 496527.0,\n        \"num_unique_values\": 8,\n        \"samples\": [\n          2.865330586252107\n        ],\n        \"semantic_type\": \"\",\n        \"description\": \"\"\n      }\n    },\n    {\n      \"column\": \"bedrooms\",\n      \"properties\": {\n        \"dtype\": \"number\",\n        \"std\": 136434.05111370364,\n        \"min\": -13.0,\n        \"max\": 386021.0,\n        \"num_unique_values\": 8,\n        \"samples\": [\n          2.088821592607656\n        ],\n        \"semantic_type\": \"\",\n        \"description\": \"\"\n      }\n    },\n    {\n      \"column\": \"bathrooms\",\n      \"properties\": {\n        \"dtype\": \"number\",\n        \"std\": 270897.5690694334,\n        \"min\": 1.0,\n        \"max\": 766218.0,\n        \"num_unique_values\": 6,\n        \"samples\": [\n          766218.0\n        ],\n        \"semantic_type\": \"\",\n        \"description\": \"\"\n      }\n    },\n    {\n      \"column\": \"surface_total\",\n      \"properties\": {\n        \"dtype\": \"number\",\n        \"std\": 161462.10186913263,\n        \"min\": -200.0,\n        \"max\": 441184.0,\n        \"num_unique_values\": 8,\n        \"samples\": [\n          500.1106069123087\n        ],\n        \"semantic_type\": \"\",\n        \"description\": \"\"\n      }\n    },\n    {\n      \"column\": \"surface_covered\",\n      \"properties\": {\n        \"dtype\": \"number\",\n        \"std\": 9521583.038293429,\n        \"min\": -170.0,\n        \"max\": 27000000.0,\n        \"num_unique_values\": 8,\n        \"samples\": [\n          585.1865993214317\n        ],\n        \"semantic_type\": \"\",\n        \"description\": \"\"\n      }\n    },\n    {\n      \"column\": \"price\",\n      \"properties\": {\n        \"dtype\": \"number\",\n        \"std\": 1095655625.2668672,\n        \"min\": 0.0,\n        \"max\": 3100000000.0,\n        \"num_unique_values\": 8,\n        \"samples\": [\n          288882.2123843669\n        ],\n        \"semantic_type\": \"\",\n        \"description\": \"\"\n      }\n    }\n  ]\n}"
            }
          },
          "metadata": {},
          "execution_count": 13
        }
      ]
    },
    {
      "cell_type": "code",
      "source": [
        "df_test.describe()"
      ],
      "metadata": {
        "colab": {
          "base_uri": "https://localhost:8080/",
          "height": 300
        },
        "id": "8azN9TqbukVV",
        "outputId": "1ae8212d-ff7d-4cae-bac1-f48eeb50ccb1"
      },
      "execution_count": null,
      "outputs": [
        {
          "output_type": "execute_result",
          "data": {
            "text/plain": [
              "               lat          lon   l5   l6        rooms     bedrooms  \\\n",
              "count  6541.000000  6541.000000  0.0  0.0  6518.000000  4678.000000   \n",
              "mean    -58.440334   -34.597839  NaN  NaN     2.344124     1.861052   \n",
              "std       0.171672     0.238984  NaN  NaN     1.173275     1.003062   \n",
              "min     -68.468140   -53.788249  NaN  NaN     1.000000     1.000000   \n",
              "25%     -58.454079   -34.606504  NaN  NaN     1.000000     1.000000   \n",
              "50%     -58.436266   -34.597477  NaN  NaN     2.000000     2.000000   \n",
              "75%     -58.418310   -34.582409  NaN  NaN     3.000000     2.000000   \n",
              "max     -58.358678   -33.081030  NaN  NaN    16.000000    12.000000   \n",
              "\n",
              "         bathrooms  surface_total  surface_covered  price_period  price  \n",
              "count  6803.000000    6980.000000      6938.000000           0.0    0.0  \n",
              "mean      1.416140      76.393553        66.649178           NaN    NaN  \n",
              "std       0.762132      75.227804        61.792004           NaN    NaN  \n",
              "min       1.000000      10.000000         1.000000           NaN    NaN  \n",
              "25%       1.000000      40.000000        37.000000           NaN    NaN  \n",
              "50%       1.000000      56.000000        50.000000           NaN    NaN  \n",
              "75%       2.000000      84.000000        75.000000           NaN    NaN  \n",
              "max       8.000000    1515.000000      2422.000000           NaN    NaN  "
            ],
            "text/html": [
              "\n",
              "  <div id=\"df-2d4d89d1-6323-4817-9116-e77a2749fa88\" class=\"colab-df-container\">\n",
              "    <div>\n",
              "<style scoped>\n",
              "    .dataframe tbody tr th:only-of-type {\n",
              "        vertical-align: middle;\n",
              "    }\n",
              "\n",
              "    .dataframe tbody tr th {\n",
              "        vertical-align: top;\n",
              "    }\n",
              "\n",
              "    .dataframe thead th {\n",
              "        text-align: right;\n",
              "    }\n",
              "</style>\n",
              "<table border=\"1\" class=\"dataframe\">\n",
              "  <thead>\n",
              "    <tr style=\"text-align: right;\">\n",
              "      <th></th>\n",
              "      <th>lat</th>\n",
              "      <th>lon</th>\n",
              "      <th>l5</th>\n",
              "      <th>l6</th>\n",
              "      <th>rooms</th>\n",
              "      <th>bedrooms</th>\n",
              "      <th>bathrooms</th>\n",
              "      <th>surface_total</th>\n",
              "      <th>surface_covered</th>\n",
              "      <th>price_period</th>\n",
              "      <th>price</th>\n",
              "    </tr>\n",
              "  </thead>\n",
              "  <tbody>\n",
              "    <tr>\n",
              "      <th>count</th>\n",
              "      <td>6541.000000</td>\n",
              "      <td>6541.000000</td>\n",
              "      <td>0.0</td>\n",
              "      <td>0.0</td>\n",
              "      <td>6518.000000</td>\n",
              "      <td>4678.000000</td>\n",
              "      <td>6803.000000</td>\n",
              "      <td>6980.000000</td>\n",
              "      <td>6938.000000</td>\n",
              "      <td>0.0</td>\n",
              "      <td>0.0</td>\n",
              "    </tr>\n",
              "    <tr>\n",
              "      <th>mean</th>\n",
              "      <td>-58.440334</td>\n",
              "      <td>-34.597839</td>\n",
              "      <td>NaN</td>\n",
              "      <td>NaN</td>\n",
              "      <td>2.344124</td>\n",
              "      <td>1.861052</td>\n",
              "      <td>1.416140</td>\n",
              "      <td>76.393553</td>\n",
              "      <td>66.649178</td>\n",
              "      <td>NaN</td>\n",
              "      <td>NaN</td>\n",
              "    </tr>\n",
              "    <tr>\n",
              "      <th>std</th>\n",
              "      <td>0.171672</td>\n",
              "      <td>0.238984</td>\n",
              "      <td>NaN</td>\n",
              "      <td>NaN</td>\n",
              "      <td>1.173275</td>\n",
              "      <td>1.003062</td>\n",
              "      <td>0.762132</td>\n",
              "      <td>75.227804</td>\n",
              "      <td>61.792004</td>\n",
              "      <td>NaN</td>\n",
              "      <td>NaN</td>\n",
              "    </tr>\n",
              "    <tr>\n",
              "      <th>min</th>\n",
              "      <td>-68.468140</td>\n",
              "      <td>-53.788249</td>\n",
              "      <td>NaN</td>\n",
              "      <td>NaN</td>\n",
              "      <td>1.000000</td>\n",
              "      <td>1.000000</td>\n",
              "      <td>1.000000</td>\n",
              "      <td>10.000000</td>\n",
              "      <td>1.000000</td>\n",
              "      <td>NaN</td>\n",
              "      <td>NaN</td>\n",
              "    </tr>\n",
              "    <tr>\n",
              "      <th>25%</th>\n",
              "      <td>-58.454079</td>\n",
              "      <td>-34.606504</td>\n",
              "      <td>NaN</td>\n",
              "      <td>NaN</td>\n",
              "      <td>1.000000</td>\n",
              "      <td>1.000000</td>\n",
              "      <td>1.000000</td>\n",
              "      <td>40.000000</td>\n",
              "      <td>37.000000</td>\n",
              "      <td>NaN</td>\n",
              "      <td>NaN</td>\n",
              "    </tr>\n",
              "    <tr>\n",
              "      <th>50%</th>\n",
              "      <td>-58.436266</td>\n",
              "      <td>-34.597477</td>\n",
              "      <td>NaN</td>\n",
              "      <td>NaN</td>\n",
              "      <td>2.000000</td>\n",
              "      <td>2.000000</td>\n",
              "      <td>1.000000</td>\n",
              "      <td>56.000000</td>\n",
              "      <td>50.000000</td>\n",
              "      <td>NaN</td>\n",
              "      <td>NaN</td>\n",
              "    </tr>\n",
              "    <tr>\n",
              "      <th>75%</th>\n",
              "      <td>-58.418310</td>\n",
              "      <td>-34.582409</td>\n",
              "      <td>NaN</td>\n",
              "      <td>NaN</td>\n",
              "      <td>3.000000</td>\n",
              "      <td>2.000000</td>\n",
              "      <td>2.000000</td>\n",
              "      <td>84.000000</td>\n",
              "      <td>75.000000</td>\n",
              "      <td>NaN</td>\n",
              "      <td>NaN</td>\n",
              "    </tr>\n",
              "    <tr>\n",
              "      <th>max</th>\n",
              "      <td>-58.358678</td>\n",
              "      <td>-33.081030</td>\n",
              "      <td>NaN</td>\n",
              "      <td>NaN</td>\n",
              "      <td>16.000000</td>\n",
              "      <td>12.000000</td>\n",
              "      <td>8.000000</td>\n",
              "      <td>1515.000000</td>\n",
              "      <td>2422.000000</td>\n",
              "      <td>NaN</td>\n",
              "      <td>NaN</td>\n",
              "    </tr>\n",
              "  </tbody>\n",
              "</table>\n",
              "</div>\n",
              "    <div class=\"colab-df-buttons\">\n",
              "\n",
              "  <div class=\"colab-df-container\">\n",
              "    <button class=\"colab-df-convert\" onclick=\"convertToInteractive('df-2d4d89d1-6323-4817-9116-e77a2749fa88')\"\n",
              "            title=\"Convert this dataframe to an interactive table.\"\n",
              "            style=\"display:none;\">\n",
              "\n",
              "  <svg xmlns=\"http://www.w3.org/2000/svg\" height=\"24px\" viewBox=\"0 -960 960 960\">\n",
              "    <path d=\"M120-120v-720h720v720H120Zm60-500h600v-160H180v160Zm220 220h160v-160H400v160Zm0 220h160v-160H400v160ZM180-400h160v-160H180v160Zm440 0h160v-160H620v160ZM180-180h160v-160H180v160Zm440 0h160v-160H620v160Z\"/>\n",
              "  </svg>\n",
              "    </button>\n",
              "\n",
              "  <style>\n",
              "    .colab-df-container {\n",
              "      display:flex;\n",
              "      gap: 12px;\n",
              "    }\n",
              "\n",
              "    .colab-df-convert {\n",
              "      background-color: #E8F0FE;\n",
              "      border: none;\n",
              "      border-radius: 50%;\n",
              "      cursor: pointer;\n",
              "      display: none;\n",
              "      fill: #1967D2;\n",
              "      height: 32px;\n",
              "      padding: 0 0 0 0;\n",
              "      width: 32px;\n",
              "    }\n",
              "\n",
              "    .colab-df-convert:hover {\n",
              "      background-color: #E2EBFA;\n",
              "      box-shadow: 0px 1px 2px rgba(60, 64, 67, 0.3), 0px 1px 3px 1px rgba(60, 64, 67, 0.15);\n",
              "      fill: #174EA6;\n",
              "    }\n",
              "\n",
              "    .colab-df-buttons div {\n",
              "      margin-bottom: 4px;\n",
              "    }\n",
              "\n",
              "    [theme=dark] .colab-df-convert {\n",
              "      background-color: #3B4455;\n",
              "      fill: #D2E3FC;\n",
              "    }\n",
              "\n",
              "    [theme=dark] .colab-df-convert:hover {\n",
              "      background-color: #434B5C;\n",
              "      box-shadow: 0px 1px 3px 1px rgba(0, 0, 0, 0.15);\n",
              "      filter: drop-shadow(0px 1px 2px rgba(0, 0, 0, 0.3));\n",
              "      fill: #FFFFFF;\n",
              "    }\n",
              "  </style>\n",
              "\n",
              "    <script>\n",
              "      const buttonEl =\n",
              "        document.querySelector('#df-2d4d89d1-6323-4817-9116-e77a2749fa88 button.colab-df-convert');\n",
              "      buttonEl.style.display =\n",
              "        google.colab.kernel.accessAllowed ? 'block' : 'none';\n",
              "\n",
              "      async function convertToInteractive(key) {\n",
              "        const element = document.querySelector('#df-2d4d89d1-6323-4817-9116-e77a2749fa88');\n",
              "        const dataTable =\n",
              "          await google.colab.kernel.invokeFunction('convertToInteractive',\n",
              "                                                    [key], {});\n",
              "        if (!dataTable) return;\n",
              "\n",
              "        const docLinkHtml = 'Like what you see? Visit the ' +\n",
              "          '<a target=\"_blank\" href=https://colab.research.google.com/notebooks/data_table.ipynb>data table notebook</a>'\n",
              "          + ' to learn more about interactive tables.';\n",
              "        element.innerHTML = '';\n",
              "        dataTable['output_type'] = 'display_data';\n",
              "        await google.colab.output.renderOutput(dataTable, element);\n",
              "        const docLink = document.createElement('div');\n",
              "        docLink.innerHTML = docLinkHtml;\n",
              "        element.appendChild(docLink);\n",
              "      }\n",
              "    </script>\n",
              "  </div>\n",
              "\n",
              "\n",
              "<div id=\"df-6f237768-6e52-44fe-9ff3-5ff77b7e89c7\">\n",
              "  <button class=\"colab-df-quickchart\" onclick=\"quickchart('df-6f237768-6e52-44fe-9ff3-5ff77b7e89c7')\"\n",
              "            title=\"Suggest charts\"\n",
              "            style=\"display:none;\">\n",
              "\n",
              "<svg xmlns=\"http://www.w3.org/2000/svg\" height=\"24px\"viewBox=\"0 0 24 24\"\n",
              "     width=\"24px\">\n",
              "    <g>\n",
              "        <path d=\"M19 3H5c-1.1 0-2 .9-2 2v14c0 1.1.9 2 2 2h14c1.1 0 2-.9 2-2V5c0-1.1-.9-2-2-2zM9 17H7v-7h2v7zm4 0h-2V7h2v10zm4 0h-2v-4h2v4z\"/>\n",
              "    </g>\n",
              "</svg>\n",
              "  </button>\n",
              "\n",
              "<style>\n",
              "  .colab-df-quickchart {\n",
              "      --bg-color: #E8F0FE;\n",
              "      --fill-color: #1967D2;\n",
              "      --hover-bg-color: #E2EBFA;\n",
              "      --hover-fill-color: #174EA6;\n",
              "      --disabled-fill-color: #AAA;\n",
              "      --disabled-bg-color: #DDD;\n",
              "  }\n",
              "\n",
              "  [theme=dark] .colab-df-quickchart {\n",
              "      --bg-color: #3B4455;\n",
              "      --fill-color: #D2E3FC;\n",
              "      --hover-bg-color: #434B5C;\n",
              "      --hover-fill-color: #FFFFFF;\n",
              "      --disabled-bg-color: #3B4455;\n",
              "      --disabled-fill-color: #666;\n",
              "  }\n",
              "\n",
              "  .colab-df-quickchart {\n",
              "    background-color: var(--bg-color);\n",
              "    border: none;\n",
              "    border-radius: 50%;\n",
              "    cursor: pointer;\n",
              "    display: none;\n",
              "    fill: var(--fill-color);\n",
              "    height: 32px;\n",
              "    padding: 0;\n",
              "    width: 32px;\n",
              "  }\n",
              "\n",
              "  .colab-df-quickchart:hover {\n",
              "    background-color: var(--hover-bg-color);\n",
              "    box-shadow: 0 1px 2px rgba(60, 64, 67, 0.3), 0 1px 3px 1px rgba(60, 64, 67, 0.15);\n",
              "    fill: var(--button-hover-fill-color);\n",
              "  }\n",
              "\n",
              "  .colab-df-quickchart-complete:disabled,\n",
              "  .colab-df-quickchart-complete:disabled:hover {\n",
              "    background-color: var(--disabled-bg-color);\n",
              "    fill: var(--disabled-fill-color);\n",
              "    box-shadow: none;\n",
              "  }\n",
              "\n",
              "  .colab-df-spinner {\n",
              "    border: 2px solid var(--fill-color);\n",
              "    border-color: transparent;\n",
              "    border-bottom-color: var(--fill-color);\n",
              "    animation:\n",
              "      spin 1s steps(1) infinite;\n",
              "  }\n",
              "\n",
              "  @keyframes spin {\n",
              "    0% {\n",
              "      border-color: transparent;\n",
              "      border-bottom-color: var(--fill-color);\n",
              "      border-left-color: var(--fill-color);\n",
              "    }\n",
              "    20% {\n",
              "      border-color: transparent;\n",
              "      border-left-color: var(--fill-color);\n",
              "      border-top-color: var(--fill-color);\n",
              "    }\n",
              "    30% {\n",
              "      border-color: transparent;\n",
              "      border-left-color: var(--fill-color);\n",
              "      border-top-color: var(--fill-color);\n",
              "      border-right-color: var(--fill-color);\n",
              "    }\n",
              "    40% {\n",
              "      border-color: transparent;\n",
              "      border-right-color: var(--fill-color);\n",
              "      border-top-color: var(--fill-color);\n",
              "    }\n",
              "    60% {\n",
              "      border-color: transparent;\n",
              "      border-right-color: var(--fill-color);\n",
              "    }\n",
              "    80% {\n",
              "      border-color: transparent;\n",
              "      border-right-color: var(--fill-color);\n",
              "      border-bottom-color: var(--fill-color);\n",
              "    }\n",
              "    90% {\n",
              "      border-color: transparent;\n",
              "      border-bottom-color: var(--fill-color);\n",
              "    }\n",
              "  }\n",
              "</style>\n",
              "\n",
              "  <script>\n",
              "    async function quickchart(key) {\n",
              "      const quickchartButtonEl =\n",
              "        document.querySelector('#' + key + ' button');\n",
              "      quickchartButtonEl.disabled = true;  // To prevent multiple clicks.\n",
              "      quickchartButtonEl.classList.add('colab-df-spinner');\n",
              "      try {\n",
              "        const charts = await google.colab.kernel.invokeFunction(\n",
              "            'suggestCharts', [key], {});\n",
              "      } catch (error) {\n",
              "        console.error('Error during call to suggestCharts:', error);\n",
              "      }\n",
              "      quickchartButtonEl.classList.remove('colab-df-spinner');\n",
              "      quickchartButtonEl.classList.add('colab-df-quickchart-complete');\n",
              "    }\n",
              "    (() => {\n",
              "      let quickchartButtonEl =\n",
              "        document.querySelector('#df-6f237768-6e52-44fe-9ff3-5ff77b7e89c7 button');\n",
              "      quickchartButtonEl.style.display =\n",
              "        google.colab.kernel.accessAllowed ? 'block' : 'none';\n",
              "    })();\n",
              "  </script>\n",
              "</div>\n",
              "\n",
              "    </div>\n",
              "  </div>\n"
            ],
            "application/vnd.google.colaboratory.intrinsic+json": {
              "type": "dataframe",
              "summary": "{\n  \"name\": \"df_test\",\n  \"rows\": 8,\n  \"fields\": [\n    {\n      \"column\": \"lat\",\n      \"properties\": {\n        \"dtype\": \"number\",\n        \"std\": 2330.893870294903,\n        \"min\": -68.46814,\n        \"max\": 6541.0,\n        \"num_unique_values\": 8,\n        \"samples\": [\n          -58.44033420410187,\n          -58.4362659305,\n          6541.0\n        ],\n        \"semantic_type\": \"\",\n        \"description\": \"\"\n      }\n    },\n    {\n      \"column\": \"lon\",\n      \"properties\": {\n        \"dtype\": \"number\",\n        \"std\": 2324.00507344758,\n        \"min\": -53.788249,\n        \"max\": 6541.0,\n        \"num_unique_values\": 8,\n        \"samples\": [\n          -34.59783943667147,\n          -34.5974770221,\n          6541.0\n        ],\n        \"semantic_type\": \"\",\n        \"description\": \"\"\n      }\n    },\n    {\n      \"column\": \"l5\",\n      \"properties\": {\n        \"dtype\": \"number\",\n        \"std\": null,\n        \"min\": 0.0,\n        \"max\": 0.0,\n        \"num_unique_values\": 1,\n        \"samples\": [\n          0.0\n        ],\n        \"semantic_type\": \"\",\n        \"description\": \"\"\n      }\n    },\n    {\n      \"column\": \"l6\",\n      \"properties\": {\n        \"dtype\": \"number\",\n        \"std\": null,\n        \"min\": 0.0,\n        \"max\": 0.0,\n        \"num_unique_values\": 1,\n        \"samples\": [\n          0.0\n        ],\n        \"semantic_type\": \"\",\n        \"description\": \"\"\n      }\n    },\n    {\n      \"column\": \"rooms\",\n      \"properties\": {\n        \"dtype\": \"number\",\n        \"std\": 2303.1271714091017,\n        \"min\": 1.0,\n        \"max\": 6518.0,\n        \"num_unique_values\": 7,\n        \"samples\": [\n          6518.0\n        ],\n        \"semantic_type\": \"\",\n        \"description\": \"\"\n      }\n    },\n    {\n      \"column\": \"bedrooms\",\n      \"properties\": {\n        \"dtype\": \"number\",\n        \"std\": 1652.873125154427,\n        \"min\": 1.0,\n        \"max\": 4678.0,\n        \"num_unique_values\": 6,\n        \"samples\": [\n          4678.0\n        ],\n        \"semantic_type\": \"\",\n        \"description\": \"\"\n      }\n    },\n    {\n      \"column\": \"bathrooms\",\n      \"properties\": {\n        \"dtype\": \"number\",\n        \"std\": 2404.4583060280074,\n        \"min\": 0.7621318923156883,\n        \"max\": 6803.0,\n        \"num_unique_values\": 6,\n        \"samples\": [\n          6803.0\n        ],\n        \"semantic_type\": \"\",\n        \"description\": \"\"\n      }\n    },\n    {\n      \"column\": \"surface_total\",\n      \"properties\": {\n        \"dtype\": \"number\",\n        \"std\": 2428.352691826552,\n        \"min\": 10.0,\n        \"max\": 6980.0,\n        \"num_unique_values\": 8,\n        \"samples\": [\n          76.39355300859599\n        ],\n        \"semantic_type\": \"\",\n        \"description\": \"\"\n      }\n    },\n    {\n      \"column\": \"surface_covered\",\n      \"properties\": {\n        \"dtype\": \"number\",\n        \"std\": 2460.4266109012037,\n        \"min\": 1.0,\n        \"max\": 6938.0,\n        \"num_unique_values\": 8,\n        \"samples\": [\n          66.64917843759008\n        ],\n        \"semantic_type\": \"\",\n        \"description\": \"\"\n      }\n    },\n    {\n      \"column\": \"price_period\",\n      \"properties\": {\n        \"dtype\": \"number\",\n        \"std\": null,\n        \"min\": 0.0,\n        \"max\": 0.0,\n        \"num_unique_values\": 1,\n        \"samples\": [\n          0.0\n        ],\n        \"semantic_type\": \"\",\n        \"description\": \"\"\n      }\n    },\n    {\n      \"column\": \"price\",\n      \"properties\": {\n        \"dtype\": \"number\",\n        \"std\": null,\n        \"min\": 0.0,\n        \"max\": 0.0,\n        \"num_unique_values\": 1,\n        \"samples\": [\n          0.0\n        ],\n        \"semantic_type\": \"\",\n        \"description\": \"\"\n      }\n    }\n  ]\n}"
            }
          },
          "metadata": {},
          "execution_count": 23
        }
      ]
    },
    {
      "cell_type": "markdown",
      "source": [
        "*0.1.4. Atributo \"lat\" y \"lon\"*\n",
        "\n",
        "----"
      ],
      "metadata": {
        "id": "iEzCPkVKl0fZ"
      }
    },
    {
      "cell_type": "markdown",
      "source": [
        "En la informacion podemos observar que hay valores negativos. Vamos a analizar si se trata de de todos los valores. Aunque la verdad no sé qué se tratan estos atributos. De ultima, lo vamos a dejar asi por el momento hasta saber de qué trata este valor"
      ],
      "metadata": {
        "id": "SBqWkrPsmCiw"
      }
    },
    {
      "cell_type": "code",
      "source": [
        "# Todos los valores de lat son negativos ?\n",
        "print(f'Son todos los valores de \"lat\" negativos : {df_train[df_train[\"lat\"]<0][\"lat\"].count()  == df_train[\"lat\"].count()}')\n",
        "print(f'Son todos los valores de \"lon\" negativos : {df_train[df_train[\"lon\"]<0][\"lon\"].count()  == df_train[\"lon\"].count()}')"
      ],
      "metadata": {
        "colab": {
          "base_uri": "https://localhost:8080/"
        },
        "id": "cdQ873jf0RPx",
        "outputId": "0cb4b3cc-a839-4e89-814b-9f338b8afacc"
      },
      "execution_count": null,
      "outputs": [
        {
          "output_type": "stream",
          "name": "stdout",
          "text": [
            "Son todos los valores de \"lat\" negativos : True\n",
            "Son todos los valores de \"lon\" negativos : False\n"
          ]
        }
      ]
    },
    {
      "cell_type": "code",
      "source": [
        "sns.set(style=\"darkgrid\")\n",
        "sns.scatterplot(x=\"lon\" , y=\"lat\", data=df_train)\n"
      ],
      "metadata": {
        "colab": {
          "base_uri": "https://localhost:8080/",
          "height": 475
        },
        "id": "dIjXXkq_sFzS",
        "outputId": "cadc415a-d356-4465-efa3-5c7b47f08c6b"
      },
      "execution_count": null,
      "outputs": [
        {
          "output_type": "execute_result",
          "data": {
            "text/plain": [
              "<Axes: xlabel='lon', ylabel='lat'>"
            ]
          },
          "metadata": {},
          "execution_count": 21
        },
        {
          "output_type": "display_data",
          "data": {
            "text/plain": [
              "<Figure size 640x480 with 1 Axes>"
            ],
            "image/png": "[encoded data removed]"
          },
          "metadata": {}
        }
      ]
    },
    {
      "cell_type": "code",
      "source": [
        "print(f\"En el grupo de lon=[-20;-60] y lat=[-40;-80] hay : {df_train[df_train['lon']<0]['lon'].count()} puntos\")\n",
        "\n",
        "print(f\"En el grupo de lon=[0;+50] y lat=[-70;-120] hay : {df_train[(df_train['lon']>0)& (df_train['lon']<60)]['lon'].count()} puntos\")\n",
        "\n",
        "print(f\"En el grupo de lon>80 y lat=-180 hay : {df_train[df_train['lon']>80]['lat'].count()} puntos\")"
      ],
      "metadata": {
        "colab": {
          "base_uri": "https://localhost:8080/"
        },
        "id": "LbNQf7h9z0IQ",
        "outputId": "07c56dd1-131b-4a47-8c73-326a8ebd0815"
      },
      "execution_count": null,
      "outputs": [
        {
          "output_type": "stream",
          "name": "stdout",
          "text": [
            "En el grupo de lon=[-20;-60] y lat=[-40;-80] hay : 832596 puntos\n",
            "En el grupo de lon=[0;+50] y lat=[-70;-120] hay : 787 puntos\n",
            "En el grupo de lon>80 y lat=-180 hay : 3 puntos\n"
          ]
        }
      ]
    },
    {
      "cell_type": "code",
      "source": [
        "sns.scatterplot(x=\"lon\" , y=\"lat\", data=df_test)"
      ],
      "metadata": {
        "colab": {
          "base_uri": "https://localhost:8080/",
          "height": 476
        },
        "id": "vkQ7pu3PufGR",
        "outputId": "81156aba-2eca-4134-e561-a7aa3f03e04e"
      },
      "execution_count": null,
      "outputs": [
        {
          "output_type": "execute_result",
          "data": {
            "text/plain": [
              "<Axes: xlabel='lon', ylabel='lat'>"
            ]
          },
          "metadata": {},
          "execution_count": 22
        },
        {
          "output_type": "display_data",
          "data": {
            "text/plain": [
              "<Figure size 640x480 with 1 Axes>"
            ],
            "image/png": "[encoded data removed]"
          },
          "metadata": {}
        }
      ]
    },
    {
      "cell_type": "markdown",
      "source": [
        "Vemos en el grafico que hay tres grupos de puntos. Vamos a ver cuantos hay en c/u"
      ],
      "metadata": {
        "id": "ztJihHnyvILV"
      }
    },
    {
      "cell_type": "code",
      "source": [
        "print(f\"En el grupo de (-60,-67) hay : {df_test[df_test['lon']<-50]['lon'].count()} puntos\")\n",
        "\n",
        "print(f\"En el grupo de (-32,-69) hay : {df_test[df_test['lat']<-68]['lat'].count()} puntos\")\n",
        "\n",
        "print(f\"En el grupo de (-58,-35) hay : {df_test[df_test['lat']>-60]['lat'].count()} puntos\")\n",
        "\n"
      ],
      "metadata": {
        "colab": {
          "base_uri": "https://localhost:8080/"
        },
        "id": "Zxc0XPWSu8S6",
        "outputId": "e6397e1f-aca2-412d-9117-9bbffb94ff32"
      },
      "execution_count": null,
      "outputs": [
        {
          "output_type": "stream",
          "name": "stdout",
          "text": [
            "En el grupo de (-60,-67) hay : 1 puntos\n",
            "En el grupo de (-32,-69) hay : 1 puntos\n",
            "En el grupo de (-58,-35) hay : 6539 puntos\n"
          ]
        }
      ]
    },
    {
      "cell_type": "code",
      "source": [
        "df_train[\"lat\"].hist()"
      ],
      "metadata": {
        "colab": {
          "base_uri": "https://localhost:8080/",
          "height": 451
        },
        "id": "YMsUQ3OLnJzo",
        "outputId": "337c5755-0f0f-4ef0-8049-6150da1d71b0"
      },
      "execution_count": null,
      "outputs": [
        {
          "output_type": "execute_result",
          "data": {
            "text/plain": [
              "<Axes: >"
            ]
          },
          "metadata": {},
          "execution_count": 35
        },
        {
          "output_type": "display_data",
          "data": {
            "text/plain": [
              "<Figure size 640x480 with 1 Axes>"
            ],
            "image/png": "[encoded data removed]"
          },
          "metadata": {}
        }
      ]
    },
    {
      "cell_type": "code",
      "source": [
        "df_train[\"lon\"].hist()"
      ],
      "metadata": {
        "colab": {
          "base_uri": "https://localhost:8080/",
          "height": 451
        },
        "id": "moExgpoZwB_L",
        "outputId": "d0bc0825-c216-4cca-9e7f-a9fdc481dd00"
      },
      "execution_count": null,
      "outputs": [
        {
          "output_type": "execute_result",
          "data": {
            "text/plain": [
              "<Axes: >"
            ]
          },
          "metadata": {},
          "execution_count": 30
        },
        {
          "output_type": "display_data",
          "data": {
            "text/plain": [
              "<Figure size 640x480 with 1 Axes>"
            ],
            "image/png": "[encoded data removed]"
          },
          "metadata": {}
        }
      ]
    },
    {
      "cell_type": "code",
      "source": [
        "df_test[\"lat\"].hist()"
      ],
      "metadata": {
        "colab": {
          "base_uri": "https://localhost:8080/",
          "height": 451
        },
        "id": "WQL8SlIfwOQV",
        "outputId": "d58648c3-019f-4050-ffc3-60246bf0a62e"
      },
      "execution_count": null,
      "outputs": [
        {
          "output_type": "execute_result",
          "data": {
            "text/plain": [
              "<Axes: >"
            ]
          },
          "metadata": {},
          "execution_count": 31
        },
        {
          "output_type": "display_data",
          "data": {
            "text/plain": [
              "<Figure size 640x480 with 1 Axes>"
            ],
            "image/png": "[encoded data removed]"
          },
          "metadata": {}
        }
      ]
    },
    {
      "cell_type": "code",
      "source": [
        "df_test[\"lon\"].hist()"
      ],
      "metadata": {
        "colab": {
          "base_uri": "https://localhost:8080/",
          "height": 451
        },
        "id": "auuY5fVIwRpM",
        "outputId": "dadefd51-a53d-4d4b-878a-ecc081ae4f3b"
      },
      "execution_count": null,
      "outputs": [
        {
          "output_type": "execute_result",
          "data": {
            "text/plain": [
              "<Axes: >"
            ]
          },
          "metadata": {},
          "execution_count": 32
        },
        {
          "output_type": "display_data",
          "data": {
            "text/plain": [
              "<Figure size 640x480 with 1 Axes>"
            ],
            "image/png": "[encoded data removed]"
          },
          "metadata": {}
        }
      ]
    },
    {
      "cell_type": "markdown",
      "source": [
        "Vamos a analizar si los df_train, el grupo de datos que esta mayor a 0 son de otro pais o algo asi"
      ],
      "metadata": {
        "id": "QA8WzlOV4WCS"
      }
    },
    {
      "cell_type": "code",
      "source": [
        "df_train[(df_train['lon']>0)& (df_train['lon']<60)][[\"l1\"]][\"l1\"].unique()"
      ],
      "metadata": {
        "colab": {
          "base_uri": "https://localhost:8080/"
        },
        "id": "sa26fFzo892a",
        "outputId": "4d1916e8-2216-4cf2-d5b7-a21a29dc434b"
      },
      "execution_count": null,
      "outputs": [
        {
          "output_type": "execute_result",
          "data": {
            "text/plain": [
              "array(['Estados Unidos', 'Argentina'], dtype=object)"
            ]
          },
          "metadata": {},
          "execution_count": 45
        }
      ]
    },
    {
      "cell_type": "code",
      "source": [
        "df_train[df_train['lon']<0][[\"l1\"]][\"l1\"].unique()"
      ],
      "metadata": {
        "colab": {
          "base_uri": "https://localhost:8080/"
        },
        "id": "8BpA3a2t9fjt",
        "outputId": "8e9b8a5b-a9a0-4ea1-c22f-2cac9cf3d740"
      },
      "execution_count": null,
      "outputs": [
        {
          "output_type": "execute_result",
          "data": {
            "text/plain": [
              "array(['Argentina', 'Uruguay', 'Brasil'], dtype=object)"
            ]
          },
          "metadata": {},
          "execution_count": 49
        }
      ]
    },
    {
      "cell_type": "code",
      "source": [
        "df_train[(df_train['l1']=='Argentina')& (df_train['lon']>0)& (df_train['lon']<60)][[\"l2\"]][\"l2\"].unique()"
      ],
      "metadata": {
        "colab": {
          "base_uri": "https://localhost:8080/"
        },
        "id": "sjUvPnfE-DxA",
        "outputId": "69f5569d-682b-43b5-fe92-e4105b14fe87"
      },
      "execution_count": null,
      "outputs": [
        {
          "output_type": "execute_result",
          "data": {
            "text/plain": [
              "array(['Bs.As. G.B.A. Zona Norte', 'Capital Federal',\n",
              "       'Buenos Aires Costa Atlántica'], dtype=object)"
            ]
          },
          "metadata": {},
          "execution_count": 52
        }
      ]
    },
    {
      "cell_type": "code",
      "source": [
        "df_train[(df_train['lon']<0)&(df_train['l1']=='Argentina')][[\"l2\"]][\"l2\"].unique()"
      ],
      "metadata": {
        "colab": {
          "base_uri": "https://localhost:8080/"
        },
        "id": "L10EKFRX-TPF",
        "outputId": "88f81009-6bd7-48d3-9ad8-4ff8d4da6a9d"
      },
      "execution_count": null,
      "outputs": [
        {
          "output_type": "execute_result",
          "data": {
            "text/plain": [
              "array(['Capital Federal', 'Bs.As. G.B.A. Zona Sur', 'Córdoba',\n",
              "       'Bs.As. G.B.A. Zona Norte', 'Santa Fe', 'Tucumán',\n",
              "       'Buenos Aires Costa Atlántica', 'San Luis', 'Neuquén',\n",
              "       'Buenos Aires Interior', 'Bs.As. G.B.A. Zona Oeste', 'Entre Ríos',\n",
              "       'Mendoza', 'Misiones', 'Río Negro', 'Tierra Del Fuego', 'Chubut',\n",
              "       'Corrientes', 'Salta', 'La Rioja', 'La Pampa', 'Chaco', 'San Juan',\n",
              "       'Jujuy', 'Santa Cruz', 'Santiago Del Estero', 'Formosa',\n",
              "       'Catamarca'], dtype=object)"
            ]
          },
          "metadata": {},
          "execution_count": 53
        }
      ]
    },
    {
      "cell_type": "markdown",
      "source": [
        "*0.1.5. Atributo \"rooms\"*\n",
        "\n",
        "----"
      ],
      "metadata": {
        "id": "dT-q22ID-tX2"
      }
    },
    {
      "cell_type": "markdown",
      "source": [
        "Primero analizamos la cantidad de datos no nulos"
      ],
      "metadata": {
        "id": "uW8oVAKtJxF8"
      }
    },
    {
      "cell_type": "code",
      "source": [
        "print(f\"cantidad de datos no nulos para df_train : {df_train['rooms'].count()} --> {df_train['rooms'].count()/df_train['rooms'].shape[0]:.2f} %\")\n",
        "print(f\"cantidad de datos no nulos para df_test : {df_test['rooms'].count()}--> {df_test['rooms'].count()/df_test['rooms'].shape[0]:.2f} %\")"
      ],
      "metadata": {
        "colab": {
          "base_uri": "https://localhost:8080/"
        },
        "id": "ip2-dUWxIj8H",
        "outputId": "4b69a920-361f-49b7-d97f-233ff81dae6f"
      },
      "execution_count": null,
      "outputs": [
        {
          "output_type": "stream",
          "name": "stdout",
          "text": [
            "cantidad de datos no nulos para df_train : 496527 --> 0.50 %\n",
            "cantidad de datos no nulos para df_test : 6518--> 0.93 %\n"
          ]
        }
      ]
    },
    {
      "cell_type": "code",
      "source": [
        "df_train['rooms'].hist(figsize=(12,5))"
      ],
      "metadata": {
        "colab": {
          "base_uri": "https://localhost:8080/",
          "height": 462
        },
        "id": "e4gCphsUJ9us",
        "outputId": "c3bb98b1-78ef-486f-d693-8e0c8ef9f0c6"
      },
      "execution_count": null,
      "outputs": [
        {
          "output_type": "execute_result",
          "data": {
            "text/plain": [
              "<Axes: >"
            ]
          },
          "metadata": {},
          "execution_count": 17
        },
        {
          "output_type": "display_data",
          "data": {
            "text/plain": [
              "<Figure size 1200x500 with 1 Axes>"
            ],
            "image/png": "[encoded data removed]"
          },
          "metadata": {}
        }
      ]
    },
    {
      "cell_type": "code",
      "source": [
        "df_rooms_sorted = df_train.sort_values(\"rooms\" , ascending =True)"
      ],
      "metadata": {
        "id": "39WXWTw7LzEV"
      },
      "execution_count": null,
      "outputs": []
    },
    {
      "cell_type": "code",
      "source": [
        "sns.boxplot(data=df_rooms_sorted[\"rooms\"])"
      ],
      "metadata": {
        "colab": {
          "base_uri": "https://localhost:8080/",
          "height": 424
        },
        "id": "ZclUMYqMMafv",
        "outputId": "1fd7ea5e-74ff-492a-ed66-8de08fd37ae1"
      },
      "execution_count": null,
      "outputs": [
        {
          "output_type": "execute_result",
          "data": {
            "text/plain": [
              "<Axes: ylabel='rooms'>"
            ]
          },
          "metadata": {},
          "execution_count": 37
        },
        {
          "output_type": "display_data",
          "data": {
            "text/plain": [
              "<Figure size 640x480 with 1 Axes>"
            ],
            "image/png": "[encoded data removed]"
          },
          "metadata": {}
        }
      ]
    },
    {
      "cell_type": "markdown",
      "source": [
        "Podemos observar que tenemos muchos valores atipicos para df_train"
      ],
      "metadata": {
        "id": "i2VUAu6yNDF6"
      }
    },
    {
      "cell_type": "code",
      "source": [
        "df_test['rooms'].hist()"
      ],
      "metadata": {
        "colab": {
          "base_uri": "https://localhost:8080/",
          "height": 448
        },
        "id": "X88Yd5zgNHj4",
        "outputId": "897860c8-47c2-4b9d-b188-3ca7362b3714"
      },
      "execution_count": null,
      "outputs": [
        {
          "output_type": "execute_result",
          "data": {
            "text/plain": [
              "<Axes: >"
            ]
          },
          "metadata": {},
          "execution_count": 31
        },
        {
          "output_type": "display_data",
          "data": {
            "text/plain": [
              "<Figure size 640x480 with 1 Axes>"
            ],
            "image/png": "[encoded data removed]"
          },
          "metadata": {}
        }
      ]
    },
    {
      "cell_type": "code",
      "source": [
        "sns.set(style='darkgrid')\n",
        "sns.boxplot(data=df_test['rooms'])"
      ],
      "metadata": {
        "colab": {
          "base_uri": "https://localhost:8080/",
          "height": 423
        },
        "id": "dFOX892gN5Ep",
        "outputId": "4bdd8f7d-ba42-472e-c249-fb271cebaeb5"
      },
      "execution_count": null,
      "outputs": [
        {
          "output_type": "execute_result",
          "data": {
            "text/plain": [
              "<Axes: ylabel='rooms'>"
            ]
          },
          "metadata": {},
          "execution_count": 36
        },
        {
          "output_type": "display_data",
          "data": {
            "text/plain": [
              "<Figure size 640x480 with 1 Axes>"
            ],
            "image/png": "[encoded data removed]"
          },
          "metadata": {}
        }
      ]
    },
    {
      "cell_type": "markdown",
      "source": [
        "*0.1.6. Atributo \"bathrooms\"*\n",
        "\n",
        "----"
      ],
      "metadata": {
        "id": "U7iRoIeONVOB"
      }
    },
    {
      "cell_type": "code",
      "source": [
        "print(f\"cantidad de datos no nulos para df_train : {df_train['bathrooms'].count()} --> {df_train['bathrooms'].count()/df_train['bathrooms'].shape[0]*100:.2f} %\")\n",
        "print(f\"cantidad de datos no nulos para df_test : {df_test['bathrooms'].count()}--> {df_test['bathrooms'].count()/df_test['bathrooms'].shape[0]*100:.2f} %\")"
      ],
      "metadata": {
        "colab": {
          "base_uri": "https://localhost:8080/"
        },
        "id": "9A_riy8LNYxn",
        "outputId": "c5ee6f15-da5d-49ba-ada7-d53675ddae18"
      },
      "execution_count": 10,
      "outputs": [
        {
          "output_type": "stream",
          "name": "stdout",
          "text": [
            "cantidad de datos no nulos para df_train : 766218 --> 77.77 %\n",
            "cantidad de datos no nulos para df_test : 6803--> 97.02 %\n"
          ]
        }
      ]
    },
    {
      "cell_type": "code",
      "source": [
        "sns.set(style=\"darkgrid\")\n",
        "df_train[\"bathrooms\"].hist()"
      ],
      "metadata": {
        "colab": {
          "base_uri": "https://localhost:8080/",
          "height": 451
        },
        "id": "uA3T_uCTN818",
        "outputId": "e9966631-fafe-42fa-9291-c8b46a4c7038"
      },
      "execution_count": 12,
      "outputs": [
        {
          "output_type": "execute_result",
          "data": {
            "text/plain": [
              "<Axes: >"
            ]
          },
          "metadata": {},
          "execution_count": 12
        },
        {
          "output_type": "display_data",
          "data": {
            "text/plain": [
              "<Figure size 640x480 with 1 Axes>"
            ],
            "image/png": "[encoded data removed]"
          },
          "metadata": {}
        }
      ]
    },
    {
      "cell_type": "code",
      "source": [
        "sns.boxplot(data=df_train[\"bathrooms\"])"
      ],
      "metadata": {
        "colab": {
          "base_uri": "https://localhost:8080/",
          "height": 423
        },
        "id": "oGTh1SQEOTnE",
        "outputId": "08326207-792a-44bc-96be-e65d5a9941f1"
      },
      "execution_count": 13,
      "outputs": [
        {
          "output_type": "execute_result",
          "data": {
            "text/plain": [
              "<Axes: ylabel='bathrooms'>"
            ]
          },
          "metadata": {},
          "execution_count": 13
        },
        {
          "output_type": "display_data",
          "data": {
            "text/plain": [
              "<Figure size 640x480 with 1 Axes>"
            ],
            "image/png": "[encoded data removed]"
          },
          "metadata": {}
        }
      ]
    },
    {
      "cell_type": "code",
      "source": [
        "df_test[\"bathrooms\"].hist()"
      ],
      "metadata": {
        "colab": {
          "base_uri": "https://localhost:8080/",
          "height": 456
        },
        "id": "Z_Ztyrd-OdSR",
        "outputId": "4bd48a8c-dfe6-4ce6-935d-f042f71dac06"
      },
      "execution_count": 14,
      "outputs": [
        {
          "output_type": "execute_result",
          "data": {
            "text/plain": [
              "<Axes: >"
            ]
          },
          "metadata": {},
          "execution_count": 14
        },
        {
          "output_type": "display_data",
          "data": {
            "text/plain": [
              "<Figure size 640x480 with 1 Axes>"
            ],
            "image/png": "[encoded data removed]"
          },
          "metadata": {}
        }
      ]
    },
    {
      "cell_type": "code",
      "source": [
        "sns.boxplot(data=df_test[\"bathrooms\"])"
      ],
      "metadata": {
        "colab": {
          "base_uri": "https://localhost:8080/",
          "height": 423
        },
        "id": "0qv-lJELOlJX",
        "outputId": "05ddba5c-ec6a-4e0f-ea7e-57acf61e86b0"
      },
      "execution_count": 16,
      "outputs": [
        {
          "output_type": "execute_result",
          "data": {
            "text/plain": [
              "<Axes: ylabel='bathrooms'>"
            ]
          },
          "metadata": {},
          "execution_count": 16
        },
        {
          "output_type": "display_data",
          "data": {
            "text/plain": [
              "<Figure size 640x480 with 1 Axes>"
            ],
            "image/png": "[encoded data removed]"
          },
          "metadata": {}
        }
      ]
    },
    {
      "cell_type": "markdown",
      "source": [
        "*0.1.6. Atributo \"bedrooms\"*\n",
        "\n",
        "---------"
      ],
      "metadata": {
        "id": "eSz5LNx9QJuM"
      }
    },
    {
      "cell_type": "code",
      "source": [
        "print(f\"cantidad de datos no nulos para df_train : {df_train['bedrooms'].count()} --> {df_train['bedrooms'].count()/df_train['bedrooms'].shape[0]*100:.2f} %\")\n",
        "print(f\"cantidad de datos no nulos para df_test : {df_test['bedrooms'].count()}--> {df_test['bedrooms'].count()/df_test['bedrooms'].shape[0]*100:.2f} %\")"
      ],
      "metadata": {
        "colab": {
          "base_uri": "https://localhost:8080/"
        },
        "id": "BfuSUZ9uQGkp",
        "outputId": "730fe29c-4f55-41ef-91e7-6910e5809b3f"
      },
      "execution_count": 18,
      "outputs": [
        {
          "output_type": "stream",
          "name": "stdout",
          "text": [
            "cantidad de datos no nulos para df_train : 386021 --> 39.18 %\n",
            "cantidad de datos no nulos para df_test : 4678--> 66.71 %\n"
          ]
        }
      ]
    },
    {
      "cell_type": "code",
      "source": [
        "df_train[\"bedrooms\"].hist()"
      ],
      "metadata": {
        "colab": {
          "base_uri": "https://localhost:8080/",
          "height": 452
        },
        "id": "by0IzybAQ8Ec",
        "outputId": "1e78e984-8737-49c1-e2e6-eff48bf04a59"
      },
      "execution_count": 19,
      "outputs": [
        {
          "output_type": "execute_result",
          "data": {
            "text/plain": [
              "<Axes: >"
            ]
          },
          "metadata": {},
          "execution_count": 19
        },
        {
          "output_type": "display_data",
          "data": {
            "text/plain": [
              "<Figure size 640x480 with 1 Axes>"
            ],
            "image/png": "[encoded data removed]"
          },
          "metadata": {}
        }
      ]
    },
    {
      "cell_type": "code",
      "source": [
        "sns.boxplot(data=df_train[\"bedrooms\"])"
      ],
      "metadata": {
        "colab": {
          "base_uri": "https://localhost:8080/",
          "height": 423
        },
        "id": "hsr1WvN4RAi3",
        "outputId": "4b1fe67d-2ede-4577-b2f7-4318a771bdee"
      },
      "execution_count": 21,
      "outputs": [
        {
          "output_type": "execute_result",
          "data": {
            "text/plain": [
              "<Axes: ylabel='bedrooms'>"
            ]
          },
          "metadata": {},
          "execution_count": 21
        },
        {
          "output_type": "display_data",
          "data": {
            "text/plain": [
              "<Figure size 640x480 with 1 Axes>"
            ],
            "image/png": "[encoded data removed]"
          },
          "metadata": {}
        }
      ]
    },
    {
      "cell_type": "code",
      "source": [
        "df_test[\"bedrooms\"].hist()"
      ],
      "metadata": {
        "colab": {
          "base_uri": "https://localhost:8080/",
          "height": 451
        },
        "id": "3VawvVDgRwlw",
        "outputId": "35462f0c-d035-4457-bf33-af910da60432"
      },
      "execution_count": 23,
      "outputs": [
        {
          "output_type": "execute_result",
          "data": {
            "text/plain": [
              "<Axes: >"
            ]
          },
          "metadata": {},
          "execution_count": 23
        },
        {
          "output_type": "display_data",
          "data": {
            "text/plain": [
              "<Figure size 640x480 with 1 Axes>"
            ],
            "image/png": "[encoded data removed]"
          },
          "metadata": {}
        }
      ]
    },
    {
      "cell_type": "code",
      "source": [
        "sns.boxplot(data=df_test[\"bedrooms\"])"
      ],
      "metadata": {
        "colab": {
          "base_uri": "https://localhost:8080/",
          "height": 423
        },
        "id": "ui46esr7R4vX",
        "outputId": "b9eb9fc8-d503-4e88-b1ae-8d72ecfedea4"
      },
      "execution_count": 24,
      "outputs": [
        {
          "output_type": "execute_result",
          "data": {
            "text/plain": [
              "<Axes: ylabel='bedrooms'>"
            ]
          },
          "metadata": {},
          "execution_count": 24
        },
        {
          "output_type": "display_data",
          "data": {
            "text/plain": [
              "<Figure size 640x480 with 1 Axes>"
            ],
            "image/png": "[encoded data removed]"
          },
          "metadata": {}
        }
      ]
    },
    {
      "cell_type": "code",
      "source": [
        "df_train[df_train[\"bedrooms\"] < 0][['bedrooms']]"
      ],
      "metadata": {
        "colab": {
          "base_uri": "https://localhost:8080/",
          "height": 394
        },
        "id": "9gFjaVAg8uRd",
        "outputId": "0346be69-6102-4b18-96af-f5d9ba82fc24"
      },
      "execution_count": 27,
      "outputs": [
        {
          "output_type": "execute_result",
          "data": {
            "text/plain": [
              "        bedrooms\n",
              "id              \n",
              "6584        -2.0\n",
              "8571        -3.0\n",
              "66523       -3.0\n",
              "75091       -1.0\n",
              "350254      -2.0\n",
              "432319      -2.0\n",
              "471865     -13.0\n",
              "477036      -1.0\n",
              "491767      -2.0\n",
              "612110      -1.0"
            ],
            "text/html": [
              "\n",
              "  <div id=\"df-846420ee-d4ed-463c-a203-aa3a4cf5e558\" class=\"colab-df-container\">\n",
              "    <div>\n",
              "<style scoped>\n",
              "    .dataframe tbody tr th:only-of-type {\n",
              "        vertical-align: middle;\n",
              "    }\n",
              "\n",
              "    .dataframe tbody tr th {\n",
              "        vertical-align: top;\n",
              "    }\n",
              "\n",
              "    .dataframe thead th {\n",
              "        text-align: right;\n",
              "    }\n",
              "</style>\n",
              "<table border=\"1\" class=\"dataframe\">\n",
              "  <thead>\n",
              "    <tr style=\"text-align: right;\">\n",
              "      <th></th>\n",
              "      <th>bedrooms</th>\n",
              "    </tr>\n",
              "    <tr>\n",
              "      <th>id</th>\n",
              "      <th></th>\n",
              "    </tr>\n",
              "  </thead>\n",
              "  <tbody>\n",
              "    <tr>\n",
              "      <th>6584</th>\n",
              "      <td>-2.0</td>\n",
              "    </tr>\n",
              "    <tr>\n",
              "      <th>8571</th>\n",
              "      <td>-3.0</td>\n",
              "    </tr>\n",
              "    <tr>\n",
              "      <th>66523</th>\n",
              "      <td>-3.0</td>\n",
              "    </tr>\n",
              "    <tr>\n",
              "      <th>75091</th>\n",
              "      <td>-1.0</td>\n",
              "    </tr>\n",
              "    <tr>\n",
              "      <th>350254</th>\n",
              "      <td>-2.0</td>\n",
              "    </tr>\n",
              "    <tr>\n",
              "      <th>432319</th>\n",
              "      <td>-2.0</td>\n",
              "    </tr>\n",
              "    <tr>\n",
              "      <th>471865</th>\n",
              "      <td>-13.0</td>\n",
              "    </tr>\n",
              "    <tr>\n",
              "      <th>477036</th>\n",
              "      <td>-1.0</td>\n",
              "    </tr>\n",
              "    <tr>\n",
              "      <th>491767</th>\n",
              "      <td>-2.0</td>\n",
              "    </tr>\n",
              "    <tr>\n",
              "      <th>612110</th>\n",
              "      <td>-1.0</td>\n",
              "    </tr>\n",
              "  </tbody>\n",
              "</table>\n",
              "</div>\n",
              "    <div class=\"colab-df-buttons\">\n",
              "\n",
              "  <div class=\"colab-df-container\">\n",
              "    <button class=\"colab-df-convert\" onclick=\"convertToInteractive('df-846420ee-d4ed-463c-a203-aa3a4cf5e558')\"\n",
              "            title=\"Convert this dataframe to an interactive table.\"\n",
              "            style=\"display:none;\">\n",
              "\n",
              "  <svg xmlns=\"http://www.w3.org/2000/svg\" height=\"24px\" viewBox=\"0 -960 960 960\">\n",
              "    <path d=\"M120-120v-720h720v720H120Zm60-500h600v-160H180v160Zm220 220h160v-160H400v160Zm0 220h160v-160H400v160ZM180-400h160v-160H180v160Zm440 0h160v-160H620v160ZM180-180h160v-160H180v160Zm440 0h160v-160H620v160Z\"/>\n",
              "  </svg>\n",
              "    </button>\n",
              "\n",
              "  <style>\n",
              "    .colab-df-container {\n",
              "      display:flex;\n",
              "      gap: 12px;\n",
              "    }\n",
              "\n",
              "    .colab-df-convert {\n",
              "      background-color: #E8F0FE;\n",
              "      border: none;\n",
              "      border-radius: 50%;\n",
              "      cursor: pointer;\n",
              "      display: none;\n",
              "      fill: #1967D2;\n",
              "      height: 32px;\n",
              "      padding: 0 0 0 0;\n",
              "      width: 32px;\n",
              "    }\n",
              "\n",
              "    .colab-df-convert:hover {\n",
              "      background-color: #E2EBFA;\n",
              "      box-shadow: 0px 1px 2px rgba(60, 64, 67, 0.3), 0px 1px 3px 1px rgba(60, 64, 67, 0.15);\n",
              "      fill: #174EA6;\n",
              "    }\n",
              "\n",
              "    .colab-df-buttons div {\n",
              "      margin-bottom: 4px;\n",
              "    }\n",
              "\n",
              "    [theme=dark] .colab-df-convert {\n",
              "      background-color: #3B4455;\n",
              "      fill: #D2E3FC;\n",
              "    }\n",
              "\n",
              "    [theme=dark] .colab-df-convert:hover {\n",
              "      background-color: #434B5C;\n",
              "      box-shadow: 0px 1px 3px 1px rgba(0, 0, 0, 0.15);\n",
              "      filter: drop-shadow(0px 1px 2px rgba(0, 0, 0, 0.3));\n",
              "      fill: #FFFFFF;\n",
              "    }\n",
              "  </style>\n",
              "\n",
              "    <script>\n",
              "      const buttonEl =\n",
              "        document.querySelector('#df-846420ee-d4ed-463c-a203-aa3a4cf5e558 button.colab-df-convert');\n",
              "      buttonEl.style.display =\n",
              "        google.colab.kernel.accessAllowed ? 'block' : 'none';\n",
              "\n",
              "      async function convertToInteractive(key) {\n",
              "        const element = document.querySelector('#df-846420ee-d4ed-463c-a203-aa3a4cf5e558');\n",
              "        const dataTable =\n",
              "          await google.colab.kernel.invokeFunction('convertToInteractive',\n",
              "                                                    [key], {});\n",
              "        if (!dataTable) return;\n",
              "\n",
              "        const docLinkHtml = 'Like what you see? Visit the ' +\n",
              "          '<a target=\"_blank\" href=https://colab.research.google.com/notebooks/data_table.ipynb>data table notebook</a>'\n",
              "          + ' to learn more about interactive tables.';\n",
              "        element.innerHTML = '';\n",
              "        dataTable['output_type'] = 'display_data';\n",
              "        await google.colab.output.renderOutput(dataTable, element);\n",
              "        const docLink = document.createElement('div');\n",
              "        docLink.innerHTML = docLinkHtml;\n",
              "        element.appendChild(docLink);\n",
              "      }\n",
              "    </script>\n",
              "  </div>\n",
              "\n",
              "\n",
              "<div id=\"df-53e991a9-df0a-4b1a-8b7f-cf10c57090ec\">\n",
              "  <button class=\"colab-df-quickchart\" onclick=\"quickchart('df-53e991a9-df0a-4b1a-8b7f-cf10c57090ec')\"\n",
              "            title=\"Suggest charts\"\n",
              "            style=\"display:none;\">\n",
              "\n",
              "<svg xmlns=\"http://www.w3.org/2000/svg\" height=\"24px\"viewBox=\"0 0 24 24\"\n",
              "     width=\"24px\">\n",
              "    <g>\n",
              "        <path d=\"M19 3H5c-1.1 0-2 .9-2 2v14c0 1.1.9 2 2 2h14c1.1 0 2-.9 2-2V5c0-1.1-.9-2-2-2zM9 17H7v-7h2v7zm4 0h-2V7h2v10zm4 0h-2v-4h2v4z\"/>\n",
              "    </g>\n",
              "</svg>\n",
              "  </button>\n",
              "\n",
              "<style>\n",
              "  .colab-df-quickchart {\n",
              "      --bg-color: #E8F0FE;\n",
              "      --fill-color: #1967D2;\n",
              "      --hover-bg-color: #E2EBFA;\n",
              "      --hover-fill-color: #174EA6;\n",
              "      --disabled-fill-color: #AAA;\n",
              "      --disabled-bg-color: #DDD;\n",
              "  }\n",
              "\n",
              "  [theme=dark] .colab-df-quickchart {\n",
              "      --bg-color: #3B4455;\n",
              "      --fill-color: #D2E3FC;\n",
              "      --hover-bg-color: #434B5C;\n",
              "      --hover-fill-color: #FFFFFF;\n",
              "      --disabled-bg-color: #3B4455;\n",
              "      --disabled-fill-color: #666;\n",
              "  }\n",
              "\n",
              "  .colab-df-quickchart {\n",
              "    background-color: var(--bg-color);\n",
              "    border: none;\n",
              "    border-radius: 50%;\n",
              "    cursor: pointer;\n",
              "    display: none;\n",
              "    fill: var(--fill-color);\n",
              "    height: 32px;\n",
              "    padding: 0;\n",
              "    width: 32px;\n",
              "  }\n",
              "\n",
              "  .colab-df-quickchart:hover {\n",
              "    background-color: var(--hover-bg-color);\n",
              "    box-shadow: 0 1px 2px rgba(60, 64, 67, 0.3), 0 1px 3px 1px rgba(60, 64, 67, 0.15);\n",
              "    fill: var(--button-hover-fill-color);\n",
              "  }\n",
              "\n",
              "  .colab-df-quickchart-complete:disabled,\n",
              "  .colab-df-quickchart-complete:disabled:hover {\n",
              "    background-color: var(--disabled-bg-color);\n",
              "    fill: var(--disabled-fill-color);\n",
              "    box-shadow: none;\n",
              "  }\n",
              "\n",
              "  .colab-df-spinner {\n",
              "    border: 2px solid var(--fill-color);\n",
              "    border-color: transparent;\n",
              "    border-bottom-color: var(--fill-color);\n",
              "    animation:\n",
              "      spin 1s steps(1) infinite;\n",
              "  }\n",
              "\n",
              "  @keyframes spin {\n",
              "    0% {\n",
              "      border-color: transparent;\n",
              "      border-bottom-color: var(--fill-color);\n",
              "      border-left-color: var(--fill-color);\n",
              "    }\n",
              "    20% {\n",
              "      border-color: transparent;\n",
              "      border-left-color: var(--fill-color);\n",
              "      border-top-color: var(--fill-color);\n",
              "    }\n",
              "    30% {\n",
              "      border-color: transparent;\n",
              "      border-left-color: var(--fill-color);\n",
              "      border-top-color: var(--fill-color);\n",
              "      border-right-color: var(--fill-color);\n",
              "    }\n",
              "    40% {\n",
              "      border-color: transparent;\n",
              "      border-right-color: var(--fill-color);\n",
              "      border-top-color: var(--fill-color);\n",
              "    }\n",
              "    60% {\n",
              "      border-color: transparent;\n",
              "      border-right-color: var(--fill-color);\n",
              "    }\n",
              "    80% {\n",
              "      border-color: transparent;\n",
              "      border-right-color: var(--fill-color);\n",
              "      border-bottom-color: var(--fill-color);\n",
              "    }\n",
              "    90% {\n",
              "      border-color: transparent;\n",
              "      border-bottom-color: var(--fill-color);\n",
              "    }\n",
              "  }\n",
              "</style>\n",
              "\n",
              "  <script>\n",
              "    async function quickchart(key) {\n",
              "      const quickchartButtonEl =\n",
              "        document.querySelector('#' + key + ' button');\n",
              "      quickchartButtonEl.disabled = true;  // To prevent multiple clicks.\n",
              "      quickchartButtonEl.classList.add('colab-df-spinner');\n",
              "      try {\n",
              "        const charts = await google.colab.kernel.invokeFunction(\n",
              "            'suggestCharts', [key], {});\n",
              "      } catch (error) {\n",
              "        console.error('Error during call to suggestCharts:', error);\n",
              "      }\n",
              "      quickchartButtonEl.classList.remove('colab-df-spinner');\n",
              "      quickchartButtonEl.classList.add('colab-df-quickchart-complete');\n",
              "    }\n",
              "    (() => {\n",
              "      let quickchartButtonEl =\n",
              "        document.querySelector('#df-53e991a9-df0a-4b1a-8b7f-cf10c57090ec button');\n",
              "      quickchartButtonEl.style.display =\n",
              "        google.colab.kernel.accessAllowed ? 'block' : 'none';\n",
              "    })();\n",
              "  </script>\n",
              "</div>\n",
              "\n",
              "    </div>\n",
              "  </div>\n"
            ],
            "application/vnd.google.colaboratory.intrinsic+json": {
              "type": "dataframe",
              "summary": "{\n  \"name\": \"df_train[df_train[\\\"bedrooms\\\"] < 0][['bedrooms']]\",\n  \"rows\": 10,\n  \"fields\": [\n    {\n      \"column\": \"id\",\n      \"properties\": {\n        \"dtype\": \"number\",\n        \"std\": 233622,\n        \"min\": 6584,\n        \"max\": 612110,\n        \"num_unique_values\": 10,\n        \"samples\": [\n          491767,\n          8571,\n          432319\n        ],\n        \"semantic_type\": \"\",\n        \"description\": \"\"\n      }\n    },\n    {\n      \"column\": \"bedrooms\",\n      \"properties\": {\n        \"dtype\": \"number\",\n        \"std\": 3.5901098714230026,\n        \"min\": -13.0,\n        \"max\": -1.0,\n        \"num_unique_values\": 4,\n        \"samples\": [\n          -3.0,\n          -13.0,\n          -2.0\n        ],\n        \"semantic_type\": \"\",\n        \"description\": \"\"\n      }\n    }\n  ]\n}"
            }
          },
          "metadata": {},
          "execution_count": 27
        }
      ]
    },
    {
      "cell_type": "code",
      "source": [
        "df_train.info()"
      ],
      "metadata": {
        "colab": {
          "base_uri": "https://localhost:8080/"
        },
        "id": "8NhhiIRlUbt9",
        "outputId": "b665ad0a-8028-409c-f58d-9e6a21073dcb"
      },
      "execution_count": 28,
      "outputs": [
        {
          "output_type": "stream",
          "name": "stdout",
          "text": [
            "<class 'pandas.core.frame.DataFrame'>\n",
            "Index: 985180 entries, 556713 to 1000000\n",
            "Data columns (total 24 columns):\n",
            " #   Column           Non-Null Count   Dtype  \n",
            "---  ------           --------------   -----  \n",
            " 0   ad_type          985180 non-null  object \n",
            " 1   start_date       985180 non-null  object \n",
            " 2   end_date         985180 non-null  object \n",
            " 3   created_on       985180 non-null  object \n",
            " 4   lat              832453 non-null  float64\n",
            " 5   lon              833388 non-null  float64\n",
            " 6   l1               985180 non-null  object \n",
            " 7   l2               985180 non-null  object \n",
            " 8   l3               927733 non-null  object \n",
            " 9   l4               225006 non-null  object \n",
            " 10  l5               4711 non-null    object \n",
            " 11  l6               0 non-null       float64\n",
            " 12  rooms            496527 non-null  float64\n",
            " 13  bedrooms         386021 non-null  float64\n",
            " 14  bathrooms        766218 non-null  float64\n",
            " 15  surface_total    441184 non-null  float64\n",
            " 16  surface_covered  430023 non-null  float64\n",
            " 17  currency         937929 non-null  object \n",
            " 18  price_period     369939 non-null  object \n",
            " 19  title            985152 non-null  object \n",
            " 20  description      985157 non-null  object \n",
            " 21  property_type    985180 non-null  object \n",
            " 22  operation_type   985180 non-null  object \n",
            " 23  price            940799 non-null  float64\n",
            "dtypes: float64(9), object(15)\n",
            "memory usage: 187.9+ MB\n"
          ]
        }
      ]
    },
    {
      "cell_type": "code",
      "source": [
        "df_train.describe()"
      ],
      "metadata": {
        "colab": {
          "base_uri": "https://localhost:8080/",
          "height": 300
        },
        "id": "c5vgrP16VKgx",
        "outputId": "92051f32-62c6-4737-9874-c32a4b00201e"
      },
      "execution_count": 30,
      "outputs": [
        {
          "output_type": "execute_result",
          "data": {
            "text/plain": [
              "                 lat            lon   l6          rooms       bedrooms  \\\n",
              "count  832453.000000  833388.000000  0.0  496527.000000  386021.000000   \n",
              "mean      -59.273078     -34.795283  NaN       2.865331       2.088822   \n",
              "std         2.716961       3.078145  NaN       1.687075       2.719330   \n",
              "min      -180.000000     -54.842464  NaN       1.000000     -13.000000   \n",
              "25%       -58.762921     -34.923353  NaN       2.000000       1.000000   \n",
              "50%       -58.444935     -34.611182  NaN       3.000000       2.000000   \n",
              "75%       -58.047423     -34.454720  NaN       4.000000       3.000000   \n",
              "max       -35.045025      85.051129  NaN      40.000000     900.000000   \n",
              "\n",
              "           bathrooms  surface_total  surface_covered         price  \n",
              "count  766218.000000  441184.000000     4.300230e+05  9.407990e+05  \n",
              "mean        1.700136     500.110607     5.851866e+02  2.888822e+05  \n",
              "std         1.074748    4133.349588     7.443324e+04  5.581522e+06  \n",
              "min         1.000000    -200.000000    -1.700000e+02  0.000000e+00  \n",
              "25%         1.000000      50.000000     4.500000e+01  3.900000e+04  \n",
              "50%         1.000000      96.000000     7.500000e+01  9.725400e+04  \n",
              "75%         2.000000     275.000000     1.580000e+02  2.100000e+05  \n",
              "max        20.000000  200000.000000     2.700000e+07  3.100000e+09  "
            ],
            "text/html": [
              "\n",
              "  <div id=\"df-65b18948-23a5-4dfd-8420-f41907373677\" class=\"colab-df-container\">\n",
              "    <div>\n",
              "<style scoped>\n",
              "    .dataframe tbody tr th:only-of-type {\n",
              "        vertical-align: middle;\n",
              "    }\n",
              "\n",
              "    .dataframe tbody tr th {\n",
              "        vertical-align: top;\n",
              "    }\n",
              "\n",
              "    .dataframe thead th {\n",
              "        text-align: right;\n",
              "    }\n",
              "</style>\n",
              "<table border=\"1\" class=\"dataframe\">\n",
              "  <thead>\n",
              "    <tr style=\"text-align: right;\">\n",
              "      <th></th>\n",
              "      <th>lat</th>\n",
              "      <th>lon</th>\n",
              "      <th>l6</th>\n",
              "      <th>rooms</th>\n",
              "      <th>bedrooms</th>\n",
              "      <th>bathrooms</th>\n",
              "      <th>surface_total</th>\n",
              "      <th>surface_covered</th>\n",
              "      <th>price</th>\n",
              "    </tr>\n",
              "  </thead>\n",
              "  <tbody>\n",
              "    <tr>\n",
              "      <th>count</th>\n",
              "      <td>832453.000000</td>\n",
              "      <td>833388.000000</td>\n",
              "      <td>0.0</td>\n",
              "      <td>496527.000000</td>\n",
              "      <td>386021.000000</td>\n",
              "      <td>766218.000000</td>\n",
              "      <td>441184.000000</td>\n",
              "      <td>4.300230e+05</td>\n",
              "      <td>9.407990e+05</td>\n",
              "    </tr>\n",
              "    <tr>\n",
              "      <th>mean</th>\n",
              "      <td>-59.273078</td>\n",
              "      <td>-34.795283</td>\n",
              "      <td>NaN</td>\n",
              "      <td>2.865331</td>\n",
              "      <td>2.088822</td>\n",
              "      <td>1.700136</td>\n",
              "      <td>500.110607</td>\n",
              "      <td>5.851866e+02</td>\n",
              "      <td>2.888822e+05</td>\n",
              "    </tr>\n",
              "    <tr>\n",
              "      <th>std</th>\n",
              "      <td>2.716961</td>\n",
              "      <td>3.078145</td>\n",
              "      <td>NaN</td>\n",
              "      <td>1.687075</td>\n",
              "      <td>2.719330</td>\n",
              "      <td>1.074748</td>\n",
              "      <td>4133.349588</td>\n",
              "      <td>7.443324e+04</td>\n",
              "      <td>5.581522e+06</td>\n",
              "    </tr>\n",
              "    <tr>\n",
              "      <th>min</th>\n",
              "      <td>-180.000000</td>\n",
              "      <td>-54.842464</td>\n",
              "      <td>NaN</td>\n",
              "      <td>1.000000</td>\n",
              "      <td>-13.000000</td>\n",
              "      <td>1.000000</td>\n",
              "      <td>-200.000000</td>\n",
              "      <td>-1.700000e+02</td>\n",
              "      <td>0.000000e+00</td>\n",
              "    </tr>\n",
              "    <tr>\n",
              "      <th>25%</th>\n",
              "      <td>-58.762921</td>\n",
              "      <td>-34.923353</td>\n",
              "      <td>NaN</td>\n",
              "      <td>2.000000</td>\n",
              "      <td>1.000000</td>\n",
              "      <td>1.000000</td>\n",
              "      <td>50.000000</td>\n",
              "      <td>4.500000e+01</td>\n",
              "      <td>3.900000e+04</td>\n",
              "    </tr>\n",
              "    <tr>\n",
              "      <th>50%</th>\n",
              "      <td>-58.444935</td>\n",
              "      <td>-34.611182</td>\n",
              "      <td>NaN</td>\n",
              "      <td>3.000000</td>\n",
              "      <td>2.000000</td>\n",
              "      <td>1.000000</td>\n",
              "      <td>96.000000</td>\n",
              "      <td>7.500000e+01</td>\n",
              "      <td>9.725400e+04</td>\n",
              "    </tr>\n",
              "    <tr>\n",
              "      <th>75%</th>\n",
              "      <td>-58.047423</td>\n",
              "      <td>-34.454720</td>\n",
              "      <td>NaN</td>\n",
              "      <td>4.000000</td>\n",
              "      <td>3.000000</td>\n",
              "      <td>2.000000</td>\n",
              "      <td>275.000000</td>\n",
              "      <td>1.580000e+02</td>\n",
              "      <td>2.100000e+05</td>\n",
              "    </tr>\n",
              "    <tr>\n",
              "      <th>max</th>\n",
              "      <td>-35.045025</td>\n",
              "      <td>85.051129</td>\n",
              "      <td>NaN</td>\n",
              "      <td>40.000000</td>\n",
              "      <td>900.000000</td>\n",
              "      <td>20.000000</td>\n",
              "      <td>200000.000000</td>\n",
              "      <td>2.700000e+07</td>\n",
              "      <td>3.100000e+09</td>\n",
              "    </tr>\n",
              "  </tbody>\n",
              "</table>\n",
              "</div>\n",
              "    <div class=\"colab-df-buttons\">\n",
              "\n",
              "  <div class=\"colab-df-container\">\n",
              "    <button class=\"colab-df-convert\" onclick=\"convertToInteractive('df-65b18948-23a5-4dfd-8420-f41907373677')\"\n",
              "            title=\"Convert this dataframe to an interactive table.\"\n",
              "            style=\"display:none;\">\n",
              "\n",
              "  <svg xmlns=\"http://www.w3.org/2000/svg\" height=\"24px\" viewBox=\"0 -960 960 960\">\n",
              "    <path d=\"M120-120v-720h720v720H120Zm60-500h600v-160H180v160Zm220 220h160v-160H400v160Zm0 220h160v-160H400v160ZM180-400h160v-160H180v160Zm440 0h160v-160H620v160ZM180-180h160v-160H180v160Zm440 0h160v-160H620v160Z\"/>\n",
              "  </svg>\n",
              "    </button>\n",
              "\n",
              "  <style>\n",
              "    .colab-df-container {\n",
              "      display:flex;\n",
              "      gap: 12px;\n",
              "    }\n",
              "\n",
              "    .colab-df-convert {\n",
              "      background-color: #E8F0FE;\n",
              "      border: none;\n",
              "      border-radius: 50%;\n",
              "      cursor: pointer;\n",
              "      display: none;\n",
              "      fill: #1967D2;\n",
              "      height: 32px;\n",
              "      padding: 0 0 0 0;\n",
              "      width: 32px;\n",
              "    }\n",
              "\n",
              "    .colab-df-convert:hover {\n",
              "      background-color: #E2EBFA;\n",
              "      box-shadow: 0px 1px 2px rgba(60, 64, 67, 0.3), 0px 1px 3px 1px rgba(60, 64, 67, 0.15);\n",
              "      fill: #174EA6;\n",
              "    }\n",
              "\n",
              "    .colab-df-buttons div {\n",
              "      margin-bottom: 4px;\n",
              "    }\n",
              "\n",
              "    [theme=dark] .colab-df-convert {\n",
              "      background-color: #3B4455;\n",
              "      fill: #D2E3FC;\n",
              "    }\n",
              "\n",
              "    [theme=dark] .colab-df-convert:hover {\n",
              "      background-color: #434B5C;\n",
              "      box-shadow: 0px 1px 3px 1px rgba(0, 0, 0, 0.15);\n",
              "      filter: drop-shadow(0px 1px 2px rgba(0, 0, 0, 0.3));\n",
              "      fill: #FFFFFF;\n",
              "    }\n",
              "  </style>\n",
              "\n",
              "    <script>\n",
              "      const buttonEl =\n",
              "        document.querySelector('#df-65b18948-23a5-4dfd-8420-f41907373677 button.colab-df-convert');\n",
              "      buttonEl.style.display =\n",
              "        google.colab.kernel.accessAllowed ? 'block' : 'none';\n",
              "\n",
              "      async function convertToInteractive(key) {\n",
              "        const element = document.querySelector('#df-65b18948-23a5-4dfd-8420-f41907373677');\n",
              "        const dataTable =\n",
              "          await google.colab.kernel.invokeFunction('convertToInteractive',\n",
              "                                                    [key], {});\n",
              "        if (!dataTable) return;\n",
              "\n",
              "        const docLinkHtml = 'Like what you see? Visit the ' +\n",
              "          '<a target=\"_blank\" href=https://colab.research.google.com/notebooks/data_table.ipynb>data table notebook</a>'\n",
              "          + ' to learn more about interactive tables.';\n",
              "        element.innerHTML = '';\n",
              "        dataTable['output_type'] = 'display_data';\n",
              "        await google.colab.output.renderOutput(dataTable, element);\n",
              "        const docLink = document.createElement('div');\n",
              "        docLink.innerHTML = docLinkHtml;\n",
              "        element.appendChild(docLink);\n",
              "      }\n",
              "    </script>\n",
              "  </div>\n",
              "\n",
              "\n",
              "<div id=\"df-bf7d8a25-b477-4632-9e29-eadb58f673b6\">\n",
              "  <button class=\"colab-df-quickchart\" onclick=\"quickchart('df-bf7d8a25-b477-4632-9e29-eadb58f673b6')\"\n",
              "            title=\"Suggest charts\"\n",
              "            style=\"display:none;\">\n",
              "\n",
              "<svg xmlns=\"http://www.w3.org/2000/svg\" height=\"24px\"viewBox=\"0 0 24 24\"\n",
              "     width=\"24px\">\n",
              "    <g>\n",
              "        <path d=\"M19 3H5c-1.1 0-2 .9-2 2v14c0 1.1.9 2 2 2h14c1.1 0 2-.9 2-2V5c0-1.1-.9-2-2-2zM9 17H7v-7h2v7zm4 0h-2V7h2v10zm4 0h-2v-4h2v4z\"/>\n",
              "    </g>\n",
              "</svg>\n",
              "  </button>\n",
              "\n",
              "<style>\n",
              "  .colab-df-quickchart {\n",
              "      --bg-color: #E8F0FE;\n",
              "      --fill-color: #1967D2;\n",
              "      --hover-bg-color: #E2EBFA;\n",
              "      --hover-fill-color: #174EA6;\n",
              "      --disabled-fill-color: #AAA;\n",
              "      --disabled-bg-color: #DDD;\n",
              "  }\n",
              "\n",
              "  [theme=dark] .colab-df-quickchart {\n",
              "      --bg-color: #3B4455;\n",
              "      --fill-color: #D2E3FC;\n",
              "      --hover-bg-color: #434B5C;\n",
              "      --hover-fill-color: #FFFFFF;\n",
              "      --disabled-bg-color: #3B4455;\n",
              "      --disabled-fill-color: #666;\n",
              "  }\n",
              "\n",
              "  .colab-df-quickchart {\n",
              "    background-color: var(--bg-color);\n",
              "    border: none;\n",
              "    border-radius: 50%;\n",
              "    cursor: pointer;\n",
              "    display: none;\n",
              "    fill: var(--fill-color);\n",
              "    height: 32px;\n",
              "    padding: 0;\n",
              "    width: 32px;\n",
              "  }\n",
              "\n",
              "  .colab-df-quickchart:hover {\n",
              "    background-color: var(--hover-bg-color);\n",
              "    box-shadow: 0 1px 2px rgba(60, 64, 67, 0.3), 0 1px 3px 1px rgba(60, 64, 67, 0.15);\n",
              "    fill: var(--button-hover-fill-color);\n",
              "  }\n",
              "\n",
              "  .colab-df-quickchart-complete:disabled,\n",
              "  .colab-df-quickchart-complete:disabled:hover {\n",
              "    background-color: var(--disabled-bg-color);\n",
              "    fill: var(--disabled-fill-color);\n",
              "    box-shadow: none;\n",
              "  }\n",
              "\n",
              "  .colab-df-spinner {\n",
              "    border: 2px solid var(--fill-color);\n",
              "    border-color: transparent;\n",
              "    border-bottom-color: var(--fill-color);\n",
              "    animation:\n",
              "      spin 1s steps(1) infinite;\n",
              "  }\n",
              "\n",
              "  @keyframes spin {\n",
              "    0% {\n",
              "      border-color: transparent;\n",
              "      border-bottom-color: var(--fill-color);\n",
              "      border-left-color: var(--fill-color);\n",
              "    }\n",
              "    20% {\n",
              "      border-color: transparent;\n",
              "      border-left-color: var(--fill-color);\n",
              "      border-top-color: var(--fill-color);\n",
              "    }\n",
              "    30% {\n",
              "      border-color: transparent;\n",
              "      border-left-color: var(--fill-color);\n",
              "      border-top-color: var(--fill-color);\n",
              "      border-right-color: var(--fill-color);\n",
              "    }\n",
              "    40% {\n",
              "      border-color: transparent;\n",
              "      border-right-color: var(--fill-color);\n",
              "      border-top-color: var(--fill-color);\n",
              "    }\n",
              "    60% {\n",
              "      border-color: transparent;\n",
              "      border-right-color: var(--fill-color);\n",
              "    }\n",
              "    80% {\n",
              "      border-color: transparent;\n",
              "      border-right-color: var(--fill-color);\n",
              "      border-bottom-color: var(--fill-color);\n",
              "    }\n",
              "    90% {\n",
              "      border-color: transparent;\n",
              "      border-bottom-color: var(--fill-color);\n",
              "    }\n",
              "  }\n",
              "</style>\n",
              "\n",
              "  <script>\n",
              "    async function quickchart(key) {\n",
              "      const quickchartButtonEl =\n",
              "        document.querySelector('#' + key + ' button');\n",
              "      quickchartButtonEl.disabled = true;  // To prevent multiple clicks.\n",
              "      quickchartButtonEl.classList.add('colab-df-spinner');\n",
              "      try {\n",
              "        const charts = await google.colab.kernel.invokeFunction(\n",
              "            'suggestCharts', [key], {});\n",
              "      } catch (error) {\n",
              "        console.error('Error during call to suggestCharts:', error);\n",
              "      }\n",
              "      quickchartButtonEl.classList.remove('colab-df-spinner');\n",
              "      quickchartButtonEl.classList.add('colab-df-quickchart-complete');\n",
              "    }\n",
              "    (() => {\n",
              "      let quickchartButtonEl =\n",
              "        document.querySelector('#df-bf7d8a25-b477-4632-9e29-eadb58f673b6 button');\n",
              "      quickchartButtonEl.style.display =\n",
              "        google.colab.kernel.accessAllowed ? 'block' : 'none';\n",
              "    })();\n",
              "  </script>\n",
              "</div>\n",
              "\n",
              "    </div>\n",
              "  </div>\n"
            ],
            "application/vnd.google.colaboratory.intrinsic+json": {
              "type": "dataframe",
              "summary": "{\n  \"name\": \"df_train\",\n  \"rows\": 8,\n  \"fields\": [\n    {\n      \"column\": \"lat\",\n      \"properties\": {\n        \"dtype\": \"number\",\n        \"std\": 294339.1548942474,\n        \"min\": -180.0,\n        \"max\": 832453.0,\n        \"num_unique_values\": 8,\n        \"samples\": [\n          -59.27307788894649,\n          -58.4449345,\n          832453.0\n        ],\n        \"semantic_type\": \"\",\n        \"description\": \"\"\n      }\n    },\n    {\n      \"column\": \"lon\",\n      \"properties\": {\n        \"dtype\": \"number\",\n        \"std\": 294652.4847866071,\n        \"min\": -54.8424641,\n        \"max\": 833388.0,\n        \"num_unique_values\": 8,\n        \"samples\": [\n          -34.79528262283198,\n          -34.61118225,\n          833388.0\n        ],\n        \"semantic_type\": \"\",\n        \"description\": \"\"\n      }\n    },\n    {\n      \"column\": \"l6\",\n      \"properties\": {\n        \"dtype\": \"number\",\n        \"std\": null,\n        \"min\": 0.0,\n        \"max\": 0.0,\n        \"num_unique_values\": 1,\n        \"samples\": [\n          0.0\n        ],\n        \"semantic_type\": \"\",\n        \"description\": \"\"\n      }\n    },\n    {\n      \"column\": \"rooms\",\n      \"properties\": {\n        \"dtype\": \"number\",\n        \"std\": 175546.04955326585,\n        \"min\": 1.0,\n        \"max\": 496527.0,\n        \"num_unique_values\": 8,\n        \"samples\": [\n          2.865330586252107\n        ],\n        \"semantic_type\": \"\",\n        \"description\": \"\"\n      }\n    },\n    {\n      \"column\": \"bedrooms\",\n      \"properties\": {\n        \"dtype\": \"number\",\n        \"std\": 136434.05111370364,\n        \"min\": -13.0,\n        \"max\": 386021.0,\n        \"num_unique_values\": 8,\n        \"samples\": [\n          2.088821592607656\n        ],\n        \"semantic_type\": \"\",\n        \"description\": \"\"\n      }\n    },\n    {\n      \"column\": \"bathrooms\",\n      \"properties\": {\n        \"dtype\": \"number\",\n        \"std\": 270897.5690694334,\n        \"min\": 1.0,\n        \"max\": 766218.0,\n        \"num_unique_values\": 6,\n        \"samples\": [\n          766218.0\n        ],\n        \"semantic_type\": \"\",\n        \"description\": \"\"\n      }\n    },\n    {\n      \"column\": \"surface_total\",\n      \"properties\": {\n        \"dtype\": \"number\",\n        \"std\": 161462.10186913263,\n        \"min\": -200.0,\n        \"max\": 441184.0,\n        \"num_unique_values\": 8,\n        \"samples\": [\n          500.1106069123087\n        ],\n        \"semantic_type\": \"\",\n        \"description\": \"\"\n      }\n    },\n    {\n      \"column\": \"surface_covered\",\n      \"properties\": {\n        \"dtype\": \"number\",\n        \"std\": 9521583.038293429,\n        \"min\": -170.0,\n        \"max\": 27000000.0,\n        \"num_unique_values\": 8,\n        \"samples\": [\n          585.1865993214317\n        ],\n        \"semantic_type\": \"\",\n        \"description\": \"\"\n      }\n    },\n    {\n      \"column\": \"price\",\n      \"properties\": {\n        \"dtype\": \"number\",\n        \"std\": 1095655625.2668672,\n        \"min\": 0.0,\n        \"max\": 3100000000.0,\n        \"num_unique_values\": 8,\n        \"samples\": [\n          288882.2123843669\n        ],\n        \"semantic_type\": \"\",\n        \"description\": \"\"\n      }\n    }\n  ]\n}"
            }
          },
          "metadata": {},
          "execution_count": 30
        }
      ]
    },
    {
      "cell_type": "markdown",
      "source": [
        "*0.1.7. Atributo \"surface_total\" & \"surface_covered:\"*\n",
        "\n",
        "---------"
      ],
      "metadata": {
        "id": "NnKJjvbhUtYE"
      }
    },
    {
      "cell_type": "code",
      "source": [
        "print(\"surface_total:\")\n",
        "print(f\"cantidad de datos no nulos para df_train : {df_train['surface_total'].count()} --> {df_train['surface_total'].count()/df_train['surface_total'].shape[0]*100:.2f} %\")\n",
        "print(f\"cantidad de datos no nulos para df_test : {df_test['surface_total'].count()}--> {df_test['surface_total'].count()/df_test['surface_total'].shape[0]*100:.2f} %\")\n",
        "print('')\n",
        "print(\"surface_covered:\")\n",
        "print(f\"cantidad de datos no nulos para df_train : {df_train['surface_covered'].count()} --> {df_train['surface_covered'].count()/df_train['surface_covered'].shape[0]*100:.2f} %\")\n",
        "print(f\"cantidad de datos no nulos para df_test : {df_test['surface_covered'].count()}--> {df_test['surface_covered'].count()/df_test['surface_covered'].shape[0]*100:.2f} %\")\n",
        "\n"
      ],
      "metadata": {
        "colab": {
          "base_uri": "https://localhost:8080/"
        },
        "id": "IVcbSKeYUrHz",
        "outputId": "64e07492-7858-481c-d7e5-b330ce350ace"
      },
      "execution_count": 32,
      "outputs": [
        {
          "output_type": "stream",
          "name": "stdout",
          "text": [
            "surface_total:\n",
            "cantidad de datos no nulos para df_train : 441184 --> 44.78 %\n",
            "cantidad de datos no nulos para df_test : 6980--> 99.54 %\n",
            "\n",
            "surface_covered:\n",
            "cantidad de datos no nulos para df_train : 430023 --> 43.65 %\n",
            "cantidad de datos no nulos para df_test : 6938--> 98.94 %\n"
          ]
        }
      ]
    },
    {
      "cell_type": "code",
      "source": [
        "df_train.describe()[[\"surface_total\",\"surface_covered\"]]"
      ],
      "metadata": {
        "colab": {
          "base_uri": "https://localhost:8080/",
          "height": 300
        },
        "id": "p02DNZi1Yfzf",
        "outputId": "6c09f784-3201-4044-cad5-7ae717cabc81"
      },
      "execution_count": 37,
      "outputs": [
        {
          "output_type": "execute_result",
          "data": {
            "text/plain": [
              "       surface_total  surface_covered\n",
              "count  441184.000000     4.300230e+05\n",
              "mean      500.110607     5.851866e+02\n",
              "std      4133.349588     7.443324e+04\n",
              "min      -200.000000    -1.700000e+02\n",
              "25%        50.000000     4.500000e+01\n",
              "50%        96.000000     7.500000e+01\n",
              "75%       275.000000     1.580000e+02\n",
              "max    200000.000000     2.700000e+07"
            ],
            "text/html": [
              "\n",
              "  <div id=\"df-867a5dde-fece-45f0-9edc-63da70986d61\" class=\"colab-df-container\">\n",
              "    <div>\n",
              "<style scoped>\n",
              "    .dataframe tbody tr th:only-of-type {\n",
              "        vertical-align: middle;\n",
              "    }\n",
              "\n",
              "    .dataframe tbody tr th {\n",
              "        vertical-align: top;\n",
              "    }\n",
              "\n",
              "    .dataframe thead th {\n",
              "        text-align: right;\n",
              "    }\n",
              "</style>\n",
              "<table border=\"1\" class=\"dataframe\">\n",
              "  <thead>\n",
              "    <tr style=\"text-align: right;\">\n",
              "      <th></th>\n",
              "      <th>surface_total</th>\n",
              "      <th>surface_covered</th>\n",
              "    </tr>\n",
              "  </thead>\n",
              "  <tbody>\n",
              "    <tr>\n",
              "      <th>count</th>\n",
              "      <td>441184.000000</td>\n",
              "      <td>4.300230e+05</td>\n",
              "    </tr>\n",
              "    <tr>\n",
              "      <th>mean</th>\n",
              "      <td>500.110607</td>\n",
              "      <td>5.851866e+02</td>\n",
              "    </tr>\n",
              "    <tr>\n",
              "      <th>std</th>\n",
              "      <td>4133.349588</td>\n",
              "      <td>7.443324e+04</td>\n",
              "    </tr>\n",
              "    <tr>\n",
              "      <th>min</th>\n",
              "      <td>-200.000000</td>\n",
              "      <td>-1.700000e+02</td>\n",
              "    </tr>\n",
              "    <tr>\n",
              "      <th>25%</th>\n",
              "      <td>50.000000</td>\n",
              "      <td>4.500000e+01</td>\n",
              "    </tr>\n",
              "    <tr>\n",
              "      <th>50%</th>\n",
              "      <td>96.000000</td>\n",
              "      <td>7.500000e+01</td>\n",
              "    </tr>\n",
              "    <tr>\n",
              "      <th>75%</th>\n",
              "      <td>275.000000</td>\n",
              "      <td>1.580000e+02</td>\n",
              "    </tr>\n",
              "    <tr>\n",
              "      <th>max</th>\n",
              "      <td>200000.000000</td>\n",
              "      <td>2.700000e+07</td>\n",
              "    </tr>\n",
              "  </tbody>\n",
              "</table>\n",
              "</div>\n",
              "    <div class=\"colab-df-buttons\">\n",
              "\n",
              "  <div class=\"colab-df-container\">\n",
              "    <button class=\"colab-df-convert\" onclick=\"convertToInteractive('df-867a5dde-fece-45f0-9edc-63da70986d61')\"\n",
              "            title=\"Convert this dataframe to an interactive table.\"\n",
              "            style=\"display:none;\">\n",
              "\n",
              "  <svg xmlns=\"http://www.w3.org/2000/svg\" height=\"24px\" viewBox=\"0 -960 960 960\">\n",
              "    <path d=\"M120-120v-720h720v720H120Zm60-500h600v-160H180v160Zm220 220h160v-160H400v160Zm0 220h160v-160H400v160ZM180-400h160v-160H180v160Zm440 0h160v-160H620v160ZM180-180h160v-160H180v160Zm440 0h160v-160H620v160Z\"/>\n",
              "  </svg>\n",
              "    </button>\n",
              "\n",
              "  <style>\n",
              "    .colab-df-container {\n",
              "      display:flex;\n",
              "      gap: 12px;\n",
              "    }\n",
              "\n",
              "    .colab-df-convert {\n",
              "      background-color: #E8F0FE;\n",
              "      border: none;\n",
              "      border-radius: 50%;\n",
              "      cursor: pointer;\n",
              "      display: none;\n",
              "      fill: #1967D2;\n",
              "      height: 32px;\n",
              "      padding: 0 0 0 0;\n",
              "      width: 32px;\n",
              "    }\n",
              "\n",
              "    .colab-df-convert:hover {\n",
              "      background-color: #E2EBFA;\n",
              "      box-shadow: 0px 1px 2px rgba(60, 64, 67, 0.3), 0px 1px 3px 1px rgba(60, 64, 67, 0.15);\n",
              "      fill: #174EA6;\n",
              "    }\n",
              "\n",
              "    .colab-df-buttons div {\n",
              "      margin-bottom: 4px;\n",
              "    }\n",
              "\n",
              "    [theme=dark] .colab-df-convert {\n",
              "      background-color: #3B4455;\n",
              "      fill: #D2E3FC;\n",
              "    }\n",
              "\n",
              "    [theme=dark] .colab-df-convert:hover {\n",
              "      background-color: #434B5C;\n",
              "      box-shadow: 0px 1px 3px 1px rgba(0, 0, 0, 0.15);\n",
              "      filter: drop-shadow(0px 1px 2px rgba(0, 0, 0, 0.3));\n",
              "      fill: #FFFFFF;\n",
              "    }\n",
              "  </style>\n",
              "\n",
              "    <script>\n",
              "      const buttonEl =\n",
              "        document.querySelector('#df-867a5dde-fece-45f0-9edc-63da70986d61 button.colab-df-convert');\n",
              "      buttonEl.style.display =\n",
              "        google.colab.kernel.accessAllowed ? 'block' : 'none';\n",
              "\n",
              "      async function convertToInteractive(key) {\n",
              "        const element = document.querySelector('#df-867a5dde-fece-45f0-9edc-63da70986d61');\n",
              "        const dataTable =\n",
              "          await google.colab.kernel.invokeFunction('convertToInteractive',\n",
              "                                                    [key], {});\n",
              "        if (!dataTable) return;\n",
              "\n",
              "        const docLinkHtml = 'Like what you see? Visit the ' +\n",
              "          '<a target=\"_blank\" href=https://colab.research.google.com/notebooks/data_table.ipynb>data table notebook</a>'\n",
              "          + ' to learn more about interactive tables.';\n",
              "        element.innerHTML = '';\n",
              "        dataTable['output_type'] = 'display_data';\n",
              "        await google.colab.output.renderOutput(dataTable, element);\n",
              "        const docLink = document.createElement('div');\n",
              "        docLink.innerHTML = docLinkHtml;\n",
              "        element.appendChild(docLink);\n",
              "      }\n",
              "    </script>\n",
              "  </div>\n",
              "\n",
              "\n",
              "<div id=\"df-ef63b2ed-9a00-4ee4-93d9-53dd84b4f4c6\">\n",
              "  <button class=\"colab-df-quickchart\" onclick=\"quickchart('df-ef63b2ed-9a00-4ee4-93d9-53dd84b4f4c6')\"\n",
              "            title=\"Suggest charts\"\n",
              "            style=\"display:none;\">\n",
              "\n",
              "<svg xmlns=\"http://www.w3.org/2000/svg\" height=\"24px\"viewBox=\"0 0 24 24\"\n",
              "     width=\"24px\">\n",
              "    <g>\n",
              "        <path d=\"M19 3H5c-1.1 0-2 .9-2 2v14c0 1.1.9 2 2 2h14c1.1 0 2-.9 2-2V5c0-1.1-.9-2-2-2zM9 17H7v-7h2v7zm4 0h-2V7h2v10zm4 0h-2v-4h2v4z\"/>\n",
              "    </g>\n",
              "</svg>\n",
              "  </button>\n",
              "\n",
              "<style>\n",
              "  .colab-df-quickchart {\n",
              "      --bg-color: #E8F0FE;\n",
              "      --fill-color: #1967D2;\n",
              "      --hover-bg-color: #E2EBFA;\n",
              "      --hover-fill-color: #174EA6;\n",
              "      --disabled-fill-color: #AAA;\n",
              "      --disabled-bg-color: #DDD;\n",
              "  }\n",
              "\n",
              "  [theme=dark] .colab-df-quickchart {\n",
              "      --bg-color: #3B4455;\n",
              "      --fill-color: #D2E3FC;\n",
              "      --hover-bg-color: #434B5C;\n",
              "      --hover-fill-color: #FFFFFF;\n",
              "      --disabled-bg-color: #3B4455;\n",
              "      --disabled-fill-color: #666;\n",
              "  }\n",
              "\n",
              "  .colab-df-quickchart {\n",
              "    background-color: var(--bg-color);\n",
              "    border: none;\n",
              "    border-radius: 50%;\n",
              "    cursor: pointer;\n",
              "    display: none;\n",
              "    fill: var(--fill-color);\n",
              "    height: 32px;\n",
              "    padding: 0;\n",
              "    width: 32px;\n",
              "  }\n",
              "\n",
              "  .colab-df-quickchart:hover {\n",
              "    background-color: var(--hover-bg-color);\n",
              "    box-shadow: 0 1px 2px rgba(60, 64, 67, 0.3), 0 1px 3px 1px rgba(60, 64, 67, 0.15);\n",
              "    fill: var(--button-hover-fill-color);\n",
              "  }\n",
              "\n",
              "  .colab-df-quickchart-complete:disabled,\n",
              "  .colab-df-quickchart-complete:disabled:hover {\n",
              "    background-color: var(--disabled-bg-color);\n",
              "    fill: var(--disabled-fill-color);\n",
              "    box-shadow: none;\n",
              "  }\n",
              "\n",
              "  .colab-df-spinner {\n",
              "    border: 2px solid var(--fill-color);\n",
              "    border-color: transparent;\n",
              "    border-bottom-color: var(--fill-color);\n",
              "    animation:\n",
              "      spin 1s steps(1) infinite;\n",
              "  }\n",
              "\n",
              "  @keyframes spin {\n",
              "    0% {\n",
              "      border-color: transparent;\n",
              "      border-bottom-color: var(--fill-color);\n",
              "      border-left-color: var(--fill-color);\n",
              "    }\n",
              "    20% {\n",
              "      border-color: transparent;\n",
              "      border-left-color: var(--fill-color);\n",
              "      border-top-color: var(--fill-color);\n",
              "    }\n",
              "    30% {\n",
              "      border-color: transparent;\n",
              "      border-left-color: var(--fill-color);\n",
              "      border-top-color: var(--fill-color);\n",
              "      border-right-color: var(--fill-color);\n",
              "    }\n",
              "    40% {\n",
              "      border-color: transparent;\n",
              "      border-right-color: var(--fill-color);\n",
              "      border-top-color: var(--fill-color);\n",
              "    }\n",
              "    60% {\n",
              "      border-color: transparent;\n",
              "      border-right-color: var(--fill-color);\n",
              "    }\n",
              "    80% {\n",
              "      border-color: transparent;\n",
              "      border-right-color: var(--fill-color);\n",
              "      border-bottom-color: var(--fill-color);\n",
              "    }\n",
              "    90% {\n",
              "      border-color: transparent;\n",
              "      border-bottom-color: var(--fill-color);\n",
              "    }\n",
              "  }\n",
              "</style>\n",
              "\n",
              "  <script>\n",
              "    async function quickchart(key) {\n",
              "      const quickchartButtonEl =\n",
              "        document.querySelector('#' + key + ' button');\n",
              "      quickchartButtonEl.disabled = true;  // To prevent multiple clicks.\n",
              "      quickchartButtonEl.classList.add('colab-df-spinner');\n",
              "      try {\n",
              "        const charts = await google.colab.kernel.invokeFunction(\n",
              "            'suggestCharts', [key], {});\n",
              "      } catch (error) {\n",
              "        console.error('Error during call to suggestCharts:', error);\n",
              "      }\n",
              "      quickchartButtonEl.classList.remove('colab-df-spinner');\n",
              "      quickchartButtonEl.classList.add('colab-df-quickchart-complete');\n",
              "    }\n",
              "    (() => {\n",
              "      let quickchartButtonEl =\n",
              "        document.querySelector('#df-ef63b2ed-9a00-4ee4-93d9-53dd84b4f4c6 button');\n",
              "      quickchartButtonEl.style.display =\n",
              "        google.colab.kernel.accessAllowed ? 'block' : 'none';\n",
              "    })();\n",
              "  </script>\n",
              "</div>\n",
              "\n",
              "    </div>\n",
              "  </div>\n"
            ],
            "application/vnd.google.colaboratory.intrinsic+json": {
              "type": "dataframe",
              "summary": "{\n  \"name\": \"df_train\",\n  \"rows\": 8,\n  \"fields\": [\n    {\n      \"column\": \"surface_total\",\n      \"properties\": {\n        \"dtype\": \"number\",\n        \"std\": 161462.10186913263,\n        \"min\": -200.0,\n        \"max\": 441184.0,\n        \"num_unique_values\": 8,\n        \"samples\": [\n          500.1106069123087,\n          96.0,\n          441184.0\n        ],\n        \"semantic_type\": \"\",\n        \"description\": \"\"\n      }\n    },\n    {\n      \"column\": \"surface_covered\",\n      \"properties\": {\n        \"dtype\": \"number\",\n        \"std\": 9521583.038293429,\n        \"min\": -170.0,\n        \"max\": 27000000.0,\n        \"num_unique_values\": 8,\n        \"samples\": [\n          585.1865993214317,\n          75.0,\n          430023.0\n        ],\n        \"semantic_type\": \"\",\n        \"description\": \"\"\n      }\n    }\n  ]\n}"
            }
          },
          "metadata": {},
          "execution_count": 37
        }
      ]
    },
    {
      "cell_type": "code",
      "source": [
        "df_test.describe()[[\"surface_total\" , \"surface_covered\"]]"
      ],
      "metadata": {
        "colab": {
          "base_uri": "https://localhost:8080/",
          "height": 300
        },
        "id": "afclAJqdZLU7",
        "outputId": "de162724-da1a-4689-c90f-b14a786ee244"
      },
      "execution_count": 44,
      "outputs": [
        {
          "output_type": "execute_result",
          "data": {
            "text/plain": [
              "       surface_total  surface_covered\n",
              "count    6980.000000      6938.000000\n",
              "mean       76.393553        66.649178\n",
              "std        75.227804        61.792004\n",
              "min        10.000000         1.000000\n",
              "25%        40.000000        37.000000\n",
              "50%        56.000000        50.000000\n",
              "75%        84.000000        75.000000\n",
              "max      1515.000000      2422.000000"
            ],
            "text/html": [
              "\n",
              "  <div id=\"df-b52636cb-76b9-49ee-9bf5-a5ad0ee67dc3\" class=\"colab-df-container\">\n",
              "    <div>\n",
              "<style scoped>\n",
              "    .dataframe tbody tr th:only-of-type {\n",
              "        vertical-align: middle;\n",
              "    }\n",
              "\n",
              "    .dataframe tbody tr th {\n",
              "        vertical-align: top;\n",
              "    }\n",
              "\n",
              "    .dataframe thead th {\n",
              "        text-align: right;\n",
              "    }\n",
              "</style>\n",
              "<table border=\"1\" class=\"dataframe\">\n",
              "  <thead>\n",
              "    <tr style=\"text-align: right;\">\n",
              "      <th></th>\n",
              "      <th>surface_total</th>\n",
              "      <th>surface_covered</th>\n",
              "    </tr>\n",
              "  </thead>\n",
              "  <tbody>\n",
              "    <tr>\n",
              "      <th>count</th>\n",
              "      <td>6980.000000</td>\n",
              "      <td>6938.000000</td>\n",
              "    </tr>\n",
              "    <tr>\n",
              "      <th>mean</th>\n",
              "      <td>76.393553</td>\n",
              "      <td>66.649178</td>\n",
              "    </tr>\n",
              "    <tr>\n",
              "      <th>std</th>\n",
              "      <td>75.227804</td>\n",
              "      <td>61.792004</td>\n",
              "    </tr>\n",
              "    <tr>\n",
              "      <th>min</th>\n",
              "      <td>10.000000</td>\n",
              "      <td>1.000000</td>\n",
              "    </tr>\n",
              "    <tr>\n",
              "      <th>25%</th>\n",
              "      <td>40.000000</td>\n",
              "      <td>37.000000</td>\n",
              "    </tr>\n",
              "    <tr>\n",
              "      <th>50%</th>\n",
              "      <td>56.000000</td>\n",
              "      <td>50.000000</td>\n",
              "    </tr>\n",
              "    <tr>\n",
              "      <th>75%</th>\n",
              "      <td>84.000000</td>\n",
              "      <td>75.000000</td>\n",
              "    </tr>\n",
              "    <tr>\n",
              "      <th>max</th>\n",
              "      <td>1515.000000</td>\n",
              "      <td>2422.000000</td>\n",
              "    </tr>\n",
              "  </tbody>\n",
              "</table>\n",
              "</div>\n",
              "    <div class=\"colab-df-buttons\">\n",
              "\n",
              "  <div class=\"colab-df-container\">\n",
              "    <button class=\"colab-df-convert\" onclick=\"convertToInteractive('df-b52636cb-76b9-49ee-9bf5-a5ad0ee67dc3')\"\n",
              "            title=\"Convert this dataframe to an interactive table.\"\n",
              "            style=\"display:none;\">\n",
              "\n",
              "  <svg xmlns=\"http://www.w3.org/2000/svg\" height=\"24px\" viewBox=\"0 -960 960 960\">\n",
              "    <path d=\"M120-120v-720h720v720H120Zm60-500h600v-160H180v160Zm220 220h160v-160H400v160Zm0 220h160v-160H400v160ZM180-400h160v-160H180v160Zm440 0h160v-160H620v160ZM180-180h160v-160H180v160Zm440 0h160v-160H620v160Z\"/>\n",
              "  </svg>\n",
              "    </button>\n",
              "\n",
              "  <style>\n",
              "    .colab-df-container {\n",
              "      display:flex;\n",
              "      gap: 12px;\n",
              "    }\n",
              "\n",
              "    .colab-df-convert {\n",
              "      background-color: #E8F0FE;\n",
              "      border: none;\n",
              "      border-radius: 50%;\n",
              "      cursor: pointer;\n",
              "      display: none;\n",
              "      fill: #1967D2;\n",
              "      height: 32px;\n",
              "      padding: 0 0 0 0;\n",
              "      width: 32px;\n",
              "    }\n",
              "\n",
              "    .colab-df-convert:hover {\n",
              "      background-color: #E2EBFA;\n",
              "      box-shadow: 0px 1px 2px rgba(60, 64, 67, 0.3), 0px 1px 3px 1px rgba(60, 64, 67, 0.15);\n",
              "      fill: #174EA6;\n",
              "    }\n",
              "\n",
              "    .colab-df-buttons div {\n",
              "      margin-bottom: 4px;\n",
              "    }\n",
              "\n",
              "    [theme=dark] .colab-df-convert {\n",
              "      background-color: #3B4455;\n",
              "      fill: #D2E3FC;\n",
              "    }\n",
              "\n",
              "    [theme=dark] .colab-df-convert:hover {\n",
              "      background-color: #434B5C;\n",
              "      box-shadow: 0px 1px 3px 1px rgba(0, 0, 0, 0.15);\n",
              "      filter: drop-shadow(0px 1px 2px rgba(0, 0, 0, 0.3));\n",
              "      fill: #FFFFFF;\n",
              "    }\n",
              "  </style>\n",
              "\n",
              "    <script>\n",
              "      const buttonEl =\n",
              "        document.querySelector('#df-b52636cb-76b9-49ee-9bf5-a5ad0ee67dc3 button.colab-df-convert');\n",
              "      buttonEl.style.display =\n",
              "        google.colab.kernel.accessAllowed ? 'block' : 'none';\n",
              "\n",
              "      async function convertToInteractive(key) {\n",
              "        const element = document.querySelector('#df-b52636cb-76b9-49ee-9bf5-a5ad0ee67dc3');\n",
              "        const dataTable =\n",
              "          await google.colab.kernel.invokeFunction('convertToInteractive',\n",
              "                                                    [key], {});\n",
              "        if (!dataTable) return;\n",
              "\n",
              "        const docLinkHtml = 'Like what you see? Visit the ' +\n",
              "          '<a target=\"_blank\" href=https://colab.research.google.com/notebooks/data_table.ipynb>data table notebook</a>'\n",
              "          + ' to learn more about interactive tables.';\n",
              "        element.innerHTML = '';\n",
              "        dataTable['output_type'] = 'display_data';\n",
              "        await google.colab.output.renderOutput(dataTable, element);\n",
              "        const docLink = document.createElement('div');\n",
              "        docLink.innerHTML = docLinkHtml;\n",
              "        element.appendChild(docLink);\n",
              "      }\n",
              "    </script>\n",
              "  </div>\n",
              "\n",
              "\n",
              "<div id=\"df-28fba7d0-f386-4cf9-a867-7d6c8b73fdf8\">\n",
              "  <button class=\"colab-df-quickchart\" onclick=\"quickchart('df-28fba7d0-f386-4cf9-a867-7d6c8b73fdf8')\"\n",
              "            title=\"Suggest charts\"\n",
              "            style=\"display:none;\">\n",
              "\n",
              "<svg xmlns=\"http://www.w3.org/2000/svg\" height=\"24px\"viewBox=\"0 0 24 24\"\n",
              "     width=\"24px\">\n",
              "    <g>\n",
              "        <path d=\"M19 3H5c-1.1 0-2 .9-2 2v14c0 1.1.9 2 2 2h14c1.1 0 2-.9 2-2V5c0-1.1-.9-2-2-2zM9 17H7v-7h2v7zm4 0h-2V7h2v10zm4 0h-2v-4h2v4z\"/>\n",
              "    </g>\n",
              "</svg>\n",
              "  </button>\n",
              "\n",
              "<style>\n",
              "  .colab-df-quickchart {\n",
              "      --bg-color: #E8F0FE;\n",
              "      --fill-color: #1967D2;\n",
              "      --hover-bg-color: #E2EBFA;\n",
              "      --hover-fill-color: #174EA6;\n",
              "      --disabled-fill-color: #AAA;\n",
              "      --disabled-bg-color: #DDD;\n",
              "  }\n",
              "\n",
              "  [theme=dark] .colab-df-quickchart {\n",
              "      --bg-color: #3B4455;\n",
              "      --fill-color: #D2E3FC;\n",
              "      --hover-bg-color: #434B5C;\n",
              "      --hover-fill-color: #FFFFFF;\n",
              "      --disabled-bg-color: #3B4455;\n",
              "      --disabled-fill-color: #666;\n",
              "  }\n",
              "\n",
              "  .colab-df-quickchart {\n",
              "    background-color: var(--bg-color);\n",
              "    border: none;\n",
              "    border-radius: 50%;\n",
              "    cursor: pointer;\n",
              "    display: none;\n",
              "    fill: var(--fill-color);\n",
              "    height: 32px;\n",
              "    padding: 0;\n",
              "    width: 32px;\n",
              "  }\n",
              "\n",
              "  .colab-df-quickchart:hover {\n",
              "    background-color: var(--hover-bg-color);\n",
              "    box-shadow: 0 1px 2px rgba(60, 64, 67, 0.3), 0 1px 3px 1px rgba(60, 64, 67, 0.15);\n",
              "    fill: var(--button-hover-fill-color);\n",
              "  }\n",
              "\n",
              "  .colab-df-quickchart-complete:disabled,\n",
              "  .colab-df-quickchart-complete:disabled:hover {\n",
              "    background-color: var(--disabled-bg-color);\n",
              "    fill: var(--disabled-fill-color);\n",
              "    box-shadow: none;\n",
              "  }\n",
              "\n",
              "  .colab-df-spinner {\n",
              "    border: 2px solid var(--fill-color);\n",
              "    border-color: transparent;\n",
              "    border-bottom-color: var(--fill-color);\n",
              "    animation:\n",
              "      spin 1s steps(1) infinite;\n",
              "  }\n",
              "\n",
              "  @keyframes spin {\n",
              "    0% {\n",
              "      border-color: transparent;\n",
              "      border-bottom-color: var(--fill-color);\n",
              "      border-left-color: var(--fill-color);\n",
              "    }\n",
              "    20% {\n",
              "      border-color: transparent;\n",
              "      border-left-color: var(--fill-color);\n",
              "      border-top-color: var(--fill-color);\n",
              "    }\n",
              "    30% {\n",
              "      border-color: transparent;\n",
              "      border-left-color: var(--fill-color);\n",
              "      border-top-color: var(--fill-color);\n",
              "      border-right-color: var(--fill-color);\n",
              "    }\n",
              "    40% {\n",
              "      border-color: transparent;\n",
              "      border-right-color: var(--fill-color);\n",
              "      border-top-color: var(--fill-color);\n",
              "    }\n",
              "    60% {\n",
              "      border-color: transparent;\n",
              "      border-right-color: var(--fill-color);\n",
              "    }\n",
              "    80% {\n",
              "      border-color: transparent;\n",
              "      border-right-color: var(--fill-color);\n",
              "      border-bottom-color: var(--fill-color);\n",
              "    }\n",
              "    90% {\n",
              "      border-color: transparent;\n",
              "      border-bottom-color: var(--fill-color);\n",
              "    }\n",
              "  }\n",
              "</style>\n",
              "\n",
              "  <script>\n",
              "    async function quickchart(key) {\n",
              "      const quickchartButtonEl =\n",
              "        document.querySelector('#' + key + ' button');\n",
              "      quickchartButtonEl.disabled = true;  // To prevent multiple clicks.\n",
              "      quickchartButtonEl.classList.add('colab-df-spinner');\n",
              "      try {\n",
              "        const charts = await google.colab.kernel.invokeFunction(\n",
              "            'suggestCharts', [key], {});\n",
              "      } catch (error) {\n",
              "        console.error('Error during call to suggestCharts:', error);\n",
              "      }\n",
              "      quickchartButtonEl.classList.remove('colab-df-spinner');\n",
              "      quickchartButtonEl.classList.add('colab-df-quickchart-complete');\n",
              "    }\n",
              "    (() => {\n",
              "      let quickchartButtonEl =\n",
              "        document.querySelector('#df-28fba7d0-f386-4cf9-a867-7d6c8b73fdf8 button');\n",
              "      quickchartButtonEl.style.display =\n",
              "        google.colab.kernel.accessAllowed ? 'block' : 'none';\n",
              "    })();\n",
              "  </script>\n",
              "</div>\n",
              "\n",
              "    </div>\n",
              "  </div>\n"
            ],
            "application/vnd.google.colaboratory.intrinsic+json": {
              "type": "dataframe",
              "summary": "{\n  \"name\": \"df_test\",\n  \"rows\": 8,\n  \"fields\": [\n    {\n      \"column\": \"surface_total\",\n      \"properties\": {\n        \"dtype\": \"number\",\n        \"std\": 2428.352691826552,\n        \"min\": 10.0,\n        \"max\": 6980.0,\n        \"num_unique_values\": 8,\n        \"samples\": [\n          76.39355300859599,\n          56.0,\n          6980.0\n        ],\n        \"semantic_type\": \"\",\n        \"description\": \"\"\n      }\n    },\n    {\n      \"column\": \"surface_covered\",\n      \"properties\": {\n        \"dtype\": \"number\",\n        \"std\": 2460.4266109012037,\n        \"min\": 1.0,\n        \"max\": 6938.0,\n        \"num_unique_values\": 8,\n        \"samples\": [\n          66.64917843759008,\n          50.0,\n          6938.0\n        ],\n        \"semantic_type\": \"\",\n        \"description\": \"\"\n      }\n    }\n  ]\n}"
            }
          },
          "metadata": {},
          "execution_count": 44
        }
      ]
    },
    {
      "cell_type": "code",
      "source": [
        "print(f\"Cantidad de valores < 0 de 'surface_total': {df_train[df_train['surface_total'] < 0][['surface_total']].count()}\")\n",
        "print(f\"Cantidad de valores < 0 de 'surface_covered': {df_train[df_train['surface_covered'] < 0][['surface_covered']].count()}\")\n",
        "\n"
      ],
      "metadata": {
        "colab": {
          "base_uri": "https://localhost:8080/"
        },
        "id": "KsCF2yLU-Fug",
        "outputId": "cc391dbf-154f-4435-e9fd-f30b5310b4a2"
      },
      "execution_count": 42,
      "outputs": [
        {
          "output_type": "stream",
          "name": "stdout",
          "text": [
            "Cantidad de valores < 0 de 'surface_total': surface_total    6\n",
            "dtype: int64\n",
            "Cantidad de valores < 0 de 'surface_covered': surface_covered    11\n",
            "dtype: int64\n"
          ]
        }
      ]
    },
    {
      "cell_type": "code",
      "source": [
        "df_train.info()"
      ],
      "metadata": {
        "colab": {
          "base_uri": "https://localhost:8080/"
        },
        "id": "8vH8BA4pa_x1",
        "outputId": "68f3418f-6864-4dc6-c188-0fd337112c49"
      },
      "execution_count": 45,
      "outputs": [
        {
          "output_type": "stream",
          "name": "stdout",
          "text": [
            "<class 'pandas.core.frame.DataFrame'>\n",
            "Index: 985180 entries, 556713 to 1000000\n",
            "Data columns (total 24 columns):\n",
            " #   Column           Non-Null Count   Dtype  \n",
            "---  ------           --------------   -----  \n",
            " 0   ad_type          985180 non-null  object \n",
            " 1   start_date       985180 non-null  object \n",
            " 2   end_date         985180 non-null  object \n",
            " 3   created_on       985180 non-null  object \n",
            " 4   lat              832453 non-null  float64\n",
            " 5   lon              833388 non-null  float64\n",
            " 6   l1               985180 non-null  object \n",
            " 7   l2               985180 non-null  object \n",
            " 8   l3               927733 non-null  object \n",
            " 9   l4               225006 non-null  object \n",
            " 10  l5               4711 non-null    object \n",
            " 11  l6               0 non-null       float64\n",
            " 12  rooms            496527 non-null  float64\n",
            " 13  bedrooms         386021 non-null  float64\n",
            " 14  bathrooms        766218 non-null  float64\n",
            " 15  surface_total    441184 non-null  float64\n",
            " 16  surface_covered  430023 non-null  float64\n",
            " 17  currency         937929 non-null  object \n",
            " 18  price_period     369939 non-null  object \n",
            " 19  title            985152 non-null  object \n",
            " 20  description      985157 non-null  object \n",
            " 21  property_type    985180 non-null  object \n",
            " 22  operation_type   985180 non-null  object \n",
            " 23  price            940799 non-null  float64\n",
            "dtypes: float64(9), object(15)\n",
            "memory usage: 187.9+ MB\n"
          ]
        }
      ]
    },
    {
      "cell_type": "markdown",
      "source": [
        "*0.1.8. currency\":*\n",
        "\n",
        "---------"
      ],
      "metadata": {
        "id": "hJqIhZgfb5v3"
      }
    },
    {
      "cell_type": "code",
      "source": [
        "print(f\"cantidad de datos no nulos para df_train : {df_train['currency'].count()} --> {df_train['currency'].count()/df_train['currency'].shape[0]*100:.2f} %\")\n",
        "print(f\"cantidad de datos no nulos para df_test : {df_test['currency'].count()}--> {df_test['currency'].count()/df_test['currency'].shape[0]*100:.2f} %\")"
      ],
      "metadata": {
        "colab": {
          "base_uri": "https://localhost:8080/"
        },
        "id": "TdadXARBcoVk",
        "outputId": "58eacf31-ffe1-444f-fc9e-55370cd243ee"
      },
      "execution_count": 55,
      "outputs": [
        {
          "output_type": "stream",
          "name": "stdout",
          "text": [
            "cantidad de datos no nulos para df_train : 937929 --> 95.20 %\n",
            "cantidad de datos no nulos para df_test : 7012--> 100.00 %\n"
          ]
        }
      ]
    },
    {
      "cell_type": "code",
      "source": [
        "print(f\"valores para df_train : {df_train['currency'].unique()}\")\n",
        "print(f\"valores para df_test : {df_test['currency'].unique()}\")"
      ],
      "metadata": {
        "colab": {
          "base_uri": "https://localhost:8080/"
        },
        "id": "uKxpXb-hcTNo",
        "outputId": "38b9e0db-41f3-4514-eeca-28ff0600f92c"
      },
      "execution_count": 54,
      "outputs": [
        {
          "output_type": "stream",
          "name": "stdout",
          "text": [
            "valores para df_train : ['USD' 'ARS' nan 'UYU' 'PEN']\n",
            "valores para df_test : ['USD' 'ARS']\n"
          ]
        }
      ]
    },
    {
      "cell_type": "code",
      "source": [
        "df_train[df_train['l1']=='Argentina']['currency'].unique()"
      ],
      "metadata": {
        "colab": {
          "base_uri": "https://localhost:8080/"
        },
        "id": "Mpb7OSfRdEnQ",
        "outputId": "7565c799-29ba-4e8f-e30f-e6967e38f887"
      },
      "execution_count": 58,
      "outputs": [
        {
          "output_type": "execute_result",
          "data": {
            "text/plain": [
              "array(['USD', 'ARS', nan, 'PEN'], dtype=object)"
            ]
          },
          "metadata": {},
          "execution_count": 58
        }
      ]
    },
    {
      "cell_type": "code",
      "source": [
        "df_train.info()"
      ],
      "metadata": {
        "colab": {
          "base_uri": "https://localhost:8080/"
        },
        "id": "zLks4xghhygM",
        "outputId": "3b5d3e21-98c1-4fda-dc16-38cb2e2069b5"
      },
      "execution_count": 59,
      "outputs": [
        {
          "output_type": "stream",
          "name": "stdout",
          "text": [
            "<class 'pandas.core.frame.DataFrame'>\n",
            "Index: 985180 entries, 556713 to 1000000\n",
            "Data columns (total 24 columns):\n",
            " #   Column           Non-Null Count   Dtype  \n",
            "---  ------           --------------   -----  \n",
            " 0   ad_type          985180 non-null  object \n",
            " 1   start_date       985180 non-null  object \n",
            " 2   end_date         985180 non-null  object \n",
            " 3   created_on       985180 non-null  object \n",
            " 4   lat              832453 non-null  float64\n",
            " 5   lon              833388 non-null  float64\n",
            " 6   l1               985180 non-null  object \n",
            " 7   l2               985180 non-null  object \n",
            " 8   l3               927733 non-null  object \n",
            " 9   l4               225006 non-null  object \n",
            " 10  l5               4711 non-null    object \n",
            " 11  l6               0 non-null       float64\n",
            " 12  rooms            496527 non-null  float64\n",
            " 13  bedrooms         386021 non-null  float64\n",
            " 14  bathrooms        766218 non-null  float64\n",
            " 15  surface_total    441184 non-null  float64\n",
            " 16  surface_covered  430023 non-null  float64\n",
            " 17  currency         937929 non-null  object \n",
            " 18  price_period     369939 non-null  object \n",
            " 19  title            985152 non-null  object \n",
            " 20  description      985157 non-null  object \n",
            " 21  property_type    985180 non-null  object \n",
            " 22  operation_type   985180 non-null  object \n",
            " 23  price            940799 non-null  float64\n",
            "dtypes: float64(9), object(15)\n",
            "memory usage: 187.9+ MB\n"
          ]
        }
      ]
    },
    {
      "cell_type": "markdown",
      "source": [
        "*0.1.9. title:*\n",
        "\n",
        "---------"
      ],
      "metadata": {
        "id": "nSNfM2sii-Bc"
      }
    },
    {
      "cell_type": "code",
      "source": [
        "df_train['title'].unique()"
      ],
      "metadata": {
        "colab": {
          "base_uri": "https://localhost:8080/"
        },
        "id": "A6ZEJKSgjEA8",
        "outputId": "deaaf108-136a-4b0a-df0a-41d131172bfe"
      },
      "execution_count": 60,
      "outputs": [
        {
          "output_type": "execute_result",
          "data": {
            "text/plain": [
              "array(['Departamento en Venta en Belgrano, Capital federal ',\n",
              "       'PH Venta Boedo 2 amb Patio',\n",
              "       'Venta 3 Ambientes - Almagro - Balcón - Amenities -', ...,\n",
              "       'GRAN CASA EN IMPORTANTE LOTE Y EXCELENTE UBICACIÓN !',\n",
              "       'Venta en Bloque', 'PALMARES SEGUNDA ETAPA'], dtype=object)"
            ]
          },
          "metadata": {},
          "execution_count": 60
        }
      ]
    },
    {
      "cell_type": "code",
      "source": [
        "df_test['title'].unique()"
      ],
      "metadata": {
        "colab": {
          "base_uri": "https://localhost:8080/"
        },
        "id": "SRDutlmejecm",
        "outputId": "032a19d1-db91-42a3-953c-60cd428792c3"
      },
      "execution_count": 61,
      "outputs": [
        {
          "output_type": "execute_result",
          "data": {
            "text/plain": [
              "array(['Casa de 4 ambientes en Venta en Palermo viejo',\n",
              "       'Casa de 8 ambientes en Venta en Palermo',\n",
              "       'Venta de casa en PH en Floresta', ...,\n",
              "       'VENTA DEPARTAMENTO 3 AMB VIRREY OLAGUER FELIU AL 3400',\n",
              "       'EXCELENTE 3 AMB CON COCHERA Y BAULERA EN VILLA URQUIZA',\n",
              "       'EXCELENTE 3 AMB CON 2 COCHERAS Y BAULERA EN VILLA URQUIZA'],\n",
              "      dtype=object)"
            ]
          },
          "metadata": {},
          "execution_count": 61
        }
      ]
    },
    {
      "cell_type": "markdown",
      "source": [
        "*0.1.10. description:*\n",
        "\n",
        "---------"
      ],
      "metadata": {
        "id": "HzBPANE_jkdb"
      }
    },
    {
      "cell_type": "code",
      "source": [
        "df_train['description'].unique()"
      ],
      "metadata": {
        "colab": {
          "base_uri": "https://localhost:8080/"
        },
        "id": "AZvD-UMBjsRD",
        "outputId": "f3cf2cec-fc85-421b-d28c-ad52a87cfddb"
      },
      "execution_count": 62,
      "outputs": [
        {
          "output_type": "execute_result",
          "data": {
            "text/plain": [
              "array(['Sup total por escritura: 96,47 m2 (cubiertos: 61 m2 y descubiertos: 35,79 m2).&nbsp; Actualmente cuenta en el 9no piso con un cerramiento de 14 m2 aprox ganados sobre los metros descubiertos del balcón.  Hermoso 4 ambientes tipo Duplex   a 2 cuadras de Avda Cabildo,   con variedad de medios de transporte  (Metrobus- subte línea D).   VENTA DIRECTA, el propietario no necesita otra propiedad.   (el ascensor llega hasta el 7° piso, el acceso a la propiedad es de un piso por escalera)  Semipiso súper luminoso desarrollado en 2 plantas:  8vo piso:  Living comedor con pisos flotantes.   Balcón terraza con excelente vista abierta.  Amplia cocina office.  Baulera en bajo escalera.   9no piso:  Dormitorio principal en suite.   2do dormitorio con acceso a balcón con cerramiento parcial.   Toilette.  Baulera.  Le interesa comprar esta propiedad y no vendió la suya? Llámenos al 4777-5000 y lo ayudaremos  Más info y video clickee aquí   http://www.cabildo500.com/propiedades.php?idpropiedad0=AJ31408  \\r  Antigüedad, superficie y medidas aprox. - Expensas sujetas a aumentos - Accesible  CABILDO 500 Propiedades, desde 1976 especialistas en operaciones simultáneas, www.cabildo500.com, Tasaciones 4777-5000&nbsp;   XINTEL(CA5-CA5-4340)',\n",
              "       'Corredor Responsable: MARCELO TRUJILLO -  CPI 6470 / CMCPDJLM 810Contacto: Silvia Movia - MLS ID # 421051005-32Martillero y Corredor Responsable:<br>MARCELO TRUJILLO CUCICBA 6470 / CMCPDJLM 810<br><br><br>PH de 2 ambientes en PLANTA BAJA al fondo, MODERNO<br>PB:<br>LIVING cómodo<br>COCINA integrada con DESAYUNADOR <br>Amplio PATIO techado con techo de vidrio corredizo <br>BAULERA debajo de la escalera<br>LAVADERO en patio trasero<br>1er PISO:<br>HABITACIÓN con BALCÓN y amplio PLACARD empotrado<br>BAÑO completo con HIDROMASAJE y ventana al exterior<br>HALL con PLACARD empotrado y ventana al exterior<br>BAULERA en el edificio<br>2 equipos de AIRE ACONDICIONADO frío calor<br>Colectivos:4, 7, 8, 15, 23, 46, 53, 56, 57, 65, 75, 85, 86, 88, 91, 96, 97, 112, 115, 128, 134, 160, 165, 181, 195<br>Muy buena ubicación:<br>a 4 cuadras de Av La Plata<br>a 4 cuadras de Av. Boedo<br><br><br> \\\\n\\\\n Comprá la casa que querés! No la que podés. Accedé a un préstamo por hasta el 30% del valor de esta propiedad. Simulá tu cuota en Lendar ',\n",
              "       'Corredor Responsable: Marcelo Trujillo - CUCICBA 6470 / CMCPDJLM 810Contacto: Sergio Gutiérrez - MLS ID # 420261117-76Martillero y Corredor Responsable:<br>MARCELO TRUJILLO CUCICBA 6470 / CMCPDJLM 810<br><br><br><br>Se trata de un hermoso 3 ambientes con mucho confort y comodidad. Es totalmente funcional por el tamaño de cada uno de sus ambientes. El edificio cuenta con SUM. <br>Usted al ingresar, tendrá un pequeño hall de recepción que le permitirá acceder al living con balcón o a la cocina con desayunador. A su izquierda tendrá un pequeño toilette para las visitas.<br>El departamento cuenta con 2 habitaciones, 1 baño completo, 1 toilette, living con balcón y una amplia cocina.<br>La orientación y altura del departamento le da una gran luminosidad. <br>El edificio cuenta con seguridad las 24 horas, la cuadra posee bicisenda, lo cual brinda una sensación de tranquilidad en el barrio. <br>Esta ubicado a pocas cuadras del frecuentado parque Centenario, donde pueden desarrollarse distintas actividades deportivas y de ocio, ahí también transcurren ferias. <br>Tiene cercanía al hospital Italiano, estaciones de servicio, supermercados y zonas gastronómicas. <br><br><br>Transportes Cercanos<br>Colectivos:15, 24, 26, 36, 65, 71, 104, 105, 112, 124, 146<br>Datos útiles<br>Barrio:Almagro<br><br><br>En cumplimiento de la leyes provinciales vigentes que regulan el corretaje inmobiliario, Ley Nacional 25.028, Ley 22.802 de Lealtad Comercial, Ley 24.240 de Defensa al Consumidor, las normas del Código Civil y Comercial de la Nación y Constitucionales, los agentes/gestores NO ejercen el corretaje inmobiliario. Todas las operaciones inmobiliarias son objeto de intermediación y conclusión por parte de los martilleros y corredores colegiados, cuyos datos se exhiben debajo del nombre de la inmobiliaria. \\\\n\\\\n Comprá la casa que querés! No la que podés. Accedé a un préstamo por hasta el 30% del valor de esta propiedad. Simulá tu cuota en Lendar ',\n",
              "       ...,\n",
              "       'Venta en bloque de esta importante propiedad.  En planta alta posee dos departamentos de tres ambientes CU, con las siguientes características:  El living comedor es amplio con ventanal al balcón que da a la Av.  Fortunato de la Plaza, también cuenta con dos dormitorios de importantes dimensiones con ventanal que permite el acceso a una terraza y placares,  baño completo.  La cocina comedor es muy amplia. En la planta baja posee tres locales y patio compartido- Balcón- Comedor- Lavadero- Living- Terraza- Calefacción- Agua corriente- Gas natural- Pavimento- Luz- Toilette- Agua Potable  Ref#434576.',\n",
              "       'RIVEROS PROPIEDADES VENDE: Casa Desarrollada En 2 Plantas, Palmares II Etapa, Godoy Cruz, Mendoza. RECIBO MENOR EN BARRIO PRIVADODEPARTAMENTO EN QUINTA SECCION O GODOY CRUZ DE 3 DORMITORIOS- Superficie Total: 840 M2- Superficie Cubierta: 350 M2Exterior:- Patio Parquizado Amplio Con Riego Por Aspersión. - Farolas. - Despensa. - Lavandería Cubierta. - Habitación De Servicio. - Pérgola. - Cochera Doble. - Churrasquera Con Mesada. - Quincho De 35 M2 Vidriado Con Mesada Y Toilette. - Pileta De 3. 5x6 De PVC Con Calefacción Solar. Interior:- PLANTA BAJA:- Guardarropa. - Estar Comedor Con Pisos Entablonados,  Chimenea, Vidriado  Y Con Puerta Ventana Que Da Al Patio. - Cocina Con Mesada De Granito Natural, Buenos Amoblamientos Y Desayunador. - Comedor De Diario Con Pisos Cerámicos. - Escritorio. - Toilette. - 1 Dormitorio Con Placar En Suite Con Puerta Ventana Con Vista Al Patio. - PLANTA ALTA:- Baño Zonificado. - 3 Dormitorios Con Placar Con Pisos Flotantes (1 En Suite Con Vestidor). Detalles:- Calefacción Central Con Radiadores. - Carpintería De Roble Y Aluminio. - Splits. Canon: - Expensas: . 500 Aprox. Contacto:-  -  - WhatsApp: +5011- 02- 08- Aire acondicionado- Piscina- Calefacción Central  Ref#398989.',\n",
              "       'Barbaro Alquila  Galpon , la superficie cubierta 1200 m2 en 3 Planta (5) , tiene Si oficinas , 3 años de antiguedad , el estado es Muy Bueno , posee agua corriente llamenos y pregunte por el codigo P0256IMPORTANTE: Las medidas, superficies, descripciones y fotos son solo orientativas. los datos reales surgirán del título de propiedad del inmueble.  Anuncio publicado a traves de Inmomap por la Inmobiliaria: Barbaro Propiedades  en  TuPortalOnline.'],\n",
              "      dtype=object)"
            ]
          },
          "metadata": {},
          "execution_count": 62
        }
      ]
    },
    {
      "cell_type": "markdown",
      "source": [
        "*0.1.11. property_type:*\n",
        "\n",
        "---------"
      ],
      "metadata": {
        "id": "2xzNfbTosbA9"
      }
    },
    {
      "cell_type": "code",
      "source": [
        "print(f\"Cantidad de datos non nan df_train: {df_train['property_type'].count()}\")\n",
        "print(f\"Cantidad de datos non nan df_test: {df_test['property_type'].count()}\")"
      ],
      "metadata": {
        "colab": {
          "base_uri": "https://localhost:8080/"
        },
        "id": "DgROKQDssV43",
        "outputId": "d31c15f6-978b-45df-9f52-c8ba72593da6"
      },
      "execution_count": 67,
      "outputs": [
        {
          "output_type": "stream",
          "name": "stdout",
          "text": [
            "Cantidad de datos non nan df_train: 985180\n",
            "Cantidad de datos non nan df_test: 7012\n"
          ]
        }
      ]
    },
    {
      "cell_type": "code",
      "source": [
        "print(f\"tipos en df_train : {df_train['property_type'].unique()}\")\n",
        "print(f\"tipos en df_test : {df_test['property_type'].unique()}\")"
      ],
      "metadata": {
        "colab": {
          "base_uri": "https://localhost:8080/"
        },
        "id": "a6bsJAxPslYk",
        "outputId": "9188f2b3-c6f7-4bc3-b41d-b96c4e7f56fb"
      },
      "execution_count": 65,
      "outputs": [
        {
          "output_type": "stream",
          "name": "stdout",
          "text": [
            "tipos en df_train : ['Departamento' 'PH' 'Cochera' 'Casa' 'Lote' 'Otro' 'Oficina' 'Depósito'\n",
            " 'Local comercial' 'Casa de campo']\n",
            "tipos en df_test : ['Casa' 'Cochera' 'Departamento']\n"
          ]
        }
      ]
    },
    {
      "cell_type": "code",
      "source": [
        "df_train['property_type'].hist(figsize=(15,8))"
      ],
      "metadata": {
        "colab": {
          "base_uri": "https://localhost:8080/",
          "height": 699
        },
        "id": "E5cY6FiGtSpj",
        "outputId": "0b82f877-c96e-432e-f561-99e50cad3f24"
      },
      "execution_count": 71,
      "outputs": [
        {
          "output_type": "execute_result",
          "data": {
            "text/plain": [
              "<Axes: >"
            ]
          },
          "metadata": {},
          "execution_count": 71
        },
        {
          "output_type": "display_data",
          "data": {
            "text/plain": [
              "<Figure size 1500x800 with 1 Axes>"
            ],
            "image/png": "[encoded data removed]"
          },
          "metadata": {}
        }
      ]
    },
    {
      "cell_type": "code",
      "source": [
        "df_test['property_type'].hist()"
      ],
      "metadata": {
        "colab": {
          "base_uri": "https://localhost:8080/",
          "height": 451
        },
        "id": "WuVB8d9Ith42",
        "outputId": "d5185c1a-8ff3-4e5b-b46f-b8ed01ccdc59"
      },
      "execution_count": 72,
      "outputs": [
        {
          "output_type": "execute_result",
          "data": {
            "text/plain": [
              "<Axes: >"
            ]
          },
          "metadata": {},
          "execution_count": 72
        },
        {
          "output_type": "display_data",
          "data": {
            "text/plain": [
              "<Figure size 640x480 with 1 Axes>"
            ],
            "image/png": "[encoded data removed]"
          },
          "metadata": {}
        }
      ]
    },
    {
      "cell_type": "markdown",
      "source": [
        "*0.1.12. operation_type:*\n",
        "\n",
        "---------"
      ],
      "metadata": {
        "id": "Z2075I2HuWSC"
      }
    },
    {
      "cell_type": "code",
      "source": [
        "print(f\"Cantidad de datos non nan df_train: {df_train['operation_type'].count()}\")\n",
        "print(f\"Cantidad de datos non nan df_test: {df_test['operation_type'].count()}\")"
      ],
      "metadata": {
        "colab": {
          "base_uri": "https://localhost:8080/"
        },
        "id": "O4k4Qh7Euel5",
        "outputId": "b31d1d24-d380-421a-f577-e1a6992a14b6"
      },
      "execution_count": 74,
      "outputs": [
        {
          "output_type": "stream",
          "name": "stdout",
          "text": [
            "Cantidad de datos non nan df_train: 985180\n",
            "Cantidad de datos non nan df_test: 7012\n"
          ]
        }
      ]
    },
    {
      "cell_type": "code",
      "source": [
        "print(f\"tipos en df_train : {df_train['operation_type'].unique()}\")\n",
        "print(f\"tipos en df_test : {df_test['operation_type'].unique()}\")"
      ],
      "metadata": {
        "colab": {
          "base_uri": "https://localhost:8080/"
        },
        "id": "m7o99mtguV8v",
        "outputId": "1f655b66-7ec7-4b45-dd4e-f89169df4ab3"
      },
      "execution_count": 75,
      "outputs": [
        {
          "output_type": "stream",
          "name": "stdout",
          "text": [
            "tipos en df_train : ['Venta' 'Alquiler' 'Alquiler temporal']\n",
            "tipos en df_test : ['Venta']\n"
          ]
        }
      ]
    },
    {
      "cell_type": "code",
      "source": [
        "df_train['operation_type'].hist()"
      ],
      "metadata": {
        "colab": {
          "base_uri": "https://localhost:8080/",
          "height": 451
        },
        "id": "SYeT5-cuuqWg",
        "outputId": "0abaa462-2855-47e6-8b0a-4d9c72ffbb5b"
      },
      "execution_count": 77,
      "outputs": [
        {
          "output_type": "execute_result",
          "data": {
            "text/plain": [
              "<Axes: >"
            ]
          },
          "metadata": {},
          "execution_count": 77
        },
        {
          "output_type": "display_data",
          "data": {
            "text/plain": [
              "<Figure size 640x480 with 1 Axes>"
            ],
            "image/png": "[encoded data removed]"
          },
          "metadata": {}
        }
      ]
    },
    {
      "cell_type": "code",
      "source": [
        "operation_types = df_train[\"operation_type\"].unique()\n",
        "cantidad=0\n",
        "for o in operation_types :\n",
        "  cantidad = df_train[df_train['operation_type'] == o]['operation_type'].count()\n",
        "  proporcion = cantidad / df_train['operation_type'].count()\n",
        "  print(f\"cantidad de {o} : {cantidad} --> {proporcion *100:.2f} % \")"
      ],
      "metadata": {
        "colab": {
          "base_uri": "https://localhost:8080/"
        },
        "id": "jWt9Jx4-v38F",
        "outputId": "3620cd96-2afa-431b-eb00-febc8fca491e"
      },
      "execution_count": 86,
      "outputs": [
        {
          "output_type": "stream",
          "name": "stdout",
          "text": [
            "cantidad de Venta : 755306 --> 76.67 % \n",
            "cantidad de Alquiler : 199399 --> 20.24 % \n",
            "cantidad de Alquiler temporal : 30475 --> 3.09 % \n"
          ]
        }
      ]
    },
    {
      "cell_type": "code",
      "source": [
        "df_test['operation_type'].hist()"
      ],
      "metadata": {
        "colab": {
          "base_uri": "https://localhost:8080/",
          "height": 451
        },
        "id": "6juyhHMGuwfC",
        "outputId": "2ab9a3c2-3c43-4790-821f-d03ed581a42e"
      },
      "execution_count": 78,
      "outputs": [
        {
          "output_type": "execute_result",
          "data": {
            "text/plain": [
              "<Axes: >"
            ]
          },
          "metadata": {},
          "execution_count": 78
        },
        {
          "output_type": "display_data",
          "data": {
            "text/plain": [
              "<Figure size 640x480 with 1 Axes>"
            ],
            "image/png": "[encoded data removed]"
          },
          "metadata": {}
        }
      ]
    },
    {
      "cell_type": "markdown",
      "source": [
        "## 1. Entender los datos (AID)"
      ],
      "metadata": {
        "id": "byV0dQi-yiEd"
      }
    },
    {
      "cell_type": "code",
      "source": [
        "df_train[\"property_type\"].hist(figsize=(15,5));"
      ],
      "metadata": {
        "id": "varfcSJGaeTo",
        "colab": {
          "base_uri": "https://localhost:8080/",
          "height": 446
        },
        "outputId": "c45c6453-3d1a-4f5e-b8a8-7682e70be60a"
      },
      "execution_count": null,
      "outputs": [
        {
          "output_type": "display_data",
          "data": {
            "text/plain": [
              "<Figure size 1500x500 with 1 Axes>"
            ],
            "image/png": "[encoded data removed]"
          },
          "metadata": {}
        }
      ]
    },
    {
      "cell_type": "markdown",
      "source": [
        "## 2. Limpiar y transformar los datos (MD)"
      ],
      "metadata": {
        "id": "zjaTnfxkyvo8"
      }
    },
    {
      "cell_type": "code",
      "source": [
        "# Selección de datos. Solo a fines demostrativos.\n",
        "# TODO: cambiar!\n",
        "df_ent = df_train.loc[(df_train[\"l2\"] == \"Capital Federal\") & (df_train[\"operation_type\"] == 'Venta') & (df_train[\"property_type\"] == \"Departamento\")].copy()\n",
        "df_ap=df_test.copy()"
      ],
      "metadata": {
        "id": "ckXCv9f-uia0"
      },
      "execution_count": 103,
      "outputs": []
    },
    {
      "cell_type": "code",
      "source": [
        "df_ent.shape"
      ],
      "metadata": {
        "colab": {
          "base_uri": "https://localhost:8080/"
        },
        "id": "FEEhTms6ywpr",
        "outputId": "6c317861-8181-4074-be9f-50fd0822290f"
      },
      "execution_count": 104,
      "outputs": [
        {
          "output_type": "execute_result",
          "data": {
            "text/plain": [
              "(98781, 24)"
            ]
          },
          "metadata": {},
          "execution_count": 104
        }
      ]
    },
    {
      "cell_type": "code",
      "source": [
        "df_ent.columns"
      ],
      "metadata": {
        "colab": {
          "base_uri": "https://localhost:8080/"
        },
        "id": "lVLdFsx47kiq",
        "outputId": "52269374-f5ed-4311-b708-9a00553bcd5b"
      },
      "execution_count": 105,
      "outputs": [
        {
          "output_type": "execute_result",
          "data": {
            "text/plain": [
              "Index(['ad_type', 'start_date', 'end_date', 'created_on', 'lat', 'lon', 'l1',\n",
              "       'l2', 'l3', 'l4', 'l5', 'l6', 'rooms', 'bedrooms', 'bathrooms',\n",
              "       'surface_total', 'surface_covered', 'currency', 'price_period', 'title',\n",
              "       'description', 'property_type', 'operation_type', 'price'],\n",
              "      dtype='object')"
            ]
          },
          "metadata": {},
          "execution_count": 105
        }
      ]
    },
    {
      "cell_type": "code",
      "source": [
        "df_ent.drop(columns=[\"l5\",\"l6\"], inplace=True)"
      ],
      "metadata": {
        "id": "xhSfdl2943BR"
      },
      "execution_count": 106,
      "outputs": []
    },
    {
      "cell_type": "code",
      "source": [
        "df_ent.columns"
      ],
      "metadata": {
        "colab": {
          "base_uri": "https://localhost:8080/"
        },
        "id": "FUIZbJk546K1",
        "outputId": "74670123-a60d-4f04-d4f7-11e584cf6f56"
      },
      "execution_count": 107,
      "outputs": [
        {
          "output_type": "execute_result",
          "data": {
            "text/plain": [
              "Index(['ad_type', 'start_date', 'end_date', 'created_on', 'lat', 'lon', 'l1',\n",
              "       'l2', 'l3', 'l4', 'rooms', 'bedrooms', 'bathrooms', 'surface_total',\n",
              "       'surface_covered', 'currency', 'price_period', 'title', 'description',\n",
              "       'property_type', 'operation_type', 'price'],\n",
              "      dtype='object')"
            ]
          },
          "metadata": {},
          "execution_count": 107
        }
      ]
    },
    {
      "cell_type": "markdown",
      "source": [
        "sktlearn necesita que los datos no tengan valores perdidos, y todo tiene que ser un numero. No le podes pasar el nombre de los barrios."
      ],
      "metadata": {
        "id": "RdckYsiv70lU"
      }
    },
    {
      "cell_type": "markdown",
      "source": [
        "Aca abajo estamos rellenando los valores perdidos y les ponemos valores 0"
      ],
      "metadata": {
        "id": "kmGehItd774u"
      }
    },
    {
      "cell_type": "code",
      "source": [
        "# La creación de modelos requiere que no haya valores perdidos\n",
        "# Llenamos todo con 0 a lo bestia\n",
        "# TODO: mejorar la imputación de valores perdidos\n",
        "df_ent.fillna(0, inplace=True)"
      ],
      "metadata": {
        "id": "yg8qNxuNrzQp"
      },
      "execution_count": 108,
      "outputs": []
    },
    {
      "cell_type": "markdown",
      "source": [
        "## 3. Entrenamiento del modelos (AA)"
      ],
      "metadata": {
        "id": "i2jRJmQ-tD4Z"
      }
    },
    {
      "cell_type": "code",
      "source": [
        "# La creación de modelos requiere que todo el dataframe sea numérico\n",
        "# Me quedo con las columnas numéricas solamente\n",
        "# TODO: traducir las columnas con datos no numéricos a numéricos para que mejoren los modelos\n",
        "df_ent = df_ent.select_dtypes('number')\n",
        "\n",
        "X = df_ent[df_ent.columns.drop('price')]\n",
        "y = df_ent['price']"
      ],
      "metadata": {
        "id": "wpS9E1RbRtYm"
      },
      "execution_count": 109,
      "outputs": []
    },
    {
      "cell_type": "code",
      "source": [
        "X.shape"
      ],
      "metadata": {
        "colab": {
          "base_uri": "https://localhost:8080/"
        },
        "id": "AVSKTyvX4Ulr",
        "outputId": "a4eca0e9-52e6-4069-869e-525c0c68f988"
      },
      "execution_count": 110,
      "outputs": [
        {
          "output_type": "execute_result",
          "data": {
            "text/plain": [
              "(98781, 7)"
            ]
          },
          "metadata": {},
          "execution_count": 110
        }
      ]
    },
    {
      "cell_type": "code",
      "source": [
        "df_ent.shape"
      ],
      "metadata": {
        "colab": {
          "base_uri": "https://localhost:8080/"
        },
        "id": "6A84MRen4tQL",
        "outputId": "76fb3760-e8a5-4918-ff71-be6cd5d432cf"
      },
      "execution_count": 111,
      "outputs": [
        {
          "output_type": "execute_result",
          "data": {
            "text/plain": [
              "(98781, 8)"
            ]
          },
          "metadata": {},
          "execution_count": 111
        }
      ]
    },
    {
      "cell_type": "code",
      "source": [
        "df_ent.columns"
      ],
      "metadata": {
        "colab": {
          "base_uri": "https://localhost:8080/"
        },
        "id": "I4X-1NFY4ruc",
        "outputId": "71fb9921-6d67-41d3-a52c-7ff306f213f2"
      },
      "execution_count": 112,
      "outputs": [
        {
          "output_type": "execute_result",
          "data": {
            "text/plain": [
              "Index(['lat', 'lon', 'rooms', 'bedrooms', 'bathrooms', 'surface_total',\n",
              "       'surface_covered', 'price'],\n",
              "      dtype='object')"
            ]
          },
          "metadata": {},
          "execution_count": 112
        }
      ]
    },
    {
      "cell_type": "code",
      "source": [
        "X_train, X_test, y_train, y_test = sk.model_selection.train_test_split(X, y, test_size=0.2, random_state=42)\n",
        "\n",
        "# Definimos el valor de los hiperparámetros a usar por el modelo\n",
        "# TODO: hacer pruebas cambiando los valores de los hiperparámetros para mejorar el score\n",
        "n_estimators = 50\n",
        "max_depth = 5\n",
        "\n",
        "### NO CAMBIAR RandomForestRegressor por otro modelo\n",
        "### NOTA: Si en la primera entrega usan otro modelo, su nota será 0\n",
        "### Pueden cambiar los hiperparámetros que afectan al árbol: n_estimators, criterion, max_depth, min_samples_split, min_samples_leaf, min_weight_fraction_leaf, max_features, max_leaf_nodes, min_impurity_decrease\n",
        "reg = sk.ensemble.RandomForestRegressor(n_estimators=n_estimators, max_depth=max_depth, n_jobs=-1, random_state=42)\n",
        "\n",
        "# Entrenamos el modelo\n",
        "_ = reg.fit(X_train, y_train)\n",
        "\n",
        "# Cálculo del error en entrenamiento (train)\n",
        "y_pred = reg.predict(X_train)\n",
        "# Aca estoy haciendo las predicciones en el train para ver si el modelo no memorizo de los datos.\n",
        "score_train = sk.metrics.root_mean_squared_error(y_train, y_pred)\n",
        "\n",
        "# Cálculo del error en prueba (test)\n",
        "y_pred = reg.predict(X_test)\n",
        "score_test  = sk.metrics.root_mean_squared_error(y_test,  y_pred)\n",
        "\n",
        "print(f\"{n_estimators=} -- {max_depth=} --> {score_train=:.2f} - {score_test=:.2f}\")\n"
      ],
      "metadata": {
        "id": "qhlwFUT6LxTs",
        "colab": {
          "base_uri": "https://localhost:8080/"
        },
        "outputId": "fe1e4fd9-d444-4422-9912-66159e1808d6"
      },
      "execution_count": 116,
      "outputs": [
        {
          "output_type": "stream",
          "name": "stdout",
          "text": [
            "n_estimators=50 -- max_depth=5 --> score_train=862455.43 - score_test=926764.92\n"
          ]
        }
      ]
    },
    {
      "cell_type": "markdown",
      "source": [
        "Una vez que validamos el score test, tenemos que volver a entrenar el modelo con el 100% de los datos.\n"
      ],
      "metadata": {
        "id": "iyXGqA8N_aWq"
      }
    },
    {
      "cell_type": "markdown",
      "source": [
        "## 4. Solución para subir Kaggle"
      ],
      "metadata": {
        "id": "yXEb3N3P5lTi"
      }
    },
    {
      "cell_type": "code",
      "source": [
        "df_ap.drop(columns=[\"l5\",\"l6\"], inplace=True)"
      ],
      "metadata": {
        "id": "u_YjYz8w5loz"
      },
      "execution_count": 113,
      "outputs": []
    },
    {
      "cell_type": "code",
      "source": [
        "df_ap.columns"
      ],
      "metadata": {
        "colab": {
          "base_uri": "https://localhost:8080/"
        },
        "id": "mloK-os_5sYz",
        "outputId": "0cf65307-ac49-4262-db51-abdfe9d35658"
      },
      "execution_count": 115,
      "outputs": [
        {
          "output_type": "execute_result",
          "data": {
            "text/plain": [
              "Index(['ad_type', 'start_date', 'end_date', 'created_on', 'lat', 'lon', 'l1',\n",
              "       'l2', 'l3', 'l4', 'rooms', 'bedrooms', 'bathrooms', 'surface_total',\n",
              "       'surface_covered', 'currency', 'price_period', 'title', 'description',\n",
              "       'property_type', 'operation_type', 'price'],\n",
              "      dtype='object')"
            ]
          },
          "metadata": {},
          "execution_count": 115
        }
      ]
    },
    {
      "cell_type": "code",
      "source": [
        "X = df_ent[df_ent.columns.drop('price')]\n",
        "y = df_ent['price']\n",
        "\n",
        "# Entrenamos el modelo con todos los datos de entrenamiento.csv\n",
        "reg.fit(X, y)"
      ],
      "metadata": {
        "colab": {
          "base_uri": "https://localhost:8080/",
          "height": 80
        },
        "id": "Kyz2zoLb5tco",
        "outputId": "11507dc3-df9b-477d-c7d6-c6f5f073a83e"
      },
      "execution_count": 117,
      "outputs": [
        {
          "output_type": "execute_result",
          "data": {
            "text/plain": [
              "RandomForestRegressor(max_depth=5, n_estimators=50, n_jobs=-1, random_state=42)"
            ],
            "text/html": [
              "<style>#sk-container-id-1 {\n",
              "  /* Definition of color scheme common for light and dark mode */\n",
              "  --sklearn-color-text: #000;\n",
              "  --sklearn-color-text-muted: #666;\n",
              "  --sklearn-color-line: gray;\n",
              "  /* Definition of color scheme for unfitted estimators */\n",
              "  --sklearn-color-unfitted-level-0: #fff5e6;\n",
              "  --sklearn-color-unfitted-level-1: #f6e4d2;\n",
              "  --sklearn-color-unfitted-level-2: #ffe0b3;\n",
              "  --sklearn-color-unfitted-level-3: chocolate;\n",
              "  /* Definition of color scheme for fitted estimators */\n",
              "  --sklearn-color-fitted-level-0: #f0f8ff;\n",
              "  --sklearn-color-fitted-level-1: #d4ebff;\n",
              "  --sklearn-color-fitted-level-2: #b3dbfd;\n",
              "  --sklearn-color-fitted-level-3: cornflowerblue;\n",
              "\n",
              "  /* Specific color for light theme */\n",
              "  --sklearn-color-text-on-default-background: var(--sg-text-color, var(--theme-code-foreground, var(--jp-content-font-color1, black)));\n",
              "  --sklearn-color-background: var(--sg-background-color, var(--theme-background, var(--jp-layout-color0, white)));\n",
              "  --sklearn-color-border-box: var(--sg-text-color, var(--theme-code-foreground, var(--jp-content-font-color1, black)));\n",
              "  --sklearn-color-icon: #696969;\n",
              "\n",
              "  @media (prefers-color-scheme: dark) {\n",
              "    /* Redefinition of color scheme for dark theme */\n",
              "    --sklearn-color-text-on-default-background: var(--sg-text-color, var(--theme-code-foreground, var(--jp-content-font-color1, white)));\n",
              "    --sklearn-color-background: var(--sg-background-color, var(--theme-background, var(--jp-layout-color0, #111)));\n",
              "    --sklearn-color-border-box: var(--sg-text-color, var(--theme-code-foreground, var(--jp-content-font-color1, white)));\n",
              "    --sklearn-color-icon: #878787;\n",
              "  }\n",
              "}\n",
              "\n",
              "#sk-container-id-1 {\n",
              "  color: var(--sklearn-color-text);\n",
              "}\n",
              "\n",
              "#sk-container-id-1 pre {\n",
              "  padding: 0;\n",
              "}\n",
              "\n",
              "#sk-container-id-1 input.sk-hidden--visually {\n",
              "  border: 0;\n",
              "  clip: rect(1px 1px 1px 1px);\n",
              "  clip: rect(1px, 1px, 1px, 1px);\n",
              "  height: 1px;\n",
              "  margin: -1px;\n",
              "  overflow: hidden;\n",
              "  padding: 0;\n",
              "  position: absolute;\n",
              "  width: 1px;\n",
              "}\n",
              "\n",
              "#sk-container-id-1 div.sk-dashed-wrapped {\n",
              "  border: 1px dashed var(--sklearn-color-line);\n",
              "  margin: 0 0.4em 0.5em 0.4em;\n",
              "  box-sizing: border-box;\n",
              "  padding-bottom: 0.4em;\n",
              "  background-color: var(--sklearn-color-background);\n",
              "}\n",
              "\n",
              "#sk-container-id-1 div.sk-container {\n",
              "  /* jupyter's `normalize.less` sets `[hidden] { display: none; }`\n",
              "     but bootstrap.min.css set `[hidden] { display: none !important; }`\n",
              "     so we also need the `!important` here to be able to override the\n",
              "     default hidden behavior on the sphinx rendered scikit-learn.org.\n",
              "     See: https://github.com/scikit-learn/scikit-learn/issues/21755 */\n",
              "  display: inline-block !important;\n",
              "  position: relative;\n",
              "}\n",
              "\n",
              "#sk-container-id-1 div.sk-text-repr-fallback {\n",
              "  display: none;\n",
              "}\n",
              "\n",
              "div.sk-parallel-item,\n",
              "div.sk-serial,\n",
              "div.sk-item {\n",
              "  /* draw centered vertical line to link estimators */\n",
              "  background-image: linear-gradient(var(--sklearn-color-text-on-default-background), var(--sklearn-color-text-on-default-background));\n",
              "  background-size: 2px 100%;\n",
              "  background-repeat: no-repeat;\n",
              "  background-position: center center;\n",
              "}\n",
              "\n",
              "/* Parallel-specific style estimator block */\n",
              "\n",
              "#sk-container-id-1 div.sk-parallel-item::after {\n",
              "  content: \"\";\n",
              "  width: 100%;\n",
              "  border-bottom: 2px solid var(--sklearn-color-text-on-default-background);\n",
              "  flex-grow: 1;\n",
              "}\n",
              "\n",
              "#sk-container-id-1 div.sk-parallel {\n",
              "  display: flex;\n",
              "  align-items: stretch;\n",
              "  justify-content: center;\n",
              "  background-color: var(--sklearn-color-background);\n",
              "  position: relative;\n",
              "}\n",
              "\n",
              "#sk-container-id-1 div.sk-parallel-item {\n",
              "  display: flex;\n",
              "  flex-direction: column;\n",
              "}\n",
              "\n",
              "#sk-container-id-1 div.sk-parallel-item:first-child::after {\n",
              "  align-self: flex-end;\n",
              "  width: 50%;\n",
              "}\n",
              "\n",
              "#sk-container-id-1 div.sk-parallel-item:last-child::after {\n",
              "  align-self: flex-start;\n",
              "  width: 50%;\n",
              "}\n",
              "\n",
              "#sk-container-id-1 div.sk-parallel-item:only-child::after {\n",
              "  width: 0;\n",
              "}\n",
              "\n",
              "/* Serial-specific style estimator block */\n",
              "\n",
              "#sk-container-id-1 div.sk-serial {\n",
              "  display: flex;\n",
              "  flex-direction: column;\n",
              "  align-items: center;\n",
              "  background-color: var(--sklearn-color-background);\n",
              "  padding-right: 1em;\n",
              "  padding-left: 1em;\n",
              "}\n",
              "\n",
              "\n",
              "/* Toggleable style: style used for estimator/Pipeline/ColumnTransformer box that is\n",
              "clickable and can be expanded/collapsed.\n",
              "- Pipeline and ColumnTransformer use this feature and define the default style\n",
              "- Estimators will overwrite some part of the style using the `sk-estimator` class\n",
              "*/\n",
              "\n",
              "/* Pipeline and ColumnTransformer style (default) */\n",
              "\n",
              "#sk-container-id-1 div.sk-toggleable {\n",
              "  /* Default theme specific background. It is overwritten whether we have a\n",
              "  specific estimator or a Pipeline/ColumnTransformer */\n",
              "  background-color: var(--sklearn-color-background);\n",
              "}\n",
              "\n",
              "/* Toggleable label */\n",
              "#sk-container-id-1 label.sk-toggleable__label {\n",
              "  cursor: pointer;\n",
              "  display: flex;\n",
              "  width: 100%;\n",
              "  margin-bottom: 0;\n",
              "  padding: 0.5em;\n",
              "  box-sizing: border-box;\n",
              "  text-align: center;\n",
              "  align-items: start;\n",
              "  justify-content: space-between;\n",
              "  gap: 0.5em;\n",
              "}\n",
              "\n",
              "#sk-container-id-1 label.sk-toggleable__label .caption {\n",
              "  font-size: 0.6rem;\n",
              "  font-weight: lighter;\n",
              "  color: var(--sklearn-color-text-muted);\n",
              "}\n",
              "\n",
              "#sk-container-id-1 label.sk-toggleable__label-arrow:before {\n",
              "  /* Arrow on the left of the label */\n",
              "  content: \"▸\";\n",
              "  float: left;\n",
              "  margin-right: 0.25em;\n",
              "  color: var(--sklearn-color-icon);\n",
              "}\n",
              "\n",
              "#sk-container-id-1 label.sk-toggleable__label-arrow:hover:before {\n",
              "  color: var(--sklearn-color-text);\n",
              "}\n",
              "\n",
              "/* Toggleable content - dropdown */\n",
              "\n",
              "#sk-container-id-1 div.sk-toggleable__content {\n",
              "  max-height: 0;\n",
              "  max-width: 0;\n",
              "  overflow: hidden;\n",
              "  text-align: left;\n",
              "  /* unfitted */\n",
              "  background-color: var(--sklearn-color-unfitted-level-0);\n",
              "}\n",
              "\n",
              "#sk-container-id-1 div.sk-toggleable__content.fitted {\n",
              "  /* fitted */\n",
              "  background-color: var(--sklearn-color-fitted-level-0);\n",
              "}\n",
              "\n",
              "#sk-container-id-1 div.sk-toggleable__content pre {\n",
              "  margin: 0.2em;\n",
              "  border-radius: 0.25em;\n",
              "  color: var(--sklearn-color-text);\n",
              "  /* unfitted */\n",
              "  background-color: var(--sklearn-color-unfitted-level-0);\n",
              "}\n",
              "\n",
              "#sk-container-id-1 div.sk-toggleable__content.fitted pre {\n",
              "  /* unfitted */\n",
              "  background-color: var(--sklearn-color-fitted-level-0);\n",
              "}\n",
              "\n",
              "#sk-container-id-1 input.sk-toggleable__control:checked~div.sk-toggleable__content {\n",
              "  /* Expand drop-down */\n",
              "  max-height: 200px;\n",
              "  max-width: 100%;\n",
              "  overflow: auto;\n",
              "}\n",
              "\n",
              "#sk-container-id-1 input.sk-toggleable__control:checked~label.sk-toggleable__label-arrow:before {\n",
              "  content: \"▾\";\n",
              "}\n",
              "\n",
              "/* Pipeline/ColumnTransformer-specific style */\n",
              "\n",
              "#sk-container-id-1 div.sk-label input.sk-toggleable__control:checked~label.sk-toggleable__label {\n",
              "  color: var(--sklearn-color-text);\n",
              "  background-color: var(--sklearn-color-unfitted-level-2);\n",
              "}\n",
              "\n",
              "#sk-container-id-1 div.sk-label.fitted input.sk-toggleable__control:checked~label.sk-toggleable__label {\n",
              "  background-color: var(--sklearn-color-fitted-level-2);\n",
              "}\n",
              "\n",
              "/* Estimator-specific style */\n",
              "\n",
              "/* Colorize estimator box */\n",
              "#sk-container-id-1 div.sk-estimator input.sk-toggleable__control:checked~label.sk-toggleable__label {\n",
              "  /* unfitted */\n",
              "  background-color: var(--sklearn-color-unfitted-level-2);\n",
              "}\n",
              "\n",
              "#sk-container-id-1 div.sk-estimator.fitted input.sk-toggleable__control:checked~label.sk-toggleable__label {\n",
              "  /* fitted */\n",
              "  background-color: var(--sklearn-color-fitted-level-2);\n",
              "}\n",
              "\n",
              "#sk-container-id-1 div.sk-label label.sk-toggleable__label,\n",
              "#sk-container-id-1 div.sk-label label {\n",
              "  /* The background is the default theme color */\n",
              "  color: var(--sklearn-color-text-on-default-background);\n",
              "}\n",
              "\n",
              "/* On hover, darken the color of the background */\n",
              "#sk-container-id-1 div.sk-label:hover label.sk-toggleable__label {\n",
              "  color: var(--sklearn-color-text);\n",
              "  background-color: var(--sklearn-color-unfitted-level-2);\n",
              "}\n",
              "\n",
              "/* Label box, darken color on hover, fitted */\n",
              "#sk-container-id-1 div.sk-label.fitted:hover label.sk-toggleable__label.fitted {\n",
              "  color: var(--sklearn-color-text);\n",
              "  background-color: var(--sklearn-color-fitted-level-2);\n",
              "}\n",
              "\n",
              "/* Estimator label */\n",
              "\n",
              "#sk-container-id-1 div.sk-label label {\n",
              "  font-family: monospace;\n",
              "  font-weight: bold;\n",
              "  display: inline-block;\n",
              "  line-height: 1.2em;\n",
              "}\n",
              "\n",
              "#sk-container-id-1 div.sk-label-container {\n",
              "  text-align: center;\n",
              "}\n",
              "\n",
              "/* Estimator-specific */\n",
              "#sk-container-id-1 div.sk-estimator {\n",
              "  font-family: monospace;\n",
              "  border: 1px dotted var(--sklearn-color-border-box);\n",
              "  border-radius: 0.25em;\n",
              "  box-sizing: border-box;\n",
              "  margin-bottom: 0.5em;\n",
              "  /* unfitted */\n",
              "  background-color: var(--sklearn-color-unfitted-level-0);\n",
              "}\n",
              "\n",
              "#sk-container-id-1 div.sk-estimator.fitted {\n",
              "  /* fitted */\n",
              "  background-color: var(--sklearn-color-fitted-level-0);\n",
              "}\n",
              "\n",
              "/* on hover */\n",
              "#sk-container-id-1 div.sk-estimator:hover {\n",
              "  /* unfitted */\n",
              "  background-color: var(--sklearn-color-unfitted-level-2);\n",
              "}\n",
              "\n",
              "#sk-container-id-1 div.sk-estimator.fitted:hover {\n",
              "  /* fitted */\n",
              "  background-color: var(--sklearn-color-fitted-level-2);\n",
              "}\n",
              "\n",
              "/* Specification for estimator info (e.g. \"i\" and \"?\") */\n",
              "\n",
              "/* Common style for \"i\" and \"?\" */\n",
              "\n",
              ".sk-estimator-doc-link,\n",
              "a:link.sk-estimator-doc-link,\n",
              "a:visited.sk-estimator-doc-link {\n",
              "  float: right;\n",
              "  font-size: smaller;\n",
              "  line-height: 1em;\n",
              "  font-family: monospace;\n",
              "  background-color: var(--sklearn-color-background);\n",
              "  border-radius: 1em;\n",
              "  height: 1em;\n",
              "  width: 1em;\n",
              "  text-decoration: none !important;\n",
              "  margin-left: 0.5em;\n",
              "  text-align: center;\n",
              "  /* unfitted */\n",
              "  border: var(--sklearn-color-unfitted-level-1) 1pt solid;\n",
              "  color: var(--sklearn-color-unfitted-level-1);\n",
              "}\n",
              "\n",
              ".sk-estimator-doc-link.fitted,\n",
              "a:link.sk-estimator-doc-link.fitted,\n",
              "a:visited.sk-estimator-doc-link.fitted {\n",
              "  /* fitted */\n",
              "  border: var(--sklearn-color-fitted-level-1) 1pt solid;\n",
              "  color: var(--sklearn-color-fitted-level-1);\n",
              "}\n",
              "\n",
              "/* On hover */\n",
              "div.sk-estimator:hover .sk-estimator-doc-link:hover,\n",
              ".sk-estimator-doc-link:hover,\n",
              "div.sk-label-container:hover .sk-estimator-doc-link:hover,\n",
              ".sk-estimator-doc-link:hover {\n",
              "  /* unfitted */\n",
              "  background-color: var(--sklearn-color-unfitted-level-3);\n",
              "  color: var(--sklearn-color-background);\n",
              "  text-decoration: none;\n",
              "}\n",
              "\n",
              "div.sk-estimator.fitted:hover .sk-estimator-doc-link.fitted:hover,\n",
              ".sk-estimator-doc-link.fitted:hover,\n",
              "div.sk-label-container:hover .sk-estimator-doc-link.fitted:hover,\n",
              ".sk-estimator-doc-link.fitted:hover {\n",
              "  /* fitted */\n",
              "  background-color: var(--sklearn-color-fitted-level-3);\n",
              "  color: var(--sklearn-color-background);\n",
              "  text-decoration: none;\n",
              "}\n",
              "\n",
              "/* Span, style for the box shown on hovering the info icon */\n",
              ".sk-estimator-doc-link span {\n",
              "  display: none;\n",
              "  z-index: 9999;\n",
              "  position: relative;\n",
              "  font-weight: normal;\n",
              "  right: .2ex;\n",
              "  padding: .5ex;\n",
              "  margin: .5ex;\n",
              "  width: min-content;\n",
              "  min-width: 20ex;\n",
              "  max-width: 50ex;\n",
              "  color: var(--sklearn-color-text);\n",
              "  box-shadow: 2pt 2pt 4pt #999;\n",
              "  /* unfitted */\n",
              "  background: var(--sklearn-color-unfitted-level-0);\n",
              "  border: .5pt solid var(--sklearn-color-unfitted-level-3);\n",
              "}\n",
              "\n",
              ".sk-estimator-doc-link.fitted span {\n",
              "  /* fitted */\n",
              "  background: var(--sklearn-color-fitted-level-0);\n",
              "  border: var(--sklearn-color-fitted-level-3);\n",
              "}\n",
              "\n",
              ".sk-estimator-doc-link:hover span {\n",
              "  display: block;\n",
              "}\n",
              "\n",
              "/* \"?\"-specific style due to the `<a>` HTML tag */\n",
              "\n",
              "#sk-container-id-1 a.estimator_doc_link {\n",
              "  float: right;\n",
              "  font-size: 1rem;\n",
              "  line-height: 1em;\n",
              "  font-family: monospace;\n",
              "  background-color: var(--sklearn-color-background);\n",
              "  border-radius: 1rem;\n",
              "  height: 1rem;\n",
              "  width: 1rem;\n",
              "  text-decoration: none;\n",
              "  /* unfitted */\n",
              "  color: var(--sklearn-color-unfitted-level-1);\n",
              "  border: var(--sklearn-color-unfitted-level-1) 1pt solid;\n",
              "}\n",
              "\n",
              "#sk-container-id-1 a.estimator_doc_link.fitted {\n",
              "  /* fitted */\n",
              "  border: var(--sklearn-color-fitted-level-1) 1pt solid;\n",
              "  color: var(--sklearn-color-fitted-level-1);\n",
              "}\n",
              "\n",
              "/* On hover */\n",
              "#sk-container-id-1 a.estimator_doc_link:hover {\n",
              "  /* unfitted */\n",
              "  background-color: var(--sklearn-color-unfitted-level-3);\n",
              "  color: var(--sklearn-color-background);\n",
              "  text-decoration: none;\n",
              "}\n",
              "\n",
              "#sk-container-id-1 a.estimator_doc_link.fitted:hover {\n",
              "  /* fitted */\n",
              "  background-color: var(--sklearn-color-fitted-level-3);\n",
              "}\n",
              "</style><div id=\"sk-container-id-1\" class=\"sk-top-container\"><div class=\"sk-text-repr-fallback\"><pre>RandomForestRegressor(max_depth=5, n_estimators=50, n_jobs=-1, random_state=42)</pre><b>In a Jupyter environment, please rerun this cell to show the HTML representation or trust the notebook. <br />On GitHub, the HTML representation is unable to render, please try loading this page with nbviewer.org.</b></div><div class=\"sk-container\" hidden><div class=\"sk-item\"><div class=\"sk-estimator fitted sk-toggleable\"><input class=\"sk-toggleable__control sk-hidden--visually\" id=\"sk-estimator-id-1\" type=\"checkbox\" checked><label for=\"sk-estimator-id-1\" class=\"sk-toggleable__label fitted sk-toggleable__label-arrow\"><div><div>RandomForestRegressor</div></div><div><a class=\"sk-estimator-doc-link fitted\" rel=\"noreferrer\" target=\"_blank\" href=\"https://scikit-learn.org/1.6/modules/generated/sklearn.ensemble.RandomForestRegressor.html\">?<span>Documentation for RandomForestRegressor</span></a><span class=\"sk-estimator-doc-link fitted\">i<span>Fitted</span></span></div></label><div class=\"sk-toggleable__content fitted\"><pre>RandomForestRegressor(max_depth=5, n_estimators=50, n_jobs=-1, random_state=42)</pre></div> </div></div></div></div>"
            ]
          },
          "metadata": {},
          "execution_count": 117
        }
      ]
    },
    {
      "cell_type": "code",
      "source": [
        "# Hacemos en df_ap la misma limpieza que en df_ent\n",
        "df_ap = df_ap.fillna(0)\n",
        "\n",
        "df_ap = df_ap.select_dtypes('number')\n",
        "\n",
        "X_ap = df_ap[X.columns]\n",
        "# y_ap = df_ap['price'] # no es necesario!\n",
        "\n",
        "# Predecimos los precios del dataset a predecir\n",
        "y_pred_ap = reg.predict(X_ap)\n",
        "y_pred_ap"
      ],
      "metadata": {
        "colab": {
          "base_uri": "https://localhost:8080/"
        },
        "id": "lD04ZzNr6P0Z",
        "outputId": "d1513da1-ac28-414d-b434-c4c462052e69"
      },
      "execution_count": 118,
      "outputs": [
        {
          "output_type": "execute_result",
          "data": {
            "text/plain": [
              "array([1060857.06098746,  973876.68318884,  459435.52280794, ...,\n",
              "        944725.06959593,  352693.56654858,  240166.85440228])"
            ]
          },
          "metadata": {},
          "execution_count": 118
        }
      ]
    },
    {
      "cell_type": "code",
      "source": [
        "# Lleno el precio de df_ap con las predicciones\n",
        "df_ap[\"price\"] = y_pred_ap\n",
        "\n",
        "# Grabo el df_ap en un archivo csv para subir a Kaggle\n",
        "df_ap[\"price\"].to_csv(\"solucion.csv\")"
      ],
      "metadata": {
        "id": "17xsJU4F6Xk-"
      },
      "execution_count": 119,
      "outputs": []
    },
    {
      "cell_type": "code",
      "source": [],
      "metadata": {
        "id": "JjVcIjui6arf"
      },
      "execution_count": null,
      "outputs": []
    }
  ]
}